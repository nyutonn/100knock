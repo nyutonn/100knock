{
 "cells": [
  {
   "cell_type": "markdown",
   "id": "2c09010d",
   "metadata": {},
   "source": [
    "<h2 id=\"20-jsonデータの読み込み\">20. JSONデータの読み込み</h2>\n",
    "<p>Wikipedia記事のJSONファイルを読み込み，「イギリス」に関する記事本文を表示せよ．問題21-29では，ここで抽出した記事本文に対して実行せよ．</p>\n"
   ]
  },
  {
   "cell_type": "code",
   "execution_count": null,
   "id": "54691353",
   "metadata": {},
   "outputs": [
    {
     "name": "stdout",
     "output_type": "stream",
     "text": [
      "<class 'str'>\n",
      "<class 'dict'>\n",
      "エジプト\n"
     ]
    }
   ],
   "source": [
    "# たしかめ\n",
    "import json\n",
    "\n",
    "with open(\"data/jawiki-country.json\") as f:\n",
    "    for line in f:\n",
    "        print(type(line))  # 普通のメモ帳と同じ形式で保存されてる？\n",
    "        country = json.loads(line)\n",
    "        print(type(country))  # json.loadsをすると辞書になる\n",
    "        print(country[\"title\"])\n",
    "        break"
   ]
  },
  {
   "attachments": {},
   "cell_type": "markdown",
   "id": "14201ed0",
   "metadata": {},
   "source": [
    "解答"
   ]
  },
  {
   "cell_type": "code",
   "execution_count": null,
   "id": "2f3b5d69",
   "metadata": {},
   "outputs": [],
   "source": [
    "# 本編\n",
    "import json\n",
    "\n",
    "countrys = {}\n",
    "with open(\"data/jawiki-country.json\") as f:\n",
    "    for line in f:\n",
    "        country = json.loads(line)\n",
    "        countrys[country[\"title\"]] = country[\"text\"]\n",
    "uktext = countrys[\"イギリス\"]\n",
    "# print(uktext) # 長いのでコメントアウト"
   ]
  },
  {
   "attachments": {},
   "cell_type": "markdown",
   "id": "77f195d4",
   "metadata": {},
   "source": [
    "#### gzファイルの解凍\n",
    "gzファイルはzipファイルのURLなのでダウンロードして解凍する必要がある  \n",
    "\n",
    "    wget ファイルのURL -P フォルダ名  \n",
    "-P以降で保存先のファイル名を指定してダウンロードする\n",
    "\n",
    "    gunzip gzファイルのパス  \n",
    "で解凍できる"
   ]
  },
  {
   "cell_type": "code",
   "execution_count": 61,
   "id": "62a7b2fa",
   "metadata": {},
   "outputs": [
    {
     "name": "stdout",
     "output_type": "stream",
     "text": [
      "File 'data/jawiki-country.json.gz' already there; not retrieving.\n",
      "\n"
     ]
    }
   ],
   "source": [
    "# コードでURLをダウンロード\n",
    "!wget -nc https://nlp100.github.io/data/jawiki-country.json.gz -P data"
   ]
  },
  {
   "attachments": {},
   "cell_type": "markdown",
   "id": "530da2fc",
   "metadata": {},
   "source": [
    "    y or n\n",
    "gunzipとかで y or n と聞かれるときは -y を付けると良い"
   ]
  },
  {
   "cell_type": "code",
   "execution_count": 80,
   "id": "160694f2",
   "metadata": {},
   "outputs": [
    {
     "name": "stdout",
     "output_type": "stream",
     "text": [
      "gunzip: invalid option -- y\n",
      "Apple gzip 403.100.6\n",
      "usage: gunzip [-123456789acdfhklLNnqrtVv] [-S .suffix] [<file> [<file> ...]]\n",
      " -1 --fast            fastest (worst) compression\n",
      " -2 .. -8             set compression level\n",
      " -9 --best            best (slowest) compression\n",
      " -c --stdout          write to stdout, keep original files\n",
      "    --to-stdout\n",
      " -d --decompress      uncompress files\n",
      "    --uncompress\n",
      " -f --force           force overwriting & compress links\n",
      " -h --help            display this help\n",
      " -k --keep            don't delete input files during operation\n",
      " -l --list            list compressed file contents\n",
      " -N --name            save or restore original file name and time stamp\n",
      " -n --no-name         don't save original file name or time stamp\n",
      " -q --quiet           output no warnings\n",
      " -r --recursive       recursively compress files in directories\n",
      " -S .suf              use suffix .suf instead of .gz\n",
      "    --suffix .suf\n",
      " -t --test            test compressed file\n",
      " -V --version         display program version\n",
      " -v --verbose         print extra statistics\n"
     ]
    }
   ],
   "source": [
    "# コードでgzipファイルを解凍 \n",
    "# 2回目以降の実行でめんどいことになるのでコメントアウト\n",
    "!gunzip -y data/jawiki-country.json.gz"
   ]
  },
  {
   "attachments": {},
   "cell_type": "markdown",
   "id": "b313a909",
   "metadata": {},
   "source": [
    "#### 辞書のキーにアクセス\n",
    "\n",
    "キーのアクセスは[key]よりも.getのほうがいい  \n",
    "[key]だとキーがないときにエラーになるが.getだとdefalut値でNoneを返してくれる"
   ]
  },
  {
   "cell_type": "code",
   "execution_count": 10,
   "id": "744fe0f1",
   "metadata": {},
   "outputs": [
    {
     "name": "stdout",
     "output_type": "stream",
     "text": [
      "two\n",
      "two\n",
      "None\n"
     ]
    }
   ],
   "source": [
    "adict = {0 : 'zero', 1 : 'one', 2 : 'two'}\n",
    "print(adict[2])\n",
    "# print(adict[3]) # error\n",
    "print(adict.get(2))\n",
    "print(adict.get(3)) # ないときにNoneを返してくれる"
   ]
  },
  {
   "attachments": {},
   "cell_type": "markdown",
   "id": "b0c45c87",
   "metadata": {},
   "source": [
    "### マークダウンの練習\n",
    "改行は  \n",
    "半角スペース2個  \n",
    "**太文字**  \n",
    "* 箇条書き\n",
    "1. ナンバリング"
   ]
  },
  {
   "attachments": {},
   "cell_type": "markdown",
   "id": "188df744",
   "metadata": {},
   "source": [
    "### 正規表現の説明\n",
    "reモジュールを用いる（Regular expression）\n",
    "\n",
    "    import re\n",
    "\n",
    "* 正規表現パターンをコンパイル: compile()\n",
    "* 文字列の先頭がマッチするかチェック、抽出: match()\n",
    "* 先頭に限らずマッチするかチェック、抽出: search()\n",
    "* 文字列全体がマッチするかチェック: fullmatch()\n",
    "* マッチする部分すべてをリストで取得: findall()\n",
    "* マッチする部分すべてをイテレータで取得: finditer()\n",
    "* マッチする部分を置換: sub(), subn()\n",
    "* 正規表現パターンで文字列を分割: split()\n",
    "\n"
   ]
  },
  {
   "cell_type": "code",
   "execution_count": 11,
   "id": "8c535abd",
   "metadata": {},
   "outputs": [
    {
     "name": "stdout",
     "output_type": "stream",
     "text": [
      "None\n",
      "<re.Match object; span=(2, 4), match='cd'>\n",
      "None\n"
     ]
    }
   ],
   "source": [
    "import re\n",
    "\n",
    "# content = uktext\n",
    "content = 'abcde' \n",
    "pattern = r'cd'\n",
    "content2 = 'ababa'\n",
    "a = r'a'\n",
    "repattern = re.compile(pattern)\n",
    "repattern2 = re.compile(a)\n",
    "\n",
    "print(repattern.match(content))\n",
    "print(repattern.search(content))\n",
    "print(repattern2.fullmatch(content2))\n",
    "# alist = repattern2.findall(content2)\n",
    "# print(alist)\n",
    "# alist_int = repattern2.finditer(content2)\n",
    "# print(alist_int)"
   ]
  },
  {
   "cell_type": "markdown",
   "id": "14ec6fef",
   "metadata": {},
   "source": [
    "<h2 id=\"21-カテゴリ名を含む行を抽出\">21. カテゴリ名を含む行を抽出</h2>\n",
    "<p>記事中でカテゴリ名を宣言している行を抽出せよ．</p>\n"
   ]
  },
  {
   "cell_type": "code",
   "execution_count": 12,
   "id": "d39ed5d7",
   "metadata": {},
   "outputs": [],
   "source": [
    "# イギリスの記事が入っている変数をファイルに書き込む\n",
    "# print(uktext)\n",
    "# ファイルに書き込むと行ごとで取り出せる\n",
    "with open('work/uk.txt', 'w') as fw:\n",
    "    for c in uktext:\n",
    "        fw.write(c)"
   ]
  },
  {
   "cell_type": "code",
   "execution_count": 13,
   "id": "c653c6ac",
   "metadata": {},
   "outputs": [
    {
     "name": "stdout",
     "output_type": "stream",
     "text": [
      "[[Category:イギリス|*]]\n",
      "[[Category:イギリス連邦加盟国]]\n",
      "[[Category:英連邦王国|*]]\n",
      "[[Category:G8加盟国]]\n",
      "[[Category:欧州連合加盟国|元]]\n",
      "[[Category:海洋国家]]\n",
      "[[Category:現存する君主国]]\n",
      "[[Category:島国]]\n",
      "[[Category:1801年に成立した国家・領域]]\n"
     ]
    }
   ],
   "source": [
    "import re\n",
    "\n",
    "category = [] # 次の問題のために保管しておく\n",
    "with open('work/uk.txt') as f:\n",
    "    pattern = r'\\[Category:' # Categoryを探す # [ は前に \\ をつけないと反応しちゃう\n",
    "    repattern = re.compile(pattern) # 正規表現にする？\n",
    "    for line in f:\n",
    "        line = line.rstrip() # 改行を消す\n",
    "        if repattern.search(line) == None: # searchに引っかからない時点で終了\n",
    "            continue\n",
    "        else: # searchに引っかかったら出力\n",
    "            print(line)\n",
    "            category.append(line) # 次の問題のために保管しておく"
   ]
  },
  {
   "attachments": {},
   "cell_type": "markdown",
   "id": "e646124c",
   "metadata": {},
   "source": [
    "マッチしたパターンをやるときにif repattern.search(line) == None:でelseのときでもよいが  \n",
    "if repattern.search(line):  \n",
    "のほうが簡単にかける"
   ]
  },
  {
   "cell_type": "code",
   "execution_count": 14,
   "id": "61fde30f",
   "metadata": {},
   "outputs": [
    {
     "name": "stdout",
     "output_type": "stream",
     "text": [
      "match!\n"
     ]
    }
   ],
   "source": [
    "pattern = r'aaa'\n",
    "match = re.match(pattern, 'aaabb')\n",
    "if match:\n",
    "    print('match!')"
   ]
  },
  {
   "cell_type": "code",
   "execution_count": 15,
   "id": "bbb2fbb8",
   "metadata": {},
   "outputs": [
    {
     "name": "stdout",
     "output_type": "stream",
     "text": [
      "[[Category:イギリス|*]]\n",
      "[[Category:イギリス連邦加盟国]]\n",
      "[[Category:英連邦王国|*]]\n",
      "[[Category:G8加盟国]]\n",
      "[[Category:欧州連合加盟国|元]]\n",
      "[[Category:海洋国家]]\n",
      "[[Category:現存する君主国]]\n",
      "[[Category:島国]]\n",
      "[[Category:1801年に成立した国家・領域]]\n"
     ]
    }
   ],
   "source": [
    "import re\n",
    "\n",
    "category = [] # 次の問題のために保管しておく\n",
    "pattern = r'\\[Category:' # Categoryを探す # [ は前に \\ をつけないと反応しちゃう\n",
    "repattern = re.compile(pattern) # 正規表現にする？\n",
    "with open('work/uk.txt') as f:\n",
    "    for line in f:\n",
    "        line = line.rstrip() # 改行を消す    \n",
    "        if repattern.search(line): # searchに引っかからない時点で終了\n",
    "            print(line)\n",
    "            category.append(line) # 次の問題のために保管しておく\n",
    "            "
   ]
  },
  {
   "cell_type": "markdown",
   "id": "21f161cd",
   "metadata": {},
   "source": [
    "<h2 id=\"22-カテゴリ名の抽出\">22. カテゴリ名の抽出</h2>\n",
    "<p>記事のカテゴリ名を（行単位ではなく名前で）抽出せよ．</p>\n"
   ]
  },
  {
   "cell_type": "code",
   "execution_count": 16,
   "id": "65809187",
   "metadata": {},
   "outputs": [
    {
     "name": "stdout",
     "output_type": "stream",
     "text": [
      "[[Category:イギリス|*]]\n",
      "[[Category:イギリス連邦加盟国]]\n",
      "[[Category:英連邦王国|*]]\n",
      "[[Category:G8加盟国]]\n",
      "[[Category:欧州連合加盟国|元]]\n",
      "[[Category:海洋国家]]\n",
      "[[Category:現存する君主国]]\n",
      "[[Category:島国]]\n",
      "[[Category:1801年に成立した国家・領域]]\n"
     ]
    }
   ],
   "source": [
    "# categoryには全問で解いたカテゴリを含む行がリストで保管されている\n",
    "for ca in category:\n",
    "    print(ca)"
   ]
  },
  {
   "attachments": {},
   "cell_type": "markdown",
   "id": "5d1cfd0d",
   "metadata": {},
   "source": [
    "    .group：全体を取り出したり、()で囲んだところを取り出したり"
   ]
  },
  {
   "cell_type": "code",
   "execution_count": 17,
   "id": "adae5e74",
   "metadata": {},
   "outputs": [
    {
     "name": "stdout",
     "output_type": "stream",
     "text": [
      "<re.Match object; span=(0, 9), match='abcdefghi'>\n",
      "abcdefghi\n",
      "def\n"
     ]
    }
   ],
   "source": [
    "# そのまま文字列を取り出すときは.group(0)\n",
    "# ()で囲んだところを.group(1)として取り出せる\n",
    "pattern = r'abc(def).*'\n",
    "repattern = re.compile(pattern)\n",
    "a = repattern.match('abcdefghi')\n",
    "print(a)\n",
    "print(a.group(0))\n",
    "print(a.group(1))"
   ]
  },
  {
   "attachments": {},
   "cell_type": "markdown",
   "id": "54ffa60a",
   "metadata": {},
   "source": [
    "    パターンの後ろに「?」 - Lazy：最小限のマッチになる"
   ]
  },
  {
   "cell_type": "code",
   "execution_count": 18,
   "id": "435d7929",
   "metadata": {},
   "outputs": [
    {
     "name": "stdout",
     "output_type": "stream",
     "text": [
      "<re.Match object; span=(0, 17), match='<abc> <def> <ghi>'>\n",
      "<re.Match object; span=(0, 5), match='<abc>'>\n"
     ]
    }
   ],
   "source": [
    "# パターンの最後に?をつけることで怠惰(Lazy)に最小限のマッチができる\n",
    "patternGreedy = r'<.*>'  # 貪欲, greedy, 最大\n",
    "patternLazy   = r'<.*?>' # 怠惰, lazy  , 最小\n",
    "repatternGreedy = re.compile(patternGreedy)\n",
    "repatternLazy   = re.compile(patternLazy)\n",
    "greedy = repatternGreedy.match('<abc> <def> <ghi>')\n",
    "lazy   = repatternLazy.match('<abc> <def> <ghi>')\n",
    "print(greedy)\n",
    "print(lazy)"
   ]
  },
  {
   "attachments": {},
   "cell_type": "markdown",
   "id": "88109be6",
   "metadata": {},
   "source": [
    "    []で囲むと集合になる"
   ]
  },
  {
   "cell_type": "code",
   "execution_count": 19,
   "id": "7aeddac1",
   "metadata": {},
   "outputs": [
    {
     "name": "stdout",
     "output_type": "stream",
     "text": [
      "I Love you\n",
      "I miss you\n"
     ]
    }
   ],
   "source": [
    "# .とか!を排除した文だけほしい\n",
    "pattern = r'(.*?)[.!]'\n",
    "repattern = re.compile(pattern)\n",
    "a = repattern.match('I Love you.')\n",
    "b = repattern.match('I miss you!')\n",
    "print(a.group(1))\n",
    "print(b.group(1))"
   ]
  },
  {
   "attachments": {},
   "cell_type": "markdown",
   "id": "e2ca8c6d",
   "metadata": {},
   "source": [
    "解答"
   ]
  },
  {
   "attachments": {},
   "cell_type": "markdown",
   "id": "bd3f6f78",
   "metadata": {},
   "source": [
    "集合[]の中に[を入れるときは基本\\\\[と書いたほうが良い  \n",
    "pythonの場合、[]の中のひとつめに]がある場合のみ\\\\を省略できる  \n",
    "が一応[\\\\]|]のほうが良さそう"
   ]
  },
  {
   "attachments": {},
   "cell_type": "markdown",
   "id": "601d1422",
   "metadata": {},
   "source": [
    "正規表現の^は否定を表し、集合の中で使う  \n",
    "[^a]だと「a以外のすべての文字」となる"
   ]
  },
  {
   "cell_type": "code",
   "execution_count": 20,
   "id": "eb8aa7a3",
   "metadata": {},
   "outputs": [
    {
     "name": "stdout",
     "output_type": "stream",
     "text": [
      "None\n",
      "<re.Match object; span=(0, 3), match='1A3'>\n"
     ]
    }
   ],
   "source": [
    "pattern = r'1[^2]3'\n",
    "print(re.match(pattern, '123'))\n",
    "print(re.match(pattern, '1A3'))"
   ]
  },
  {
   "attachments": {},
   "cell_type": "markdown",
   "id": "40c6acdd",
   "metadata": {},
   "source": [
    "変数 == None  \n",
    "よりも  \n",
    "変数 is None  \n",
    "のほうが良い"
   ]
  },
  {
   "cell_type": "code",
   "execution_count": 21,
   "id": "64c03a3e",
   "metadata": {},
   "outputs": [
    {
     "name": "stdout",
     "output_type": "stream",
     "text": [
      "イギリス\n",
      "イギリス連邦加盟国\n",
      "英連邦王国\n",
      "G8加盟国\n",
      "欧州連合加盟国\n",
      "海洋国家\n",
      "現存する君主国\n",
      "島国\n",
      "1801年に成立した国家・領域\n"
     ]
    }
   ],
   "source": [
    "import re\n",
    "\n",
    "# pattern = '\\[\\[Category:(.*?)[]|]' # 答えを見ました...\n",
    "pattern = r'((?<=:).*?)[]|]' # :に続く文字を検索\n",
    "repattern = re.compile(pattern)\n",
    "\n",
    "for ca in category:\n",
    "    a = repattern.search(ca)\n",
    "    # print(a)\n",
    "    print(a.group(1))"
   ]
  },
  {
   "cell_type": "markdown",
   "id": "35f8f766",
   "metadata": {},
   "source": [
    "<h2 id=\"23-セクション構造\">23. セクション構造</h2>\n",
    "<p>記事中に含まれるセクション名とそのレベル（例えば”== セクション名 ==”なら1）を表示せよ．</p>\n"
   ]
  },
  {
   "cell_type": "code",
   "execution_count": 22,
   "id": "77e7c8c5",
   "metadata": {},
   "outputs": [
    {
     "name": "stdout",
     "output_type": "stream",
     "text": [
      "国名 1\n",
      "歴史 1\n",
      "地理 1\n",
      "主要都市 2\n",
      "気候 2\n",
      "政治 1\n",
      "元首 2\n",
      "法 2\n",
      "内政 2\n",
      "地方行政区分 2\n",
      "外交・軍事 2\n",
      "経済 1\n",
      "鉱業 2\n",
      "農業 2\n",
      "貿易 2\n",
      "不動産 2\n",
      "エネルギー政策 2\n",
      "通貨 2\n",
      "企業 2\n",
      "通信 3\n",
      "交通 1\n",
      "道路 2\n",
      "鉄道 2\n",
      "海運 2\n",
      "航空 2\n",
      "科学技術 1\n",
      "国民 1\n",
      "言語 2\n",
      "宗教 2\n",
      "婚姻 2\n",
      "移住 2\n",
      "教育 2\n",
      "医療 2\n",
      "文化 1\n",
      "食文化 2\n",
      "文学 2\n",
      "哲学 2\n",
      "音楽 2\n",
      "ポピュラー音楽 3\n",
      "映画 2\n",
      "コメディ 2\n",
      "国花 2\n",
      "世界遺産 2\n",
      "祝祭日 2\n",
      "スポーツ 2\n",
      "サッカー 3\n",
      "クリケット 3\n",
      "競馬 3\n",
      "モータースポーツ 3\n",
      "野球 3\n",
      " カーリング  3\n",
      " 自転車競技  3\n",
      "脚注 1\n",
      "関連項目 1\n",
      "外部リンク 1\n"
     ]
    }
   ],
   "source": [
    "# まずセクション名を取り出してみる\n",
    "import re\n",
    "\n",
    "'''\n",
    "「=」から始まり、「=」で終わるのがセクション\n",
    "「=」に挟まれた任意の文字がセクション名\n",
    "\n",
    "レベルの考え方\n",
    "1 最初の「=」の集団をgroup1にして、==の数(長さ, len)から1引いたものがレベル\n",
    "2 最初の「=」を()から外せば長さがレベルそのものになる\n",
    "'''\n",
    "# pattern = '(=+)(.*?)(=+)' # 1に当たる方\n",
    "pattern = r'=(=+)(.*?)(=+)=' # 2に当たる法\n",
    "repattern = re.compile(pattern)\n",
    "\n",
    "with open('work/uk.txt') as f:\n",
    "    for line in f:\n",
    "        line = line.rstrip() # 改行を消す\n",
    "        section_line = repattern.match(line) # 「=」を含んだセクション名\n",
    "        if section_line == None: # matchしてないなら飛ばす\n",
    "            continue\n",
    "        section = section_line.group(2)\n",
    "        # level = len(section_line.group(1)) - 1\n",
    "        level = len(section_line.group(1)) \n",
    "\n",
    "        print(section, level)"
   ]
  },
  {
   "attachments": {},
   "cell_type": "markdown",
   "id": "8fb3fb28",
   "metadata": {},
   "source": [
    "space消すときはstrip()で消せる"
   ]
  },
  {
   "attachments": {},
   "cell_type": "markdown",
   "id": "d5b07382",
   "metadata": {},
   "source": [
    "参照  \n",
    "\\group番号  \n",
    "でgroup化したところをもう一度表せる  "
   ]
  },
  {
   "cell_type": "code",
   "execution_count": 23,
   "id": "4cbe98c9",
   "metadata": {},
   "outputs": [
    {
     "name": "stdout",
     "output_type": "stream",
     "text": [
      "<re.Match object; span=(0, 23), match='yuton love, nakano love'>\n"
     ]
    }
   ],
   "source": [
    "pattern = r'yuton (love), nakano \\1'\n",
    "match = re.match(pattern, 'yuton love, nakano love')\n",
    "print(match)"
   ]
  },
  {
   "attachments": {},
   "cell_type": "markdown",
   "id": "98731d63",
   "metadata": {},
   "source": [
    "正規表現 2以上  \n",
    "={2,}  \n",
    "2個以上の = にマッチ"
   ]
  },
  {
   "cell_type": "code",
   "execution_count": 24,
   "id": "3ebbf2e2",
   "metadata": {},
   "outputs": [
    {
     "name": "stdout",
     "output_type": "stream",
     "text": [
      "<re.Match object; span=(0, 4), match='aaaa'>\n"
     ]
    }
   ],
   "source": [
    "pattern = r'a{3,}'\n",
    "match = re.match(pattern, 'aaaa')\n",
    "print(match)"
   ]
  },
  {
   "cell_type": "code",
   "execution_count": 25,
   "id": "4e86d46c",
   "metadata": {},
   "outputs": [
    {
     "name": "stdout",
     "output_type": "stream",
     "text": [
      "<re.Match object; span=(0, 6), match='AaaaaA'>\n"
     ]
    }
   ],
   "source": [
    "pattern = r'Aa{2,4}A'\n",
    "m = re.match(pattern, 'AaaaaA')\n",
    "print(m)"
   ]
  },
  {
   "cell_type": "markdown",
   "id": "e9e1433a",
   "metadata": {},
   "source": [
    "<h2 id=\"24-ファイル参照の抽出\">24. ファイル参照の抽出</h2>\n",
    "<p>記事から参照されているメディアファイルをすべて抜き出せ．</p>\n"
   ]
  },
  {
   "attachments": {},
   "cell_type": "markdown",
   "id": "0780b93b",
   "metadata": {},
   "source": [
    "メディアファイルは以下のような形式(「タイトル = 」がないものもある)  \n",
    "|国章画像 = [[ファイル:Royal Coat of Arms of the United Kingdom.svg|85px|イギリスの国章]]"
   ]
  },
  {
   "attachments": {},
   "cell_type": "markdown",
   "id": "39049d5b",
   "metadata": {},
   "source": [
    "[[ファイル: --]] -- [[ファイル: --]]  \n",
    "のパターンが漏れてる！  \n",
    "→ searchではなく、finditerにする！"
   ]
  },
  {
   "cell_type": "code",
   "execution_count": 26,
   "id": "1632952a",
   "metadata": {},
   "outputs": [
    {
     "name": "stdout",
     "output_type": "stream",
     "text": [
      "Royal Coat of Arms of the United Kingdom.svg\n",
      "United States Navy Band - God Save the Queen.ogg\n",
      "Descriptio Prime Tabulae Europae.jpg\n",
      "Lenepveu, Jeanne d'Arc au siège d'Orléans.jpg\n",
      "London.bankofengland.arp.jpg\n",
      "Battle of Waterloo 1815.PNG\n",
      "Uk topo en.jpg\n",
      "BenNevis2005.jpg\n",
      "Population density UK 2011 census.png\n",
      "2019 Greenwich Peninsula & Canary Wharf.jpg\n",
      "Birmingham Skyline from Edgbaston Cricket Ground crop.jpg\n",
      "Leeds CBD at night.jpg\n",
      "Glasgow and the Clyde from the air (geograph 4665720).jpg\n",
      "Palace of Westminster, London - Feb 2007.jpg\n",
      "Scotland Parliament Holyrood.jpg\n",
      "Donald Trump and Theresa May (33998675310) (cropped).jpg\n",
      "Soldiers Trooping the Colour, 16th June 2007.jpg\n",
      "City of London skyline from London City Hall - Oct 2008.jpg\n",
      "Oil platform in the North SeaPros.jpg\n",
      "Eurostar at St Pancras Jan 2008.jpg\n",
      "Heathrow Terminal 5C Iwelumo-1.jpg\n",
      "Airbus A380-841 G-XLEB British Airways (10424102995).jpg\n",
      "UKpop.svg\n",
      "Anglospeak.svg\n",
      "Royal Aberdeen Children's Hospital.jpg\n",
      "CHANDOS3.jpg\n",
      "The Fabs.JPG\n",
      "Wembley Stadium, illuminated.jpg\n",
      "28\n"
     ]
    }
   ],
   "source": [
    "import re\n",
    "\n",
    "pattern = '\\[\\[ファイル:(.*?)[]|]'\n",
    "repattern = re.compile(pattern)\n",
    "cnt = 0\n",
    "\n",
    "with open('work/uk.txt') as f:\n",
    "    for line in f:\n",
    "        line = line.rstrip() # 改行の削除\n",
    "        # mediaFile = repattern.search(line) # 複数ファイルパターンがカバーできていない 25パターン\n",
    "        mediaFile = repattern.finditer(line) # 28パターン見つけれた！\n",
    "        if mediaFile == None:\n",
    "            continue\n",
    "        for mf in mediaFile: # finditerで取得したのでfor文で処理する\n",
    "            print(mf.group(1))\n",
    "            cnt += 1\n",
    "        \n",
    "print(cnt)"
   ]
  },
  {
   "attachments": {},
   "cell_type": "markdown",
   "id": "60933842",
   "metadata": {},
   "source": [
    "finditerじゃなくてfindallでもよい  \n",
    "findallだとイテレータで  \n",
    "finditerだとリストで  \n",
    "複数マッチをできるがイテレータのほうがメモリの消費量が少ない"
   ]
  },
  {
   "cell_type": "markdown",
   "id": "793479b4",
   "metadata": {},
   "source": [
    "<h2 id=\"25-テンプレートの抽出\">25. テンプレートの抽出</h2>\n",
    "<p>記事中に含まれる「基礎情報」テンプレートのフィールド名と値を抽出し，辞書オブジェクトとして格納せよ．</p>\n"
   ]
  },
  {
   "attachments": {},
   "cell_type": "markdown",
   "id": "1ecb8ae6",
   "metadata": {},
   "source": [
    "    基礎情報の形式  \n",
    "{{基礎情報 国  \n",
    "|略名  =イギリス  \n",
    "|日本語国名 = グレートブリテン及び北アイルランド連合王国  \n",
    "}}"
   ]
  },
  {
   "cell_type": "code",
   "execution_count": 27,
   "id": "4dfbc3d0",
   "metadata": {},
   "outputs": [
    {
     "name": "stdout",
     "output_type": "stream",
     "text": [
      "略名 : イギリス\n",
      "日本語国名 : グレートブリテン及び北アイルランド連合王国\n",
      "公式国名 : {{lang|en|United Kingdom of Great Britain and Northern Ireland}}<ref>英語以外での正式国名:<br />\n",
      "国旗画像 : Flag of the United Kingdom.svg\n",
      "国章画像 : [[ファイル:Royal Coat of Arms of the United Kingdom.svg|85px|イギリスの国章]]\n",
      "国章リンク : （[[イギリスの国章|国章]]）\n",
      "標語 : {{lang|fr|[[Dieu et mon droit]]}}<br />（[[フランス語]]:[[Dieu et mon droit|神と我が権利]]）\n",
      "国歌 : [[女王陛下万歳|{{lang|en|God Save the Queen}}]]{{en icon}}<br />''神よ女王を護り賜え''<br />{{center|[[ファイル:United States Navy Band - God Save the Queen.ogg]]}}\n",
      "地図画像 : Europe-UK.svg\n",
      "位置画像 : United Kingdom (+overseas territories) in the World (+Antarctica claims).svg\n",
      "公用語 : [[英語]]\n",
      "首都 : [[ロンドン]]（事実上）\n",
      "最大都市 : ロンドン\n",
      "元首等肩書 : [[イギリスの君主|女王]]\n",
      "元首等氏名 : [[エリザベス2世]]\n",
      "首相等肩書 : [[イギリスの首相|首相]]\n",
      "首相等氏名 : [[ボリス・ジョンソン]]\n",
      "他元首等肩書1 : [[貴族院 (イギリス)|貴族院議長]]\n",
      "他元首等氏名1 : [[:en:Norman Fowler, Baron Fowler|ノーマン・ファウラー]]\n",
      "他元首等肩書2 : [[庶民院 (イギリス)|庶民院議長]]\n",
      "他元首等氏名2 : {{仮リンク|リンゼイ・ホイル|en|Lindsay Hoyle}}\n",
      "他元首等肩書3 : [[連合王国最高裁判所|最高裁判所長官]]\n",
      "他元首等氏名3 : [[:en:Brenda Hale, Baroness Hale of Richmond|ブレンダ・ヘイル]]\n",
      "面積順位 : 76\n",
      "面積大きさ : 1 E11\n",
      "面積値 : 244,820\n",
      "水面積率 : 1.3%\n",
      "人口統計年 : 2018\n",
      "人口順位 : 22\n",
      "人口大きさ : 1 E7\n",
      "人口値 : 6643万5600<ref>{{Cite web|url=https://www.ons.gov.uk/peoplepopulationandcommunity/populationandmigration/populationestimates|title=Population estimates - Office for National Statistics|accessdate=2019-06-26|date=2019-06-26}}</ref>\n",
      "人口密度値 : 271\n",
      "GDP統計年元 : 2012\n",
      "GDP値元 : 1兆5478億<ref name=\"imf-statistics-gdp\">[http://www.imf.org/external/pubs/ft/weo/2012/02/weodata/weorept.aspx?pr.x=70&pr.y=13&sy=2010&ey=2012&scsm=1&ssd=1&sort=country&ds=.&br=1&c=112&s=NGDP%2CNGDPD%2CPPPGDP%2CPPPPC&grp=0&a=IMF>Data and Statistics>World Economic Outlook Databases>By Countrise>United Kingdom]</ref>\n",
      "GDP統計年MER : 2012\n",
      "GDP順位MER : 6\n",
      "GDP値MER : 2兆4337億<ref name=\"imf-statistics-gdp\" />\n",
      "GDP統計年 : 2012\n",
      "GDP順位 : 6\n",
      "GDP値 : 2兆3162億<ref name=\"imf-statistics-gdp\" />\n",
      "GDP/人 : 36,727<ref name=\"imf-statistics-gdp\" />\n",
      "建国形態 : 建国\n",
      "確立形態1 : [[イングランド王国]]／[[スコットランド王国]]<br />（両国とも[[合同法 (1707年)|1707年合同法]]まで）\n",
      "確立年月日1 : 927年／843年\n",
      "確立形態2 : [[グレートブリテン王国]]成立<br />（1707年合同法）\n",
      "確立年月日2 : 1707年{{0}}5月{{0}}1日\n",
      "確立形態3 : [[グレートブリテン及びアイルランド連合王国]]成立<br />（[[合同法 (1800年)|1800年合同法]]）\n",
      "確立年月日3 : 1801年{{0}}1月{{0}}1日\n",
      "確立形態4 : 現在の国号「'''グレートブリテン及び北アイルランド連合王国'''」に変更\n",
      "確立年月日4 : 1927年{{0}}4月12日\n",
      "通貨 : [[スターリング・ポンド|UKポンド]] (£)\n",
      "通貨コード : GBP\n",
      "時間帯 : ±0\n",
      "夏時間 : +1\n",
      "ISO 3166-1 : GB / GBR\n",
      "ccTLD : [[.uk]] / [[.gb]]<ref>使用は.ukに比べ圧倒的少数。</ref>\n",
      "国際電話番号 : 44\n",
      "注記 : <references/>\n"
     ]
    }
   ],
   "source": [
    "import re\n",
    "start_pattern = r'\\{\\{基礎情報' # 基礎情報のスタートをマッチ\n",
    "start_repattern = re.compile(start_pattern)\n",
    "startFlag = False\n",
    "end_pattern = r'\\}\\}' # 基礎情報の最後をマッチ\n",
    "end_repattern = re.compile(end_pattern)\n",
    "kisoInfo = [] # 基礎情報を1行ずつ格納する\n",
    "\n",
    "# まず基礎情報の内部をリストに入れる\n",
    "with open('work/uk.txt') as f:\n",
    "    for line in f:\n",
    "        line = line.rstrip()\n",
    "        # 後ろのカッコがマッチしたら終了\n",
    "        if end_repattern.match(line):\n",
    "            startFlag = False\n",
    "        # フラグが立っているときのみ基礎情報の内部なのでリストに打ち込む\n",
    "        if startFlag:\n",
    "            kisoInfo.append(line)\n",
    "        # 前のカッコがマッチしたら開始\n",
    "        if start_repattern.match(line):\n",
    "            startFlag = True\n",
    "\n",
    "# 次に1行ずつ格納されている基礎情報リストを正規化して取り出して辞書に格納する\n",
    "kisoDict = {}\n",
    "# group(1)にキーが来て、group(2)にvalueが来るようにする\n",
    "# group(1)では後ろに続くので最小マッチにし、group(2)では最後まで行ってほしいので貪欲マッチにする\n",
    "pattern = r'\\|(.*?) += *(.*)' \n",
    "repattern = re.compile(pattern)\n",
    "for kiso_line in kisoInfo:\n",
    "    match = repattern.match(kiso_line)\n",
    "    if match:\n",
    "        kisoDict[match.group(1)] = match.group(2)\n",
    "# 表示\n",
    "for k, v in kisoDict.items():\n",
    "    print(k, ':', v)"
   ]
  },
  {
   "cell_type": "markdown",
   "id": "5155fa0a",
   "metadata": {},
   "source": [
    "<h2 id=\"26-強調マークアップの除去\">26. 強調マークアップの除去</h2>\n",
    "<p>25の処理時に，テンプレートの値からMediaWikiの強調マークアップ（弱い強調，強調，強い強調のすべて）を除去してテキストに変換せよ（参考: <a href=\"http://ja.wikipedia.org/wiki/Help:%E6%97%A9%E8%A6%8B%E8%A1%A8\">マークアップ早見表</a>）．</p>\n"
   ]
  },
  {
   "attachments": {},
   "cell_type": "markdown",
   "id": "25e7f0cb",
   "metadata": {},
   "source": [
    "マッチする部分を置換 : sub(), subn()  \n",
    "re.sub(正規表現, 置換後文字列, 対象文字列)  \n",
    "re.subn(正規表現, 置換後文字列, 対象文字列, 最大置換回数)  "
   ]
  },
  {
   "cell_type": "code",
   "execution_count": 28,
   "id": "764ed6b3",
   "metadata": {},
   "outputs": [
    {
     "name": "stdout",
     "output_type": "stream",
     "text": [
      "bbAAbbAA\n"
     ]
    }
   ],
   "source": [
    "pattern = r'aa'\n",
    "print(re.sub(pattern, 'bb', 'aaAAaaAA'))"
   ]
  },
  {
   "cell_type": "code",
   "execution_count": 29,
   "id": "e47d56a7",
   "metadata": {},
   "outputs": [
    {
     "name": "stdout",
     "output_type": "stream",
     "text": [
      "('bbAAbaAA', 3) bbAAbaAA 3\n"
     ]
    }
   ],
   "source": [
    "pattern = r'a'\n",
    "t = re.subn(pattern, 'b', 'aaAAaaAA', 3)\n",
    "print(t, t[0], t[1])"
   ]
  },
  {
   "attachments": {},
   "cell_type": "markdown",
   "id": "fae084d9",
   "metadata": {},
   "source": [
    "    強調の形式\n",
    "''他との区別''  \n",
    "'''強調'''  \n",
    "''''斜体と強調''''"
   ]
  },
  {
   "cell_type": "code",
   "execution_count": 30,
   "id": "ff1fc738",
   "metadata": {},
   "outputs": [
    {
     "name": "stdout",
     "output_type": "stream",
     "text": [
      "略名 : イギリス\n",
      "日本語国名 : グレートブリテン及び北アイルランド連合王国\n",
      "公式国名 : {{lang|en|United Kingdom of Great Britain and Northern Ireland}}<ref>英語以外での正式国名:<br />\n",
      "国旗画像 : Flag of the United Kingdom.svg\n",
      "国章画像 : [[ファイル:Royal Coat of Arms of the United Kingdom.svg|85px|イギリスの国章]]\n",
      "国章リンク : （[[イギリスの国章|国章]]）\n",
      "標語 : {{lang|fr|[[Dieu et mon droit]]}}<br />（[[フランス語]]:[[Dieu et mon droit|神と我が権利]]）\n",
      "国歌 : [[女王陛下万歳|{{lang|en|God Save the Queen}}]]{{en icon}}<br />神よ女王を護り賜え<br />{{center|[[ファイル:United States Navy Band - God Save the Queen.ogg]]}}\n",
      "地図画像 : Europe-UK.svg\n",
      "位置画像 : United Kingdom (+overseas territories) in the World (+Antarctica claims).svg\n",
      "公用語 : [[英語]]\n",
      "首都 : [[ロンドン]]（事実上）\n",
      "最大都市 : ロンドン\n",
      "元首等肩書 : [[イギリスの君主|女王]]\n",
      "元首等氏名 : [[エリザベス2世]]\n",
      "首相等肩書 : [[イギリスの首相|首相]]\n",
      "首相等氏名 : [[ボリス・ジョンソン]]\n",
      "他元首等肩書1 : [[貴族院 (イギリス)|貴族院議長]]\n",
      "他元首等氏名1 : [[:en:Norman Fowler, Baron Fowler|ノーマン・ファウラー]]\n",
      "他元首等肩書2 : [[庶民院 (イギリス)|庶民院議長]]\n",
      "他元首等氏名2 : {{仮リンク|リンゼイ・ホイル|en|Lindsay Hoyle}}\n",
      "他元首等肩書3 : [[連合王国最高裁判所|最高裁判所長官]]\n",
      "他元首等氏名3 : [[:en:Brenda Hale, Baroness Hale of Richmond|ブレンダ・ヘイル]]\n",
      "面積順位 : 76\n",
      "面積大きさ : 1 E11\n",
      "面積値 : 244,820\n",
      "水面積率 : 1.3%\n",
      "人口統計年 : 2018\n",
      "人口順位 : 22\n",
      "人口大きさ : 1 E7\n",
      "人口値 : 6643万5600<ref>{{Cite web|url=https://www.ons.gov.uk/peoplepopulationandcommunity/populationandmigration/populationestimates|title=Population estimates - Office for National Statistics|accessdate=2019-06-26|date=2019-06-26}}</ref>\n",
      "人口密度値 : 271\n",
      "GDP統計年元 : 2012\n",
      "GDP値元 : 1兆5478億<ref name=\"imf-statistics-gdp\">[http://www.imf.org/external/pubs/ft/weo/2012/02/weodata/weorept.aspx?pr.x=70&pr.y=13&sy=2010&ey=2012&scsm=1&ssd=1&sort=country&ds=.&br=1&c=112&s=NGDP%2CNGDPD%2CPPPGDP%2CPPPPC&grp=0&a=IMF>Data and Statistics>World Economic Outlook Databases>By Countrise>United Kingdom]</ref>\n",
      "GDP統計年MER : 2012\n",
      "GDP順位MER : 6\n",
      "GDP値MER : 2兆4337億<ref name=\"imf-statistics-gdp\" />\n",
      "GDP統計年 : 2012\n",
      "GDP順位 : 6\n",
      "GDP値 : 2兆3162億<ref name=\"imf-statistics-gdp\" />\n",
      "GDP/人 : 36,727<ref name=\"imf-statistics-gdp\" />\n",
      "建国形態 : 建国\n",
      "確立形態1 : [[イングランド王国]]／[[スコットランド王国]]<br />（両国とも[[合同法 (1707年)|1707年合同法]]まで）\n",
      "確立年月日1 : 927年／843年\n",
      "確立形態2 : [[グレートブリテン王国]]成立<br />（1707年合同法）\n",
      "確立年月日2 : 1707年{{0}}5月{{0}}1日\n",
      "確立形態3 : [[グレートブリテン及びアイルランド連合王国]]成立<br />（[[合同法 (1800年)|1800年合同法]]）\n",
      "確立年月日3 : 1801年{{0}}1月{{0}}1日\n",
      "確立形態4 : 現在の国号「グレートブリテン及び北アイルランド連合王国」に変更\n",
      "確立年月日4 : 1927年{{0}}4月12日\n",
      "通貨 : [[スターリング・ポンド|UKポンド]] (£)\n",
      "通貨コード : GBP\n",
      "時間帯 : ±0\n",
      "夏時間 : +1\n",
      "ISO 3166-1 : GB / GBR\n",
      "ccTLD : [[.uk]] / [[.gb]]<ref>使用は.ukに比べ圧倒的少数。</ref>\n",
      "国際電話番号 : 44\n",
      "注記 : <references/>\n"
     ]
    }
   ],
   "source": [
    "# 辞書kisoDictをつくる\n",
    "remove_emphasis_dict= {}\n",
    "kyocyo = re.compile(r'\\'{2,4}') # 強調は2, 3, 4個の「'」があるので除去する\n",
    "\n",
    "for k, v in kisoDict.items():\n",
    "    new_value = re.sub(kyocyo, '', v) # マッチしたものを除去\n",
    "    remove_emphasis_dict[k] = new_value\n",
    "    print(k, ':', new_value)"
   ]
  },
  {
   "cell_type": "markdown",
   "id": "29a5c769",
   "metadata": {},
   "source": [
    "<h2 id=\"27-内部リンクの除去\">27. 内部リンクの除去</h2>\n",
    "<p>26の処理に加えて，テンプレートの値からMediaWikiの内部リンクマークアップを除去し，テキストに変換せよ（参考: <a href=\"http://ja.wikipedia.org/wiki/Help:%E6%97%A9%E8%A6%8B%E8%A1%A8\">マークアップ早見表</a>）．</p>\n"
   ]
  },
  {
   "cell_type": "code",
   "execution_count": 31,
   "id": "5ebc9546",
   "metadata": {},
   "outputs": [
    {
     "name": "stdout",
     "output_type": "stream",
     "text": [
      "123 hello\n"
     ]
    }
   ],
   "source": [
    "# 置換前のgroup(1)だけ残してマッチしていない他のところはそのまま\n",
    "pattern = r'0(123)45(67)89'\n",
    "text = '0123456789 hello'\n",
    "print(re.sub(pattern, r'\\1', text))"
   ]
  },
  {
   "attachments": {},
   "cell_type": "markdown",
   "id": "cf805019",
   "metadata": {},
   "source": [
    "内部リンクの形式  \n",
    "[[記事名]] → 記事名  \n",
    "[[記事名|表示文字]]  → 表示文字   \n",
    "[[記事名#節名|表示文字]]  → 表示文字  "
   ]
  },
  {
   "cell_type": "code",
   "execution_count": 45,
   "id": "7b9ceff8",
   "metadata": {},
   "outputs": [
    {
     "name": "stdout",
     "output_type": "stream",
     "text": [
      "略名 : イギリス\n",
      "日本語国名 : グレートブリテン及び北アイルランド連合王国\n",
      "公式国名 : {{lang|en|United Kingdom of Great Britain and Northern Ireland}}<ref>英語以外での正式国名:<br />\n",
      "国旗画像 : Flag of the United Kingdom.svg\n",
      "国章画像 : イギリスの国章\n",
      "国章リンク : （国章）\n",
      "標語 : {{lang|fr|Dieu et mon droit}}<br />（フランス語:神と我が権利）\n",
      "国歌 : {{lang|en|God Save the Queen}}{{en icon}}<br />神よ女王を護り賜え<br />{{center|ファイル:United States Navy Band - God Save the Queen.ogg}}\n",
      "地図画像 : Europe-UK.svg\n",
      "位置画像 : United Kingdom (+overseas territories) in the World (+Antarctica claims).svg\n",
      "公用語 : 英語\n",
      "首都 : ロンドン（事実上）\n",
      "最大都市 : ロンドン\n",
      "元首等肩書 : 女王\n",
      "元首等氏名 : エリザベス2世\n",
      "首相等肩書 : 首相\n",
      "首相等氏名 : ボリス・ジョンソン\n",
      "他元首等肩書1 : 貴族院議長\n",
      "他元首等氏名1 : ノーマン・ファウラー\n",
      "他元首等肩書2 : 庶民院議長\n",
      "他元首等氏名2 : {{仮リンク|リンゼイ・ホイル|en|Lindsay Hoyle}}\n",
      "他元首等肩書3 : 最高裁判所長官\n",
      "他元首等氏名3 : ブレンダ・ヘイル\n",
      "面積順位 : 76\n",
      "面積大きさ : 1 E11\n",
      "面積値 : 244,820\n",
      "水面積率 : 1.3%\n",
      "人口統計年 : 2018\n",
      "人口順位 : 22\n",
      "人口大きさ : 1 E7\n",
      "人口値 : 6643万5600<ref>{{Cite web|url=https://www.ons.gov.uk/peoplepopulationandcommunity/populationandmigration/populationestimates|title=Population estimates - Office for National Statistics|accessdate=2019-06-26|date=2019-06-26}}</ref>\n",
      "人口密度値 : 271\n",
      "GDP統計年元 : 2012\n",
      "GDP値元 : 1兆5478億<ref name=\"imf-statistics-gdp\">[http://www.imf.org/external/pubs/ft/weo/2012/02/weodata/weorept.aspx?pr.x=70&pr.y=13&sy=2010&ey=2012&scsm=1&ssd=1&sort=country&ds=.&br=1&c=112&s=NGDP%2CNGDPD%2CPPPGDP%2CPPPPC&grp=0&a=IMF>Data and Statistics>World Economic Outlook Databases>By Countrise>United Kingdom]</ref>\n",
      "GDP統計年MER : 2012\n",
      "GDP順位MER : 6\n",
      "GDP値MER : 2兆4337億<ref name=\"imf-statistics-gdp\" />\n",
      "GDP統計年 : 2012\n",
      "GDP順位 : 6\n",
      "GDP値 : 2兆3162億<ref name=\"imf-statistics-gdp\" />\n",
      "GDP/人 : 36,727<ref name=\"imf-statistics-gdp\" />\n",
      "建国形態 : 建国\n",
      "確立形態1 : イングランド王国／スコットランド王国<br />（両国とも1707年合同法まで）\n",
      "確立年月日1 : 927年／843年\n",
      "確立形態2 : グレートブリテン王国成立<br />（1707年合同法）\n",
      "確立年月日2 : 1707年{{0}}5月{{0}}1日\n",
      "確立形態3 : グレートブリテン及びアイルランド連合王国成立<br />（1800年合同法）\n",
      "確立年月日3 : 1801年{{0}}1月{{0}}1日\n",
      "確立形態4 : 現在の国号「グレートブリテン及び北アイルランド連合王国」に変更\n",
      "確立年月日4 : 1927年{{0}}4月12日\n",
      "通貨 : UKポンド (£)\n",
      "通貨コード : GBP\n",
      "時間帯 : ±0\n",
      "夏時間 : +1\n",
      "ISO 3166-1 : GB / GBR\n",
      "ccTLD : .uk / .gb<ref>使用は.ukに比べ圧倒的少数。</ref>\n",
      "国際電話番号 : 44\n",
      "注記 : <references/>\n"
     ]
    }
   ],
   "source": [
    "# 辞書kisoDictをつくる\n",
    "remove_link_dict = {}\n",
    "\n",
    "\"\"\"\n",
    "表示名を抜き取る方式\n",
    "1個目の?をつけると 文字列| が消去できず、?をとると ]] と {--} を通過して消去し過ぎてしまう\n",
    "] と { をすべての文字に入れなければ良い！\n",
    "\"\"\"\n",
    "pattern = re.compile(r'\\[\\[([^\\{\\]]*?\\|)*(.*?)\\]\\]') \n",
    "\n",
    "\"\"\"\n",
    "[[文字列1|文字列2|...文字列n| or ]] を元の文字列からすべて除去する\n",
    "１つ目と同じように ]] と {--} を通過して消去し過ぎてしまうので\n",
    "] と { をすべての文字に入れなければ良い！\n",
    "\"\"\"\n",
    "# pattern2 = re.compile(r'\\[\\[([^\\{\\]]*?\\|)*|\\]\\]') \n",
    "\n",
    "for k, v in remove_emphasis_dict.items():\n",
    "    new_value = pattern.sub(r'\\2', v) # マッチした場所を記事名, 表示名に置換\n",
    "    # new_value = pattern.sub('', v) # マッチしたものを除去\n",
    "    remove_link_dict[k] = new_value # 辞書のvalueの更新\n",
    "    print(k, ':', remove_link_dict[k])"
   ]
  },
  {
   "cell_type": "code",
   "execution_count": null,
   "id": "eb6de346",
   "metadata": {},
   "outputs": [],
   "source": [
    "pattern = r''"
   ]
  },
  {
   "cell_type": "markdown",
   "id": "326ff6e6",
   "metadata": {},
   "source": [
    "<h2 id=\"28-mediawikiマークアップの除去\">28. MediaWikiマークアップの除去</h2>\n",
    "<p>27の処理に加えて，テンプレートの値からMediaWikiマークアップを可能な限り除去し，国の基本情報を整形せよ．</p>\n"
   ]
  },
  {
   "attachments": {},
   "cell_type": "markdown",
   "id": "1d5de5de",
   "metadata": {},
   "source": [
    "マークアップの形式\n",
    "* < ref>文< /ref>　→　消す\n",
    "* < ref name=\"--\">文< /ref>　→　消す\n",
    "* < /br> →　消す\n",
    "* {--}文{--}文　→　一番左の ｛--}　のみ残して以降は　｛--}　はすべて消す\n",
    "* {{-|-}}　→　一番右の　-　のみ残す"
   ]
  },
  {
   "cell_type": "code",
   "execution_count": 58,
   "id": "ecd4fe18",
   "metadata": {},
   "outputs": [
    {
     "name": "stdout",
     "output_type": "stream",
     "text": [
      "略名 : イギリス\n",
      "日本語国名 : グレートブリテン及び北アイルランド連合王国\n",
      "公式国名 : United Kingdom of Great Britain and Northern Ireland\n",
      "国旗画像 : Flag of the United Kingdom.svg\n",
      "国章画像 : イギリスの国章\n",
      "国章リンク : （国章）\n",
      "標語 : Dieu et mon droit\n",
      "国歌 : God Save the Queen\n",
      "地図画像 : Europe-UK.svg\n",
      "位置画像 : United Kingdom (+overseas territories) in the World (+Antarctica claims).svg\n",
      "公用語 : 英語\n",
      "首都 : ロンドン（事実上）\n",
      "最大都市 : ロンドン\n",
      "元首等肩書 : 女王\n",
      "元首等氏名 : エリザベス2世\n",
      "首相等肩書 : 首相\n",
      "首相等氏名 : ボリス・ジョンソン\n",
      "他元首等肩書1 : 貴族院議長\n",
      "他元首等氏名1 : ノーマン・ファウラー\n",
      "他元首等肩書2 : 庶民院議長\n",
      "他元首等氏名2 : Lindsay Hoyle\n",
      "他元首等肩書3 : 最高裁判所長官\n",
      "他元首等氏名3 : ブレンダ・ヘイル\n",
      "面積順位 : 76\n",
      "面積大きさ : 1 E11\n",
      "面積値 : 244,820\n",
      "水面積率 : 1.3%\n",
      "人口統計年 : 2018\n",
      "人口順位 : 22\n",
      "人口大きさ : 1 E7\n",
      "人口値 : 6643万5600\n",
      "人口密度値 : 271\n",
      "GDP統計年元 : 2012\n",
      "GDP値元 : 1兆5478億\n",
      "GDP統計年MER : 2012\n",
      "GDP順位MER : 6\n",
      "GDP値MER : 2兆4337億\n",
      "GDP統計年 : 2012\n",
      "GDP順位 : 6\n",
      "GDP値 : 2兆3162億\n",
      "GDP/人 : 36,727\n",
      "建国形態 : 建国\n",
      "確立形態1 : イングランド王国／スコットランド王国（両国とも1707年合同法まで）\n",
      "確立年月日1 : 927年／843年\n",
      "確立形態2 : グレートブリテン王国成立（1707年合同法）\n",
      "確立年月日2 : 1707年0\n",
      "確立形態3 : グレートブリテン及びアイルランド連合王国成立（1800年合同法）\n",
      "確立年月日3 : 1801年0\n",
      "確立形態4 : 現在の国号「グレートブリテン及び北アイルランド連合王国」に変更\n",
      "確立年月日4 : 1927年0\n",
      "通貨 : UKポンド (£)\n",
      "通貨コード : GBP\n",
      "時間帯 : ±0\n",
      "夏時間 : +1\n",
      "ISO 3166-1 : GB / GBR\n",
      "ccTLD : .uk / .gb\n",
      "国際電話番号 : 44\n",
      "注記 : \n"
     ]
    }
   ],
   "source": [
    "remove_markup_dict = {}\n",
    "ref_pattern = re.compile(r'\\<ref\\>.*?\\</ref\\>') # <ref>の除去\n",
    "ref_pattern2 = re.compile(r'\\<ref name=\".*?\"\\>.*?\\</ref\\>') # <ref name=\"\">の除去\n",
    "arrow_pattern = re.compile(r'\\<.*?\\>') # 残った<-->の除去\n",
    "kakkos_pattern = re.compile(r'\\{(.*?)\\}.*') # 一番左の{}だけ残して他の{}は中身ごと消す\n",
    "kakko_pattern = re.compile(r'\\{([^\\{]*?\\|)*|\\}') # {--|--}の右の--以外除去 パターン1\n",
    "# kakko_pattern = re.compile(r'\\{(.*?\\|)*(.*?)') # kakkos_patternで文字列が変わっている、{--|--の右の--のみ取り出す パターン2\n",
    "\n",
    "for k, v in remove_link_dict.items():\n",
    "    v = ref_pattern.sub('', v)\n",
    "    v = ref_pattern2.sub('', v)\n",
    "    v = arrow_pattern.sub('', v)\n",
    "    v = kakkos_pattern.sub(r'\\1', v) # ここだけ一番左の{-}は残すのでgroup1を置換する\n",
    "    new_value = kakko_pattern.sub('', v) # パターン1\n",
    "    # new_value = kakko_pattern.sub(r'\\2', v) # パターン2 一番右の-を残したいのでgroup(2)を置換する\n",
    "    remove_markup_dict[k] = new_value\n",
    "    print(k, ':', new_value)"
   ]
  },
  {
   "cell_type": "markdown",
   "id": "607905a9",
   "metadata": {},
   "source": [
    "<h2 id=\"29-国旗画像のurlを取得する\">29. 国旗画像のURLを取得する</h2>\n",
    "<p>テンプレートの内容を利用し，国旗画像のURLを取得せよ．（ヒント: <a href=\"http://www.mediawiki.org/wiki/API:Main_page/ja\">MediaWiki API</a>の<a href=\"https://www.mediawiki.org/wiki/API:Imageinfo\">imageinfo</a>を呼び出して，ファイル参照をURLに変換すればよい）</p>\n"
   ]
  },
  {
   "attachments": {},
   "cell_type": "markdown",
   "id": "aae096f5",
   "metadata": {},
   "source": [
    "    requestsモジュール  \n",
    "requestsモジュールはwebページやデータを取得する  \n",
    "req = requests.get(url, params)  \n",
    "paramsは省略可能"
   ]
  },
  {
   "attachments": {},
   "cell_type": "markdown",
   "id": "2e823895",
   "metadata": {},
   "source": [
    "    パラメータ params\n",
    "paramsは辞書形式  \n",
    "付ける場合はurlの一番右にある「?」の先にkey=value形式で付加するパラメータを指定する  \n",
    "例、googleで「python」を調べる\n",
    "* URLの形式　:　https://www.google.co.jp/search?q=python\n",
    "* q=調べるキーワードとなっていて、pythonについて調べている\n",
    "* params = {'q' : 'python'}　と辞書形式で指定する\n"
   ]
  },
  {
   "cell_type": "code",
   "execution_count": 34,
   "id": "8ba761c5",
   "metadata": {},
   "outputs": [],
   "source": [
    "import requests\n",
    "google_url = 'https://www.google.co.jp/search?'\n",
    "params = {'q' : 'python'}\n",
    "req = requests.get(google_url, params)\n",
    "# print(req.text)"
   ]
  },
  {
   "cell_type": "code",
   "execution_count": 35,
   "id": "9eed2a7b",
   "metadata": {},
   "outputs": [
    {
     "name": "stdout",
     "output_type": "stream",
     "text": [
      "<class 'str'>\n",
      "200\n",
      "{'date': 'Wed, 19 Apr 2023 00:10:35 GMT', 'server': 'mw2374.codfw.wmnet', 'x-content-type-options': 'nosniff', 'content-language': 'ja', 'vary': 'Accept-Encoding,Cookie,Authorization', 'expires': 'Thu, 01 Jan 1970 00:00:00 GMT', 'x-frame-options': 'DENY', 'content-disposition': 'inline; filename=api-help.html', 'cache-control': 'private, max-age=0, s-maxage=0', 'set-cookie': 'jawikiBlockID=778180%21667fdf38f9e0fb163ca93221f2b342aa60ddc6b5b2dd2d3d7effdd7c5993a5da9afa5a4a7f6f10f8eadad373f37b804874a6099e990dc650eca34a9b50ca180b; expires=Thu, 20-Apr-2023 00:10:36 GMT; Max-Age=86400; path=/; secure, GeoIP=JP:04:Sendai:38.27:140.86:v4; Path=/; secure; Domain=.wikipedia.org', 'content-type': 'text/html; charset=utf-8', 'content-encoding': 'gzip', 'age': '2', 'x-cache': 'cp5018 miss, cp5018 pass', 'x-cache-status': 'pass', 'server-timing': 'cache;desc=\"pass\", host;desc=\"cp5018\"', 'strict-transport-security': 'max-age=106384710; includeSubDomains; preload', 'report-to': '{ \"group\": \"wm_nel\", \"max_age\": 604800, \"endpoints\": [{ \"url\": \"https://intake-logging.wikimedia.org/v1/events?stream=w3c.reportingapi.network_error&schema_uri=/w3c/reportingapi/network_error/1.0.0\" }] }', 'nel': '{ \"report_to\": \"wm_nel\", \"max_age\": 604800, \"failure_fraction\": 0.05, \"success_fraction\": 0.0}', 'x-client-ip': '130.34.46.53', 'accept-ranges': 'bytes', 'transfer-encoding': 'chunked'}\n"
     ]
    }
   ],
   "source": [
    "import requests\n",
    "url = 'http://ja.wikipedia.org/w/api.php?'\n",
    "req = requests.get(url)\n",
    "print(type(req.text)) # html形式の文字列で書かれている\n",
    "print(req.status_code) # ステータスコード\n",
    "print(req.headers) # レスポンスヘッダー"
   ]
  },
  {
   "attachments": {},
   "cell_type": "markdown",
   "id": "d17d4254",
   "metadata": {},
   "source": [
    "    イギリスの国旗を表示する\n",
    "実際のURL  \n",
    "https://ja.wikipedia.org/wiki/%E3%82%A4%E3%82%AE%E3%83%AA%E3%82%B9#/media/%E3%83%95%E3%82%A1%E3%82%A4%E3%83%AB:Flag_of_the_United_Kingdom_(1-2).svg  \n",
    "\n",
    "URLの形式  \n",
    "https://ja.wikipedia.org/w/api.php?  \n",
    "\n",
    "?以降のkey=valueの形式\n",
    "* action=query（MediaWikiからデータを取ってくる）\n",
    "* format=json（データをjson形式にする）\n",
    "* titles=ファイル:Flag_of_the_United_Kingdom.svg（spaceは_で埋められる、ファイル:以降は基礎情報内の国旗画像のタイトルと一致）\n",
    "* prop=imageinfo（写真をとってくる）\n",
    "* iiprop=url（写真をURLにする？）"
   ]
  },
  {
   "cell_type": "code",
   "execution_count": 36,
   "id": "8ee0f3b7",
   "metadata": {},
   "outputs": [
    {
     "name": "stdout",
     "output_type": "stream",
     "text": [
      "{\"continue\":{\"iistart\":\"2021-07-29T16:31:40Z\",\"continue\":\"||\"},\"query\":{\"normalized\":[{\"from\":\"File:Flag of the United Kingdom.svg\",\"to\":\"\\u30d5\\u30a1\\u30a4\\u30eb:Flag of the United Kingdom.svg\"}],\"pages\":{\"-1\":{\"ns\":6,\"title\":\"\\u30d5\\u30a1\\u30a4\\u30eb:Flag of the United Kingdom.svg\",\"missing\":\"\",\"known\":\"\",\"imagerepository\":\"shared\",\"imageinfo\":[{\"url\":\"https://upload.wikimedia.org/wikipedia/commons/8/83/Flag_of_the_United_Kingdom_%283-5%29.svg\",\"descriptionurl\":\"https://commons.wikimedia.org/wiki/File:Flag_of_the_United_Kingdom_(3-5).svg\",\"descriptionshorturl\":\"https://commons.wikimedia.org/w/index.php?curid=895166\"}]}}}}\n",
      "https://upload.wikimedia.org/wikipedia/commons/8/83/Flag_of_the_United_Kingdom_%283-5%29.svg\n",
      "https://upload.wikimedia.org/wikipedia/commons/8/83/Flag_of_the_United_Kingdom_%283-5%29.svg\n"
     ]
    }
   ],
   "source": [
    "import requests\n",
    "\n",
    "url = 'http://ja.wikipedia.org/w/api.php?'\n",
    "params = {\n",
    "    'action': 'query', # MediaWikiからデータを取る\n",
    "    'format': 'json',  # データをjson形式にする\n",
    "    'titles': 'File:'+kisoDict[\"国旗画像\"],\n",
    "    'prop': 'imageinfo', # 画像\n",
    "    'iiprop': 'url'      # 画像をURLにする\n",
    "}\n",
    "req = requests.get(url, params)\n",
    "print(req.text)\n",
    "\n",
    "# json形式を利用する方法\n",
    "data =  req.json() # 辞書型にする\n",
    "print(data[\"query\"][\"pages\"][\"-1\"][\"imageinfo\"][0][\"url\"]) # 辞書のアクセスをして、urlを取り出す\n",
    "\n",
    "# 正規表現を用いて取り出す方法\n",
    "# print(req.text)\n",
    "# req.textの形式は、辞書の内部構造の中で \"url\":\"リンク\"\n",
    "pattern = r'\"url\":\"(.*?)\"'\n",
    "match = re.search(pattern, req.text)\n",
    "print(match.group(1))\n"
   ]
  },
  {
   "attachments": {},
   "cell_type": "markdown",
   "id": "632d0331",
   "metadata": {},
   "source": [
    "    png, jpegとsvgファイルの違い\n",
    "png, jpeg : ラスタ形式（点）、写真に強い  \n",
    "svg : ベクトル形式（線）、 アイコン,地図,平面イラストに強い"
   ]
  },
  {
   "cell_type": "code",
   "execution_count": 59,
   "id": "9782df26",
   "metadata": {},
   "outputs": [
    {
     "data": {
      "image/svg+xml": [
       "<svg xmlns=\"http://www.w3.org/2000/svg\" viewBox=\"0 0 50 30\" width=\"1000\" height=\"600\">\n",
       "\t<clipPath id=\"t\">\n",
       "\t\t<path d=\"M25,15h25v15zv15h-25zh-25v-15zv-15h25z\"/>\n",
       "\t</clipPath>\n",
       "\t<path d=\"M0,0v30h50v-30z\" fill=\"#012169\"/>\n",
       "\t<path d=\"M0,0 50,30M50,0 0,30\" stroke=\"#fff\" stroke-width=\"6\"/>\n",
       "\t<path d=\"M0,0 50,30M50,0 0,30\" clip-path=\"url(#t)\" stroke=\"#C8102E\" stroke-width=\"4\"/>\n",
       "\t<path d=\"M-1 11h22v-12h8v12h22v8h-22v12h-8v-12h-22z\" fill=\"#C8102E\" stroke=\"#FFF\" stroke-width=\"2\"/>\n",
       "</svg>"
      ],
      "text/plain": [
       "<IPython.core.display.SVG object>"
      ]
     },
     "metadata": {},
     "output_type": "display_data"
    }
   ],
   "source": [
    "from IPython.display import SVG, display\n",
    "\n",
    "display(SVG(match.group(1)))"
   ]
  },
  {
   "attachments": {},
   "cell_type": "markdown",
   "id": "622f3799",
   "metadata": {},
   "source": [
    "    .gitignoreファイル  \n",
    "gitignoreに含めるとgithubにアップロードされなくなる  \n",
    "data, workはでかいテキストはgitignore内に入れるべき  \n",
    ".DS_Storeも個人情報の保護的にgitignore内に入れるべき"
   ]
  },
  {
   "attachments": {},
   "cell_type": "markdown",
   "id": "072d1049",
   "metadata": {},
   "source": [
    "    pprintモジュール\n",
    "辞書の出力がきれいになる"
   ]
  },
  {
   "cell_type": "code",
   "execution_count": 88,
   "id": "6058dcc7",
   "metadata": {},
   "outputs": [
    {
     "name": "stdout",
     "output_type": "stream",
     "text": [
      "[{'Name': 'Alice XXX', 'Age': 40, 'Points': [80, 20]}, {'Name': 'Bob YYY', 'Age': 20, 'Points': [90, 10]}, {'Name': 'Charlie ZZZ', 'Age': 30, 'Points': [70, 30]}]\n",
      "[{'Age': 40, 'Name': 'Alice XXX', 'Points': [80, 20]},\n",
      " {'Age': 20, 'Name': 'Bob YYY', 'Points': [90, 10]},\n",
      " {'Age': 30, 'Name': 'Charlie ZZZ', 'Points': [70, 30]}]\n"
     ]
    }
   ],
   "source": [
    "from pprint import pprint\n",
    "alist = [{'Name': 'Alice XXX', 'Age': 40, 'Points': [80, 20]}, \n",
    "     {'Name': 'Bob YYY', 'Age': 20, 'Points': [90, 10]},\n",
    "     {'Name': 'Charlie ZZZ', 'Age': 30, 'Points': [70, 30]}]\n",
    "print(alist)\n",
    "pprint(alist)"
   ]
  },
  {
   "attachments": {},
   "cell_type": "markdown",
   "id": "81daf6c2",
   "metadata": {},
   "source": [
    "    pythonの名前の付け方の慣例\n",
    "変数名：スネークケース（アンダーバーでつなぐ） 例、kiso_info  \n",
    "クラス名：キャメルケース（大文字でつなぐ） 例、KisoInfo  \n",
    "定数：全部大文字　例、PI   \n",
    "できるだけ日本語名ではなく、英語名にする"
   ]
  },
  {
   "attachments": {},
   "cell_type": "markdown",
   "id": "04d11117",
   "metadata": {},
   "source": [
    "    かっこで囲みたいけどグループ化しなくていい場合\n",
    "(?:文字列)  \n",
    "とすると()で囲んで一回以上とかはするけどグループ化はしないということができる"
   ]
  },
  {
   "cell_type": "code",
   "execution_count": 86,
   "id": "ed226a69",
   "metadata": {},
   "outputs": [
    {
     "name": "stdout",
     "output_type": "stream",
     "text": [
      "<re.Match object; span=(0, 8), match='abcbcbcd'>\n",
      "<re.Match object; span=(0, 8), match='abcbcbcd'>\n"
     ]
    }
   ],
   "source": [
    "import re\n",
    "pattern  = r'a(bc)*d'\n",
    "pattern2 = r'a(?:bc)*d'\n",
    "text = 'abcbcbcd'\n",
    "print(re.match(pattern, text))\n",
    "print(re.match(pattern2, text))"
   ]
  },
  {
   "attachments": {},
   "cell_type": "markdown",
   "id": "1c8b8f97",
   "metadata": {},
   "source": [
    "    正規表現で\\1を使って同じ回数のものを指定する\n",
    "\"\"text\"\"  \n",
    "\"\"\"text\"\"\"  \n",
    "\"\"\"\"text\"\"\"\"  \n",
    "にマッチさせてtextを取り出す"
   ]
  },
  {
   "cell_type": "code",
   "execution_count": 93,
   "id": "57f628ea",
   "metadata": {},
   "outputs": [
    {
     "name": "stdout",
     "output_type": "stream",
     "text": [
      "ああ\n"
     ]
    }
   ],
   "source": [
    "pattern = r'(\"{2,4})(.*)\\1'\n",
    "print(re.match(pattern, '\"\"ああ\"\"').group(2))"
   ]
  }
 ],
 "metadata": {
  "kernelspec": {
   "display_name": "base",
   "language": "python",
   "name": "python3"
  },
  "language_info": {
   "codemirror_mode": {
    "name": "ipython",
    "version": 3
   },
   "file_extension": ".py",
   "mimetype": "text/x-python",
   "name": "python",
   "nbconvert_exporter": "python",
   "pygments_lexer": "ipython3",
   "version": "3.9.13"
  },
  "vscode": {
   "interpreter": {
    "hash": "315f8fb80bb7b3d98b77ee53c1a6863259122a42c804bc6c0b8b02e9989b0921"
   }
  }
 },
 "nbformat": 4,
 "nbformat_minor": 5
}

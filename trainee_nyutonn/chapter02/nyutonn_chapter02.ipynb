{
 "cells": [
  {
   "cell_type": "markdown",
   "id": "fad7f5c2",
   "metadata": {},
   "source": [
    "<h2 id=\"10-行数のカウント\">10. 行数のカウント</h2>\n",
    "<p>行数をカウントせよ．確認にはwcコマンドを用いよ．</p>\n"
   ]
  },
  {
   "attachments": {},
   "cell_type": "markdown",
   "id": "576e8e24",
   "metadata": {},
   "source": [
    "ターミナルでは\n",
    "\n",
    "    wc -l パス\n",
    "\n",
    "を実行すると行数（改行の数）がわかる.(Word Count)"
   ]
  },
  {
   "attachments": {},
   "cell_type": "markdown",
   "id": "16feb1a2",
   "metadata": {},
   "source": [
    "コードでターミナルを実行したいときには先頭に「！」をつける"
   ]
  },
  {
   "cell_type": "code",
   "execution_count": 2,
   "id": "258f67d0",
   "metadata": {},
   "outputs": [
    {
     "name": "stdout",
     "output_type": "stream",
     "text": [
      "\u001b[34mdata\u001b[m\u001b[m                    xaa                     xae\n",
      "nyutonn_chapter02.ipynb xab                     xaf\n",
      "\u001b[34msrc\u001b[m\u001b[m                     xac\n",
      "\u001b[34mwork\u001b[m\u001b[m                    xad\n"
     ]
    }
   ],
   "source": [
    "!ls"
   ]
  },
  {
   "cell_type": "code",
   "execution_count": 3,
   "id": "f49456af",
   "metadata": {},
   "outputs": [
    {
     "name": "stdout",
     "output_type": "stream",
     "text": [
      "2780\n"
     ]
    }
   ],
   "source": [
    "# 全文読み込んで改行の数を数える（あんまりよくない）\n",
    "f = open('data/popular-names.txt')\n",
    "data = f.read()\n",
    "cnt = 1 # 最後には改行がないので1足しておく\n",
    "for c in data:\n",
    "    if c == '\\n':\n",
    "        cnt += 1\n",
    "print(cnt)\n",
    "f.close()"
   ]
  },
  {
   "attachments": {},
   "cell_type": "markdown",
   "id": "3019e639",
   "metadata": {},
   "source": [
    "file.read(), readlines\n",
    "\n",
    "はすべてを一度に展開するのであまり良くない。超大きいファイルだとその時点で壊れてしまう\n",
    "\n",
    "→for文を用いて1行ずつ読むと大きいファイルでも実行自体はできるので優秀"
   ]
  },
  {
   "cell_type": "code",
   "execution_count": 4,
   "id": "fe3d1eb8",
   "metadata": {},
   "outputs": [
    {
     "name": "stdout",
     "output_type": "stream",
     "text": [
      "2780\n"
     ]
    }
   ],
   "source": [
    "# 1文ずつ読み込むパターン（あんまりよくない）\n",
    "f = open('data/popular-names.txt')\n",
    "data = f.readlines()\n",
    "print(len(data))\n",
    "f.close()"
   ]
  },
  {
   "attachments": {},
   "cell_type": "markdown",
   "id": "59066cd1",
   "metadata": {},
   "source": [
    "    with open() as f:\n",
    "\n",
    "\n",
    "を用いると最後にf.close()をしてくれる"
   ]
  },
  {
   "attachments": {},
   "cell_type": "markdown",
   "id": "d2b23f78",
   "metadata": {},
   "source": [
    "fをそのままfor文にぶちこむと1行ずつ入れてくれる"
   ]
  },
  {
   "attachments": {},
   "cell_type": "markdown",
   "id": "886e0df2",
   "metadata": {},
   "source": [
    "for文の中身に興味がないときは変数名を_にする"
   ]
  },
  {
   "cell_type": "code",
   "execution_count": 5,
   "id": "b4b5ca06",
   "metadata": {},
   "outputs": [
    {
     "name": "stdout",
     "output_type": "stream",
     "text": [
      "2780\n"
     ]
    }
   ],
   "source": [
    "# with文を用いる\n",
    "with open('data/popular-names.txt') as f:\n",
    "    cnt = 0\n",
    "    for _ in f:\n",
    "        cnt += 1\n",
    "    print(cnt) "
   ]
  },
  {
   "cell_type": "code",
   "execution_count": 6,
   "id": "fb1549bf",
   "metadata": {},
   "outputs": [
    {
     "name": "stdout",
     "output_type": "stream",
     "text": [
      "    2779 ./data/popular-names.txt\n"
     ]
    }
   ],
   "source": [
    "!wc -l ./data/popular-names.txt"
   ]
  },
  {
   "cell_type": "markdown",
   "id": "bc0446f0",
   "metadata": {},
   "source": [
    "<h2 id=\"11-タブをスペースに置換\">11. タブをスペースに置換</h2>\n",
    "<p>タブ1文字につきスペース1文字に置換せよ．確認にはsedコマンド，trコマンド，もしくはexpandコマンドを用いよ．</p>\n"
   ]
  },
  {
   "attachments": {},
   "cell_type": "markdown",
   "id": "e8c734cd",
   "metadata": {},
   "source": [
    "書き込み用でファイルを開くときは\n",
    "open('パス', 'w')\n",
    "とする"
   ]
  },
  {
   "cell_type": "code",
   "execution_count": 7,
   "id": "86675211",
   "metadata": {},
   "outputs": [],
   "source": [
    "# textに全文読み出してから\\tの数を数える\n",
    "with open('data/popular-names.txt') as f1:\n",
    "    text = list(f1.read())\n",
    "    cnt = 0\n",
    "    for i, c in enumerate(text):\n",
    "        if c == '\\t':\n",
    "            # cnt += 1\n",
    "            text[i] = ' '\n",
    "    # print(cnt)\n",
    "    text = \"\".join(text)\n",
    "    # print(text)\n",
    "\n",
    "    with open('work/11_ans.txt', 'w') as f2:\n",
    "        f2.write(text)\n",
    "\n"
   ]
  },
  {
   "cell_type": "code",
   "execution_count": 8,
   "id": "f5fa93df",
   "metadata": {},
   "outputs": [
    {
     "name": "stdout",
     "output_type": "stream",
     "text": [
      "Mary F 7065 1880\n",
      "Anna F 2604 1880\n",
      "Emma F 2003 1880\n",
      "Elizabeth F 1939 1880\n",
      "Minnie F 1746 1880\n",
      "Margaret F 1578 1880\n",
      "Ida F 1472 1880\n",
      "Alice F 1414 1880\n",
      "Bertha F 1320 1880\n",
      "Sarah F 1288 1880\n"
     ]
    }
   ],
   "source": [
    "# replace関数を使えばStrをリストにしなくてもできる\n",
    "from itertools import islice\n",
    "\n",
    "with open('data/popular-names.txt') as f1:\n",
    "    for line in islice(f1, 10):\n",
    "        line = line.replace('\\t', ' ')\n",
    "        print(line, end='')"
   ]
  },
  {
   "attachments": {},
   "cell_type": "markdown",
   "id": "ea0e8b86",
   "metadata": {},
   "source": [
    "ターミナルでは「tr」コマンドを用いる。trはtranslateの略。\n",
    "\n",
    "    tr '置換前' '置換後' < パス"
   ]
  },
  {
   "attachments": {},
   "cell_type": "markdown",
   "id": "03953984",
   "metadata": {},
   "source": [
    "ターミナルでは後ろに「| head」をつけると先頭から10こだけ実行される\n",
    "\n",
    "「| tail」をつけると後ろから10こだけ実行される"
   ]
  },
  {
   "cell_type": "code",
   "execution_count": 9,
   "id": "cdf785cd",
   "metadata": {},
   "outputs": [
    {
     "name": "stdout",
     "output_type": "stream",
     "text": [
      "Mary F 7065 1880\n",
      "Anna F 2604 1880\n",
      "Emma F 2003 1880\n",
      "Elizabeth F 1939 1880\n",
      "Minnie F 1746 1880\n",
      "Margaret F 1578 1880\n",
      "Ida F 1472 1880\n",
      "Alice F 1414 1880\n",
      "Bertha F 1320 1880\n",
      "Sarah F 1288 1880\n",
      "tr: stdout: Broken pipe\n"
     ]
    }
   ],
   "source": [
    "!tr \"\\t\" \" \" < ./data/popular-names.txt | head"
   ]
  },
  {
   "cell_type": "code",
   "execution_count": 10,
   "id": "bff14b14",
   "metadata": {},
   "outputs": [
    {
     "name": "stdout",
     "output_type": "stream",
     "text": [
      "Liam M 19837 2018\n",
      "Noah M 18267 2018\n",
      "William M 14516 2018\n",
      "James M 13525 2018\n",
      "Oliver M 13389 2018\n",
      "Benjamin M 13381 2018\n",
      "Elijah M 12886 2018\n",
      "Lucas M 12585 2018\n",
      "Mason M 12435 2018\n",
      "Logan M 12352 2018"
     ]
    }
   ],
   "source": [
    "!tr \"\\t\" \" \" < ./data/popular-names.txt | tail"
   ]
  },
  {
   "attachments": {},
   "cell_type": "markdown",
   "id": "082ef7a3",
   "metadata": {},
   "source": [
    "「sed」コマンドでも行ける。stream editor\n",
    "\n",
    "正規表現を用いて置換をする\n",
    "\n",
    "以下は条件を満たすすべての箇所を置換\n",
    "\n",
    "    sed -e s/置換前/置換後/g < パス"
   ]
  },
  {
   "cell_type": "code",
   "execution_count": 11,
   "id": "4cbdabc8",
   "metadata": {},
   "outputs": [
    {
     "name": "stdout",
     "output_type": "stream",
     "text": [
      "Mary\tF\t7065\t1880\n",
      "Anna\tF\t2604\t1880\n",
      "Emma\tF\t2003\t1880\n",
      "Elizabeh\tF\t1939\t1880\n",
      "Minnie\tF\t1746\t1880\n",
      "Margare\tF\t1578\t1880\n",
      "Ida\tF\t1472\t1880\n",
      "Alice\tF\t1414\t1880\n",
      "Berha\tF\t1320\t1880\n",
      "Sarah\tF\t1288\t1880\n",
      "sed: stdout: Broken pipe\n"
     ]
    }
   ],
   "source": [
    "!sed -e s/\\t/\\/g < ./data/popular-names.txt | head"
   ]
  },
  {
   "cell_type": "markdown",
   "id": "744dce81",
   "metadata": {},
   "source": [
    "<h2 id=\"12-1列目をcol1txtに2列目をcol2txtに保存\">12. 1列目をcol1.txtに，2列目をcol2.txtに保存</h2>\n",
    "<p>各行の1列目だけを抜き出したものをcol1.txtに，2列目だけを抜き出したものをcol2.txtとしてファイルに保存せよ．確認にはcutコマンドを用いよ．</p>\n"
   ]
  },
  {
   "attachments": {},
   "cell_type": "markdown",
   "id": "3327db30",
   "metadata": {},
   "source": [
    "with文を複数のファイルで用いるときは大きい()で囲むとできる！\n",
    "\n",
    "\n",
    "with (open('パス1') as f1, open('パス2', 'w') as f2):"
   ]
  },
  {
   "attachments": {},
   "cell_type": "markdown",
   "id": "5f834b92",
   "metadata": {},
   "source": [
    "ターミナルではcutコマンドを用いる\n",
    "\n",
    "「-f n」でフィールド番号を指定して何個目を取り出すか指定する（インデックスは1から始まる）\n",
    "\n",
    "    cut -f n パス\n",
    "\n",
    "とするとn個目のデータを縦に取り出せる"
   ]
  },
  {
   "cell_type": "code",
   "execution_count": 12,
   "id": "6ffce53a",
   "metadata": {},
   "outputs": [],
   "source": [
    "with (open('data/popular-names.txt') as fr, \n",
    "      open('work/col1.txt', 'w') as fw1, \n",
    "      open('work/col2.txt', \"w\") as fw2): \n",
    "    for line in fr:\n",
    "        alist = line.split(\"\\t\")\n",
    "        fw1.write(alist[0] + '\\n')\n",
    "        fw2.write(alist[1] + '\\n')"
   ]
  },
  {
   "attachments": {},
   "cell_type": "markdown",
   "id": "c928094d",
   "metadata": {},
   "source": [
    "alistと書いてインデックス指定でもいいけどsplit関数を用いて文字列から要素を取るときはそれぞれに名前をつけるとわかりやすい"
   ]
  },
  {
   "cell_type": "code",
   "execution_count": 13,
   "id": "165ecd2e",
   "metadata": {},
   "outputs": [],
   "source": [
    "s = \"Yuto Man 21 Sendai\"\n",
    "name, gender, age, shi = s.split()\n",
    "# 「*」を用いて複数個省略することもできる\n",
    "name, *mid, shi = s.split()\n",
    "name, gender, *_ = s.split()"
   ]
  },
  {
   "cell_type": "code",
   "execution_count": 14,
   "id": "3fd89cc9",
   "metadata": {},
   "outputs": [
    {
     "name": "stdout",
     "output_type": "stream",
     "text": [
      "Mary\n",
      "Anna\n",
      "Emma\n",
      "Elizabeth\n",
      "Minnie\n",
      "Margaret\n",
      "Ida\n",
      "Alice\n",
      "Bertha\n",
      "Sarah\n"
     ]
    }
   ],
   "source": [
    "!cut -f 1 ./data/popular-names.txt | head"
   ]
  },
  {
   "cell_type": "code",
   "execution_count": 15,
   "id": "14f35c70",
   "metadata": {},
   "outputs": [
    {
     "name": "stdout",
     "output_type": "stream",
     "text": [
      "F\n",
      "F\n",
      "F\n",
      "F\n",
      "F\n",
      "F\n",
      "F\n",
      "F\n",
      "F\n",
      "F\n"
     ]
    }
   ],
   "source": [
    "!cut -f 2 ./data/popular-names.txt | head"
   ]
  },
  {
   "cell_type": "markdown",
   "id": "599a2cf3",
   "metadata": {},
   "source": [
    "<h2 id=\"13-col1txtとcol2txtをマージ\">13. col1.txtとcol2.txtをマージ</h2>\n",
    "<p>12で作ったcol1.txtとcol2.txtを結合し，元のファイルの1列目と2列目をタブ区切りで並べたテキストファイルを作成せよ．確認にはpasteコマンドを用いよ．</p>\n"
   ]
  },
  {
   "attachments": {},
   "cell_type": "markdown",
   "id": "e651b43a",
   "metadata": {},
   "source": [
    "ターミナルではpasteコマンドを用いる\n",
    "\n",
    "    paste パス1 パス2\n",
    "\n",
    "とするとタブ区切りで結合することができる"
   ]
  },
  {
   "attachments": {},
   "cell_type": "markdown",
   "id": "8e4bbc98",
   "metadata": {},
   "source": [
    "'文字列'.rstrip('文字')\n",
    "\n",
    "文字列の右にあるいらない文字を消せる\n",
    "\n",
    "文字列そのものが変化するわけではないことに注意！"
   ]
  },
  {
   "cell_type": "code",
   "execution_count": 16,
   "id": "5cf445f0",
   "metadata": {},
   "outputs": [
    {
     "name": "stdout",
     "output_type": "stream",
     "text": [
      "abced\n"
     ]
    }
   ],
   "source": [
    "test = 'abcedee'.rstrip('e')\n",
    "print(test)"
   ]
  },
  {
   "cell_type": "code",
   "execution_count": 17,
   "id": "e1c82912",
   "metadata": {},
   "outputs": [],
   "source": [
    "with (open('work/col1.txt') as fr1, \n",
    "      open('work/col2.txt') as fr2, \n",
    "      open('work/colMerge.txt', 'w') as fw):\n",
    "    for a, b in zip(fr1, fr2):\n",
    "        one = a.rstrip('\\n')\n",
    "        two = b.rstrip('\\n')\n",
    "        fw.write(one + '\\t' + two + '\\n')"
   ]
  },
  {
   "cell_type": "code",
   "execution_count": 18,
   "id": "c95a0728",
   "metadata": {},
   "outputs": [
    {
     "name": "stdout",
     "output_type": "stream",
     "text": [
      "Mary\tF\n",
      "Anna\tF\n",
      "Emma\tF\n",
      "Elizabeth\tF\n",
      "Minnie\tF\n",
      "Margaret\tF\n",
      "Ida\tF\n",
      "Alice\tF\n",
      "Bertha\tF\n",
      "Sarah\tF\n"
     ]
    }
   ],
   "source": [
    "!paste work/col1.txt work/col2.txt | head"
   ]
  },
  {
   "cell_type": "markdown",
   "id": "5a728dc1",
   "metadata": {},
   "source": [
    "<h2 id=\"14-先頭からn行を出力\">14. 先頭からN行を出力</h2>\n",
    "<p>自然数Nをコマンドライン引数などの手段で受け取り，入力のうち先頭のN行だけを表示せよ．確認にはheadコマンドを用いよ．</p>\n"
   ]
  },
  {
   "cell_type": "code",
   "execution_count": 28,
   "id": "4c6546ce",
   "metadata": {},
   "outputs": [
    {
     "name": "stdout",
     "output_type": "stream",
     "text": [
      "n = 10\n",
      "Mary\tF\t7065\t1880\n",
      "Anna\tF\t2604\t1880\n",
      "Emma\tF\t2003\t1880\n",
      "Elizabeth\tF\t1939\t1880\n",
      "Minnie\tF\t1746\t1880\n",
      "Margaret\tF\t1578\t1880\n",
      "Ida\tF\t1472\t1880\n",
      "Alice\tF\t1414\t1880\n",
      "Bertha\tF\t1320\t1880\n",
      "Sarah\tF\t1288\t1880\n"
     ]
    }
   ],
   "source": [
    "with open('data/popular-names.txt') as f:\n",
    "    n = int(input('自然数を入力：'))\n",
    "    print(f'n = {n}')\n",
    "    for i, s in enumerate(f):\n",
    "        print(s, end='') # txtファイルの改行とprint関数の改行が重なって気持ち悪いのでprint関数の改行を消した\n",
    "        if i+1 == n:\n",
    "            break"
   ]
  },
  {
   "attachments": {},
   "cell_type": "markdown",
   "id": "5e9b7774",
   "metadata": {},
   "source": [
    "ターミナルでは\n",
    "\n",
    "    head -n 数 パス\n",
    "\n",
    "    head パス\n",
    "\n",
    "\n",
    "とすると指定した行数文だけ出力することができる.-nのオプションを省略すると最初の10行の出力になる"
   ]
  },
  {
   "cell_type": "code",
   "execution_count": 29,
   "id": "39250fc1",
   "metadata": {},
   "outputs": [
    {
     "name": "stdout",
     "output_type": "stream",
     "text": [
      "Mary\tF\t7065\t1880\n",
      "Anna\tF\t2604\t1880\n"
     ]
    }
   ],
   "source": [
    "!head -n 2 ./data/popular-names.txt"
   ]
  },
  {
   "cell_type": "code",
   "execution_count": 30,
   "id": "a9160973",
   "metadata": {},
   "outputs": [
    {
     "name": "stdout",
     "output_type": "stream",
     "text": [
      "Mary\tF\t7065\t1880\n",
      "Anna\tF\t2604\t1880\n",
      "Emma\tF\t2003\t1880\n",
      "Elizabeth\tF\t1939\t1880\n",
      "Minnie\tF\t1746\t1880\n",
      "Margaret\tF\t1578\t1880\n",
      "Ida\tF\t1472\t1880\n",
      "Alice\tF\t1414\t1880\n",
      "Bertha\tF\t1320\t1880\n",
      "Sarah\tF\t1288\t1880\n"
     ]
    }
   ],
   "source": [
    "!head ./data/popular-names.txt"
   ]
  },
  {
   "attachments": {},
   "cell_type": "markdown",
   "id": "c4fc800a",
   "metadata": {},
   "source": [
    "itertoolsモジュールのislice関数を用いるとリストやファイルなどの指定した行数文だけ取り出すことができる\n",
    "\n",
    "from itertools import islice\n",
    "\n",
    "islice(list, int)\n",
    "\n",
    "リストのスライス記法と等価の書き方だが、ファイルでは有用"
   ]
  },
  {
   "cell_type": "code",
   "execution_count": 31,
   "id": "af8b3c68",
   "metadata": {},
   "outputs": [
    {
     "name": "stdout",
     "output_type": "stream",
     "text": [
      "0\n",
      "1\n",
      "2\n"
     ]
    }
   ],
   "source": [
    "from itertools import islice\n",
    "\n",
    "alist = [i for i in range(10000)]\n",
    "for i in islice(alist, 3): # ３行部分だけ\n",
    "    print(i)\n",
    "# for i in alist[:3]:\n",
    "#     print(i)"
   ]
  },
  {
   "attachments": {},
   "cell_type": "markdown",
   "id": "1bd4e0df",
   "metadata": {},
   "source": [
    "    argperseを用いる"
   ]
  },
  {
   "cell_type": "code",
   "execution_count": 9,
   "id": "e3f9566c",
   "metadata": {},
   "outputs": [
    {
     "name": "stdout",
     "output_type": "stream",
     "text": [
      "import argparse\n",
      "from itertools import islice\n",
      "parser = argparse.ArgumentParser(\n",
      "    add_help=True,\n",
      ")\n",
      "parser.add_argument('readfile', help='read mode file',\n",
      "                    type=argparse.FileType('r') # 読み込みモード\n",
      "                    )\n",
      "parser.add_argument('-n', help='行数の指定',\n",
      "                    type=int,\n",
      "                    default=10 # 指定しなかったら10行にする\n",
      "                    )\n",
      "args = parser.parse_args()\n",
      "for line in islice(args.readfile, args.n):\n",
      "    line = line.rstrip()\n",
      "    print(line)\n",
      "args.readfile.close()"
     ]
    }
   ],
   "source": [
    "!cat src/a.py"
   ]
  },
  {
   "cell_type": "code",
   "execution_count": 8,
   "id": "66a7a6c0",
   "metadata": {},
   "outputs": [
    {
     "name": "stdout",
     "output_type": "stream",
     "text": [
      "Mary\tF\t7065\t1880\n",
      "Anna\tF\t2604\t1880\n",
      "Emma\tF\t2003\t1880\n",
      "Elizabeth\tF\t1939\t1880\n",
      "Minnie\tF\t1746\t1880\n"
     ]
    }
   ],
   "source": [
    "!python ./src/a.py ./data/popular-names.txt -n5"
   ]
  },
  {
   "cell_type": "markdown",
   "id": "98ed31c5",
   "metadata": {},
   "source": [
    "<h2 id=\"15-末尾のn行を出力\">15. 末尾のN行を出力</h2>\n",
    "<p>自然数Nをコマンドライン引数などの手段で受け取り，入力のうち末尾のN行だけを表示せよ．確認にはtailコマンドを用いよ．</p>\n"
   ]
  },
  {
   "cell_type": "code",
   "execution_count": 39,
   "id": "9baed497",
   "metadata": {},
   "outputs": [
    {
     "name": "stdout",
     "output_type": "stream",
     "text": [
      "n = 4\n",
      "Elijah\tM\t12886\t2018\n",
      "Lucas\tM\t12585\t2018\n",
      "Mason\tM\t12435\t2018\n",
      "Logan\tM\t12352\t2018"
     ]
    }
   ],
   "source": [
    "with open('data/popular-names.txt') as f:\n",
    "    n = int(input('自然数を入力：'))\n",
    "    print(f'n = {n}')\n",
    "    alist = list(f)\n",
    "    for i, s in enumerate(alist[-n:]): # 後ろから数えてn番目から始めれば良い\n",
    "        print(s, end='') # txtファイルの改行とprint関数の改行が重なって気持ち悪いのでprint関数の改行を消した\n",
    "        # if i == n:\n",
    "        #     break"
   ]
  },
  {
   "attachments": {},
   "cell_type": "markdown",
   "id": "a8907955",
   "metadata": {},
   "source": [
    "Linuxコマンドでは\n",
    "\n",
    "    tail -n 数 パス\n",
    "\n",
    "    tail パス\n",
    "\n",
    "で末尾から指定した行数文だけ出力することができる。省略したら10行になる。"
   ]
  },
  {
   "cell_type": "code",
   "execution_count": 34,
   "id": "f625c5d8",
   "metadata": {},
   "outputs": [
    {
     "name": "stdout",
     "output_type": "stream",
     "text": [
      "Mason\tM\t12435\t2018\n",
      "Logan\tM\t12352\t2018"
     ]
    }
   ],
   "source": [
    "!tail -n 2 ./data/popular-names.txt"
   ]
  },
  {
   "cell_type": "code",
   "execution_count": 35,
   "id": "ea619c43",
   "metadata": {},
   "outputs": [
    {
     "name": "stdout",
     "output_type": "stream",
     "text": [
      "Liam\tM\t19837\t2018\n",
      "Noah\tM\t18267\t2018\n",
      "William\tM\t14516\t2018\n",
      "James\tM\t13525\t2018\n",
      "Oliver\tM\t13389\t2018\n",
      "Benjamin\tM\t13381\t2018\n",
      "Elijah\tM\t12886\t2018\n",
      "Lucas\tM\t12585\t2018\n",
      "Mason\tM\t12435\t2018\n",
      "Logan\tM\t12352\t2018"
     ]
    }
   ],
   "source": [
    "!tail data/popular-names.txt"
   ]
  },
  {
   "cell_type": "code",
   "execution_count": null,
   "id": "37d56d71",
   "metadata": {},
   "outputs": [],
   "source": [
    "# dequeを使ってみる\n",
    "from collections import deque\n",
    "\n"
   ]
  },
  {
   "cell_type": "markdown",
   "id": "2172cab6",
   "metadata": {},
   "source": [
    "<h2 id=\"16-ファイルをn分割する\">16. ファイルをN分割する</h2>\n",
    "<p>自然数Nをコマンドライン引数などの手段で受け取り，入力のファイルを行単位でN分割せよ．同様の処理をsplitコマンドで実現せよ．</p>\n"
   ]
  },
  {
   "cell_type": "code",
   "execution_count": 41,
   "id": "996b117f",
   "metadata": {},
   "outputs": [],
   "source": [
    "with open('data/popular-names.txt') as f:\n",
    "    n = int(input('n : '))\n",
    "    file_len = 0\n",
    "    # ファイルの行数を計算\n",
    "    for _ in open('data/popular-names.txt'): \n",
    "        file_len += 1\n",
    "    # 書き込みファイルをn個開く\n",
    "    fwrite_list = []\n",
    "    for i in range(1, n+1):\n",
    "        fwrite_list.append(open(f'data/split{i}.txt', 'w'))\n",
    "    # ファイルに書き込む\n",
    "    now_file = 0\n",
    "    for i, s in enumerate(f):\n",
    "        if i < file_len * (now_file + 1) // n:\n",
    "            fwrite_list[now_file].write(s)\n",
    "        elif i == file_len * (now_file + 1) // n:\n",
    "            # 割り切れないときは次のファイルに書き込む\n",
    "            if now_file + 1 != n:\n",
    "                fwrite_list[now_file + 1].write(s)\n",
    "            # 割り切れたときは現在のファイルに書き込む\n",
    "            else:\n",
    "                fwrite_list[now_file].write(s)\n",
    "            now_file += 1\n",
    "    # ファイルを閉じる\n",
    "    for i in range(n):\n",
    "        fwrite_list[i].close()"
   ]
  },
  {
   "attachments": {},
   "cell_type": "markdown",
   "id": "a52f668f",
   "metadata": {},
   "source": [
    "Linuxコマンドでは\n",
    "\n",
    "    split -n 数 パス\n",
    "    \n",
    "で1つのファイルをn分割できる\n",
    "\n",
    "「-l 数」とすると指定した行数ごとの分割ができる"
   ]
  },
  {
   "cell_type": "code",
   "execution_count": 27,
   "id": "3efbcb4b",
   "metadata": {},
   "outputs": [],
   "source": [
    "!split -n 6 ./data/popular-names.txt"
   ]
  },
  {
   "attachments": {},
   "cell_type": "markdown",
   "id": "5f46a855",
   "metadata": {},
   "source": [
    "Linuxコマンドで\n",
    "\n",
    "    python ファイルのパス\n",
    "\n",
    "とするとPythonファイルをコマンドラインから実行できる。\n",
    "\n",
    "    cat Pythonファイルのパス\n",
    "\n",
    "とするとPythonファイルをコマンドラインから開ける。"
   ]
  },
  {
   "cell_type": "code",
   "execution_count": 79,
   "id": "476bb359",
   "metadata": {},
   "outputs": [
    {
     "name": "stdout",
     "output_type": "stream",
     "text": [
      "# catの練習\n",
      "print(\"HELLO, WORLD\")"
     ]
    }
   ],
   "source": [
    "!cat ./src/a.py"
   ]
  },
  {
   "cell_type": "code",
   "execution_count": 80,
   "id": "2b261604",
   "metadata": {},
   "outputs": [
    {
     "name": "stdout",
     "output_type": "stream",
     "text": [
      "HELLO, WORLD\n"
     ]
    }
   ],
   "source": [
    "!python ./src/a.py"
   ]
  },
  {
   "cell_type": "code",
   "execution_count": 71,
   "id": "0cae5804",
   "metadata": {},
   "outputs": [
    {
     "name": "stdout",
     "output_type": "stream",
     "text": [
      "0    1\n",
      "1    2\n",
      "2    3\n",
      "3    4\n",
      "4    5\n",
      "dtype: int64\n"
     ]
    }
   ],
   "source": [
    "import pandas as pd\n",
    "\n",
    "serries1 = pd.Series([1, 2, 3, 4 ,5])\n",
    "print(serries1)"
   ]
  },
  {
   "cell_type": "markdown",
   "id": "7838e3b7",
   "metadata": {},
   "source": [
    "<h2 id=\"17-１列目の文字列の異なり\">17. １列目の文字列の異なり</h2>\n",
    "<p>1列目の文字列の種類（異なる文字列の集合）を求めよ．確認にはcut, sort, uniqコマンドを用いよ．</p>\n"
   ]
  },
  {
   "attachments": {},
   "cell_type": "markdown",
   "id": "688c47a1",
   "metadata": {},
   "source": [
    "集合に要素を追加するときには「集合名.add(値)」とする"
   ]
  },
  {
   "cell_type": "code",
   "execution_count": 24,
   "id": "218f2665",
   "metadata": {},
   "outputs": [
    {
     "name": "stdout",
     "output_type": "stream",
     "text": [
      "{1, 2, 3, 4}\n"
     ]
    }
   ],
   "source": [
    "s = {1, 2, 3}\n",
    "s.add(4)\n",
    "print(s)"
   ]
  },
  {
   "cell_type": "code",
   "execution_count": 43,
   "id": "b52b72cd",
   "metadata": {},
   "outputs": [
    {
     "name": "stdout",
     "output_type": "stream",
     "text": [
      "['Abigail', 'Aiden', 'Alexander', 'Alexis', 'Alice', 'Amanda', 'Amelia', 'Amy', 'Andrew', 'Angela', 'Anna', 'Annie', 'Anthony', 'Ashley', 'Austin', 'Ava', 'Barbara', 'Benjamin', 'Bertha', 'Bessie', 'Betty', 'Brandon', 'Brian', 'Brittany', 'Carol', 'Carolyn', 'Charles', 'Charlotte', 'Chloe', 'Christopher', 'Clara', 'Crystal', 'Cynthia', 'Daniel', 'David', 'Deborah', 'Debra', 'Donald', 'Donna', 'Doris', 'Dorothy', 'Edward', 'Elijah', 'Elizabeth', 'Emily', 'Emma', 'Ethan', 'Ethel', 'Evelyn', 'Florence', 'Frances', 'Frank', 'Gary', 'George', 'Hannah', 'Harper', 'Harry', 'Heather', 'Helen', 'Henry', 'Ida', 'Isabella', 'Jacob', 'James', 'Jason', 'Jayden', 'Jeffrey', 'Jennifer', 'Jessica', 'Joan', 'John', 'Joseph', 'Joshua', 'Judith', 'Julie', 'Justin', 'Karen', 'Kathleen', 'Kelly', 'Kimberly', 'Larry', 'Laura', 'Lauren', 'Liam', 'Lillian', 'Linda', 'Lisa', 'Logan', 'Lori', 'Lucas', 'Madison', 'Margaret', 'Marie', 'Mark', 'Mary', 'Mason', 'Matthew', 'Megan', 'Melissa', 'Mia', 'Michael', 'Michelle', 'Mildred', 'Minnie', 'Nancy', 'Nicholas', 'Nicole', 'Noah', 'Oliver', 'Olivia', 'Pamela', 'Patricia', 'Rachel', 'Rebecca', 'Richard', 'Robert', 'Ronald', 'Ruth', 'Samantha', 'Sandra', 'Sarah', 'Scott', 'Sharon', 'Shirley', 'Sophia', 'Stephanie', 'Steven', 'Susan', 'Tammy', 'Taylor', 'Thomas', 'Tracy', 'Tyler', 'Virginia', 'Walter', 'William']\n"
     ]
    }
   ],
   "source": [
    "with open('data/popular-names.txt') as f:\n",
    "    ans = set()\n",
    "    for s in f:\n",
    "        name, *_ = s.split()\n",
    "        ans.add(name)\n",
    "    # 集合をsortedするとリストが出てくる\n",
    "    print(sorted(ans))\n",
    "        "
   ]
  },
  {
   "attachments": {},
   "cell_type": "markdown",
   "id": "1bd3019f",
   "metadata": {},
   "source": [
    "Linuxコマンドではソートはsort、重複を排除するのはuniqとなっているがuniqの前には必ずsortしなければいけない"
   ]
  },
  {
   "attachments": {},
   "cell_type": "markdown",
   "id": "0d4a1f35",
   "metadata": {},
   "source": [
    "Linuxコマンドを複数用いるときには「|」で区切って左から右に書く\n",
    "\n",
    "    cut -f 1 パス | sort | uniq | head"
   ]
  },
  {
   "cell_type": "code",
   "execution_count": 36,
   "id": "d85d6b14",
   "metadata": {},
   "outputs": [
    {
     "name": "stdout",
     "output_type": "stream",
     "text": [
      "Abigail\n",
      "Aiden\n",
      "Alexander\n",
      "Alexis\n",
      "Alice\n",
      "Amanda\n",
      "Amelia\n",
      "Amy\n",
      "Andrew\n",
      "Angela\n"
     ]
    }
   ],
   "source": [
    "!cut -f 1 data/popular-names.txt | sort | uniq | head"
   ]
  },
  {
   "cell_type": "markdown",
   "id": "14044ffd",
   "metadata": {},
   "source": [
    "<h2 id=\"18-各行を3コラム目の数値の降順にソート\">18. 各行を3コラム目の数値の降順にソート</h2>\n",
    "<p>各行を3コラム目の数値の逆順で整列せよ（注意: 各行の内容は変更せずに並び替えよ）．確認にはsortコマンドを用いよ（この問題はコマンドで実行した時の結果と合わなくてもよい）．</p>\n"
   ]
  },
  {
   "attachments": {},
   "cell_type": "markdown",
   "id": "8c7b61bd",
   "metadata": {},
   "source": [
    "2次元リストをソートする際にi番目を基準にしたいときは\n",
    "       alist.sort(key=lambda x:x[i])"
   ]
  },
  {
   "cell_type": "code",
   "execution_count": 38,
   "id": "0631c86e",
   "metadata": {},
   "outputs": [
    {
     "name": "stdout",
     "output_type": "stream",
     "text": [
      "['Linda', 'F', 99689, '1947']\n",
      "['Linda', 'F', 96211, '1948']\n",
      "['James', 'M', 94757, '1947']\n",
      "['Michael', 'M', 92704, '1957']\n",
      "['Robert', 'M', 91640, '1947']\n",
      "['Linda', 'F', 91016, '1949']\n",
      "['Michael', 'M', 90656, '1956']\n",
      "['Michael', 'M', 90517, '1958']\n",
      "['James', 'M', 88584, '1948']\n",
      "['Michael', 'M', 88528, '1954']\n"
     ]
    }
   ],
   "source": [
    "from itertools import islice\n",
    "\n",
    "with open('data/popular-names.txt') as f:\n",
    "    alist = []\n",
    "    # リストの内部を変更するのでインデックスが必要\n",
    "    for i, s in enumerate(f):\n",
    "        alist.append(str.split(s))\n",
    "        alist[i][2] = int(alist[i][2]) # あとでソートするのでint型にする\n",
    "    alist.sort(reverse=True, key=lambda x: x[2])\n",
    "    for a in islice(alist, 10): # 先頭から10こだけ表示\n",
    "        print(a)"
   ]
  },
  {
   "attachments": {},
   "cell_type": "markdown",
   "id": "63631c5d",
   "metadata": {},
   "source": [
    "ラムダ式、無名関数（lambda）とは\n",
    "\n",
    "    変数 = lambda 引数 : 返り値\n",
    "\n",
    "引数を指定すると返り値が来る変数を関数にするようなもの"
   ]
  },
  {
   "cell_type": "code",
   "execution_count": 47,
   "id": "01a721ea",
   "metadata": {},
   "outputs": [
    {
     "name": "stdout",
     "output_type": "stream",
     "text": [
      "100\n"
     ]
    }
   ],
   "source": [
    "a = lambda x : x ** 2\n",
    "print(a(10))"
   ]
  },
  {
   "attachments": {},
   "cell_type": "markdown",
   "id": "239c38cc",
   "metadata": {},
   "source": [
    "Linuxコマンドのsortでは\n",
    "\n",
    "[-k 数]でソートする場所\n",
    "\n",
    "[-r]で逆順ソート\n",
    "\n",
    "[-n]で数字をint型へ\n",
    "\n",
    "    sort -k 数 -r -n パス"
   ]
  },
  {
   "cell_type": "code",
   "execution_count": 43,
   "id": "fbeb9055",
   "metadata": {},
   "outputs": [
    {
     "name": "stdout",
     "output_type": "stream",
     "text": [
      "Linda\tF\t99689\t1947\n",
      "Linda\tF\t96211\t1948\n",
      "James\tM\t94757\t1947\n",
      "Michael\tM\t92704\t1957\n",
      "Robert\tM\t91640\t1947\n",
      "Linda\tF\t91016\t1949\n",
      "Michael\tM\t90656\t1956\n",
      "Michael\tM\t90517\t1958\n",
      "James\tM\t88584\t1948\n",
      "Michael\tM\t88528\t1954\n",
      "sort: Broken pipe\n"
     ]
    }
   ],
   "source": [
    "!sort -k 3 -r -n data/popular-names.txt | head"
   ]
  },
  {
   "cell_type": "markdown",
   "id": "63be1daa",
   "metadata": {},
   "source": [
    "<h2 id=\"19-各行の1コラム目の文字列の出現頻度を求め出現頻度の高い順に並べる\">19. 各行の1コラム目の文字列の出現頻度を求め，出現頻度の高い順に並べる</h2>\n",
    "<p>各行の1列目の文字列の出現頻度を求め，その高い順に並べて表示せよ．確認にはcut, uniq, sortコマンドを用いよ．</p>\n"
   ]
  },
  {
   "cell_type": "code",
   "execution_count": 51,
   "id": "895fa101",
   "metadata": {},
   "outputs": [
    {
     "name": "stdout",
     "output_type": "stream",
     "text": [
      "('James', 118)\n",
      "('William', 111)\n",
      "('John', 108)\n",
      "('Robert', 108)\n",
      "('Mary', 92)\n",
      "('Charles', 75)\n",
      "('Michael', 74)\n",
      "('Elizabeth', 73)\n",
      "('Joseph', 70)\n",
      "('Margaret', 60)\n"
     ]
    }
   ],
   "source": [
    "from itertools import islice\n",
    "\n",
    "with open('data/popular-names.txt') as f:\n",
    "    nameDict = {}\n",
    "    for s in f:\n",
    "        aline = str.split(s)\n",
    "        if aline[0] in nameDict:\n",
    "            nameDict[aline[0]] += 1\n",
    "        else:\n",
    "            nameDict[aline[0]] = 1\n",
    "    # 辞書のvalueでソートする\n",
    "    sortList = sorted(nameDict.items(), reverse=True, key=lambda x:x[1])\n",
    "    for sd in islice(sortList, 10):\n",
    "        print(sd)"
   ]
  },
  {
   "attachments": {},
   "cell_type": "markdown",
   "id": "678fec04",
   "metadata": {},
   "source": [
    "Linuxコマンドでは\n",
    "\n",
    "    uniq -c パス\n",
    "\n",
    "でソートから重複を排除するときに、それぞれの数を数えてくれる"
   ]
  },
  {
   "attachments": {},
   "cell_type": "markdown",
   "id": "bd79d7d0",
   "metadata": {},
   "source": [
    "Linuxコマンドで複数のオプションを付けるときは先頭のみにハイフンをつけるだけで良い\n",
    "\n",
    "    sort -r -n -k 1\n",
    "\n",
    "    sort -rnk1"
   ]
  },
  {
   "cell_type": "code",
   "execution_count": 53,
   "id": "2dab12b6",
   "metadata": {},
   "outputs": [
    {
     "name": "stdout",
     "output_type": "stream",
     "text": [
      " 118 James\n",
      " 111 William\n",
      " 108 Robert\n",
      " 108 John\n",
      "  92 Mary\n",
      "  75 Charles\n",
      "  74 Michael\n",
      "  73 Elizabeth\n",
      "  70 Joseph\n",
      "  60 Margaret\n"
     ]
    }
   ],
   "source": [
    "!cut -f 1 data/popular-names.txt | sort | uniq -c | sort -rnk 1 | head"
   ]
  },
  {
   "attachments": {},
   "cell_type": "markdown",
   "id": "e0efc5b8",
   "metadata": {},
   "source": [
    "collectionsのCounter関数が便利！\n",
    "\n",
    "    変数 = Counter(リスト)\n",
    "    \n",
    "で重複した数を数えてくれる辞書が作れる\n",
    "\n",
    "・アクセスするときも辞書と同じで「変数[\"キー\"]」でよい\n",
    "\n",
    "・変数.keys()、変数.values()、変数.items（)も使える！\n",
    "\n",
    "・変数.most_common()とすると（要素, 出現回数)のタプルのリストが返ってくる"
   ]
  },
  {
   "cell_type": "code",
   "execution_count": 67,
   "id": "63ee77d0",
   "metadata": {},
   "outputs": [
    {
     "name": "stdout",
     "output_type": "stream",
     "text": [
      "Counter({4: 22, 1: 19, 2: 17, 5: 16, 6: 14, 3: 12})\n",
      "17\n",
      "[(4, 22), (1, 19), (2, 17), (5, 16), (6, 14), (3, 12)]\n"
     ]
    }
   ],
   "source": [
    "from collections import Counter\n",
    "import random\n",
    "\n",
    "alist = [random.randint(1, 6) for i in range(100)]\n",
    "c = Counter(alist)\n",
    "print(c)\n",
    "print(c[2])\n",
    "print(c.most_common())"
   ]
  },
  {
   "attachments": {},
   "cell_type": "markdown",
   "id": "4a26b62c",
   "metadata": {},
   "source": [
    "collectionsのdefaultdictを用いると初期化の処理をしなくてもいいので楽！"
   ]
  },
  {
   "cell_type": "code",
   "execution_count": 60,
   "id": "1103727d",
   "metadata": {},
   "outputs": [
    {
     "name": "stdout",
     "output_type": "stream",
     "text": [
      "[('James', 118), ('William', 111), ('John', 108), ('Robert', 108), ('Mary', 92), ('Charles', 75), ('Michael', 74), ('Elizabeth', 73), ('Joseph', 70), ('Margaret', 60), ('George', 58), ('Thomas', 58), ('David', 57), ('Richard', 51), ('Helen', 45), ('Frank', 43), ('Christopher', 43), ('Anna', 41), ('Edward', 40), ('Ruth', 39), ('Patricia', 38), ('Matthew', 37), ('Dorothy', 36), ('Emma', 35), ('Barbara', 32), ('Daniel', 31), ('Joshua', 31), ('Sarah', 26), ('Linda', 26), ('Jennifer', 26), ('Emily', 26), ('Jessica', 25), ('Jacob', 25), ('Mildred', 24), ('Betty', 24), ('Susan', 24), ('Henry', 23), ('Ashley', 23), ('Nancy', 22), ('Andrew', 21), ('Florence', 20), ('Marie', 20), ('Donald', 20), ('Amanda', 20), ('Samantha', 19), ('Karen', 18), ('Lisa', 18), ('Melissa', 18), ('Madison', 18), ('Olivia', 18), ('Stephanie', 17), ('Abigail', 17), ('Ethel', 16), ('Sandra', 16), ('Mark', 16), ('Frances', 15), ('Carol', 15), ('Angela', 15), ('Michelle', 15), ('Heather', 15), ('Ethan', 15), ('Isabella', 15), ('Shirley', 14), ('Kimberly', 14), ('Amy', 14), ('Ava', 14), ('Virginia', 13), ('Deborah', 13), ('Brian', 13), ('Jason', 13), ('Nicole', 13), ('Hannah', 13), ('Sophia', 13), ('Minnie', 12), ('Bertha', 12), ('Donna', 12), ('Cynthia', 11), ('Alice', 10), ('Doris', 10), ('Ronald', 10), ('Brittany', 10), ('Nicholas', 10), ('Mia', 10), ('Noah', 10), ('Joan', 9), ('Debra', 9), ('Tyler', 9), ('Ida', 8), ('Clara', 8), ('Judith', 8), ('Taylor', 8), ('Alexis', 8), ('Alexander', 8), ('Mason', 8), ('Harry', 7), ('Sharon', 7), ('Steven', 7), ('Tammy', 7), ('Brandon', 7), ('Liam', 7), ('Anthony', 6), ('Annie', 5), ('Gary', 5), ('Jeffrey', 5), ('Jayden', 5), ('Charlotte', 5), ('Lillian', 4), ('Kathleen', 4), ('Justin', 4), ('Austin', 4), ('Chloe', 4), ('Benjamin', 4), ('Evelyn', 3), ('Megan', 3), ('Aiden', 3), ('Harper', 3), ('Elijah', 3), ('Bessie', 2), ('Larry', 2), ('Rebecca', 2), ('Lauren', 2), ('Amelia', 2), ('Logan', 2), ('Oliver', 2), ('Walter', 1), ('Carolyn', 1), ('Pamela', 1), ('Lori', 1), ('Laura', 1), ('Tracy', 1), ('Julie', 1), ('Scott', 1), ('Kelly', 1), ('Crystal', 1), ('Rachel', 1), ('Lucas', 1)]\n"
     ]
    }
   ],
   "source": [
    "from collections import defaultdict\n",
    "\n",
    "with open(\"data/popular-names.txt\") as f:\n",
    "    names = defaultdict(int)\n",
    "    for line in f:\n",
    "        name, *_ = str.split(line)\n",
    "        names[name] += 1\n",
    "    name_list = sorted(names.items(), key = lambda x : x[1], reverse=True)\n",
    "    print(name_list)"
   ]
  }
 ],
 "metadata": {
  "kernelspec": {
   "display_name": "base",
   "language": "python",
   "name": "python3"
  },
  "language_info": {
   "codemirror_mode": {
    "name": "ipython",
    "version": 3
   },
   "file_extension": ".py",
   "mimetype": "text/x-python",
   "name": "python",
   "nbconvert_exporter": "python",
   "pygments_lexer": "ipython3",
   "version": "3.9.13"
  },
  "vscode": {
   "interpreter": {
    "hash": "315f8fb80bb7b3d98b77ee53c1a6863259122a42c804bc6c0b8b02e9989b0921"
   }
  }
 },
 "nbformat": 4,
 "nbformat_minor": 5
}

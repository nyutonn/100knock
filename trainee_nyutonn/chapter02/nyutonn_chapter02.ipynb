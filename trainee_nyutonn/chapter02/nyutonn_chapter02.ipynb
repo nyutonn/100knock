{
 "cells": [
  {
   "cell_type": "markdown",
   "id": "fad7f5c2",
   "metadata": {},
   "source": [
    "<h2 id=\"10-行数のカウント\">10. 行数のカウント</h2>\n",
    "<p>行数をカウントせよ．確認にはwcコマンドを用いよ．</p>\n"
   ]
  },
  {
   "cell_type": "code",
   "execution_count": null,
   "id": "f49456af",
   "metadata": {},
   "outputs": [],
   "source": []
  },
  {
   "cell_type": "markdown",
   "id": "bc0446f0",
   "metadata": {},
   "source": [
    "<h2 id=\"11-タブをスペースに置換\">11. タブをスペースに置換</h2>\n",
    "<p>タブ1文字につきスペース1文字に置換せよ．確認にはsedコマンド，trコマンド，もしくはexpandコマンドを用いよ．</p>\n"
   ]
  },
  {
   "cell_type": "code",
   "execution_count": null,
   "id": "86675211",
   "metadata": {},
   "outputs": [],
   "source": []
  },
  {
   "cell_type": "markdown",
   "id": "744dce81",
   "metadata": {},
   "source": [
    "<h2 id=\"12-1列目をcol1txtに2列目をcol2txtに保存\">12. 1列目をcol1.txtに，2列目をcol2.txtに保存</h2>\n",
    "<p>各行の1列目だけを抜き出したものをcol1.txtに，2列目だけを抜き出したものをcol2.txtとしてファイルに保存せよ．確認にはcutコマンドを用いよ．</p>\n"
   ]
  },
  {
   "cell_type": "code",
   "execution_count": null,
   "id": "2374c709",
   "metadata": {},
   "outputs": [],
   "source": []
  },
  {
   "cell_type": "markdown",
   "id": "599a2cf3",
   "metadata": {},
   "source": [
    "<h2 id=\"13-col1txtとcol2txtをマージ\">13. col1.txtとcol2.txtをマージ</h2>\n",
    "<p>12で作ったcol1.txtとcol2.txtを結合し，元のファイルの1列目と2列目をタブ区切りで並べたテキストファイルを作成せよ．確認にはpasteコマンドを用いよ．</p>\n"
   ]
  },
  {
   "cell_type": "code",
   "execution_count": null,
   "id": "dbd5f76c",
   "metadata": {},
   "outputs": [],
   "source": []
  },
  {
   "cell_type": "markdown",
   "id": "5a728dc1",
   "metadata": {},
   "source": [
    "<h2 id=\"14-先頭からn行を出力\">14. 先頭からN行を出力</h2>\n",
    "<p>自然数Nをコマンドライン引数などの手段で受け取り，入力のうち先頭のN行だけを表示せよ．確認にはheadコマンドを用いよ．</p>\n"
   ]
  },
  {
   "cell_type": "code",
   "execution_count": null,
   "id": "4c6546ce",
   "metadata": {},
   "outputs": [],
   "source": []
  },
  {
   "cell_type": "markdown",
   "id": "98ed31c5",
   "metadata": {},
   "source": [
    "<h2 id=\"15-末尾のn行を出力\">15. 末尾のN行を出力</h2>\n",
    "<p>自然数Nをコマンドライン引数などの手段で受け取り，入力のうち末尾のN行だけを表示せよ．確認にはtailコマンドを用いよ．</p>\n"
   ]
  },
  {
   "cell_type": "code",
   "execution_count": null,
   "id": "e0216c8e",
   "metadata": {},
   "outputs": [],
   "source": []
  },
  {
   "cell_type": "markdown",
   "id": "2172cab6",
   "metadata": {},
   "source": [
    "<h2 id=\"16-ファイルをn分割する\">16. ファイルをN分割する</h2>\n",
    "<p>自然数Nをコマンドライン引数などの手段で受け取り，入力のファイルを行単位でN分割せよ．同様の処理をsplitコマンドで実現せよ．</p>\n"
   ]
  },
  {
   "cell_type": "code",
   "execution_count": null,
   "id": "996b117f",
   "metadata": {},
   "outputs": [],
   "source": []
  },
  {
   "cell_type": "markdown",
   "id": "7838e3b7",
   "metadata": {},
   "source": [
    "<h2 id=\"17-１列目の文字列の異なり\">17. １列目の文字列の異なり</h2>\n",
    "<p>1列目の文字列の種類（異なる文字列の集合）を求めよ．確認にはcut, sort, uniqコマンドを用いよ．</p>\n"
   ]
  },
  {
   "cell_type": "code",
   "execution_count": null,
   "id": "b52b72cd",
   "metadata": {},
   "outputs": [],
   "source": []
  },
  {
   "cell_type": "markdown",
   "id": "14044ffd",
   "metadata": {},
   "source": [
    "<h2 id=\"18-各行を3コラム目の数値の降順にソート\">18. 各行を3コラム目の数値の降順にソート</h2>\n",
    "<p>各行を3コラム目の数値の逆順で整列せよ（注意: 各行の内容は変更せずに並び替えよ）．確認にはsortコマンドを用いよ（この問題はコマンドで実行した時の結果と合わなくてもよい）．</p>\n"
   ]
  },
  {
   "cell_type": "code",
   "execution_count": null,
   "id": "0631c86e",
   "metadata": {},
   "outputs": [],
   "source": []
  },
  {
   "cell_type": "markdown",
   "id": "63be1daa",
   "metadata": {},
   "source": [
    "<h2 id=\"19-各行の1コラム目の文字列の出現頻度を求め出現頻度の高い順に並べる\">19. 各行の1コラム目の文字列の出現頻度を求め，出現頻度の高い順に並べる</h2>\n",
    "<p>各行の1列目の文字列の出現頻度を求め，その高い順に並べて表示せよ．確認にはcut, uniq, sortコマンドを用いよ．</p>\n"
   ]
  },
  {
   "cell_type": "code",
   "execution_count": null,
   "id": "895fa101",
   "metadata": {},
   "outputs": [],
   "source": []
  }
 ],
 "metadata": {
  "kernelspec": {
   "display_name": "Python 3 (ipykernel)",
   "language": "python",
   "name": "python3"
  },
  "language_info": {
   "codemirror_mode": {
    "name": "ipython",
    "version": 3
   },
   "file_extension": ".py",
   "mimetype": "text/x-python",
   "name": "python",
   "nbconvert_exporter": "python",
   "pygments_lexer": "ipython3",
   "version": "3.9.13"
  }
 },
 "nbformat": 4,
 "nbformat_minor": 5
}

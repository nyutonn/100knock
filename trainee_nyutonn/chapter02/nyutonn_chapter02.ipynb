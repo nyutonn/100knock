{
 "cells": [
  {
   "cell_type": "markdown",
   "id": "fad7f5c2",
   "metadata": {},
   "source": [
    "<h2 id=\"10-行数のカウント\">10. 行数のカウント</h2>\n",
    "<p>行数をカウントせよ．確認にはwcコマンドを用いよ．</p>\n"
   ]
  },
  {
   "attachments": {},
   "cell_type": "markdown",
   "id": "576e8e24",
   "metadata": {},
   "source": [
    "wc -l 'パス'\n",
    "をターミナルで実行すると行数（改行の数）がわかる"
   ]
  },
  {
   "cell_type": "code",
   "execution_count": 10,
   "id": "f49456af",
   "metadata": {},
   "outputs": [
    {
     "name": "stdout",
     "output_type": "stream",
     "text": [
      "7\n"
     ]
    }
   ],
   "source": [
    "# 全文読み込んで改行の数を数える\n",
    "f = open('data/a.txt')\n",
    "data = f.read()\n",
    "cnt = 1 # 最後には改行がないので1足しておく\n",
    "for c in data:\n",
    "    if c == '\\n':\n",
    "        cnt += 1\n",
    "print(cnt)\n",
    "f.close()"
   ]
  },
  {
   "cell_type": "code",
   "execution_count": 1,
   "id": "fe3d1eb8",
   "metadata": {},
   "outputs": [
    {
     "name": "stdout",
     "output_type": "stream",
     "text": [
      "7\n"
     ]
    }
   ],
   "source": [
    "# 1文ずつ読み込むパターン\n",
    "f = open('data/a.txt')\n",
    "data = f.readlines()\n",
    "print(len(data))\n",
    "f.close()"
   ]
  },
  {
   "attachments": {},
   "cell_type": "markdown",
   "id": "59066cd1",
   "metadata": {},
   "source": [
    "with open() as f:\n",
    "\n",
    "\n",
    "を用いると最後にf.close()をしてくれる"
   ]
  },
  {
   "attachments": {},
   "cell_type": "markdown",
   "id": "d2b23f78",
   "metadata": {},
   "source": [
    "fをそのままfor文にぶちこむと1行ずつ入れてくれる"
   ]
  },
  {
   "attachments": {},
   "cell_type": "markdown",
   "id": "886e0df2",
   "metadata": {},
   "source": [
    "for文の中身に興味がないときは変数名を_にする"
   ]
  },
  {
   "cell_type": "code",
   "execution_count": 8,
   "id": "b4b5ca06",
   "metadata": {},
   "outputs": [
    {
     "name": "stdout",
     "output_type": "stream",
     "text": [
      "7\n"
     ]
    }
   ],
   "source": [
    "# with文を用いる\n",
    "with open('data/a.txt') as f:\n",
    "    cnt = 0\n",
    "    for _ in f:\n",
    "        cnt += 1\n",
    "    print(cnt) "
   ]
  },
  {
   "cell_type": "markdown",
   "id": "bc0446f0",
   "metadata": {},
   "source": [
    "<h2 id=\"11-タブをスペースに置換\">11. タブをスペースに置換</h2>\n",
    "<p>タブ1文字につきスペース1文字に置換せよ．確認にはsedコマンド，trコマンド，もしくはexpandコマンドを用いよ．</p>\n"
   ]
  },
  {
   "attachments": {},
   "cell_type": "markdown",
   "id": "e8c734cd",
   "metadata": {},
   "source": [
    "書き込み用でファイルを開くときは\n",
    "open('パス', 'w')\n",
    "とする"
   ]
  },
  {
   "cell_type": "code",
   "execution_count": 9,
   "id": "86675211",
   "metadata": {},
   "outputs": [],
   "source": [
    "# textに全文読み出してから\\tの数を数える\n",
    "with open('data/b1.txt') as f1:\n",
    "    text = list(f1.read())\n",
    "    cnt = 0\n",
    "    for i, c in enumerate(text):\n",
    "        if c == '\\t':\n",
    "            # cnt += 1\n",
    "            text[i] = ' '\n",
    "    # print(cnt)\n",
    "    text = \"\".join(text)\n",
    "    # print(text)\n",
    "\n",
    "    with open('data/b2.txt', 'w') as f2:\n",
    "        f2.write(text)\n",
    "\n"
   ]
  },
  {
   "cell_type": "markdown",
   "id": "744dce81",
   "metadata": {},
   "source": [
    "<h2 id=\"12-1列目をcol1txtに2列目をcol2txtに保存\">12. 1列目をcol1.txtに，2列目をcol2.txtに保存</h2>\n",
    "<p>各行の1列目だけを抜き出したものをcol1.txtに，2列目だけを抜き出したものをcol2.txtとしてファイルに保存せよ．確認にはcutコマンドを用いよ．</p>\n"
   ]
  },
  {
   "cell_type": "code",
   "execution_count": 17,
   "id": "2374c709",
   "metadata": {},
   "outputs": [],
   "source": [
    "with (open('data/b2.txt') as fr, open('data/col1.txt', 'w') as fw1, open('data/col2.txt', \"w\") as fw2): \n",
    "    for line in fr:\n",
    "        s = list(line)\n",
    "        fw1.write(s[0])\n",
    "        fw2.write(s[1])\n"
   ]
  },
  {
   "cell_type": "markdown",
   "id": "599a2cf3",
   "metadata": {},
   "source": [
    "<h2 id=\"13-col1txtとcol2txtをマージ\">13. col1.txtとcol2.txtをマージ</h2>\n",
    "<p>12で作ったcol1.txtとcol2.txtを結合し，元のファイルの1列目と2列目をタブ区切りで並べたテキストファイルを作成せよ．確認にはpasteコマンドを用いよ．</p>\n"
   ]
  },
  {
   "cell_type": "code",
   "execution_count": null,
   "id": "dbd5f76c",
   "metadata": {},
   "outputs": [],
   "source": []
  },
  {
   "cell_type": "markdown",
   "id": "5a728dc1",
   "metadata": {},
   "source": [
    "<h2 id=\"14-先頭からn行を出力\">14. 先頭からN行を出力</h2>\n",
    "<p>自然数Nをコマンドライン引数などの手段で受け取り，入力のうち先頭のN行だけを表示せよ．確認にはheadコマンドを用いよ．</p>\n"
   ]
  },
  {
   "cell_type": "code",
   "execution_count": null,
   "id": "4c6546ce",
   "metadata": {},
   "outputs": [],
   "source": []
  },
  {
   "cell_type": "markdown",
   "id": "98ed31c5",
   "metadata": {},
   "source": [
    "<h2 id=\"15-末尾のn行を出力\">15. 末尾のN行を出力</h2>\n",
    "<p>自然数Nをコマンドライン引数などの手段で受け取り，入力のうち末尾のN行だけを表示せよ．確認にはtailコマンドを用いよ．</p>\n"
   ]
  },
  {
   "cell_type": "code",
   "execution_count": null,
   "id": "e0216c8e",
   "metadata": {},
   "outputs": [],
   "source": []
  },
  {
   "cell_type": "markdown",
   "id": "2172cab6",
   "metadata": {},
   "source": [
    "<h2 id=\"16-ファイルをn分割する\">16. ファイルをN分割する</h2>\n",
    "<p>自然数Nをコマンドライン引数などの手段で受け取り，入力のファイルを行単位でN分割せよ．同様の処理をsplitコマンドで実現せよ．</p>\n"
   ]
  },
  {
   "cell_type": "code",
   "execution_count": null,
   "id": "996b117f",
   "metadata": {},
   "outputs": [],
   "source": []
  },
  {
   "cell_type": "markdown",
   "id": "7838e3b7",
   "metadata": {},
   "source": [
    "<h2 id=\"17-１列目の文字列の異なり\">17. １列目の文字列の異なり</h2>\n",
    "<p>1列目の文字列の種類（異なる文字列の集合）を求めよ．確認にはcut, sort, uniqコマンドを用いよ．</p>\n"
   ]
  },
  {
   "cell_type": "code",
   "execution_count": null,
   "id": "b52b72cd",
   "metadata": {},
   "outputs": [],
   "source": []
  },
  {
   "cell_type": "markdown",
   "id": "14044ffd",
   "metadata": {},
   "source": [
    "<h2 id=\"18-各行を3コラム目の数値の降順にソート\">18. 各行を3コラム目の数値の降順にソート</h2>\n",
    "<p>各行を3コラム目の数値の逆順で整列せよ（注意: 各行の内容は変更せずに並び替えよ）．確認にはsortコマンドを用いよ（この問題はコマンドで実行した時の結果と合わなくてもよい）．</p>\n"
   ]
  },
  {
   "cell_type": "code",
   "execution_count": null,
   "id": "0631c86e",
   "metadata": {},
   "outputs": [],
   "source": []
  },
  {
   "cell_type": "markdown",
   "id": "63be1daa",
   "metadata": {},
   "source": [
    "<h2 id=\"19-各行の1コラム目の文字列の出現頻度を求め出現頻度の高い順に並べる\">19. 各行の1コラム目の文字列の出現頻度を求め，出現頻度の高い順に並べる</h2>\n",
    "<p>各行の1列目の文字列の出現頻度を求め，その高い順に並べて表示せよ．確認にはcut, uniq, sortコマンドを用いよ．</p>\n"
   ]
  },
  {
   "cell_type": "code",
   "execution_count": null,
   "id": "895fa101",
   "metadata": {},
   "outputs": [],
   "source": []
  }
 ],
 "metadata": {
  "kernelspec": {
   "display_name": "base",
   "language": "python",
   "name": "python3"
  },
  "language_info": {
   "codemirror_mode": {
    "name": "ipython",
    "version": 3
   },
   "file_extension": ".py",
   "mimetype": "text/x-python",
   "name": "python",
   "nbconvert_exporter": "python",
   "pygments_lexer": "ipython3",
   "version": "3.9.13"
  },
  "vscode": {
   "interpreter": {
    "hash": "315f8fb80bb7b3d98b77ee53c1a6863259122a42c804bc6c0b8b02e9989b0921"
   }
  }
 },
 "nbformat": 4,
 "nbformat_minor": 5
}

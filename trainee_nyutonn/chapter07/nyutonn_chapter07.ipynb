{
 "cells": [
  {
   "cell_type": "markdown",
   "id": "ae4b8783",
   "metadata": {},
   "source": [
    "<h2 id=\"60-単語ベクトルの読み込みと表示\">60. 単語ベクトルの読み込みと表示</h2>\n",
    "<p>Google Newsデータセット（約1,000億単語）での<a href=\"https://drive.google.com/file/d/0B7XkCwpI5KDYNlNUTTlSS21pQmM/edit?usp=sharing\">学習済み単語ベクトル</a>（300万単語・フレーズ，300次元）をダウンロードし，”United States”の単語ベクトルを表示せよ．ただし，”United States”は内部的には”United_States”と表現されていることに注意せよ．</p>\n"
   ]
  },
  {
   "cell_type": "code",
   "execution_count": 2,
   "id": "bf0d462c",
   "metadata": {},
   "outputs": [
    {
     "name": "stdout",
     "output_type": "stream",
     "text": [
      "gunzip: can't stat: data/GoogleNews-vectors-negative300.bin.gz (data/GoogleNews-vectors-negative300.bin.gz.gz): No such file or directory\n"
     ]
    }
   ],
   "source": [
    "!gunzip data/GoogleNews-vectors-negative300.bin.gz"
   ]
  },
  {
   "cell_type": "code",
   "execution_count": 4,
   "id": "73609750",
   "metadata": {},
   "outputs": [
    {
     "name": "stdout",
     "output_type": "stream",
     "text": [
      "Requirement already satisfied: pymagnitude in /Users/nyuton/.pyenv/versions/anaconda3-2022.10/lib/python3.9/site-packages (0.1.143)\n"
     ]
    }
   ],
   "source": [
    "!pip install pymagnitude"
   ]
  },
  {
   "cell_type": "code",
   "execution_count": 26,
   "id": "d2fc046b",
   "metadata": {},
   "outputs": [],
   "source": [
    "from pymagnitude import Magnitude"
   ]
  },
  {
   "cell_type": "code",
   "execution_count": 27,
   "id": "17a3ebb2",
   "metadata": {},
   "outputs": [
    {
     "name": "stdout",
     "output_type": "stream",
     "text": [
      "Traceback (most recent call last):\n",
      "  File \"/Users/nyuton/.pyenv/versions/anaconda3-2022.10/lib/python3.9/runpy.py\", line 188, in _run_module_as_main\n",
      "    mod_name, mod_spec, code = _get_module_details(mod_name, _Error)\n",
      "  File \"/Users/nyuton/.pyenv/versions/anaconda3-2022.10/lib/python3.9/runpy.py\", line 111, in _get_module_details\n",
      "    __import__(pkg_name)\n",
      "  File \"/Users/nyuton/.pyenv/versions/anaconda3-2022.10/lib/python3.9/site-packages/pymagnitude/__init__.py\", line 80, in <module>\n",
      "    from pymagnitude.third_party.allennlp.commands.elmo import ElmoEmbedder\n",
      "  File \"/Users/nyuton/.pyenv/versions/anaconda3-2022.10/lib/python3.9/site-packages/pymagnitude/third_party/allennlp/commands/__init__.py\", line 8, in <module>\n",
      "    from allennlp.commands.configure import Configure\n",
      "  File \"/Users/nyuton/.pyenv/versions/anaconda3-2022.10/lib/python3.9/site-packages/pymagnitude/third_party/allennlp/commands/__init__.py\", line 13, in <module>\n",
      "    from allennlp.commands.predict import Predict\n",
      "  File \"/Users/nyuton/.pyenv/versions/anaconda3-2022.10/lib/python3.9/site-packages/pymagnitude/third_party/allennlp/commands/predict.py\", line 54, in <module>\n",
      "    from allennlp.predictors.predictor import Predictor, JsonDict\n",
      "  File \"/Users/nyuton/.pyenv/versions/anaconda3-2022.10/lib/python3.9/site-packages/pymagnitude/third_party/allennlp/predictors/__init__.py\", line 13, in <module>\n",
      "    from allennlp.predictors.constituency_parser import ConstituencyParserPredictor\n",
      "  File \"/Users/nyuton/.pyenv/versions/anaconda3-2022.10/lib/python3.9/site-packages/pymagnitude/third_party/allennlp/predictors/constituency_parser.py\", line 7, in <module>\n",
      "    from spacy.lang.en.tag_map import TAG_MAP\n",
      "ModuleNotFoundError: No module named 'spacy.lang.en.tag_map'\n"
     ]
    }
   ],
   "source": [
    "!python -m pymagnitude.converter -i data/GoogleNews-vectors-negative300.bin -o data/GoogleNews-vectors-negative300.magnitude"
   ]
  },
  {
   "cell_type": "code",
   "execution_count": 28,
   "id": "a0f4c4d8",
   "metadata": {},
   "outputs": [
    {
     "name": "stdout",
     "output_type": "stream",
     "text": [
      "Requirement already satisfied: gensim in /Users/nyuton/.pyenv/versions/anaconda3-2022.10/lib/python3.9/site-packages (4.1.2)\n",
      "Requirement already satisfied: numpy>=1.17.0 in /Users/nyuton/.pyenv/versions/anaconda3-2022.10/lib/python3.9/site-packages (from gensim) (1.24.3)\n",
      "Requirement already satisfied: smart-open>=1.8.1 in /Users/nyuton/.pyenv/versions/anaconda3-2022.10/lib/python3.9/site-packages (from gensim) (5.2.1)\n",
      "Requirement already satisfied: scipy>=0.18.1 in /Users/nyuton/.pyenv/versions/anaconda3-2022.10/lib/python3.9/site-packages (from gensim) (1.9.1)\n"
     ]
    }
   ],
   "source": [
    "!pip install gensim"
   ]
  },
  {
   "cell_type": "code",
   "execution_count": 15,
   "id": "0536da7f",
   "metadata": {},
   "outputs": [
    {
     "name": "stdout",
     "output_type": "stream",
     "text": [
      "(3000000, 300)\n",
      "[-3.61328125e-02 -4.83398438e-02  2.35351562e-01  1.74804688e-01\n",
      " -1.46484375e-01 -7.42187500e-02 -1.01562500e-01 -7.71484375e-02\n",
      "  1.09375000e-01 -5.71289062e-02 -1.48437500e-01 -6.00585938e-02\n",
      "  1.74804688e-01 -7.71484375e-02  2.58789062e-02 -7.66601562e-02\n",
      " -3.80859375e-02  1.35742188e-01  3.75976562e-02 -4.19921875e-02\n",
      " -3.56445312e-02  5.34667969e-02  3.68118286e-04 -1.66992188e-01\n",
      " -1.17187500e-01  1.41601562e-01 -1.69921875e-01 -6.49414062e-02\n",
      " -1.66992188e-01  1.00585938e-01  1.15722656e-01 -2.18750000e-01\n",
      " -9.86328125e-02 -2.56347656e-02  1.23046875e-01 -3.54003906e-02\n",
      " -1.58203125e-01 -1.60156250e-01  2.94189453e-02  8.15429688e-02\n",
      "  6.88476562e-02  1.87500000e-01  6.49414062e-02  1.15234375e-01\n",
      " -2.27050781e-02  3.32031250e-01 -3.27148438e-02  1.77734375e-01\n",
      " -2.08007812e-01  4.54101562e-02 -1.23901367e-02  1.19628906e-01\n",
      "  7.44628906e-03 -9.03320312e-03  1.14257812e-01  1.69921875e-01\n",
      " -2.38281250e-01 -2.79541016e-02 -1.21093750e-01  2.47802734e-02\n",
      "  7.71484375e-02 -2.81982422e-02 -4.71191406e-02  1.78222656e-02\n",
      " -1.23046875e-01 -5.32226562e-02  2.68554688e-02 -3.11279297e-02\n",
      " -5.59082031e-02 -5.00488281e-02 -3.73535156e-02  1.25976562e-01\n",
      "  5.61523438e-02  1.51367188e-01  4.29687500e-02 -2.08007812e-01\n",
      " -4.78515625e-02  2.78320312e-02  1.81640625e-01  2.20703125e-01\n",
      " -3.61328125e-02 -8.39843750e-02 -3.69548798e-05 -9.52148438e-02\n",
      " -1.25000000e-01 -1.95312500e-01 -1.50390625e-01 -4.15039062e-02\n",
      "  1.31835938e-01  1.17675781e-01  1.91650391e-02  5.51757812e-02\n",
      " -9.42382812e-02 -1.08886719e-01  7.32421875e-02 -1.15234375e-01\n",
      "  8.93554688e-02 -1.40625000e-01  1.45507812e-01  4.49218750e-02\n",
      " -1.10473633e-02 -1.62353516e-02  4.05883789e-03  3.75976562e-02\n",
      " -6.98242188e-02 -5.46875000e-02  2.17285156e-02 -9.47265625e-02\n",
      "  4.24804688e-02  1.81884766e-02 -1.73339844e-02  4.63867188e-02\n",
      " -1.42578125e-01  1.99218750e-01  1.10839844e-01  2.58789062e-02\n",
      " -7.08007812e-02 -5.54199219e-02  3.45703125e-01  1.61132812e-01\n",
      " -2.44140625e-01 -2.59765625e-01 -9.71679688e-02  8.00781250e-02\n",
      " -8.78906250e-02 -7.22656250e-02  1.42578125e-01 -8.54492188e-02\n",
      " -3.18359375e-01  8.30078125e-02  6.34765625e-02  1.64062500e-01\n",
      " -1.92382812e-01 -1.17675781e-01 -5.41992188e-02 -1.56250000e-01\n",
      " -1.21582031e-01 -4.95605469e-02  1.20117188e-01 -3.83300781e-02\n",
      "  5.51757812e-02 -8.97216797e-03  4.32128906e-02  6.93359375e-02\n",
      "  8.93554688e-02  2.53906250e-01  1.65039062e-01  1.64062500e-01\n",
      " -1.41601562e-01  4.58984375e-02  1.97265625e-01 -8.98437500e-02\n",
      "  3.90625000e-02 -1.51367188e-01 -8.60595703e-03 -1.17675781e-01\n",
      " -1.97265625e-01 -1.12792969e-01  1.29882812e-01  1.96289062e-01\n",
      "  1.56402588e-03  3.93066406e-02  2.17773438e-01 -1.43554688e-01\n",
      "  6.03027344e-02 -1.35742188e-01  1.16210938e-01 -1.59912109e-02\n",
      "  2.79296875e-01  1.46484375e-01 -1.19628906e-01  1.76757812e-01\n",
      "  1.28906250e-01 -1.49414062e-01  6.93359375e-02 -1.72851562e-01\n",
      "  9.22851562e-02  1.33056641e-02 -2.00195312e-01 -9.76562500e-02\n",
      " -1.65039062e-01 -2.46093750e-01 -2.35595703e-02 -2.11914062e-01\n",
      "  1.84570312e-01 -1.85546875e-02  2.16796875e-01  5.05371094e-02\n",
      "  2.02636719e-02  4.25781250e-01  1.28906250e-01 -2.77099609e-02\n",
      "  1.29882812e-01 -1.15722656e-01 -2.05078125e-02  1.49414062e-01\n",
      "  7.81250000e-03 -2.05078125e-01 -8.05664062e-02 -2.67578125e-01\n",
      " -2.29492188e-02 -8.20312500e-02  8.64257812e-02  7.61718750e-02\n",
      " -3.66210938e-02  5.22460938e-02 -1.22070312e-01 -1.44042969e-02\n",
      " -2.69531250e-01  8.44726562e-02 -2.52685547e-02 -2.96630859e-02\n",
      " -1.68945312e-01  1.93359375e-01 -1.08398438e-01  1.94091797e-02\n",
      " -1.80664062e-01  1.93359375e-01 -7.08007812e-02  5.85937500e-02\n",
      " -1.01562500e-01 -1.31835938e-01  7.51953125e-02 -7.66601562e-02\n",
      "  3.37219238e-03 -8.59375000e-02  1.25000000e-01  2.92968750e-02\n",
      "  1.70898438e-01 -9.37500000e-02 -1.09375000e-01 -2.50244141e-02\n",
      "  2.11914062e-01 -4.44335938e-02  6.12792969e-02  2.62451172e-02\n",
      " -1.77734375e-01  1.23046875e-01 -7.42187500e-02 -1.67968750e-01\n",
      " -1.08886719e-01 -9.04083252e-04 -7.37304688e-02  5.49316406e-02\n",
      "  6.03027344e-02  8.39843750e-02  9.17968750e-02 -1.32812500e-01\n",
      "  1.22070312e-01 -8.78906250e-03  1.19140625e-01 -1.94335938e-01\n",
      " -6.64062500e-02 -2.07031250e-01  7.37304688e-02  8.93554688e-02\n",
      "  1.81884766e-02 -1.20605469e-01 -2.61230469e-02  2.67333984e-02\n",
      "  7.76367188e-02 -8.30078125e-02  6.78710938e-02 -3.54003906e-02\n",
      "  3.10546875e-01 -2.42919922e-02 -1.41601562e-01 -2.08007812e-01\n",
      " -4.57763672e-03 -6.54296875e-02 -4.95605469e-02  2.22656250e-01\n",
      "  1.53320312e-01 -1.38671875e-01 -5.24902344e-02  4.24804688e-02\n",
      " -2.38281250e-01  1.56250000e-01  5.83648682e-04 -1.20605469e-01\n",
      " -9.22851562e-02 -4.44335938e-02  3.61328125e-02 -1.86767578e-02\n",
      " -8.25195312e-02 -8.25195312e-02 -4.05273438e-02  1.19018555e-02\n",
      "  1.69921875e-01 -2.80761719e-02  3.03649902e-03  9.32617188e-02\n",
      " -8.49609375e-02  1.57470703e-02  7.03125000e-02  1.62353516e-02\n",
      " -2.27050781e-02  3.51562500e-02  2.47070312e-01 -2.67333984e-02]\n"
     ]
    }
   ],
   "source": [
    "from gensim.models import KeyedVectors\n",
    "\n",
    "# 学習済みモデルを読み込む\n",
    "# modelは単語辞書形式で中身はベクトル\n",
    "model = KeyedVectors.load_word2vec_format('data/GoogleNews-vectors-negative300.bin', binary=True) \n",
    "\n",
    "print(model.vectors.shape)      # 語彙数 x ベクトル次元数 を表示\n",
    "print(model['United_States'])   # United Statesの単語ベクトルを表示"
   ]
  },
  {
   "cell_type": "markdown",
   "id": "512d9489",
   "metadata": {},
   "source": [
    "<h2 id=\"61-単語の類似度\">61. 単語の類似度</h2>\n",
    "<p>“United States”と”U.S.”のコサイン類似度を計算せよ．</p>\n"
   ]
  },
  {
   "cell_type": "code",
   "execution_count": 34,
   "id": "c5785641",
   "metadata": {},
   "outputs": [
    {
     "name": "stdout",
     "output_type": "stream",
     "text": [
      "0.73107743\n"
     ]
    }
   ],
   "source": [
    "model.similarity('United_States', 'U.S.')"
   ]
  },
  {
   "cell_type": "code",
   "execution_count": 72,
   "id": "58564b30",
   "metadata": {},
   "outputs": [
    {
     "name": "stdout",
     "output_type": "stream",
     "text": [
      "0.3786772\n",
      "0.5318407\n",
      "0.5608182\n",
      "0.60843086\n",
      "0.5489763\n",
      "0.76640123\n",
      "0.055056807\n"
     ]
    }
   ],
   "source": [
    "# いろいろ試してみる\n",
    "print(model.similarity('apple', 'Apple'))\n",
    "print(model.similarity('apple', 'banana'))\n",
    "print(model.similarity('apple', 'tomato'))\n",
    "print(model.similarity('red', 'pink'))\n",
    "print(model.similarity('man', 'men'))\n",
    "print(model.similarity('woman', 'man'))\n",
    "print(model.similarity('make', 'tomato'))"
   ]
  },
  {
   "cell_type": "markdown",
   "id": "a8cd1961",
   "metadata": {},
   "source": [
    "<h2 id=\"62-類似度の高い単語10件\">62. 類似度の高い単語10件</h2>\n",
    "<p>“United States”とコサイン類似度が高い10語と，その類似度を出力せよ．</p>\n"
   ]
  },
  {
   "cell_type": "code",
   "execution_count": 65,
   "id": "e755b0a4",
   "metadata": {},
   "outputs": [
    {
     "data": {
      "text/plain": [
       "[('Unites_States', 0.7877248525619507),\n",
       " ('Untied_States', 0.7541370391845703),\n",
       " ('United_Sates', 0.7400725483894348),\n",
       " ('U.S.', 0.7310774326324463),\n",
       " ('theUnited_States', 0.6404393911361694),\n",
       " ('America', 0.6178410053253174),\n",
       " ('UnitedStates', 0.6167312264442444),\n",
       " ('Europe', 0.6132988929748535),\n",
       " ('countries', 0.6044804453849792),\n",
       " ('Canada', 0.6019070148468018)]"
      ]
     },
     "execution_count": 65,
     "metadata": {},
     "output_type": "execute_result"
    }
   ],
   "source": [
    "# デフォルトでtopnは10なので指定しなくても良い\n",
    "model.most_similar('United_States', topn=10)"
   ]
  },
  {
   "cell_type": "code",
   "execution_count": 85,
   "id": "d4a07456",
   "metadata": {},
   "outputs": [],
   "source": [
    "# 関数を使わずに実装したかったけど単語名をイテレータで取り出す方法が分からなかった\n",
    "import numpy as np\n",
    "# コサイン類似度を求める関数\n",
    "def cos_sim(v1, v2):\n",
    "    return np.dot(v1, v2) / (np.linalg.norm(v1) * np.linalg.norm(v2))\n",
    "\n",
    "tmp_max_sim = -1\n",
    "tmp_max = ''\n",
    "us = model['United_States']\n",
    "# from itertools import islice\n",
    "# for k_v in islice(model.vectors, 3):\n",
    "#     print(k_v)\n",
    "    # similarity = cos_sim(us, v)\n",
    "    # if tmp_max_sim < similarity:\n",
    "    #     tmp_max_sim = similarity\n",
    "    #     tmp_max = k"
   ]
  },
  {
   "cell_type": "markdown",
   "id": "ac779066",
   "metadata": {},
   "source": [
    "<h2 id=\"63-加法構成性によるアナロジー\">63. 加法構成性によるアナロジー</h2>\n",
    "<p>“Spain”の単語ベクトルから”Madrid”のベクトルを引き，”Athens”のベクトルを足したベクトルを計算し，そのベクトルと類似度の高い10語とその類似度を出力せよ．</p>\n"
   ]
  },
  {
   "cell_type": "code",
   "execution_count": 55,
   "id": "ce60125e",
   "metadata": {},
   "outputs": [
    {
     "data": {
      "text/plain": [
       "[('Greece', 0.6898480653762817),\n",
       " ('Aristeidis_Grigoriadis', 0.560684859752655),\n",
       " ('Ioannis_Drymonakos', 0.555290937423706),\n",
       " ('Greeks', 0.5450686812400818),\n",
       " ('Ioannis_Christou', 0.5400862693786621),\n",
       " ('Hrysopiyi_Devetzi', 0.5248445272445679),\n",
       " ('Heraklio', 0.5207759141921997),\n",
       " ('Athens_Greece', 0.5168809294700623),\n",
       " ('Lithuania', 0.5166866183280945),\n",
       " ('Iraklion', 0.5146791934967041)]"
      ]
     },
     "execution_count": 55,
     "metadata": {},
     "output_type": "execute_result"
    }
   ],
   "source": [
    "model.most_similar(positive=['Spain', 'Athens'], negative=['Madrid'])"
   ]
  },
  {
   "cell_type": "code",
   "execution_count": 64,
   "id": "267ad0af",
   "metadata": {},
   "outputs": [
    {
     "data": {
      "text/plain": [
       "[('Athens', 0.7528455257415771),\n",
       " ('Greece', 0.6685472130775452),\n",
       " ('Aristeidis_Grigoriadis', 0.5495778322219849),\n",
       " ('Ioannis_Drymonakos', 0.5361457467079163),\n",
       " ('Greeks', 0.5351787209510803),\n",
       " ('Ioannis_Christou', 0.5330225825309753),\n",
       " ('Hrysopiyi_Devetzi', 0.5088489651679993),\n",
       " ('Iraklion', 0.5059264898300171),\n",
       " ('Greek', 0.5040615200996399),\n",
       " ('Athens_Greece', 0.5034109950065613)]"
      ]
     },
     "execution_count": 64,
     "metadata": {},
     "output_type": "execute_result"
    }
   ],
   "source": [
    "# ちょっと結果が違う？？\n",
    "# 自分自身の単語を消しているのは良いとして、値もちょっと違うみたい\n",
    "a = model['Spain'] - model['Madrid'] + model['Athens'] \n",
    "model.most_similar(a)"
   ]
  },
  {
   "cell_type": "code",
   "execution_count": 89,
   "metadata": {},
   "outputs": [
    {
     "name": "stdout",
     "output_type": "stream",
     "text": [
      "[('queen', 0.7118192911148071)]\n",
      "[('cats', 0.48307326436042786), ('dog', 0.46519735455513), ('pet', 0.39809876680374146), ('kitten', 0.3963969349861145), ('feline', 0.39326348900794983)]\n",
      "[('next', 0.5432273149490356), ('hopefully', 0.5405917763710022), ('another', 0.5219475626945496), (\"'ll\", 0.5118502974510193), ('happens', 0.4855425953865051)]\n"
     ]
    }
   ],
   "source": [
    "# いろいろ試してみる\n",
    "# king - man + woman\n",
    "print(model.most_similar(positive=['king', 'woman'], negative=['man'], topn=1))\n",
    "# cat - cute + cool\n",
    "print(model.most_similar(positive=['cat', 'cool'], negative=['cute'], topn=5))\n",
    "# tomorrow - today + this\n",
    "print(model.most_similar(positive=['tomorrow', 'this'], negative=['today'], topn=5))"
   ]
  },
  {
   "cell_type": "markdown",
   "id": "3fdbb363",
   "metadata": {},
   "source": [
    "<h2 id=\"64-アナロジーデータでの実験\">64. アナロジーデータでの実験</h2>\n",
    "<p><a href=\"http://download.tensorflow.org/data/questions-words.txt\">単語アナロジーの評価データ</a>をダウンロードし，vec(2列目の単語) - vec(1列目の単語) + vec(3列目の単語)を計算し，そのベクトルと類似度が最も高い単語と，その類似度を求めよ．求めた単語と類似度は，各事例の末尾に追記せよ．</p>\n"
   ]
  },
  {
   "cell_type": "code",
   "execution_count": 91,
   "id": "1f810266",
   "metadata": {},
   "outputs": [
    {
     "name": "stdout",
     "output_type": "stream",
     "text": [
      "--2023-06-20 17:50:31--  http://download.tensorflow.org/data/questions-words.txt\n",
      "Resolving download.tensorflow.org (download.tensorflow.org)... 2404:6800:4004:80f::2010, 142.250.198.16\n",
      "Connecting to download.tensorflow.org (download.tensorflow.org)|2404:6800:4004:80f::2010|:80... connected.\n",
      "HTTP request sent, awaiting response... 200 OK\n",
      "Length: 603955 (590K) [text/plain]\n",
      "Saving to: 'data/questions-words.txt.1'\n",
      "\n",
      "questions-words.txt 100%[===================>] 589.80K  --.-KB/s    in 0.1s    \n",
      "\n",
      "2023-06-20 17:50:32 (4.49 MB/s) - 'data/questions-words.txt.1' saved [603955/603955]\n",
      "\n"
     ]
    }
   ],
   "source": [
    "# !wget http://download.tensorflow.org/data/questions-words.txt -P data/"
   ]
  },
  {
   "cell_type": "code",
   "execution_count": 102,
   "id": "73f4069d",
   "metadata": {},
   "outputs": [
    {
     "name": "stdout",
     "output_type": "stream",
     "text": [
      ": capital-common-countries\n",
      "Athens Greece Baghdad Iraq\n",
      "Athens Greece Bangkok Thailand\n",
      "Athens Greece Beijing China\n",
      "Athens Greece Berlin Germany\n",
      "Athens Greece Bern Switzerland\n",
      "Athens Greece Cairo Egypt\n",
      "Athens Greece Canberra Australia\n",
      "Athens Greece Hanoi Vietnam\n",
      "Athens Greece Havana Cuba\n",
      "cat: stdout: Broken pipe\n"
     ]
    }
   ],
   "source": [
    "# 先頭から10個取り出す\n",
    "!cat data/questions-words.txt | head"
   ]
  },
  {
   "cell_type": "code",
   "execution_count": 123,
   "id": "f1e3ed1e",
   "metadata": {},
   "outputs": [
    {
     "name": "stdout",
     "output_type": "stream",
     "text": [
      ": capital-common-countries\n",
      ": capital-world\n",
      ": currency\n",
      ": city-in-state\n",
      ": family\n",
      ": gram1-adjective-to-adverb\n",
      ": gram2-opposite\n",
      ": gram3-comparative\n",
      ": gram4-superlative\n",
      ": gram5-present-participle\n",
      ": gram6-nationality-adjective\n",
      ": gram7-past-tense\n",
      ": gram8-plural\n",
      ": gram9-plural-verbs\n"
     ]
    }
   ],
   "source": [
    "# 関係性を説明する行がコロンから始まっているので取り出す\n",
    "!cat data/questions-words.txt | grep :"
   ]
  },
  {
   "cell_type": "code",
   "execution_count": 125,
   "id": "65f5e52b",
   "metadata": {},
   "outputs": [
    {
     "ename": "KeyboardInterrupt",
     "evalue": "",
     "output_type": "error",
     "traceback": [
      "\u001b[0;31m---------------------------------------------------------------------------\u001b[0m",
      "\u001b[0;31mKeyboardInterrupt\u001b[0m                         Traceback (most recent call last)",
      "File \u001b[0;32m<timed exec>:12\u001b[0m, in \u001b[0;36m<module>\u001b[0;34m\u001b[0m\n",
      "File \u001b[0;32m~/.pyenv/versions/anaconda3-2022.10/lib/python3.9/site-packages/gensim/models/keyedvectors.py:783\u001b[0m, in \u001b[0;36mKeyedVectors.most_similar\u001b[0;34m(self, positive, negative, topn, clip_start, clip_end, restrict_vocab, indexer)\u001b[0m\n\u001b[1;32m    780\u001b[0m \u001b[39mif\u001b[39;00m indexer \u001b[39mis\u001b[39;00m \u001b[39mnot\u001b[39;00m \u001b[39mNone\u001b[39;00m \u001b[39mand\u001b[39;00m \u001b[39misinstance\u001b[39m(topn, \u001b[39mint\u001b[39m):\n\u001b[1;32m    781\u001b[0m     \u001b[39mreturn\u001b[39;00m indexer\u001b[39m.\u001b[39mmost_similar(mean, topn)\n\u001b[0;32m--> 783\u001b[0m dists \u001b[39m=\u001b[39m dot(\u001b[39mself\u001b[39;49m\u001b[39m.\u001b[39;49mvectors[clip_start:clip_end], mean) \u001b[39m/\u001b[39m \u001b[39mself\u001b[39m\u001b[39m.\u001b[39mnorms[clip_start:clip_end]\n\u001b[1;32m    784\u001b[0m \u001b[39mif\u001b[39;00m \u001b[39mnot\u001b[39;00m topn:\n\u001b[1;32m    785\u001b[0m     \u001b[39mreturn\u001b[39;00m dists\n",
      "\u001b[0;31mKeyboardInterrupt\u001b[0m: "
     ]
    }
   ],
   "source": [
    "%%time\n",
    "with (open('data/questions-words.txt', 'r') as fr,\n",
    "      open('work/questions-words-prediction.txt', 'w') as fw):\n",
    "    for line in fr:\n",
    "        line = line.rstrip() # 改行を消す\n",
    "        # 関係性を説明する行はそのまま書き出す\n",
    "        if line[0] == ':':\n",
    "            fw.write(f'{line}\\n')\n",
    "            continue\n",
    "        # スペースで区切りリストにする\n",
    "        words = line.split(' ')\n",
    "        # 加法で予測\n",
    "        pred = model.most_similar(positive=words[1:3], negative=[words[0]], topn=1)\n",
    "        # 書き込む\n",
    "        fw.write(f'{line} {pred[0][0]} {pred[0][1]}\\n')"
   ]
  },
  {
   "cell_type": "markdown",
   "id": "c498e630",
   "metadata": {},
   "source": [
    "<h2 id=\"65-アナロジータスクでの正解率\">65. アナロジータスクでの正解率</h2>\n",
    "<p>64の実行結果を用い，意味的アナロジー（semantic analogy）と文法的アナロジー（syntactic analogy）の正解率を測定せよ．</p>\n"
   ]
  },
  {
   "cell_type": "code",
   "execution_count": null,
   "id": "897c8041",
   "metadata": {},
   "outputs": [],
   "source": []
  },
  {
   "cell_type": "markdown",
   "id": "2fd69877",
   "metadata": {},
   "source": [
    "<h2 id=\"66-wordsimilarity-353での評価\">66. WordSimilarity-353での評価</h2>\n",
    "<p><a href=\"http://www.gabrilovich.com/resources/data/wordsim353/wordsim353.html\">The WordSimilarity-353 Test Collection</a>の評価データをダウンロードし，単語ベクトルにより計算される類似度のランキングと，人間の類似度判定のランキングの間のスピアマン相関係数を計算せよ．</p>\n"
   ]
  },
  {
   "cell_type": "markdown",
   "id": "2e271e85",
   "metadata": {},
   "source": [
    "<h2 id=\"67-k-meansクラスタリング\">67. k-meansクラスタリング</h2>\n",
    "<p>国名に関する単語ベクトルを抽出し，k-meansクラスタリングをクラスタ数k=5として実行せよ．</p>\n"
   ]
  },
  {
   "cell_type": "code",
   "execution_count": null,
   "id": "0171f326",
   "metadata": {},
   "outputs": [],
   "source": []
  },
  {
   "cell_type": "markdown",
   "id": "e6d79b42",
   "metadata": {},
   "source": [
    "<h2 id=\"68-ward法によるクラスタリング\">68. Ward法によるクラスタリング</h2>\n",
    "<p>国名に関する単語ベクトルに対し，Ward法による階層型クラスタリングを実行せよ．さらに，クラスタリング結果をデンドログラムとして可視化せよ．</p>\n"
   ]
  },
  {
   "cell_type": "code",
   "execution_count": null,
   "id": "81a97105",
   "metadata": {},
   "outputs": [],
   "source": []
  },
  {
   "cell_type": "markdown",
   "id": "e204e203",
   "metadata": {},
   "source": [
    "<h2 id=\"69-t-sneによる可視化\">69. t-SNEによる可視化</h2>\n",
    "<p>ベクトル空間上の国名に関する単語ベクトルをt-SNEで可視化せよ．</p>\n"
   ]
  },
  {
   "cell_type": "code",
   "execution_count": null,
   "id": "bb5a035b",
   "metadata": {},
   "outputs": [],
   "source": []
  }
 ],
 "metadata": {
  "kernelspec": {
   "display_name": "base",
   "language": "python",
   "name": "python3"
  },
  "language_info": {
   "codemirror_mode": {
    "name": "ipython",
    "version": 3
   },
   "file_extension": ".py",
   "mimetype": "text/x-python",
   "name": "python",
   "nbconvert_exporter": "python",
   "pygments_lexer": "ipython3",
   "version": "3.9.13"
  }
 },
 "nbformat": 4,
 "nbformat_minor": 5
}

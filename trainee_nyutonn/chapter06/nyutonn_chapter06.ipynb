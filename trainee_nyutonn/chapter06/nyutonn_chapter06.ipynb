{
 "cells": [
  {
   "cell_type": "markdown",
   "id": "2328c512",
   "metadata": {},
   "source": [
    "<h2 id=\"50-データの入手整形\">50. データの入手・整形</h2>\n",
    "<p><a href=\"https://archive.ics.uci.edu/ml/datasets/News+Aggregator\">News Aggregator Data Set</a>をダウンロードし、以下の要領で学習データ（<code class=\"language-plaintext highlighter-rouge\">train.txt</code>），検証データ（<code class=\"language-plaintext highlighter-rouge\">valid.txt</code>），評価データ（<code class=\"language-plaintext highlighter-rouge\">test.txt</code>）を作成せよ．</p>\n",
    "<ol>\n",
    "<li>ダウンロードしたzipファイルを解凍し，<code class=\"language-plaintext highlighter-rouge\">readme.txt</code>の説明を読む．</li>\n",
    "<li>情報源（publisher）が”Reuters”, “Huffington Post”, “Businessweek”, “Contactmusic.com”, “Daily Mail”の事例（記事）のみを抽出する．</li>\n",
    "<li>抽出された事例をランダムに並び替える．</li>\n",
    "<li>抽出された事例の80%を学習データ，残りの10%ずつを検証データと評価データに分割し，それぞれ<code class=\"language-plaintext highlighter-rouge\">train.txt</code>，<code class=\"language-plaintext highlighter-rouge\">valid.txt</code>，<code class=\"language-plaintext highlighter-rouge\">test.txt</code>というファイル名で保存する．ファイルには，１行に１事例を書き出すこととし，カテゴリ名と記事見出しのタブ区切り形式とせよ（このファイルは後に問題70で再利用する）．</li>\n",
    "</ol>\n",
    "<p>学習データと評価データを作成したら，各カテゴリの事例数を確認せよ．</p>\n"
   ]
  },
  {
   "cell_type": "code",
   "execution_count": 36,
   "id": "32659ded",
   "metadata": {},
   "outputs": [
    {
     "name": "stdout",
     "output_type": "stream",
     "text": [
      "UnZip 6.00 of 20 April 2009, by Info-ZIP.  Maintained by C. Spieler.  Send\n",
      "bug reports using http://www.info-zip.org/zip-bug.html; see README for details.\n",
      "\n",
      "Usage: unzip [-Z] [-opts[modifiers]] file[.zip] [list] [-x xlist] [-d exdir]\n",
      "  Default action is to extract files in list, except those in xlist, to exdir;\n",
      "  file[.zip] may be a wildcard.  -Z => ZipInfo mode (\"unzip -Z\" for usage).\n",
      "\n",
      "  -p  extract files to pipe, no messages     -l  list files (short format)\n",
      "  -f  freshen existing files, create none    -t  test compressed archive data\n",
      "  -u  update files, create if necessary      -z  display archive comment only\n",
      "  -v  list verbosely/show version info       -T  timestamp archive to latest\n",
      "  -x  exclude files that follow (in xlist)   -d  extract files into exdir\n",
      "modifiers:\n",
      "  -n  never overwrite existing files         -q  quiet mode (-qq => quieter)\n",
      "  -o  overwrite files WITHOUT prompting      -a  auto-convert any text files\n",
      "  -j  junk paths (do not make directories)   -aa treat ALL files as text\n",
      "  -C  match filenames case-insensitively     -L  make (some) names lowercase\n",
      "  -X  restore UID/GID info                   -V  retain VMS version numbers\n",
      "  -K  keep setuid/setgid/tacky permissions   -M  pipe through \"more\" pager\n",
      "See \"unzip -hh\" or unzip.txt for more help.  Examples:\n",
      "  unzip data1 -x joe   => extract all files except joe from zipfile data1.zip\n",
      "  unzip -p foo | more  => send contents of foo.zip via pipe into program more\n",
      "  unzip -fo foo ReadMe => quietly replace existing ReadMe if archive file newer\n"
     ]
    }
   ],
   "source": [
    "!unzip -y data/NewsAggregatorDataset.zip"
   ]
  },
  {
   "cell_type": "code",
   "execution_count": 37,
   "id": "f40db102",
   "metadata": {},
   "outputs": [
    {
     "data": {
      "text/html": [
       "<div>\n",
       "<style scoped>\n",
       "    .dataframe tbody tr th:only-of-type {\n",
       "        vertical-align: middle;\n",
       "    }\n",
       "\n",
       "    .dataframe tbody tr th {\n",
       "        vertical-align: top;\n",
       "    }\n",
       "\n",
       "    .dataframe thead th {\n",
       "        text-align: right;\n",
       "    }\n",
       "</style>\n",
       "<table border=\"1\" class=\"dataframe\">\n",
       "  <thead>\n",
       "    <tr style=\"text-align: right;\">\n",
       "      <th></th>\n",
       "      <th>ID</th>\n",
       "      <th>TITLE</th>\n",
       "      <th>URL</th>\n",
       "      <th>PUBLISHER</th>\n",
       "      <th>CATEGORY</th>\n",
       "      <th>STORY</th>\n",
       "      <th>HOSTNAME</th>\n",
       "      <th>TIMESTAMP</th>\n",
       "    </tr>\n",
       "  </thead>\n",
       "  <tbody>\n",
       "    <tr>\n",
       "      <th>0</th>\n",
       "      <td>1</td>\n",
       "      <td>Fed official says weak data caused by weather,...</td>\n",
       "      <td>http://www.latimes.com/business/money/la-fi-mo...</td>\n",
       "      <td>Los Angeles Times</td>\n",
       "      <td>b</td>\n",
       "      <td>ddUyU0VZz0BRneMioxUPQVP6sIxvM</td>\n",
       "      <td>www.latimes.com</td>\n",
       "      <td>1394470370698</td>\n",
       "    </tr>\n",
       "    <tr>\n",
       "      <th>1</th>\n",
       "      <td>2</td>\n",
       "      <td>Fed's Charles Plosser sees high bar for change...</td>\n",
       "      <td>http://www.livemint.com/Politics/H2EvwJSK2VE6O...</td>\n",
       "      <td>Livemint</td>\n",
       "      <td>b</td>\n",
       "      <td>ddUyU0VZz0BRneMioxUPQVP6sIxvM</td>\n",
       "      <td>www.livemint.com</td>\n",
       "      <td>1394470371207</td>\n",
       "    </tr>\n",
       "    <tr>\n",
       "      <th>2</th>\n",
       "      <td>3</td>\n",
       "      <td>US open: Stocks fall after Fed official hints ...</td>\n",
       "      <td>http://www.ifamagazine.com/news/us-open-stocks...</td>\n",
       "      <td>IFA Magazine</td>\n",
       "      <td>b</td>\n",
       "      <td>ddUyU0VZz0BRneMioxUPQVP6sIxvM</td>\n",
       "      <td>www.ifamagazine.com</td>\n",
       "      <td>1394470371550</td>\n",
       "    </tr>\n",
       "    <tr>\n",
       "      <th>3</th>\n",
       "      <td>4</td>\n",
       "      <td>Fed risks falling 'behind the curve', Charles ...</td>\n",
       "      <td>http://www.ifamagazine.com/news/fed-risks-fall...</td>\n",
       "      <td>IFA Magazine</td>\n",
       "      <td>b</td>\n",
       "      <td>ddUyU0VZz0BRneMioxUPQVP6sIxvM</td>\n",
       "      <td>www.ifamagazine.com</td>\n",
       "      <td>1394470371793</td>\n",
       "    </tr>\n",
       "    <tr>\n",
       "      <th>4</th>\n",
       "      <td>5</td>\n",
       "      <td>Fed's Plosser: Nasty Weather Has Curbed Job Gr...</td>\n",
       "      <td>http://www.moneynews.com/Economy/federal-reser...</td>\n",
       "      <td>Moneynews</td>\n",
       "      <td>b</td>\n",
       "      <td>ddUyU0VZz0BRneMioxUPQVP6sIxvM</td>\n",
       "      <td>www.moneynews.com</td>\n",
       "      <td>1394470372027</td>\n",
       "    </tr>\n",
       "  </tbody>\n",
       "</table>\n",
       "</div>"
      ],
      "text/plain": [
       "   ID                                              TITLE  \\\n",
       "0   1  Fed official says weak data caused by weather,...   \n",
       "1   2  Fed's Charles Plosser sees high bar for change...   \n",
       "2   3  US open: Stocks fall after Fed official hints ...   \n",
       "3   4  Fed risks falling 'behind the curve', Charles ...   \n",
       "4   5  Fed's Plosser: Nasty Weather Has Curbed Job Gr...   \n",
       "\n",
       "                                                 URL          PUBLISHER  \\\n",
       "0  http://www.latimes.com/business/money/la-fi-mo...  Los Angeles Times   \n",
       "1  http://www.livemint.com/Politics/H2EvwJSK2VE6O...           Livemint   \n",
       "2  http://www.ifamagazine.com/news/us-open-stocks...       IFA Magazine   \n",
       "3  http://www.ifamagazine.com/news/fed-risks-fall...       IFA Magazine   \n",
       "4  http://www.moneynews.com/Economy/federal-reser...          Moneynews   \n",
       "\n",
       "  CATEGORY                          STORY             HOSTNAME      TIMESTAMP  \n",
       "0        b  ddUyU0VZz0BRneMioxUPQVP6sIxvM      www.latimes.com  1394470370698  \n",
       "1        b  ddUyU0VZz0BRneMioxUPQVP6sIxvM     www.livemint.com  1394470371207  \n",
       "2        b  ddUyU0VZz0BRneMioxUPQVP6sIxvM  www.ifamagazine.com  1394470371550  \n",
       "3        b  ddUyU0VZz0BRneMioxUPQVP6sIxvM  www.ifamagazine.com  1394470371793  \n",
       "4        b  ddUyU0VZz0BRneMioxUPQVP6sIxvM    www.moneynews.com  1394470372027  "
      ]
     },
     "execution_count": 37,
     "metadata": {},
     "output_type": "execute_result"
    }
   ],
   "source": [
    "import pandas as pd\n",
    "# csvファイルを読み込む\n",
    "df = pd.read_table('data/newsCorpora.csv', header=None, sep='\\\\t', engine='python')\n",
    "df.columns = ['ID', 'TITLE', 'URL', 'PUBLISHER', 'CATEGORY', 'STORY', 'HOSTNAME', 'TIMESTAMP']\n",
    "# 先頭5つ表示\n",
    "df.head()"
   ]
  },
  {
   "cell_type": "code",
   "execution_count": 38,
   "id": "6b3e1389",
   "metadata": {},
   "outputs": [
    {
     "data": {
      "text/plain": [
       "13356"
      ]
     },
     "execution_count": 38,
     "metadata": {},
     "output_type": "execute_result"
    }
   ],
   "source": [
    "# PUBLISHERが特定の行のみを取り出す\n",
    "publishers = ['Reuters', 'Huffington Post', 'Businessweek', 'Contactmusic.com', 'Daily Mail']\n",
    "daily_mails = df[df['PUBLISHER'].isin(publishers)]\n",
    "len(daily_mails)  # 取り出した行数"
   ]
  },
  {
   "cell_type": "code",
   "execution_count": 39,
   "id": "d4c92f24",
   "metadata": {},
   "outputs": [
    {
     "name": "stdout",
     "output_type": "stream",
     "text": [
      "10684 1336 1336\n"
     ]
    }
   ],
   "source": [
    "from sklearn.model_selection import train_test_split\n",
    "# 訓練データ、検証データ、テストデータに分ける\n",
    "# stratifyで偏りを減らしてみる\n",
    "train_data, non_train, train_target, non_train_target = train_test_split(daily_mails[['TITLE', 'CATEGORY']], daily_mails['CATEGORY'], train_size=0.8, random_state=0, stratify=daily_mails['CATEGORY'])\n",
    "valid_data, test_data = train_test_split(non_train, train_size=0.5, random_state=0,  stratify=non_train_target)\n",
    "print(len(train_data), len(valid_data), len(test_data))\n",
    "\n",
    "# テキストファイルに書き込む\n",
    "train_data.to_csv('work/train.txt', header=None, index=None, sep='\\t')\n",
    "valid_data.to_csv('work/valid.txt', header=None, index=None, sep='\\t')\n",
    "test_data.to_csv('work/test.txt', header=None, index=None, sep='\\t')"
   ]
  },
  {
   "cell_type": "code",
   "execution_count": 40,
   "id": "576936b9",
   "metadata": {},
   "outputs": [
    {
     "data": {
      "text/plain": [
       "CATEGORY\n",
       "b    4501\n",
       "e    4235\n",
       "t    1220\n",
       "m     728\n",
       "dtype: int64"
      ]
     },
     "execution_count": 40,
     "metadata": {},
     "output_type": "execute_result"
    }
   ],
   "source": [
    "train_data.value_counts('CATEGORY')"
   ]
  },
  {
   "cell_type": "code",
   "execution_count": 41,
   "id": "fdb9aa1e",
   "metadata": {},
   "outputs": [
    {
     "data": {
      "text/plain": [
       "CATEGORY\n",
       "b    563\n",
       "e    529\n",
       "t    153\n",
       "m     91\n",
       "dtype: int64"
      ]
     },
     "execution_count": 41,
     "metadata": {},
     "output_type": "execute_result"
    }
   ],
   "source": [
    "valid_data.value_counts('CATEGORY')"
   ]
  },
  {
   "cell_type": "code",
   "execution_count": 42,
   "id": "bba9b13d",
   "metadata": {},
   "outputs": [
    {
     "data": {
      "text/plain": [
       "CATEGORY\n",
       "b    563\n",
       "e    530\n",
       "t    152\n",
       "m     91\n",
       "dtype: int64"
      ]
     },
     "execution_count": 42,
     "metadata": {},
     "output_type": "execute_result"
    }
   ],
   "source": [
    "test_data.value_counts('CATEGORY')"
   ]
  },
  {
   "cell_type": "markdown",
   "id": "17af8066",
   "metadata": {},
   "source": [
    "<h2 id=\"51-特徴量抽出\">51. 特徴量抽出</h2>\n",
    "<p>学習データ，検証データ，評価データから特徴量を抽出し，それぞれ<code class=\"language-plaintext highlighter-rouge\">train.feature.txt</code>，<code class=\"language-plaintext highlighter-rouge\">valid.feature.txt</code>，<code class=\"language-plaintext highlighter-rouge\">test.feature.txt</code>というファイル名で保存せよ．\n",
    "なお，カテゴリ分類に有用そうな特徴量は各自で自由に設計せよ．記事の見出しを単語列に変換したものが最低限のベースラインとなるであろう．</p>\n"
   ]
  },
  {
   "cell_type": "code",
   "execution_count": 43,
   "id": "4da2abec",
   "metadata": {},
   "outputs": [
    {
     "name": "stdout",
     "output_type": "stream",
     "text": [
      "語彙数：12767\n",
      "('tesla', 11416)\n",
      "('is', 6069)\n",
      "('not', 7829)\n",
      "('ing', 5895)\n",
      "('around', 958)\n",
      "X_train shape : (10684, 12767)\n",
      "X_test shape  : (1336, 12767)\n",
      "[[0 0 0 ... 0 0 0]\n",
      " [0 0 0 ... 0 0 0]\n",
      " [0 0 0 ... 0 0 0]\n",
      " [0 0 0 ... 0 0 0]\n",
      " [0 0 0 ... 0 0 0]]\n"
     ]
    }
   ],
   "source": [
    "# 出現する単語の個数をカウントしてベクトル化する\n",
    "from sklearn.feature_extraction.text import CountVectorizer\n",
    "import numpy as np\n",
    "import pickle\n",
    "\n",
    "# 特徴ベクトル\n",
    "vec_count = CountVectorizer()\n",
    "vec_count.fit(train_data['TITLE'])  # 語彙の生成\n",
    "X_train = vec_count.transform(train_data['TITLE'])  # 特徴ベクトルの生成\n",
    "y_train = train_target.map({'b': 0, 'e': 1, 't': 2, 'm': 3})  # 正解カテゴリ\n",
    "X_valid = vec_count.transform(valid_data['TITLE'])\n",
    "X_test = vec_count.transform(test_data['TITLE'])\n",
    "\n",
    "\n",
    "# ファイルへの書き込み\n",
    "with (open('work/train.feature.pkl', 'wb') as train_text,\n",
    "      open('work/valid.feature.pkl', 'wb') as valid_text,\n",
    "      open('work/test.feature.pkl', 'wb') as test_text):\n",
    "    pickle.dump(X_train, train_text)\n",
    "    pickle.dump(X_valid, valid_text)\n",
    "    pickle.dump(X_test, test_text)\n",
    "\n",
    "# 表示\n",
    "from itertools import islice\n",
    "print(f'語彙数：{len(vec_count.vocabulary_)}')\n",
    "# 5個だけ表示したい\n",
    "for vocaburary in islice(vec_count.vocabulary_.items(), 5):\n",
    "    print(vocaburary)\n",
    "\n",
    "print(f'X_train shape : {X_train.shape}')\n",
    "# 書き込めているか確認\n",
    "np.set_printoptions(threshold=10)\n",
    "with open('work/test.feature.pkl', 'rb') as f:\n",
    "    data = pickle.load(f)\n",
    "    print(f'X_test shape  : {data.shape}')\n",
    "    print(data.toarray()[:5])"
   ]
  },
  {
   "cell_type": "code",
   "execution_count": 44,
   "id": "b8333a83",
   "metadata": {},
   "outputs": [
    {
     "name": "stdout",
     "output_type": "stream",
     "text": [
      "[[0. 0. 0. ... 0. 0. 0.]\n",
      " [0. 0. 0. ... 0. 0. 0.]\n",
      " [0. 0. 0. ... 0. 0. 0.]\n",
      " ...\n",
      " [0. 0. 0. ... 0. 0. 0.]\n",
      " [0. 0. 0. ... 0. 0. 0.]\n",
      " [0. 0. 0. ... 0. 0. 0.]]\n",
      "(10684, 12513)\n"
     ]
    }
   ],
   "source": [
    "# TF-IDF法\n",
    "from sklearn.feature_extraction.text import TfidfVectorizer\n",
    "\n",
    "vec_tfidf = TfidfVectorizer(stop_words='english')\n",
    "X2_train = vec_tfidf.fit_transform(train_data['TITLE'])\n",
    "print(X2_train.toarray())\n",
    "print(X2_train.shape)"
   ]
  },
  {
   "cell_type": "markdown",
   "id": "2946c624",
   "metadata": {},
   "source": [
    "<h2 id=\"52-学習\">52. 学習</h2>\n",
    "<p>51で構築した学習データを用いて，ロジスティック回帰モデルを学習せよ．</p>\n"
   ]
  },
  {
   "cell_type": "code",
   "execution_count": 45,
   "id": "2386381c",
   "metadata": {},
   "outputs": [
    {
     "name": "stdout",
     "output_type": "stream",
     "text": [
      "train accuracy : 0.9967240733807563\n"
     ]
    }
   ],
   "source": [
    "from sklearn.linear_model import LogisticRegression\n",
    "\n",
    "lr = LogisticRegression(max_iter=200)  # モデルを指定\n",
    "result = lr.fit(X_train, y_train)  # 訓練データで学習をする\n",
    "print(f'train accuracy : {result.score(X_train, y_train)}')  # 正解率"
   ]
  },
  {
   "cell_type": "markdown",
   "id": "85b1aaa5",
   "metadata": {},
   "source": [
    "<h2 id=\"53-予測\">53. 予測</h2>\n",
    "<p>52で学習したロジスティック回帰モデルを用い，与えられた記事見出しからカテゴリとその予測確率を計算するプログラムを実装せよ．</p>\n"
   ]
  },
  {
   "cell_type": "code",
   "execution_count": 46,
   "id": "3bf42eaa",
   "metadata": {},
   "outputs": [
    {
     "name": "stdout",
     "output_type": "stream",
     "text": [
      "訓練データの正解率 : 0.9967240733807563\n",
      "予想カテゴリとその大きさ : (10684,)\n",
      "[2 1 0 ... 1 0 1]\n",
      "確率分布とその大きさ : (10684, 4)\n",
      "[[1.30092616e-01 1.42236163e-01 7.03129866e-01 2.45413550e-02]\n",
      " [1.20587491e-03 9.96624533e-01 1.10546989e-03 1.06412216e-03]\n",
      " [9.74413213e-01 2.57549328e-03 2.22216038e-02 7.89690289e-04]\n",
      " ...\n",
      " [9.65992112e-03 9.86735648e-01 5.74937445e-04 3.02949332e-03]\n",
      " [9.47022501e-01 9.81149777e-03 4.08489611e-02 2.31704000e-03]\n",
      " [3.23158148e-02 9.50898036e-01 1.27284920e-02 4.05765726e-03]]\n"
     ]
    }
   ],
   "source": [
    "pred = lr.predict(X_train)  # 訓練データを用いてカテゴリ予測\n",
    "probabilitys = lr.predict_proba(X_train)  # それぞれのデータについて、カテゴリの確率分布を求める\n",
    "# 表示\n",
    "print(f'訓練データの正解率 : {lr.score(X_train, y_train)}')\n",
    "print(f'予想カテゴリとその大きさ : {pred.shape}')\n",
    "print(pred)\n",
    "print(f'確率分布とその大きさ : {probabilitys.shape}')\n",
    "print(probabilitys)"
   ]
  },
  {
   "cell_type": "markdown",
   "id": "28bd91a6",
   "metadata": {},
   "source": [
    "<h2 id=\"54-正解率の計測\">54. 正解率の計測</h2>\n",
    "<p>52で学習したロジスティック回帰モデルの正解率を，学習データおよび評価データ上で計測せよ．</p>\n"
   ]
  },
  {
   "cell_type": "code",
   "execution_count": 47,
   "id": "96a2c8ac",
   "metadata": {},
   "outputs": [
    {
     "name": "stdout",
     "output_type": "stream",
     "text": [
      "train accuracy : 0.9967240733807563\n",
      "test  accuracy : 0.9184131736526946\n",
      "valid accuracy : 0.8974550898203593\n"
     ]
    }
   ],
   "source": [
    "# 評価データと検証データのカテゴリを作成\n",
    "y_test = test_data['CATEGORY'].map({'b': 0, 'e': 1, 't': 2, 'm': 3})\n",
    "y_valid = valid_data['CATEGORY'].map({'b': 0, 'e': 1, 't': 2, 'm': 3})\n",
    "# 訓練データ、評価データ、検証データの正答率\n",
    "print(f'train accuracy : {lr.score(X_train, y_train)}')\n",
    "print(f'test  accuracy : {lr.score(X_test, y_test)}')\n",
    "print(f'valid accuracy : {lr.score(X_valid, y_valid)}')"
   ]
  },
  {
   "cell_type": "code",
   "execution_count": 48,
   "id": "5fe5431a",
   "metadata": {},
   "outputs": [
    {
     "name": "stdout",
     "output_type": "stream",
     "text": [
      "train accuracy :  0.9967240733807563\n",
      "test accuracy :  0.9184131736526946\n"
     ]
    }
   ],
   "source": [
    "from sklearn.metrics import accuracy_score\n",
    "# 真の正解カテゴリy_trainと予測カテゴリpred_yの一致している割合から正解率を求める\n",
    "# 訓練データ\n",
    "pred_train = lr.predict(X_train)\n",
    "print(\"train accuracy : \", accuracy_score(y_train, pred_train))\n",
    "# 評価データ\n",
    "pred_test = lr.predict(X_test)\n",
    "print(\"test accuracy : \", accuracy_score(y_test, pred_test))"
   ]
  },
  {
   "cell_type": "markdown",
   "id": "2813bd6b",
   "metadata": {},
   "source": [
    "<h2 id=\"55-混同行列の作成\">55. 混同行列の作成</h2>\n",
    "<p>52で学習したロジスティック回帰モデルの混同行列（confusion matrix）を，学習データおよび評価データ上で作成せよ．</p>\n"
   ]
  },
  {
   "cell_type": "code",
   "execution_count": 49,
   "id": "d4888d25",
   "metadata": {},
   "outputs": [
    {
     "name": "stdout",
     "output_type": "stream",
     "text": [
      "学習データ\n",
      "[[4492    2    7    0]\n",
      " [   6 4228    1    0]\n",
      " [  12    1 1207    0]\n",
      " [   2    4    0  722]]\n",
      "評価データ\n",
      "[[533  17  11   2]\n",
      " [ 10 516   4   0]\n",
      " [ 20  18 114   0]\n",
      " [  6  16   5  64]]\n"
     ]
    }
   ],
   "source": [
    "from sklearn.metrics import confusion_matrix\n",
    "\n",
    "print('学習データ')\n",
    "print(confusion_matrix(y_train, pred_train))\n",
    "print('評価データ')\n",
    "print(confusion_matrix(y_test, pred_test))\n"
   ]
  },
  {
   "cell_type": "markdown",
   "id": "b6da8d46",
   "metadata": {},
   "source": [
    "<h2 id=\"56-適合率再現率f1スコアの計測\">56. 適合率，再現率，F1スコアの計測</h2>\n",
    "<p>52で学習したロジスティック回帰モデルの適合率，再現率，F1スコアを，評価データ上で計測せよ．カテゴリごとに適合率，再現率，F1スコアを求め，カテゴリごとの性能をマイクロ平均（micro-average）とマクロ平均（macro-average）で統合せよ．</p>\n"
   ]
  },
  {
   "cell_type": "code",
   "execution_count": 50,
   "id": "464f72d2",
   "metadata": {},
   "outputs": [
    {
     "name": "stdout",
     "output_type": "stream",
     "text": [
      "適合率 : [0.93673111 0.91005291 0.85074627 0.96969697]\n",
      "再現率 : [0.94671403 0.97358491 0.75       0.7032967 ]\n",
      "f1スコア : [0.94169611 0.94074749 0.7972028  0.81528662]\n",
      "適合率のマイクロ平均 : 0.9184131736526946\n",
      "再現率のマイクロ平均 : 0.9184131736526946\n",
      "f1スコアのマイクロ平均 : 0.9184131736526946\n",
      "適合率のマクロ平均 : 0.916806813903055\n",
      "再現率のマクロ平均 : 0.8433989102321654\n",
      "f1スコアのマクロ平均 : 0.873733256910999\n"
     ]
    }
   ],
   "source": [
    "from sklearn.metrics import precision_score, recall_score, f1_score, confusion_matrix\n",
    "\n",
    "# 適合率\n",
    "# なんかエラーになっちゃう\n",
    "# precision = precision_score(y_test, pred_test)\n",
    "precision = precision_score(y_test, pred_test, average=None)\n",
    "print(f'適合率 : {precision}')\n",
    "# 再現率\n",
    "recall = recall_score(y_test, pred_test, average=None)\n",
    "print(f'再現率 : {recall}')\n",
    "# F1スコア\n",
    "f1 = f1_score(y_test, pred_test, average=None)\n",
    "print(f'f1スコア : {f1}')\n",
    "# マイクロ平均\n",
    "micro_ave = precision_score(y_test, pred_test, average='micro')\n",
    "print(f'適合率のマイクロ平均 : {micro_ave}')\n",
    "micro_ave = recall_score(y_test, pred_test, average='micro')\n",
    "print(f'再現率のマイクロ平均 : {micro_ave}')\n",
    "micro_ave = f1_score(y_test, pred_test, average='micro')\n",
    "print(f'f1スコアのマイクロ平均 : {micro_ave}')\n",
    "# マクロ平均\n",
    "micro_ave = precision_score(y_test, pred_test, average='macro')\n",
    "print(f'適合率のマクロ平均 : {micro_ave}')\n",
    "micro_ave = recall_score(y_test, pred_test, average='macro')\n",
    "print(f'再現率のマクロ平均 : {micro_ave}')\n",
    "micro_ave = f1_score(y_test, pred_test, average='macro')\n",
    "print(f'f1スコアのマクロ平均 : {micro_ave}')"
   ]
  },
  {
   "cell_type": "markdown",
   "id": "76c7099f",
   "metadata": {},
   "source": [
    "<h2 id=\"57-特徴量の重みの確認\">57. 特徴量の重みの確認</h2>\n",
    "<p>52で学習したロジスティック回帰モデルの中で，重みの高い特徴量トップ10と，重みの低い特徴量トップ10を確認せよ．</p>\n"
   ]
  },
  {
   "cell_type": "code",
   "execution_count": 51,
   "id": "a60c2c1e",
   "metadata": {},
   "outputs": [],
   "source": [
    "# FurureWarningが出ないようにする\n",
    "import warnings\n",
    "warnings.simplefilter('ignore', FutureWarning)"
   ]
  },
  {
   "cell_type": "code",
   "execution_count": 52,
   "id": "3288607d",
   "metadata": {},
   "outputs": [
    {
     "name": "stdout",
     "output_type": "stream",
     "text": [
      "[[ 0.07671332  0.02070476  0.00629137 ... -0.05899546 -0.08012756\n",
      "  -0.00133916]\n",
      " [-0.04808513 -0.01086377 -0.00320134 ...  0.11084848  0.09002905\n",
      "   0.00519759]\n",
      " [-0.01436679 -0.00574109 -0.00121077 ... -0.03176936 -0.00644583\n",
      "  -0.00275364]\n",
      " [-0.01426141 -0.00409991 -0.00187926 ... -0.02008366 -0.00345567\n",
      "  -0.00110479]]\n",
      "[[ 4395  1230  3824 ...  3821   544   458]\n",
      " [ 6279  2332  8295 ...  4273  5015  5050]\n",
      " [ 4273  5050   886 ...  5167  8368 10924]\n",
      " [ 3821  1999  4380 ...  3416  5015  4273]]\n",
      "feuding\n"
     ]
    }
   ],
   "source": [
    "# 確かめ\n",
    "import numpy as np\n",
    "print(lr.coef_)\n",
    "print(np.argsort(-lr.coef_))\n",
    "print(vec_count.get_feature_names()[4435])\n",
    "\n"
   ]
  },
  {
   "cell_type": "code",
   "execution_count": 53,
   "id": "f62f460c",
   "metadata": {},
   "outputs": [
    {
     "name": "stdout",
     "output_type": "stream",
     "text": [
      "重みTOP10\n",
      "b : ['fed', 'bank', 'ecb', 'obamacare', 'ukraine', 'yellen', 'china', 'oil', 'pfizer', 'euro']\n",
      "e : ['kardashian', 'chris', 'paul', 'george', 'transformers', 'thrones', 'cyrus', 'movie', 'miley', 'aereo']\n",
      "t : ['facebook', 'google', 'apple', 'microsoft', 'climate', 'heartbleed', 'activision', 'tesla', 'nasa', 'fcc']\n",
      "m : ['ebola', 'cancer', 'fda', 'mers', 'cases', 'study', 'drug', 'medical', 'cigarettes', 'cdc']\n",
      "重みWORST10\n",
      "b : ['activision', 'aereo', 'ebola', 'cap', 'heartbleed', 'nintendo', 'twitch', 'video', 'she', 'review']\n",
      "e : ['google', 'gm', 'facebook', 'apple', 'china', 'ceo', 'scientists', 'billion', 'data', 'ebola']\n",
      "t : ['stocks', 'percent', 'grows', 'brand', 'valued', 'american', 'his', 'shares', 'move', 'drug']\n",
      "m : ['facebook', 'gm', 'dimon', 'climate', 'apple', 'twitter', 'alibaba', 'cars', 'bank', 'game']\n"
     ]
    }
   ],
   "source": [
    "print('重みTOP10')\n",
    "# b\n",
    "b_top10 = [vec_count.get_feature_names()[index] for index in np.argsort(-lr.coef_)[0][:10]]\n",
    "print(f'b : {b_top10}')\n",
    "# e\n",
    "e_top10 = [vec_count.get_feature_names()[index] for index in np.argsort(-lr.coef_)[1][:10]]\n",
    "print(f'e : {e_top10}')\n",
    "# t\n",
    "t_top10 = [vec_count.get_feature_names()[index] for index in np.argsort(-lr.coef_)[2][:10]]\n",
    "print(f't : {t_top10}')\n",
    "# m\n",
    "m_top10 = [vec_count.get_feature_names()[index] for index in np.argsort(-lr.coef_)[3][:10]]\n",
    "print(f'm : {m_top10}')\n",
    "\n",
    "print('重みWORST10')\n",
    "# b\n",
    "b_worst10 = [vec_count.get_feature_names()[index] for index in np.argsort(lr.coef_)[0][:10]]\n",
    "print(f'b : {b_worst10}')\n",
    "# e\n",
    "e_worst10 = [vec_count.get_feature_names()[index] for index in np.argsort(lr.coef_)[1][:10]]\n",
    "print(f'e : {e_worst10}')\n",
    "# t\n",
    "t_worst10 = [vec_count.get_feature_names()[index] for index in np.argsort(lr.coef_)[2][:10]]\n",
    "print(f't : {t_worst10}')\n",
    "# m\n",
    "m_worst10 = [vec_count.get_feature_names()[index] for index in np.argsort(lr.coef_)[3][:10]]\n",
    "print(f'm : {m_worst10}')"
   ]
  },
  {
   "cell_type": "markdown",
   "id": "fa330ac2",
   "metadata": {},
   "source": [
    "<h2 id=\"58-正則化パラメータの変更\">58. 正則化パラメータの変更</h2>\n",
    "<p>ロジスティック回帰モデルを学習するとき，正則化パラメータを調整することで，学習時の過学習（overfitting）の度合いを制御できる．異なる正則化パラメータでロジスティック回帰モデルを学習し，学習データ，検証データ，および評価データ上の正解率を求めよ．実験の結果は，正則化パラメータを横軸，正解率を縦軸としたグラフにまとめよ．</p>\n"
   ]
  },
  {
   "cell_type": "code",
   "execution_count": 54,
   "id": "3a1d8f59",
   "metadata": {},
   "outputs": [
    {
     "name": "stdout",
     "output_type": "stream",
     "text": [
      "0.9191616766467066\n",
      "[0.  0.1 0.2 0.3 0.4 0.5 0.6 0.7 0.8 0.9]\n"
     ]
    }
   ],
   "source": [
    "# とりあえず１個パラメータを変更して試してみる\n",
    "annother_lr = LogisticRegression(C=2, random_state=0, max_iter=200)\n",
    "annother_lr.fit(X_train, y_train)  # 学習\n",
    "print(annother_lr.score(X_test, y_test))  # 正解率\n",
    "print(np.arange(0, 1, 0.1))  # 小数点のリストの確認"
   ]
  },
  {
   "cell_type": "code",
   "execution_count": 63,
   "id": "2dfd8981",
   "metadata": {},
   "outputs": [
    {
     "name": "stderr",
     "output_type": "stream",
     "text": [
      "/Users/nyuton/.pyenv/versions/anaconda3-2022.10/lib/python3.9/site-packages/sklearn/linear_model/_logistic.py:444: ConvergenceWarning: lbfgs failed to converge (status=1):\n",
      "STOP: TOTAL NO. of ITERATIONS REACHED LIMIT.\n",
      "\n",
      "Increase the number of iterations (max_iter) or scale the data as shown in:\n",
      "    https://scikit-learn.org/stable/modules/preprocessing.html\n",
      "Please also refer to the documentation for alternative solver options:\n",
      "    https://scikit-learn.org/stable/modules/linear_model.html#logistic-regression\n",
      "  n_iter_i = _check_optimize_result(\n"
     ]
    }
   ],
   "source": [
    "def category_classify(classify_model, max_iter=1000):\n",
    "    coefficients = [1, 2, 4, 8]  # 係数のリスト\n",
    "    accuracys = [[], [], []]  # 正解率を格納するリスト\n",
    "    for c in range(7): # 1000を超えると1000回回しても学習が終わらなかった\n",
    "        c_exp = 10 ** (c-3)  # 0.001から1000まで\n",
    "        for coefficient in coefficients:\n",
    "            # print(coefficient)\n",
    "            c_exp_coef = c_exp * coefficient  # 係数をかける\n",
    "            # print(c_exp_coef)\n",
    "            for i, X_y in enumerate([(X_train, y_train), (X_valid, y_valid), (X_test, y_test)]):\n",
    "                model = classify_model(C=c_exp_coef, random_state=0, max_iter=max_iter)\n",
    "                model.fit(X_y[0], X_y[1])\n",
    "                accuracys[i].append((c_exp_coef, model.score(X_test, y_test)))\n",
    "                # print(c)\n",
    "    return model, accuracys\n",
    "\n",
    "lr, accuracys = category_classify(LogisticRegression)\n",
    "# c = 8000にすると1000回回しても終わらないっぽい"
   ]
  },
  {
   "cell_type": "code",
   "execution_count": 64,
   "id": "19c4697e",
   "metadata": {},
   "outputs": [
    {
     "name": "stdout",
     "output_type": "stream",
     "text": [
      "各パラメータでの正解率\n",
      "train\n",
      "[(0.001, 0.718562874251497), (0.002, 0.7267964071856288), (0.004, 0.7395209580838323), (0.008, 0.7664670658682635), (0.01, 0.7784431137724551), (0.02, 0.812874251497006), (0.04, 0.8458083832335329), (0.08, 0.875), (0.1, 0.8824850299401198), (0.2, 0.8982035928143712), (0.4, 0.9094311377245509), (0.8, 0.9161676646706587), (1, 0.9184131736526946), (2, 0.9191616766467066), (4, 0.9184131736526946), (8, 0.9199101796407185), (10, 0.9191616766467066), (20, 0.9191616766467066), (40, 0.9199101796407185), (80, 0.9191616766467066), (100, 0.9184131736526946), (200, 0.9191616766467066), (400, 0.9176646706586826), (800, 0.9154191616766467), (1000, 0.9161676646706587), (2000, 0.9154191616766467), (4000, 0.9154191616766467), (8000, 0.9146706586826348)]\n",
      "valid\n",
      "[(0.001, 0.5808383233532934), (0.002, 0.6497005988023952), (0.004, 0.6766467065868264), (0.008, 0.6931137724550899), (0.01, 0.6976047904191617), (0.02, 0.7110778443113772), (0.04, 0.7267964071856288), (0.08, 0.7447604790419161), (0.1, 0.7559880239520959), (0.2, 0.7769461077844312), (0.4, 0.7926646706586826), (0.8, 0.8031437125748503), (1, 0.8038922155688623), (2, 0.812125748502994), (4, 0.8143712574850299), (8, 0.8173652694610778), (10, 0.8188622754491018), (20, 0.8211077844311377), (40, 0.8211077844311377), (80, 0.8255988023952096), (100, 0.8255988023952096), (200, 0.8233532934131736), (400, 0.8233532934131736), (800, 0.8241017964071856), (1000, 0.8248502994011976), (2000, 0.8248502994011976), (4000, 0.8270958083832335), (8000, 0.8270958083832335)]\n",
      "test\n",
      "[(0.001, 0.5980538922155688), (0.002, 0.6811377245508982), (0.004, 0.7260479041916168), (0.008, 0.749251497005988), (0.01, 0.7544910179640718), (0.02, 0.7709580838323353), (0.04, 0.7859281437125748), (0.08, 0.8345808383233533), (0.1, 0.8540419161676647), (0.2, 0.9348802395209581), (0.4, 0.9827844311377245), (0.8, 0.9985029940119761), (1, 0.9985029940119761), (2, 1.0), (4, 1.0), (8, 1.0), (10, 1.0), (20, 1.0), (40, 1.0), (80, 1.0), (100, 1.0), (200, 1.0), (400, 1.0), (800, 1.0), (1000, 1.0), (2000, 1.0), (4000, 1.0), (8000, 1.0)]\n"
     ]
    }
   ],
   "source": [
    "# 表示\n",
    "print(f'各パラメータでの正解率')\n",
    "print('train')\n",
    "print(accuracys[0])\n",
    "print('valid')\n",
    "print(accuracys[1])\n",
    "print('test')\n",
    "print(accuracys[2])"
   ]
  },
  {
   "cell_type": "code",
   "execution_count": 65,
   "id": "480ad73f",
   "metadata": {},
   "outputs": [
    {
     "data": {
      "text/html": [
       "<div>\n",
       "<style scoped>\n",
       "    .dataframe tbody tr th:only-of-type {\n",
       "        vertical-align: middle;\n",
       "    }\n",
       "\n",
       "    .dataframe tbody tr th {\n",
       "        vertical-align: top;\n",
       "    }\n",
       "\n",
       "    .dataframe thead th {\n",
       "        text-align: right;\n",
       "    }\n",
       "</style>\n",
       "<table border=\"1\" class=\"dataframe\">\n",
       "  <thead>\n",
       "    <tr style=\"text-align: right;\">\n",
       "      <th></th>\n",
       "      <th>c</th>\n",
       "      <th>accuracy</th>\n",
       "    </tr>\n",
       "  </thead>\n",
       "  <tbody>\n",
       "    <tr>\n",
       "      <th>0</th>\n",
       "      <td>0.001</td>\n",
       "      <td>0.718563</td>\n",
       "    </tr>\n",
       "    <tr>\n",
       "      <th>1</th>\n",
       "      <td>0.002</td>\n",
       "      <td>0.726796</td>\n",
       "    </tr>\n",
       "    <tr>\n",
       "      <th>2</th>\n",
       "      <td>0.004</td>\n",
       "      <td>0.739521</td>\n",
       "    </tr>\n",
       "    <tr>\n",
       "      <th>3</th>\n",
       "      <td>0.008</td>\n",
       "      <td>0.766467</td>\n",
       "    </tr>\n",
       "    <tr>\n",
       "      <th>4</th>\n",
       "      <td>0.010</td>\n",
       "      <td>0.778443</td>\n",
       "    </tr>\n",
       "    <tr>\n",
       "      <th>5</th>\n",
       "      <td>0.020</td>\n",
       "      <td>0.812874</td>\n",
       "    </tr>\n",
       "    <tr>\n",
       "      <th>6</th>\n",
       "      <td>0.040</td>\n",
       "      <td>0.845808</td>\n",
       "    </tr>\n",
       "    <tr>\n",
       "      <th>7</th>\n",
       "      <td>0.080</td>\n",
       "      <td>0.875000</td>\n",
       "    </tr>\n",
       "    <tr>\n",
       "      <th>8</th>\n",
       "      <td>0.100</td>\n",
       "      <td>0.882485</td>\n",
       "    </tr>\n",
       "    <tr>\n",
       "      <th>9</th>\n",
       "      <td>0.200</td>\n",
       "      <td>0.898204</td>\n",
       "    </tr>\n",
       "    <tr>\n",
       "      <th>10</th>\n",
       "      <td>0.400</td>\n",
       "      <td>0.909431</td>\n",
       "    </tr>\n",
       "    <tr>\n",
       "      <th>11</th>\n",
       "      <td>0.800</td>\n",
       "      <td>0.916168</td>\n",
       "    </tr>\n",
       "    <tr>\n",
       "      <th>12</th>\n",
       "      <td>1.000</td>\n",
       "      <td>0.918413</td>\n",
       "    </tr>\n",
       "    <tr>\n",
       "      <th>13</th>\n",
       "      <td>2.000</td>\n",
       "      <td>0.919162</td>\n",
       "    </tr>\n",
       "    <tr>\n",
       "      <th>14</th>\n",
       "      <td>4.000</td>\n",
       "      <td>0.918413</td>\n",
       "    </tr>\n",
       "    <tr>\n",
       "      <th>15</th>\n",
       "      <td>8.000</td>\n",
       "      <td>0.919910</td>\n",
       "    </tr>\n",
       "    <tr>\n",
       "      <th>16</th>\n",
       "      <td>10.000</td>\n",
       "      <td>0.919162</td>\n",
       "    </tr>\n",
       "    <tr>\n",
       "      <th>17</th>\n",
       "      <td>20.000</td>\n",
       "      <td>0.919162</td>\n",
       "    </tr>\n",
       "    <tr>\n",
       "      <th>18</th>\n",
       "      <td>40.000</td>\n",
       "      <td>0.919910</td>\n",
       "    </tr>\n",
       "    <tr>\n",
       "      <th>19</th>\n",
       "      <td>80.000</td>\n",
       "      <td>0.919162</td>\n",
       "    </tr>\n",
       "    <tr>\n",
       "      <th>20</th>\n",
       "      <td>100.000</td>\n",
       "      <td>0.918413</td>\n",
       "    </tr>\n",
       "    <tr>\n",
       "      <th>21</th>\n",
       "      <td>200.000</td>\n",
       "      <td>0.919162</td>\n",
       "    </tr>\n",
       "    <tr>\n",
       "      <th>22</th>\n",
       "      <td>400.000</td>\n",
       "      <td>0.917665</td>\n",
       "    </tr>\n",
       "    <tr>\n",
       "      <th>23</th>\n",
       "      <td>800.000</td>\n",
       "      <td>0.915419</td>\n",
       "    </tr>\n",
       "    <tr>\n",
       "      <th>24</th>\n",
       "      <td>1000.000</td>\n",
       "      <td>0.916168</td>\n",
       "    </tr>\n",
       "    <tr>\n",
       "      <th>25</th>\n",
       "      <td>2000.000</td>\n",
       "      <td>0.915419</td>\n",
       "    </tr>\n",
       "    <tr>\n",
       "      <th>26</th>\n",
       "      <td>4000.000</td>\n",
       "      <td>0.915419</td>\n",
       "    </tr>\n",
       "    <tr>\n",
       "      <th>27</th>\n",
       "      <td>8000.000</td>\n",
       "      <td>0.914671</td>\n",
       "    </tr>\n",
       "  </tbody>\n",
       "</table>\n",
       "</div>"
      ],
      "text/plain": [
       "           c  accuracy\n",
       "0      0.001  0.718563\n",
       "1      0.002  0.726796\n",
       "2      0.004  0.739521\n",
       "3      0.008  0.766467\n",
       "4      0.010  0.778443\n",
       "5      0.020  0.812874\n",
       "6      0.040  0.845808\n",
       "7      0.080  0.875000\n",
       "8      0.100  0.882485\n",
       "9      0.200  0.898204\n",
       "10     0.400  0.909431\n",
       "11     0.800  0.916168\n",
       "12     1.000  0.918413\n",
       "13     2.000  0.919162\n",
       "14     4.000  0.918413\n",
       "15     8.000  0.919910\n",
       "16    10.000  0.919162\n",
       "17    20.000  0.919162\n",
       "18    40.000  0.919910\n",
       "19    80.000  0.919162\n",
       "20   100.000  0.918413\n",
       "21   200.000  0.919162\n",
       "22   400.000  0.917665\n",
       "23   800.000  0.915419\n",
       "24  1000.000  0.916168\n",
       "25  2000.000  0.915419\n",
       "26  4000.000  0.915419\n",
       "27  8000.000  0.914671"
      ]
     },
     "execution_count": 65,
     "metadata": {},
     "output_type": "execute_result"
    }
   ],
   "source": [
    "# DataFrameにする\n",
    "df_acc_train = pd.DataFrame(accuracys[0], columns=['c', 'accuracy'])\n",
    "df_acc_valid = pd.DataFrame(accuracys[1], columns=['c', 'accuracy'])\n",
    "df_acc_test = pd.DataFrame(accuracys[2], columns=['c', 'accuracy'])\n",
    "df_acc_train # trainだけ表示"
   ]
  },
  {
   "cell_type": "code",
   "execution_count": 66,
   "id": "58dee2b7",
   "metadata": {},
   "outputs": [
    {
     "data": {
      "image/png": "[encoded data removed]",
      "text/plain": [
       "<Figure size 640x480 with 1 Axes>"
      ]
     },
     "metadata": {},
     "output_type": "display_data"
    }
   ],
   "source": [
    "# グラフで表示\n",
    "import matplotlib.pyplot as plt\n",
    "df_acc_train = pd.DataFrame(accuracys[0], columns=['c', 'accuracy'])\n",
    "df_acc_valid = pd.DataFrame(accuracys[1], columns=['c', 'accuracy'])\n",
    "df_acc_test = pd.DataFrame(accuracys[2], columns=['c', 'accuracy'])\n",
    "plt.plot(df_acc_train['c'], df_acc_train['accuracy'], label='train')\n",
    "plt.plot(df_acc_valid['c'], df_acc_valid['accuracy'], label='valid')\n",
    "plt.plot(df_acc_test['c'], df_acc_test['accuracy'], label='test')\n",
    "plt.xscale('log')\n",
    "plt.xlabel('c')\n",
    "plt.ylabel('accuracy')\n",
    "plt.legend() # 各データのラベルを表示\n",
    "plt.show()\n",
    "# なんでtestのほうがいい結果になってるの？？？\n",
    "# testとvalidがこんなに違うのはどういうこと？"
   ]
  },
  {
   "cell_type": "markdown",
   "id": "bc9b504e",
   "metadata": {},
   "source": [
    "<h2 id=\"59-ハイパーパラメータの探索\">59. ハイパーパラメータの探索</h2>\n",
    "<p>学習アルゴリズムや学習パラメータを変えながら，カテゴリ分類モデルを学習せよ．検証データ上の正解率が最も高くなる学習アルゴリズム・パラメータを求めよ．また，その学習アルゴリズム・パラメータを用いたときの評価データ上の正解率を求めよ．</p>\n"
   ]
  },
  {
   "cell_type": "code",
   "execution_count": 67,
   "id": "2d656755",
   "metadata": {},
   "outputs": [
    {
     "name": "stderr",
     "output_type": "stream",
     "text": [
      "/Users/nyuton/.pyenv/versions/anaconda3-2022.10/lib/python3.9/site-packages/sklearn/svm/_base.py:301: ConvergenceWarning: Solver terminated early (max_iter=5000).  Consider pre-processing your data with StandardScaler or MinMaxScaler.\n",
      "  warnings.warn(\n",
      "/Users/nyuton/.pyenv/versions/anaconda3-2022.10/lib/python3.9/site-packages/sklearn/svm/_base.py:301: ConvergenceWarning: Solver terminated early (max_iter=5000).  Consider pre-processing your data with StandardScaler or MinMaxScaler.\n",
      "  warnings.warn(\n",
      "/Users/nyuton/.pyenv/versions/anaconda3-2022.10/lib/python3.9/site-packages/sklearn/svm/_base.py:301: ConvergenceWarning: Solver terminated early (max_iter=5000).  Consider pre-processing your data with StandardScaler or MinMaxScaler.\n",
      "  warnings.warn(\n",
      "/Users/nyuton/.pyenv/versions/anaconda3-2022.10/lib/python3.9/site-packages/sklearn/svm/_base.py:301: ConvergenceWarning: Solver terminated early (max_iter=5000).  Consider pre-processing your data with StandardScaler or MinMaxScaler.\n",
      "  warnings.warn(\n",
      "/Users/nyuton/.pyenv/versions/anaconda3-2022.10/lib/python3.9/site-packages/sklearn/svm/_base.py:301: ConvergenceWarning: Solver terminated early (max_iter=5000).  Consider pre-processing your data with StandardScaler or MinMaxScaler.\n",
      "  warnings.warn(\n",
      "/Users/nyuton/.pyenv/versions/anaconda3-2022.10/lib/python3.9/site-packages/sklearn/svm/_base.py:301: ConvergenceWarning: Solver terminated early (max_iter=5000).  Consider pre-processing your data with StandardScaler or MinMaxScaler.\n",
      "  warnings.warn(\n",
      "/Users/nyuton/.pyenv/versions/anaconda3-2022.10/lib/python3.9/site-packages/sklearn/svm/_base.py:301: ConvergenceWarning: Solver terminated early (max_iter=5000).  Consider pre-processing your data with StandardScaler or MinMaxScaler.\n",
      "  warnings.warn(\n",
      "/Users/nyuton/.pyenv/versions/anaconda3-2022.10/lib/python3.9/site-packages/sklearn/svm/_base.py:301: ConvergenceWarning: Solver terminated early (max_iter=5000).  Consider pre-processing your data with StandardScaler or MinMaxScaler.\n",
      "  warnings.warn(\n",
      "/Users/nyuton/.pyenv/versions/anaconda3-2022.10/lib/python3.9/site-packages/sklearn/svm/_base.py:301: ConvergenceWarning: Solver terminated early (max_iter=5000).  Consider pre-processing your data with StandardScaler or MinMaxScaler.\n",
      "  warnings.warn(\n",
      "/Users/nyuton/.pyenv/versions/anaconda3-2022.10/lib/python3.9/site-packages/sklearn/svm/_base.py:301: ConvergenceWarning: Solver terminated early (max_iter=5000).  Consider pre-processing your data with StandardScaler or MinMaxScaler.\n",
      "  warnings.warn(\n",
      "/Users/nyuton/.pyenv/versions/anaconda3-2022.10/lib/python3.9/site-packages/sklearn/svm/_base.py:301: ConvergenceWarning: Solver terminated early (max_iter=5000).  Consider pre-processing your data with StandardScaler or MinMaxScaler.\n",
      "  warnings.warn(\n",
      "/Users/nyuton/.pyenv/versions/anaconda3-2022.10/lib/python3.9/site-packages/sklearn/svm/_base.py:301: ConvergenceWarning: Solver terminated early (max_iter=5000).  Consider pre-processing your data with StandardScaler or MinMaxScaler.\n",
      "  warnings.warn(\n",
      "/Users/nyuton/.pyenv/versions/anaconda3-2022.10/lib/python3.9/site-packages/sklearn/svm/_base.py:301: ConvergenceWarning: Solver terminated early (max_iter=5000).  Consider pre-processing your data with StandardScaler or MinMaxScaler.\n",
      "  warnings.warn(\n",
      "/Users/nyuton/.pyenv/versions/anaconda3-2022.10/lib/python3.9/site-packages/sklearn/svm/_base.py:301: ConvergenceWarning: Solver terminated early (max_iter=5000).  Consider pre-processing your data with StandardScaler or MinMaxScaler.\n",
      "  warnings.warn(\n",
      "/Users/nyuton/.pyenv/versions/anaconda3-2022.10/lib/python3.9/site-packages/sklearn/svm/_base.py:301: ConvergenceWarning: Solver terminated early (max_iter=5000).  Consider pre-processing your data with StandardScaler or MinMaxScaler.\n",
      "  warnings.warn(\n",
      "/Users/nyuton/.pyenv/versions/anaconda3-2022.10/lib/python3.9/site-packages/sklearn/svm/_base.py:301: ConvergenceWarning: Solver terminated early (max_iter=5000).  Consider pre-processing your data with StandardScaler or MinMaxScaler.\n",
      "  warnings.warn(\n",
      "/Users/nyuton/.pyenv/versions/anaconda3-2022.10/lib/python3.9/site-packages/sklearn/svm/_base.py:301: ConvergenceWarning: Solver terminated early (max_iter=5000).  Consider pre-processing your data with StandardScaler or MinMaxScaler.\n",
      "  warnings.warn(\n",
      "/Users/nyuton/.pyenv/versions/anaconda3-2022.10/lib/python3.9/site-packages/sklearn/svm/_base.py:1225: ConvergenceWarning: Liblinear failed to converge, increase the number of iterations.\n",
      "  warnings.warn(\n",
      "/Users/nyuton/.pyenv/versions/anaconda3-2022.10/lib/python3.9/site-packages/sklearn/svm/_base.py:1225: ConvergenceWarning: Liblinear failed to converge, increase the number of iterations.\n",
      "  warnings.warn(\n",
      "/Users/nyuton/.pyenv/versions/anaconda3-2022.10/lib/python3.9/site-packages/sklearn/svm/_base.py:1225: ConvergenceWarning: Liblinear failed to converge, increase the number of iterations.\n",
      "  warnings.warn(\n",
      "/Users/nyuton/.pyenv/versions/anaconda3-2022.10/lib/python3.9/site-packages/sklearn/svm/_base.py:1225: ConvergenceWarning: Liblinear failed to converge, increase the number of iterations.\n",
      "  warnings.warn(\n",
      "/Users/nyuton/.pyenv/versions/anaconda3-2022.10/lib/python3.9/site-packages/sklearn/svm/_base.py:1225: ConvergenceWarning: Liblinear failed to converge, increase the number of iterations.\n",
      "  warnings.warn(\n",
      "/Users/nyuton/.pyenv/versions/anaconda3-2022.10/lib/python3.9/site-packages/sklearn/svm/_base.py:1225: ConvergenceWarning: Liblinear failed to converge, increase the number of iterations.\n",
      "  warnings.warn(\n",
      "/Users/nyuton/.pyenv/versions/anaconda3-2022.10/lib/python3.9/site-packages/sklearn/svm/_base.py:1225: ConvergenceWarning: Liblinear failed to converge, increase the number of iterations.\n",
      "  warnings.warn(\n",
      "/Users/nyuton/.pyenv/versions/anaconda3-2022.10/lib/python3.9/site-packages/sklearn/svm/_base.py:1225: ConvergenceWarning: Liblinear failed to converge, increase the number of iterations.\n",
      "  warnings.warn(\n",
      "/Users/nyuton/.pyenv/versions/anaconda3-2022.10/lib/python3.9/site-packages/sklearn/svm/_base.py:1225: ConvergenceWarning: Liblinear failed to converge, increase the number of iterations.\n",
      "  warnings.warn(\n",
      "/Users/nyuton/.pyenv/versions/anaconda3-2022.10/lib/python3.9/site-packages/sklearn/svm/_base.py:1225: ConvergenceWarning: Liblinear failed to converge, increase the number of iterations.\n",
      "  warnings.warn(\n",
      "/Users/nyuton/.pyenv/versions/anaconda3-2022.10/lib/python3.9/site-packages/sklearn/svm/_base.py:1225: ConvergenceWarning: Liblinear failed to converge, increase the number of iterations.\n",
      "  warnings.warn(\n",
      "/Users/nyuton/.pyenv/versions/anaconda3-2022.10/lib/python3.9/site-packages/sklearn/svm/_base.py:1225: ConvergenceWarning: Liblinear failed to converge, increase the number of iterations.\n",
      "  warnings.warn(\n",
      "/Users/nyuton/.pyenv/versions/anaconda3-2022.10/lib/python3.9/site-packages/sklearn/svm/_base.py:1225: ConvergenceWarning: Liblinear failed to converge, increase the number of iterations.\n",
      "  warnings.warn(\n"
     ]
    }
   ],
   "source": [
    "from sklearn.svm import SVC, LinearSVC\n",
    "from sklearn.linear_model import LogisticRegression\n",
    "\n",
    "# 3つのモデルで調査\n",
    "classify_models = [LogisticRegression, SVC, LinearSVC]\n",
    "# 各モデルのオブジェクトと正解率を格納するリスト\n",
    "model_list = []\n",
    "accuracys_list = []\n",
    "# ココから学習\n",
    "for cm in classify_models:\n",
    "    model, accuracys = category_classify(cm, max_iter=5000)\n",
    "    model_list.append(model)\n",
    "    accuracys_list.append(accuracys)"
   ]
  },
  {
   "cell_type": "code",
   "execution_count": 69,
   "id": "dc2f418c",
   "metadata": {},
   "outputs": [
    {
     "data": {
      "image/png": "[encoded data removed]",
      "text/plain": [
       "<Figure size 640x480 with 1 Axes>"
      ]
     },
     "metadata": {},
     "output_type": "display_data"
    },
    {
     "data": {
      "image/png": "[encoded data removed]",
      "text/plain": [
       "<Figure size 640x480 with 1 Axes>"
      ]
     },
     "metadata": {},
     "output_type": "display_data"
    },
    {
     "data": {
      "image/png": "[encoded data removed]",
      "text/plain": [
       "<Figure size 640x480 with 1 Axes>"
      ]
     },
     "metadata": {},
     "output_type": "display_data"
    },
    {
     "name": "stdout",
     "output_type": "stream",
     "text": [
      "max_model : LinearSVC\n",
      "max_c : 0.4\n",
      "max_acc : 0.8345808383233533\n"
     ]
    }
   ],
   "source": [
    "titles = ['Logistic Regression', 'SVC', 'LinearSVC']\n",
    "max_acc = 0\n",
    "max_c = 0\n",
    "max_model = ''\n",
    "\n",
    "# それぞれのモデルでの評価データの正解率を表示\n",
    "for i in range(3):\n",
    "    df_acc_train = pd.DataFrame(accuracys_list[i][0], columns=['c', 'accuracy'])\n",
    "    df_acc_valid = pd.DataFrame(accuracys_list[i][1], columns=['c', 'accuracy'])\n",
    "    df_acc_test = pd.DataFrame(accuracys_list[i][2], columns=['c', 'accuracy'])\n",
    "    \n",
    "    # 正解率が一番高いモデルとパラメータを求める\n",
    "    for temp_c, temp_acc in df_acc_valid.values:\n",
    "        # 最大値の更新\n",
    "        if max_acc < temp_acc:\n",
    "            max_acc = temp_acc\n",
    "            max_c = temp_c\n",
    "            max_model = titles[i]\n",
    "    \n",
    "    # グラフ表示\n",
    "    plt.plot(df_acc_train['c'], df_acc_train['accuracy'], label='train')\n",
    "    plt.plot(df_acc_valid['c'], df_acc_valid['accuracy'], label='valid')\n",
    "    plt.plot(df_acc_test['c'], df_acc_test['accuracy'], label='test')\n",
    "    plt.title(titles[i])\n",
    "    plt.xscale('log')\n",
    "    plt.xlabel('c')\n",
    "    plt.ylabel('accuracy')\n",
    "    plt.legend() # 各データのラベルを表示\n",
    "    plt.show()\n",
    "\n",
    "# 正解率が最大のモデル、パラメータを表示\n",
    "print(f'max_model : {max_model}')\n",
    "print(f'max_c : {max_c}')\n",
    "print(f'max_acc : {max_acc}')"
   ]
  }
 ],
 "metadata": {
  "kernelspec": {
   "display_name": "base",
   "language": "python",
   "name": "python3"
  },
  "language_info": {
   "codemirror_mode": {
    "name": "ipython",
    "version": 3
   },
   "file_extension": ".py",
   "mimetype": "text/x-python",
   "name": "python",
   "nbconvert_exporter": "python",
   "pygments_lexer": "ipython3",
   "version": "3.9.13"
  }
 },
 "nbformat": 4,
 "nbformat_minor": 5
}

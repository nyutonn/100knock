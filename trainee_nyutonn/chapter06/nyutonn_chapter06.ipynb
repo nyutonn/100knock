{
 "cells": [
  {
   "cell_type": "markdown",
   "id": "2328c512",
   "metadata": {},
   "source": [
    "<h2 id=\"50-データの入手整形\">50. データの入手・整形</h2>\n",
    "<p><a href=\"https://archive.ics.uci.edu/ml/datasets/News+Aggregator\">News Aggregator Data Set</a>をダウンロードし、以下の要領で学習データ（<code class=\"language-plaintext highlighter-rouge\">train.txt</code>），検証データ（<code class=\"language-plaintext highlighter-rouge\">valid.txt</code>），評価データ（<code class=\"language-plaintext highlighter-rouge\">test.txt</code>）を作成せよ．</p>\n",
    "<ol>\n",
    "<li>ダウンロードしたzipファイルを解凍し，<code class=\"language-plaintext highlighter-rouge\">readme.txt</code>の説明を読む．</li>\n",
    "<li>情報源（publisher）が”Reuters”, “Huffington Post”, “Businessweek”, “Contactmusic.com”, “Daily Mail”の事例（記事）のみを抽出する．</li>\n",
    "<li>抽出された事例をランダムに並び替える．</li>\n",
    "<li>抽出された事例の80%を学習データ，残りの10%ずつを検証データと評価データに分割し，それぞれ<code class=\"language-plaintext highlighter-rouge\">train.txt</code>，<code class=\"language-plaintext highlighter-rouge\">valid.txt</code>，<code class=\"language-plaintext highlighter-rouge\">test.txt</code>というファイル名で保存する．ファイルには，１行に１事例を書き出すこととし，カテゴリ名と記事見出しのタブ区切り形式とせよ（このファイルは後に問題70で再利用する）．</li>\n",
    "</ol>\n",
    "<p>学習データと評価データを作成したら，各カテゴリの事例数を確認せよ．</p>\n"
   ]
  },
  {
   "cell_type": "code",
   "execution_count": 155,
   "id": "32659ded",
   "metadata": {},
   "outputs": [
    {
     "name": "stdout",
     "output_type": "stream",
     "text": [
      "UnZip 6.00 of 20 April 2009, by Info-ZIP.  Maintained by C. Spieler.  Send\n",
      "bug reports using http://www.info-zip.org/zip-bug.html; see README for details.\n",
      "\n",
      "Usage: unzip [-Z] [-opts[modifiers]] file[.zip] [list] [-x xlist] [-d exdir]\n",
      "  Default action is to extract files in list, except those in xlist, to exdir;\n",
      "  file[.zip] may be a wildcard.  -Z => ZipInfo mode (\"unzip -Z\" for usage).\n",
      "\n",
      "  -p  extract files to pipe, no messages     -l  list files (short format)\n",
      "  -f  freshen existing files, create none    -t  test compressed archive data\n",
      "  -u  update files, create if necessary      -z  display archive comment only\n",
      "  -v  list verbosely/show version info       -T  timestamp archive to latest\n",
      "  -x  exclude files that follow (in xlist)   -d  extract files into exdir\n",
      "modifiers:\n",
      "  -n  never overwrite existing files         -q  quiet mode (-qq => quieter)\n",
      "  -o  overwrite files WITHOUT prompting      -a  auto-convert any text files\n",
      "  -j  junk paths (do not make directories)   -aa treat ALL files as text\n",
      "  -C  match filenames case-insensitively     -L  make (some) names lowercase\n",
      "  -X  restore UID/GID info                   -V  retain VMS version numbers\n",
      "  -K  keep setuid/setgid/tacky permissions   -M  pipe through \"more\" pager\n",
      "See \"unzip -hh\" or unzip.txt for more help.  Examples:\n",
      "  unzip data1 -x joe   => extract all files except joe from zipfile data1.zip\n",
      "  unzip -p foo | more  => send contents of foo.zip via pipe into program more\n",
      "  unzip -fo foo ReadMe => quietly replace existing ReadMe if archive file newer\n"
     ]
    }
   ],
   "source": [
    "!unzip -y data/NewsAggregatorDataset.zip"
   ]
  },
  {
   "cell_type": "code",
   "execution_count": 156,
   "id": "f40db102",
   "metadata": {},
   "outputs": [
    {
     "data": {
      "text/html": [
       "<div>\n",
       "<style scoped>\n",
       "    .dataframe tbody tr th:only-of-type {\n",
       "        vertical-align: middle;\n",
       "    }\n",
       "\n",
       "    .dataframe tbody tr th {\n",
       "        vertical-align: top;\n",
       "    }\n",
       "\n",
       "    .dataframe thead th {\n",
       "        text-align: right;\n",
       "    }\n",
       "</style>\n",
       "<table border=\"1\" class=\"dataframe\">\n",
       "  <thead>\n",
       "    <tr style=\"text-align: right;\">\n",
       "      <th></th>\n",
       "      <th>ID</th>\n",
       "      <th>TITLE</th>\n",
       "      <th>URL</th>\n",
       "      <th>PUBLISHER</th>\n",
       "      <th>CATEGORY</th>\n",
       "      <th>STORY</th>\n",
       "      <th>HOSTNAME</th>\n",
       "      <th>TIMESTAMP</th>\n",
       "    </tr>\n",
       "  </thead>\n",
       "  <tbody>\n",
       "    <tr>\n",
       "      <th>0</th>\n",
       "      <td>1</td>\n",
       "      <td>Fed official says weak data caused by weather,...</td>\n",
       "      <td>http://www.latimes.com/business/money/la-fi-mo...</td>\n",
       "      <td>Los Angeles Times</td>\n",
       "      <td>b</td>\n",
       "      <td>ddUyU0VZz0BRneMioxUPQVP6sIxvM</td>\n",
       "      <td>www.latimes.com</td>\n",
       "      <td>1394470370698</td>\n",
       "    </tr>\n",
       "    <tr>\n",
       "      <th>1</th>\n",
       "      <td>2</td>\n",
       "      <td>Fed's Charles Plosser sees high bar for change...</td>\n",
       "      <td>http://www.livemint.com/Politics/H2EvwJSK2VE6O...</td>\n",
       "      <td>Livemint</td>\n",
       "      <td>b</td>\n",
       "      <td>ddUyU0VZz0BRneMioxUPQVP6sIxvM</td>\n",
       "      <td>www.livemint.com</td>\n",
       "      <td>1394470371207</td>\n",
       "    </tr>\n",
       "    <tr>\n",
       "      <th>2</th>\n",
       "      <td>3</td>\n",
       "      <td>US open: Stocks fall after Fed official hints ...</td>\n",
       "      <td>http://www.ifamagazine.com/news/us-open-stocks...</td>\n",
       "      <td>IFA Magazine</td>\n",
       "      <td>b</td>\n",
       "      <td>ddUyU0VZz0BRneMioxUPQVP6sIxvM</td>\n",
       "      <td>www.ifamagazine.com</td>\n",
       "      <td>1394470371550</td>\n",
       "    </tr>\n",
       "    <tr>\n",
       "      <th>3</th>\n",
       "      <td>4</td>\n",
       "      <td>Fed risks falling 'behind the curve', Charles ...</td>\n",
       "      <td>http://www.ifamagazine.com/news/fed-risks-fall...</td>\n",
       "      <td>IFA Magazine</td>\n",
       "      <td>b</td>\n",
       "      <td>ddUyU0VZz0BRneMioxUPQVP6sIxvM</td>\n",
       "      <td>www.ifamagazine.com</td>\n",
       "      <td>1394470371793</td>\n",
       "    </tr>\n",
       "    <tr>\n",
       "      <th>4</th>\n",
       "      <td>5</td>\n",
       "      <td>Fed's Plosser: Nasty Weather Has Curbed Job Gr...</td>\n",
       "      <td>http://www.moneynews.com/Economy/federal-reser...</td>\n",
       "      <td>Moneynews</td>\n",
       "      <td>b</td>\n",
       "      <td>ddUyU0VZz0BRneMioxUPQVP6sIxvM</td>\n",
       "      <td>www.moneynews.com</td>\n",
       "      <td>1394470372027</td>\n",
       "    </tr>\n",
       "  </tbody>\n",
       "</table>\n",
       "</div>"
      ],
      "text/plain": [
       "   ID                                              TITLE  \\\n",
       "0   1  Fed official says weak data caused by weather,...   \n",
       "1   2  Fed's Charles Plosser sees high bar for change...   \n",
       "2   3  US open: Stocks fall after Fed official hints ...   \n",
       "3   4  Fed risks falling 'behind the curve', Charles ...   \n",
       "4   5  Fed's Plosser: Nasty Weather Has Curbed Job Gr...   \n",
       "\n",
       "                                                 URL          PUBLISHER  \\\n",
       "0  http://www.latimes.com/business/money/la-fi-mo...  Los Angeles Times   \n",
       "1  http://www.livemint.com/Politics/H2EvwJSK2VE6O...           Livemint   \n",
       "2  http://www.ifamagazine.com/news/us-open-stocks...       IFA Magazine   \n",
       "3  http://www.ifamagazine.com/news/fed-risks-fall...       IFA Magazine   \n",
       "4  http://www.moneynews.com/Economy/federal-reser...          Moneynews   \n",
       "\n",
       "  CATEGORY                          STORY             HOSTNAME      TIMESTAMP  \n",
       "0        b  ddUyU0VZz0BRneMioxUPQVP6sIxvM      www.latimes.com  1394470370698  \n",
       "1        b  ddUyU0VZz0BRneMioxUPQVP6sIxvM     www.livemint.com  1394470371207  \n",
       "2        b  ddUyU0VZz0BRneMioxUPQVP6sIxvM  www.ifamagazine.com  1394470371550  \n",
       "3        b  ddUyU0VZz0BRneMioxUPQVP6sIxvM  www.ifamagazine.com  1394470371793  \n",
       "4        b  ddUyU0VZz0BRneMioxUPQVP6sIxvM    www.moneynews.com  1394470372027  "
      ]
     },
     "execution_count": 156,
     "metadata": {},
     "output_type": "execute_result"
    }
   ],
   "source": [
    "import pandas as pd\n",
    "# csvファイルを読み込む\n",
    "df = pd.read_table('data/newsCorpora.csv', header=None, sep='\\\\t', engine='python')\n",
    "df.columns = ['ID', 'TITLE', 'URL', 'PUBLISHER', 'CATEGORY', 'STORY', 'HOSTNAME', 'TIMESTAMP']\n",
    "# 先頭5つ表示\n",
    "df.head()"
   ]
  },
  {
   "cell_type": "code",
   "execution_count": 157,
   "id": "6b3e1389",
   "metadata": {},
   "outputs": [
    {
     "data": {
      "text/plain": [
       "13356"
      ]
     },
     "execution_count": 157,
     "metadata": {},
     "output_type": "execute_result"
    }
   ],
   "source": [
    "# PUBLISHERが特定の行のみを取り出す\n",
    "publishers = ['Reuters', 'Huffington Post', 'Businessweek', 'Contactmusic.com', 'Daily Mail']\n",
    "daily_mails = df[df['PUBLISHER'].isin(publishers)]\n",
    "len(daily_mails)  # 取り出した行数"
   ]
  },
  {
   "cell_type": "code",
   "execution_count": 158,
   "id": "d4c92f24",
   "metadata": {},
   "outputs": [
    {
     "name": "stdout",
     "output_type": "stream",
     "text": [
      "10684 1336 1336\n"
     ]
    }
   ],
   "source": [
    "from sklearn.model_selection import train_test_split\n",
    "# 訓練データ、検証データ、テストデータに分ける\n",
    "# stratifyで偏りを減らしてみる\n",
    "# ここのXがおかしい！\n",
    "train_data, non_train, train_target, non_train_target = train_test_split(daily_mails[['TITLE', 'CATEGORY']], daily_mails['CATEGORY'], train_size=0.8, random_state=10, stratify=daily_mails['CATEGORY'])\n",
    "valid_data, test_data, valid_target, test_target = train_test_split(non_train, non_train_target, train_size=0.5, random_state=10,  stratify=non_train_target)\n",
    "print(len(train_data), len(valid_data), len(test_data))\n",
    "\n",
    "# テキストファイルに書き込む\n",
    "train_data.to_csv('work/train.txt', header=None, index=None, sep='\\t')\n",
    "valid_data.to_csv('work/valid.txt', header=None, index=None, sep='\\t')\n",
    "test_data.to_csv('work/test.txt', header=None, index=None, sep='\\t')"
   ]
  },
  {
   "cell_type": "code",
   "execution_count": 159,
   "id": "576936b9",
   "metadata": {},
   "outputs": [
    {
     "data": {
      "text/plain": [
       "CATEGORY\n",
       "b    4501\n",
       "e    4235\n",
       "t    1220\n",
       "m     728\n",
       "dtype: int64"
      ]
     },
     "execution_count": 159,
     "metadata": {},
     "output_type": "execute_result"
    }
   ],
   "source": [
    "train_data.value_counts('CATEGORY')"
   ]
  },
  {
   "cell_type": "code",
   "execution_count": 160,
   "id": "fdb9aa1e",
   "metadata": {},
   "outputs": [
    {
     "data": {
      "text/plain": [
       "CATEGORY\n",
       "b    563\n",
       "e    530\n",
       "t    152\n",
       "m     91\n",
       "dtype: int64"
      ]
     },
     "execution_count": 160,
     "metadata": {},
     "output_type": "execute_result"
    }
   ],
   "source": [
    "valid_data.value_counts('CATEGORY')"
   ]
  },
  {
   "cell_type": "code",
   "execution_count": 161,
   "id": "bba9b13d",
   "metadata": {},
   "outputs": [
    {
     "data": {
      "text/plain": [
       "CATEGORY\n",
       "b    563\n",
       "e    529\n",
       "t    153\n",
       "m     91\n",
       "dtype: int64"
      ]
     },
     "execution_count": 161,
     "metadata": {},
     "output_type": "execute_result"
    }
   ],
   "source": [
    "test_data.value_counts('CATEGORY')"
   ]
  },
  {
   "cell_type": "markdown",
   "id": "17af8066",
   "metadata": {},
   "source": [
    "<h2 id=\"51-特徴量抽出\">51. 特徴量抽出</h2>\n",
    "<p>学習データ，検証データ，評価データから特徴量を抽出し，それぞれ<code class=\"language-plaintext highlighter-rouge\">train.feature.txt</code>，<code class=\"language-plaintext highlighter-rouge\">valid.feature.txt</code>，<code class=\"language-plaintext highlighter-rouge\">test.feature.txt</code>というファイル名で保存せよ．\n",
    "なお，カテゴリ分類に有用そうな特徴量は各自で自由に設計せよ．記事の見出しを単語列に変換したものが最低限のベースラインとなるであろう．</p>\n"
   ]
  },
  {
   "cell_type": "code",
   "execution_count": 162,
   "id": "4da2abec",
   "metadata": {},
   "outputs": [
    {
     "name": "stdout",
     "output_type": "stream",
     "text": [
      "語彙数：12823\n",
      "('selena', 10089)\n",
      "('gomez', 5052)\n",
      "('exposes', 4249)\n",
      "('her', 5461)\n",
      "('derriere', 3325)\n",
      "X_train shape : (10684, 12823)\n",
      "X_test shape  : (1336, 12823)\n",
      "[[0 0 0 ... 0 0 0]\n",
      " [0 0 0 ... 0 0 0]\n",
      " [0 0 0 ... 0 0 0]\n",
      " [0 0 0 ... 0 0 0]\n",
      " [0 0 0 ... 0 0 0]]\n"
     ]
    }
   ],
   "source": [
    "# 出現する単語の個数をカウントしてベクトル化する\n",
    "from sklearn.feature_extraction.text import CountVectorizer\n",
    "import numpy as np\n",
    "import pickle\n",
    "\n",
    "# 特徴ベクトル\n",
    "vec_count = CountVectorizer()\n",
    "vec_count.fit(train_data['TITLE'])  # 語彙の生成\n",
    "X_train = vec_count.transform(train_data['TITLE'])  # 特徴ベクトルの生成\n",
    "y_train = train_target.map({'b': 0, 'e': 1, 't': 2, 'm': 3})  # 正解カテゴリ\n",
    "X_valid = vec_count.transform(valid_data['TITLE'])\n",
    "X_test = vec_count.transform(test_data['TITLE'])\n",
    "\n",
    "\n",
    "# ファイルへの書き込み\n",
    "with (open('work/train.feature.pkl', 'wb') as train_text,\n",
    "      open('work/valid.feature.pkl', 'wb') as valid_text,\n",
    "      open('work/test.feature.pkl', 'wb') as test_text):\n",
    "    pickle.dump(X_train, train_text)\n",
    "    pickle.dump(X_valid, valid_text)\n",
    "    pickle.dump(X_test, test_text)\n",
    "\n",
    "# 表示\n",
    "from itertools import islice\n",
    "print(f'語彙数：{len(vec_count.vocabulary_)}')\n",
    "# 5個だけ表示したい\n",
    "for vocaburary in islice(vec_count.vocabulary_.items(), 5):\n",
    "    print(vocaburary)\n",
    "\n",
    "print(f'X_train shape : {X_train.shape}')\n",
    "# 書き込めているか確認\n",
    "np.set_printoptions(threshold=10)\n",
    "with open('work/test.feature.pkl', 'rb') as f:\n",
    "    data = pickle.load(f)\n",
    "    print(f'X_test shape  : {data.shape}')\n",
    "    print(data.toarray()[:5])"
   ]
  },
  {
   "cell_type": "code",
   "execution_count": 163,
   "id": "b8333a83",
   "metadata": {},
   "outputs": [
    {
     "name": "stdout",
     "output_type": "stream",
     "text": [
      "[[0. 0. 0. ... 0. 0. 0.]\n",
      " [0. 0. 0. ... 0. 0. 0.]\n",
      " [0. 0. 0. ... 0. 0. 0.]\n",
      " ...\n",
      " [0. 0. 0. ... 0. 0. 0.]\n",
      " [0. 0. 0. ... 0. 0. 0.]\n",
      " [0. 0. 0. ... 0. 0. 0.]]\n",
      "(10684, 12568)\n"
     ]
    }
   ],
   "source": [
    "# TF-IDF法\n",
    "from sklearn.feature_extraction.text import TfidfVectorizer\n",
    "\n",
    "vec_tfidf = TfidfVectorizer(stop_words='english')\n",
    "X2_train = vec_tfidf.fit_transform(train_data['TITLE'])\n",
    "print(X2_train.toarray())\n",
    "print(X2_train.shape)"
   ]
  },
  {
   "cell_type": "markdown",
   "id": "2946c624",
   "metadata": {},
   "source": [
    "<h2 id=\"52-学習\">52. 学習</h2>\n",
    "<p>51で構築した学習データを用いて，ロジスティック回帰モデルを学習せよ．</p>\n"
   ]
  },
  {
   "cell_type": "code",
   "execution_count": 164,
   "id": "2386381c",
   "metadata": {},
   "outputs": [
    {
     "name": "stdout",
     "output_type": "stream",
     "text": [
      "train accuracy : 0.9957880943466866\n"
     ]
    }
   ],
   "source": [
    "from sklearn.linear_model import LogisticRegression\n",
    "\n",
    "lr = LogisticRegression(max_iter=200)  # モデルを指定\n",
    "result = lr.fit(X_train, y_train)  # 訓練データで学習をする\n",
    "print(f'train accuracy : {result.score(X_train, y_train)}')  # 正解率"
   ]
  },
  {
   "cell_type": "markdown",
   "id": "85b1aaa5",
   "metadata": {},
   "source": [
    "<h2 id=\"53-予測\">53. 予測</h2>\n",
    "<p>52で学習したロジスティック回帰モデルを用い，与えられた記事見出しからカテゴリとその予測確率を計算するプログラムを実装せよ．</p>\n"
   ]
  },
  {
   "cell_type": "code",
   "execution_count": 165,
   "id": "3bf42eaa",
   "metadata": {},
   "outputs": [
    {
     "name": "stdout",
     "output_type": "stream",
     "text": [
      "訓練データの正解率 : 0.9957880943466866\n",
      "予想カテゴリとその大きさ : (10684,)\n",
      "[1 0 1 ... 0 2 3]\n",
      "確率分布とその大きさ : (10684, 4)\n",
      "[[9.20123269e-03 9.76063384e-01 3.84682014e-03 1.08885630e-02]\n",
      " [9.62625624e-01 5.42704911e-03 2.82685104e-02 3.67881696e-03]\n",
      " [1.67092229e-03 9.95900778e-01 1.87943497e-03 5.48864884e-04]\n",
      " ...\n",
      " [7.21813853e-01 1.67237415e-01 6.14505980e-02 4.94981336e-02]\n",
      " [1.36789978e-01 9.36023824e-02 7.32619375e-01 3.69882650e-02]\n",
      " [6.50570877e-03 8.88221882e-03 1.25218562e-03 9.83359887e-01]]\n"
     ]
    }
   ],
   "source": [
    "pred = lr.predict(X_train)  # 訓練データを用いてカテゴリ予測\n",
    "probabilitys = lr.predict_proba(X_train)  # それぞれのデータについて、カテゴリの確率分布を求める\n",
    "# 表示\n",
    "print(f'訓練データの正解率 : {lr.score(X_train, y_train)}')\n",
    "print(f'予想カテゴリとその大きさ : {pred.shape}')\n",
    "print(pred)\n",
    "print(f'確率分布とその大きさ : {probabilitys.shape}')\n",
    "print(probabilitys)"
   ]
  },
  {
   "cell_type": "markdown",
   "id": "28bd91a6",
   "metadata": {},
   "source": [
    "<h2 id=\"54-正解率の計測\">54. 正解率の計測</h2>\n",
    "<p>52で学習したロジスティック回帰モデルの正解率を，学習データおよび評価データ上で計測せよ．</p>\n"
   ]
  },
  {
   "cell_type": "code",
   "execution_count": 166,
   "id": "96a2c8ac",
   "metadata": {},
   "outputs": [
    {
     "name": "stdout",
     "output_type": "stream",
     "text": [
      "train accuracy : 0.9957880943466866\n",
      "test  accuracy : 0.9086826347305389\n",
      "valid accuracy : 0.9184131736526946\n"
     ]
    }
   ],
   "source": [
    "# 評価データと検証データのカテゴリを作成\n",
    "y_test = test_target.map({'b': 0, 'e': 1, 't': 2, 'm': 3})\n",
    "y_valid = valid_target.map({'b': 0, 'e': 1, 't': 2, 'm': 3})\n",
    "# 訓練データ、評価データ、検証データの正答率\n",
    "print(f'train accuracy : {lr.score(X_train, y_train)}')\n",
    "print(f'test  accuracy : {lr.score(X_test, y_test)}')\n",
    "print(f'valid accuracy : {lr.score(X_valid, y_valid)}')"
   ]
  },
  {
   "cell_type": "code",
   "execution_count": 167,
   "id": "5fe5431a",
   "metadata": {},
   "outputs": [
    {
     "name": "stdout",
     "output_type": "stream",
     "text": [
      "train accuracy :  0.9957880943466866\n",
      "test accuracy :  0.9086826347305389\n"
     ]
    }
   ],
   "source": [
    "from sklearn.metrics import accuracy_score\n",
    "# 真の正解カテゴリy_trainと予測カテゴリpred_yの一致している割合から正解率を求める\n",
    "# 訓練データ\n",
    "pred_train = lr.predict(X_train)\n",
    "print(\"train accuracy : \", accuracy_score(y_train, pred_train))\n",
    "# 評価データ\n",
    "pred_test = lr.predict(X_test)\n",
    "print(\"test accuracy : \", accuracy_score(y_test, pred_test))"
   ]
  },
  {
   "cell_type": "markdown",
   "id": "2813bd6b",
   "metadata": {},
   "source": [
    "<h2 id=\"55-混同行列の作成\">55. 混同行列の作成</h2>\n",
    "<p>52で学習したロジスティック回帰モデルの混同行列（confusion matrix）を，学習データおよび評価データ上で作成せよ．</p>\n"
   ]
  },
  {
   "cell_type": "code",
   "execution_count": 168,
   "id": "d4888d25",
   "metadata": {},
   "outputs": [
    {
     "name": "stdout",
     "output_type": "stream",
     "text": [
      "学習データ\n",
      "[[4488    4    9    0]\n",
      " [   6 4228    1    0]\n",
      " [  16    3 1201    0]\n",
      " [   4    2    0  722]]\n",
      "評価データ\n",
      "[[537  11  13   2]\n",
      " [  9 514   4   2]\n",
      " [ 34  21  96   2]\n",
      " [  9  13   2  67]]\n"
     ]
    }
   ],
   "source": [
    "from sklearn.metrics import confusion_matrix\n",
    "\n",
    "print('学習データ')\n",
    "print(confusion_matrix(y_train, pred_train))\n",
    "print('評価データ')\n",
    "print(confusion_matrix(y_test, pred_test))\n"
   ]
  },
  {
   "cell_type": "markdown",
   "id": "b6da8d46",
   "metadata": {},
   "source": [
    "<h2 id=\"56-適合率再現率f1スコアの計測\">56. 適合率，再現率，F1スコアの計測</h2>\n",
    "<p>52で学習したロジスティック回帰モデルの適合率，再現率，F1スコアを，評価データ上で計測せよ．カテゴリごとに適合率，再現率，F1スコアを求め，カテゴリごとの性能をマイクロ平均（micro-average）とマクロ平均（macro-average）で統合せよ．</p>\n"
   ]
  },
  {
   "cell_type": "code",
   "execution_count": 169,
   "id": "464f72d2",
   "metadata": {},
   "outputs": [
    {
     "name": "stdout",
     "output_type": "stream",
     "text": [
      "適合率 : [0.91171477 0.91949911 0.83478261 0.91780822]\n",
      "再現率 : [0.95381883 0.97164461 0.62745098 0.73626374]\n",
      "f1スコア : [0.93229167 0.94485294 0.71641791 0.81707317]\n",
      "適合率のマイクロ平均 : 0.9086826347305389\n",
      "再現率のマイクロ平均 : 0.9086826347305389\n",
      "f1スコアのマイクロ平均 : 0.9086826347305389\n",
      "適合率のマクロ平均 : 0.8959511760543286\n",
      "再現率のマクロ平均 : 0.8222945392102418\n",
      "f1スコアのマクロ平均 : 0.8526589222556514\n"
     ]
    }
   ],
   "source": [
    "from sklearn.metrics import precision_score, recall_score, f1_score, confusion_matrix\n",
    "\n",
    "# 適合率\n",
    "# なんかエラーになっちゃう\n",
    "# precision = precision_score(y_test, pred_test)\n",
    "precision = precision_score(y_test, pred_test, average=None)\n",
    "print(f'適合率 : {precision}')\n",
    "# 再現率\n",
    "recall = recall_score(y_test, pred_test, average=None)\n",
    "print(f'再現率 : {recall}')\n",
    "# F1スコア\n",
    "f1 = f1_score(y_test, pred_test, average=None)\n",
    "print(f'f1スコア : {f1}')\n",
    "# マイクロ平均\n",
    "micro_ave = precision_score(y_test, pred_test, average='micro')\n",
    "print(f'適合率のマイクロ平均 : {micro_ave}')\n",
    "micro_ave = recall_score(y_test, pred_test, average='micro')\n",
    "print(f'再現率のマイクロ平均 : {micro_ave}')\n",
    "micro_ave = f1_score(y_test, pred_test, average='micro')\n",
    "print(f'f1スコアのマイクロ平均 : {micro_ave}')\n",
    "# マクロ平均\n",
    "micro_ave = precision_score(y_test, pred_test, average='macro')\n",
    "print(f'適合率のマクロ平均 : {micro_ave}')\n",
    "micro_ave = recall_score(y_test, pred_test, average='macro')\n",
    "print(f'再現率のマクロ平均 : {micro_ave}')\n",
    "micro_ave = f1_score(y_test, pred_test, average='macro')\n",
    "print(f'f1スコアのマクロ平均 : {micro_ave}')"
   ]
  },
  {
   "cell_type": "markdown",
   "id": "76c7099f",
   "metadata": {},
   "source": [
    "<h2 id=\"57-特徴量の重みの確認\">57. 特徴量の重みの確認</h2>\n",
    "<p>52で学習したロジスティック回帰モデルの中で，重みの高い特徴量トップ10と，重みの低い特徴量トップ10を確認せよ．</p>\n"
   ]
  },
  {
   "cell_type": "code",
   "execution_count": 170,
   "id": "a60c2c1e",
   "metadata": {},
   "outputs": [],
   "source": [
    "# FurureWarningが出ないようにする\n",
    "import warnings\n",
    "warnings.simplefilter('ignore', FutureWarning)"
   ]
  },
  {
   "cell_type": "code",
   "execution_count": 171,
   "id": "3288607d",
   "metadata": {},
   "outputs": [
    {
     "name": "stdout",
     "output_type": "stream",
     "text": [
      "[[ 0.17825811  0.02432276  0.00504316 ... -0.04964687 -0.07785155\n",
      "  -0.00137119]\n",
      " [-0.11005312 -0.01685394 -0.0029697  ...  0.11009608  0.09412634\n",
      "   0.00404686]\n",
      " [-0.04100218 -0.00434248 -0.00108491 ... -0.02790182 -0.01018102\n",
      "  -0.00152958]\n",
      " [-0.02720281 -0.00312634 -0.00098855 ... -0.03254738 -0.00609376\n",
      "  -0.00114609]]\n",
      "[[ 1234  4400 12746 ...  3829   450   534]\n",
      " [ 2320  8315  6290 ...  7329  4283  5061]\n",
      " [ 4283  7329  5061 ...   739  8389 10940]\n",
      " [ 3829  4386  1997 ...   886  3424  5026]]\n",
      "fetal\n"
     ]
    }
   ],
   "source": [
    "# 確かめ\n",
    "import numpy as np\n",
    "print(lr.coef_)\n",
    "print(np.argsort(-lr.coef_))\n",
    "print(vec_count.get_feature_names()[4435])"
   ]
  },
  {
   "cell_type": "code",
   "execution_count": 172,
   "id": "f62f460c",
   "metadata": {},
   "outputs": [
    {
     "name": "stdout",
     "output_type": "stream",
     "text": [
      "重みTOP10\n",
      "b : ['bank', 'fed', 'yellen', 'obamacare', 'ecb', 'ukraine', 'china', 'uber', 'dollar', 'euro']\n",
      "e : ['chris', 'paul', 'kardashian', 'transformers', 'thrones', 'miley', 'film', 'cyrus', 'kim', 'movie']\n",
      "t : ['facebook', 'microsoft', 'google', 'apple', 'tesla', 'climate', 'nasa', 'fcc', 'heartbleed', 'activision']\n",
      "m : ['ebola', 'fda', 'cancer', 'mers', 'study', 'drug', 'cases', 'cdc', 'cigarettes', 'abortion']\n",
      "重みWORST10\n",
      "b : ['aereo', 'activision', 'ebola', 'she', 'cap', 'twitch', 'subscription', 'nintendo', 'gay', 'recalled']\n",
      "e : ['google', 'facebook', 'microsoft', 'gm', 'billion', 'study', 'data', 'apple', 'oil', 'risk']\n",
      "t : ['stocks', 'percent', 'american', 'still', 'fed', 'valued', 'drug', 'thrones', 'grows', 'spotify']\n",
      "m : ['gm', 'dimon', 'apple', 'facebook', 'climate', 'twitter', 'netflix', 'buy', 'hit', 'back']\n"
     ]
    }
   ],
   "source": [
    "print('重みTOP10')\n",
    "# b\n",
    "b_top10 = [vec_count.get_feature_names()[index] for index in np.argsort(-lr.coef_)[0][:10]]\n",
    "print(f'b : {b_top10}')\n",
    "# e\n",
    "e_top10 = [vec_count.get_feature_names()[index] for index in np.argsort(-lr.coef_)[1][:10]]\n",
    "print(f'e : {e_top10}')\n",
    "# t\n",
    "t_top10 = [vec_count.get_feature_names()[index] for index in np.argsort(-lr.coef_)[2][:10]]\n",
    "print(f't : {t_top10}')\n",
    "# m\n",
    "m_top10 = [vec_count.get_feature_names()[index] for index in np.argsort(-lr.coef_)[3][:10]]\n",
    "print(f'm : {m_top10}')\n",
    "\n",
    "print('重みWORST10')\n",
    "# b\n",
    "b_worst10 = [vec_count.get_feature_names()[index] for index in np.argsort(lr.coef_)[0][:10]]\n",
    "print(f'b : {b_worst10}')\n",
    "# e\n",
    "e_worst10 = [vec_count.get_feature_names()[index] for index in np.argsort(lr.coef_)[1][:10]]\n",
    "print(f'e : {e_worst10}')\n",
    "# t\n",
    "t_worst10 = [vec_count.get_feature_names()[index] for index in np.argsort(lr.coef_)[2][:10]]\n",
    "print(f't : {t_worst10}')\n",
    "# m\n",
    "m_worst10 = [vec_count.get_feature_names()[index] for index in np.argsort(lr.coef_)[3][:10]]\n",
    "print(f'm : {m_worst10}')"
   ]
  },
  {
   "cell_type": "markdown",
   "id": "fa330ac2",
   "metadata": {},
   "source": [
    "<h2 id=\"58-正則化パラメータの変更\">58. 正則化パラメータの変更</h2>\n",
    "<p>ロジスティック回帰モデルを学習するとき，正則化パラメータを調整することで，学習時の過学習（overfitting）の度合いを制御できる．異なる正則化パラメータでロジスティック回帰モデルを学習し，学習データ，検証データ，および評価データ上の正解率を求めよ．実験の結果は，正則化パラメータを横軸，正解率を縦軸としたグラフにまとめよ．</p>\n"
   ]
  },
  {
   "cell_type": "code",
   "execution_count": 173,
   "id": "3a1d8f59",
   "metadata": {},
   "outputs": [
    {
     "name": "stdout",
     "output_type": "stream",
     "text": [
      "0.9161676646706587\n",
      "[0.  0.1 0.2 0.3 0.4 0.5 0.6 0.7 0.8 0.9]\n"
     ]
    }
   ],
   "source": [
    "# とりあえず１個パラメータを変更して試してみる\n",
    "annother_lr = LogisticRegression(C=2, random_state=10, max_iter=200)\n",
    "annother_lr.fit(X_train, y_train)  # 学習\n",
    "print(annother_lr.score(X_test, y_test))  # 正解率\n",
    "print(np.arange(0, 1, 0.1))  # 小数点のリストの確認"
   ]
  },
  {
   "cell_type": "code",
   "execution_count": 175,
   "id": "2dfd8981",
   "metadata": {},
   "outputs": [
    {
     "name": "stderr",
     "output_type": "stream",
     "text": [
      "/Users/nyuton/.pyenv/versions/anaconda3-2022.10/lib/python3.9/site-packages/sklearn/linear_model/_logistic.py:444: ConvergenceWarning: lbfgs failed to converge (status=1):\n",
      "STOP: TOTAL NO. of ITERATIONS REACHED LIMIT.\n",
      "\n",
      "Increase the number of iterations (max_iter) or scale the data as shown in:\n",
      "    https://scikit-learn.org/stable/modules/preprocessing.html\n",
      "Please also refer to the documentation for alternative solver options:\n",
      "    https://scikit-learn.org/stable/modules/linear_model.html#logistic-regression\n",
      "  n_iter_i = _check_optimize_result(\n"
     ]
    }
   ],
   "source": [
    "def category_classify(classify_model, max_iter=1000):\n",
    "    coefficients = [1, 2, 4, 8]  # 係数のリスト\n",
    "    accuracys = [[], [], []]  # 正解率を格納するリスト\n",
    "    for c in range(7): # 1000を超えると1000回回しても学習が終わらなかった\n",
    "        c_exp = 10 ** (c-3)  # 0.001から1000まで\n",
    "        for coefficient in coefficients:\n",
    "            # print(coefficient)\n",
    "            c_exp_coef = c_exp * coefficient  # 係数をかける\n",
    "            # print(c_exp_coef)\n",
    "            model = classify_model(C=c_exp_coef, random_state=0, max_iter=max_iter)\n",
    "            model.fit(X_train, y_train)  # 学習する\n",
    "            for i, X_y in enumerate([(X_train, y_train), (X_valid, y_valid), (X_test, y_test)]):\n",
    "                accuracys[i].append((c_exp_coef, model.score(X_y[0], X_y[1])))\n",
    "                # print(c)\n",
    "    return model, accuracys\n",
    "\n",
    "lr, accuracys = category_classify(LogisticRegression)\n",
    "# c = 8000にすると1000回回しても終わらないっぽい"
   ]
  },
  {
   "cell_type": "code",
   "execution_count": 176,
   "id": "19c4697e",
   "metadata": {},
   "outputs": [
    {
     "name": "stdout",
     "output_type": "stream",
     "text": [
      "各パラメータでの正解率\n",
      "train\n",
      "[(0.001, 0.7210782478472483), (0.002, 0.7418569824035942), (0.004, 0.755054286783976), (0.008, 0.7742418569824036), (0.01, 0.7843504305503557), (0.02, 0.8277798577311868), (0.04, 0.8772931486334706), (0.08, 0.9158554848371396), (0.1, 0.927929614376638), (0.2, 0.9605016847622613), (0.4, 0.9826843878697117), (0.8, 0.9942905278921752), (1, 0.9957880943466866), (2, 0.9982216398352677), (4, 0.9990640209659304), (8, 0.9991576188693373), (10, 0.9991576188693373), (20, 0.9992512167727443), (40, 0.9992512167727443), (80, 0.9992512167727443), (100, 0.9992512167727443), (200, 0.9992512167727443), (400, 0.9992512167727443), (800, 0.9992512167727443), (1000, 0.9992512167727443), (2000, 0.9992512167727443), (4000, 0.9992512167727443), (8000, 0.9992512167727443)]\n",
      "valid\n",
      "[(0.001, 0.7260479041916168), (0.002, 0.7440119760479041), (0.004, 0.749251497005988), (0.008, 0.7694610778443114), (0.01, 0.7761976047904192), (0.02, 0.8053892215568862), (0.04, 0.8525449101796407), (0.08, 0.8794910179640718), (0.1, 0.8817365269461078), (0.2, 0.8989520958083832), (0.4, 0.9116766467065869), (0.8, 0.9176646706586826), (1, 0.9184131736526946), (2, 0.9199101796407185), (4, 0.9191616766467066), (8, 0.9184131736526946), (10, 0.9184131736526946), (20, 0.9199101796407185), (40, 0.9199101796407185), (80, 0.9199101796407185), (100, 0.9199101796407185), (200, 0.9191616766467066), (400, 0.9191616766467066), (800, 0.9176646706586826), (1000, 0.9191616766467066), (2000, 0.9184131736526946), (4000, 0.9176646706586826), (8000, 0.9176646706586826)]\n",
      "test\n",
      "[(0.001, 0.7080838323353293), (0.002, 0.7245508982035929), (0.004, 0.7470059880239521), (0.008, 0.7732035928143712), (0.01, 0.7799401197604791), (0.02, 0.8098802395209581), (0.04, 0.844311377245509), (0.08, 0.8779940119760479), (0.1, 0.8832335329341318), (0.2, 0.8952095808383234), (0.4, 0.9011976047904192), (0.8, 0.9086826347305389), (1, 0.9086826347305389), (2, 0.9161676646706587), (4, 0.9154191616766467), (8, 0.9131736526946108), (10, 0.9131736526946108), (20, 0.9124251497005988), (40, 0.9124251497005988), (80, 0.9139221556886228), (100, 0.9139221556886228), (200, 0.9146706586826348), (400, 0.9139221556886228), (800, 0.9146706586826348), (1000, 0.9154191616766467), (2000, 0.9146706586826348), (4000, 0.9146706586826348), (8000, 0.9139221556886228)]\n"
     ]
    }
   ],
   "source": [
    "# 表示\n",
    "print(f'各パラメータでの正解率')\n",
    "print('train')\n",
    "print(accuracys[0])\n",
    "print('valid')\n",
    "print(accuracys[1])\n",
    "print('test')\n",
    "print(accuracys[2])"
   ]
  },
  {
   "cell_type": "code",
   "execution_count": 177,
   "id": "480ad73f",
   "metadata": {},
   "outputs": [
    {
     "data": {
      "text/html": [
       "<div>\n",
       "<style scoped>\n",
       "    .dataframe tbody tr th:only-of-type {\n",
       "        vertical-align: middle;\n",
       "    }\n",
       "\n",
       "    .dataframe tbody tr th {\n",
       "        vertical-align: top;\n",
       "    }\n",
       "\n",
       "    .dataframe thead th {\n",
       "        text-align: right;\n",
       "    }\n",
       "</style>\n",
       "<table border=\"1\" class=\"dataframe\">\n",
       "  <thead>\n",
       "    <tr style=\"text-align: right;\">\n",
       "      <th></th>\n",
       "      <th>c</th>\n",
       "      <th>accuracy</th>\n",
       "    </tr>\n",
       "  </thead>\n",
       "  <tbody>\n",
       "    <tr>\n",
       "      <th>0</th>\n",
       "      <td>0.001</td>\n",
       "      <td>0.721078</td>\n",
       "    </tr>\n",
       "    <tr>\n",
       "      <th>1</th>\n",
       "      <td>0.002</td>\n",
       "      <td>0.741857</td>\n",
       "    </tr>\n",
       "    <tr>\n",
       "      <th>2</th>\n",
       "      <td>0.004</td>\n",
       "      <td>0.755054</td>\n",
       "    </tr>\n",
       "    <tr>\n",
       "      <th>3</th>\n",
       "      <td>0.008</td>\n",
       "      <td>0.774242</td>\n",
       "    </tr>\n",
       "    <tr>\n",
       "      <th>4</th>\n",
       "      <td>0.010</td>\n",
       "      <td>0.784350</td>\n",
       "    </tr>\n",
       "    <tr>\n",
       "      <th>5</th>\n",
       "      <td>0.020</td>\n",
       "      <td>0.827780</td>\n",
       "    </tr>\n",
       "    <tr>\n",
       "      <th>6</th>\n",
       "      <td>0.040</td>\n",
       "      <td>0.877293</td>\n",
       "    </tr>\n",
       "    <tr>\n",
       "      <th>7</th>\n",
       "      <td>0.080</td>\n",
       "      <td>0.915855</td>\n",
       "    </tr>\n",
       "    <tr>\n",
       "      <th>8</th>\n",
       "      <td>0.100</td>\n",
       "      <td>0.927930</td>\n",
       "    </tr>\n",
       "    <tr>\n",
       "      <th>9</th>\n",
       "      <td>0.200</td>\n",
       "      <td>0.960502</td>\n",
       "    </tr>\n",
       "    <tr>\n",
       "      <th>10</th>\n",
       "      <td>0.400</td>\n",
       "      <td>0.982684</td>\n",
       "    </tr>\n",
       "    <tr>\n",
       "      <th>11</th>\n",
       "      <td>0.800</td>\n",
       "      <td>0.994291</td>\n",
       "    </tr>\n",
       "    <tr>\n",
       "      <th>12</th>\n",
       "      <td>1.000</td>\n",
       "      <td>0.995788</td>\n",
       "    </tr>\n",
       "    <tr>\n",
       "      <th>13</th>\n",
       "      <td>2.000</td>\n",
       "      <td>0.998222</td>\n",
       "    </tr>\n",
       "    <tr>\n",
       "      <th>14</th>\n",
       "      <td>4.000</td>\n",
       "      <td>0.999064</td>\n",
       "    </tr>\n",
       "    <tr>\n",
       "      <th>15</th>\n",
       "      <td>8.000</td>\n",
       "      <td>0.999158</td>\n",
       "    </tr>\n",
       "    <tr>\n",
       "      <th>16</th>\n",
       "      <td>10.000</td>\n",
       "      <td>0.999158</td>\n",
       "    </tr>\n",
       "    <tr>\n",
       "      <th>17</th>\n",
       "      <td>20.000</td>\n",
       "      <td>0.999251</td>\n",
       "    </tr>\n",
       "    <tr>\n",
       "      <th>18</th>\n",
       "      <td>40.000</td>\n",
       "      <td>0.999251</td>\n",
       "    </tr>\n",
       "    <tr>\n",
       "      <th>19</th>\n",
       "      <td>80.000</td>\n",
       "      <td>0.999251</td>\n",
       "    </tr>\n",
       "    <tr>\n",
       "      <th>20</th>\n",
       "      <td>100.000</td>\n",
       "      <td>0.999251</td>\n",
       "    </tr>\n",
       "    <tr>\n",
       "      <th>21</th>\n",
       "      <td>200.000</td>\n",
       "      <td>0.999251</td>\n",
       "    </tr>\n",
       "    <tr>\n",
       "      <th>22</th>\n",
       "      <td>400.000</td>\n",
       "      <td>0.999251</td>\n",
       "    </tr>\n",
       "    <tr>\n",
       "      <th>23</th>\n",
       "      <td>800.000</td>\n",
       "      <td>0.999251</td>\n",
       "    </tr>\n",
       "    <tr>\n",
       "      <th>24</th>\n",
       "      <td>1000.000</td>\n",
       "      <td>0.999251</td>\n",
       "    </tr>\n",
       "    <tr>\n",
       "      <th>25</th>\n",
       "      <td>2000.000</td>\n",
       "      <td>0.999251</td>\n",
       "    </tr>\n",
       "    <tr>\n",
       "      <th>26</th>\n",
       "      <td>4000.000</td>\n",
       "      <td>0.999251</td>\n",
       "    </tr>\n",
       "    <tr>\n",
       "      <th>27</th>\n",
       "      <td>8000.000</td>\n",
       "      <td>0.999251</td>\n",
       "    </tr>\n",
       "  </tbody>\n",
       "</table>\n",
       "</div>"
      ],
      "text/plain": [
       "           c  accuracy\n",
       "0      0.001  0.721078\n",
       "1      0.002  0.741857\n",
       "2      0.004  0.755054\n",
       "3      0.008  0.774242\n",
       "4      0.010  0.784350\n",
       "5      0.020  0.827780\n",
       "6      0.040  0.877293\n",
       "7      0.080  0.915855\n",
       "8      0.100  0.927930\n",
       "9      0.200  0.960502\n",
       "10     0.400  0.982684\n",
       "11     0.800  0.994291\n",
       "12     1.000  0.995788\n",
       "13     2.000  0.998222\n",
       "14     4.000  0.999064\n",
       "15     8.000  0.999158\n",
       "16    10.000  0.999158\n",
       "17    20.000  0.999251\n",
       "18    40.000  0.999251\n",
       "19    80.000  0.999251\n",
       "20   100.000  0.999251\n",
       "21   200.000  0.999251\n",
       "22   400.000  0.999251\n",
       "23   800.000  0.999251\n",
       "24  1000.000  0.999251\n",
       "25  2000.000  0.999251\n",
       "26  4000.000  0.999251\n",
       "27  8000.000  0.999251"
      ]
     },
     "execution_count": 177,
     "metadata": {},
     "output_type": "execute_result"
    }
   ],
   "source": [
    "# DataFrameにする\n",
    "df_acc_train = pd.DataFrame(accuracys[0], columns=['c', 'accuracy'])\n",
    "df_acc_valid = pd.DataFrame(accuracys[1], columns=['c', 'accuracy'])\n",
    "df_acc_test = pd.DataFrame(accuracys[2], columns=['c', 'accuracy'])\n",
    "df_acc_train # trainだけ表示"
   ]
  },
  {
   "cell_type": "code",
   "execution_count": 181,
   "id": "58dee2b7",
   "metadata": {},
   "outputs": [
    {
     "data": {
      "image/png": "[encoded data removed]",
      "text/plain": [
       "<Figure size 640x480 with 1 Axes>"
      ]
     },
     "metadata": {},
     "output_type": "display_data"
    }
   ],
   "source": [
    "# グラフで表示\n",
    "import matplotlib.pyplot as plt\n",
    "df_acc_train = pd.DataFrame(accuracys[0], columns=['c', 'accuracy'])\n",
    "df_acc_valid = pd.DataFrame(accuracys[1], columns=['c', 'accuracy'])\n",
    "df_acc_test = pd.DataFrame(accuracys[2], columns=['c', 'accuracy'])\n",
    "plt.plot(df_acc_train['c'], df_acc_train['accuracy'], label='train')\n",
    "plt.plot(df_acc_valid['c'], df_acc_valid['accuracy'], label='valid')\n",
    "plt.plot(df_acc_test['c'], df_acc_test['accuracy'], label='test')\n",
    "plt.xscale('log')\n",
    "plt.xlabel('c')\n",
    "plt.ylabel('accuracy')\n",
    "plt.legend() # 各データのラベルを表示\n",
    "plt.show()"
   ]
  },
  {
   "cell_type": "markdown",
   "id": "bc9b504e",
   "metadata": {},
   "source": [
    "<h2 id=\"59-ハイパーパラメータの探索\">59. ハイパーパラメータの探索</h2>\n",
    "<p>学習アルゴリズムや学習パラメータを変えながら，カテゴリ分類モデルを学習せよ．検証データ上の正解率が最も高くなる学習アルゴリズム・パラメータを求めよ．また，その学習アルゴリズム・パラメータを用いたときの評価データ上の正解率を求めよ．</p>\n"
   ]
  },
  {
   "cell_type": "code",
   "execution_count": 179,
   "id": "2d656755",
   "metadata": {},
   "outputs": [
    {
     "name": "stderr",
     "output_type": "stream",
     "text": [
      "/Users/nyuton/.pyenv/versions/anaconda3-2022.10/lib/python3.9/site-packages/sklearn/svm/_base.py:301: ConvergenceWarning: Solver terminated early (max_iter=5000).  Consider pre-processing your data with StandardScaler or MinMaxScaler.\n",
      "  warnings.warn(\n",
      "/Users/nyuton/.pyenv/versions/anaconda3-2022.10/lib/python3.9/site-packages/sklearn/svm/_base.py:301: ConvergenceWarning: Solver terminated early (max_iter=5000).  Consider pre-processing your data with StandardScaler or MinMaxScaler.\n",
      "  warnings.warn(\n",
      "/Users/nyuton/.pyenv/versions/anaconda3-2022.10/lib/python3.9/site-packages/sklearn/svm/_base.py:301: ConvergenceWarning: Solver terminated early (max_iter=5000).  Consider pre-processing your data with StandardScaler or MinMaxScaler.\n",
      "  warnings.warn(\n",
      "/Users/nyuton/.pyenv/versions/anaconda3-2022.10/lib/python3.9/site-packages/sklearn/svm/_base.py:301: ConvergenceWarning: Solver terminated early (max_iter=5000).  Consider pre-processing your data with StandardScaler or MinMaxScaler.\n",
      "  warnings.warn(\n",
      "/Users/nyuton/.pyenv/versions/anaconda3-2022.10/lib/python3.9/site-packages/sklearn/svm/_base.py:301: ConvergenceWarning: Solver terminated early (max_iter=5000).  Consider pre-processing your data with StandardScaler or MinMaxScaler.\n",
      "  warnings.warn(\n",
      "/Users/nyuton/.pyenv/versions/anaconda3-2022.10/lib/python3.9/site-packages/sklearn/svm/_base.py:301: ConvergenceWarning: Solver terminated early (max_iter=5000).  Consider pre-processing your data with StandardScaler or MinMaxScaler.\n",
      "  warnings.warn(\n",
      "/Users/nyuton/.pyenv/versions/anaconda3-2022.10/lib/python3.9/site-packages/sklearn/svm/_base.py:301: ConvergenceWarning: Solver terminated early (max_iter=5000).  Consider pre-processing your data with StandardScaler or MinMaxScaler.\n",
      "  warnings.warn(\n",
      "/Users/nyuton/.pyenv/versions/anaconda3-2022.10/lib/python3.9/site-packages/sklearn/svm/_base.py:301: ConvergenceWarning: Solver terminated early (max_iter=5000).  Consider pre-processing your data with StandardScaler or MinMaxScaler.\n",
      "  warnings.warn(\n",
      "/Users/nyuton/.pyenv/versions/anaconda3-2022.10/lib/python3.9/site-packages/sklearn/svm/_base.py:301: ConvergenceWarning: Solver terminated early (max_iter=5000).  Consider pre-processing your data with StandardScaler or MinMaxScaler.\n",
      "  warnings.warn(\n",
      "/Users/nyuton/.pyenv/versions/anaconda3-2022.10/lib/python3.9/site-packages/sklearn/svm/_base.py:301: ConvergenceWarning: Solver terminated early (max_iter=5000).  Consider pre-processing your data with StandardScaler or MinMaxScaler.\n",
      "  warnings.warn(\n",
      "/Users/nyuton/.pyenv/versions/anaconda3-2022.10/lib/python3.9/site-packages/sklearn/svm/_base.py:301: ConvergenceWarning: Solver terminated early (max_iter=5000).  Consider pre-processing your data with StandardScaler or MinMaxScaler.\n",
      "  warnings.warn(\n",
      "/Users/nyuton/.pyenv/versions/anaconda3-2022.10/lib/python3.9/site-packages/sklearn/svm/_base.py:301: ConvergenceWarning: Solver terminated early (max_iter=5000).  Consider pre-processing your data with StandardScaler or MinMaxScaler.\n",
      "  warnings.warn(\n",
      "/Users/nyuton/.pyenv/versions/anaconda3-2022.10/lib/python3.9/site-packages/sklearn/svm/_base.py:301: ConvergenceWarning: Solver terminated early (max_iter=5000).  Consider pre-processing your data with StandardScaler or MinMaxScaler.\n",
      "  warnings.warn(\n",
      "/Users/nyuton/.pyenv/versions/anaconda3-2022.10/lib/python3.9/site-packages/sklearn/svm/_base.py:301: ConvergenceWarning: Solver terminated early (max_iter=5000).  Consider pre-processing your data with StandardScaler or MinMaxScaler.\n",
      "  warnings.warn(\n",
      "/Users/nyuton/.pyenv/versions/anaconda3-2022.10/lib/python3.9/site-packages/sklearn/svm/_base.py:301: ConvergenceWarning: Solver terminated early (max_iter=5000).  Consider pre-processing your data with StandardScaler or MinMaxScaler.\n",
      "  warnings.warn(\n",
      "/Users/nyuton/.pyenv/versions/anaconda3-2022.10/lib/python3.9/site-packages/sklearn/svm/_base.py:301: ConvergenceWarning: Solver terminated early (max_iter=5000).  Consider pre-processing your data with StandardScaler or MinMaxScaler.\n",
      "  warnings.warn(\n",
      "/Users/nyuton/.pyenv/versions/anaconda3-2022.10/lib/python3.9/site-packages/sklearn/svm/_base.py:301: ConvergenceWarning: Solver terminated early (max_iter=5000).  Consider pre-processing your data with StandardScaler or MinMaxScaler.\n",
      "  warnings.warn(\n",
      "/Users/nyuton/.pyenv/versions/anaconda3-2022.10/lib/python3.9/site-packages/sklearn/svm/_base.py:1225: ConvergenceWarning: Liblinear failed to converge, increase the number of iterations.\n",
      "  warnings.warn(\n",
      "/Users/nyuton/.pyenv/versions/anaconda3-2022.10/lib/python3.9/site-packages/sklearn/svm/_base.py:1225: ConvergenceWarning: Liblinear failed to converge, increase the number of iterations.\n",
      "  warnings.warn(\n",
      "/Users/nyuton/.pyenv/versions/anaconda3-2022.10/lib/python3.9/site-packages/sklearn/svm/_base.py:1225: ConvergenceWarning: Liblinear failed to converge, increase the number of iterations.\n",
      "  warnings.warn(\n",
      "/Users/nyuton/.pyenv/versions/anaconda3-2022.10/lib/python3.9/site-packages/sklearn/svm/_base.py:1225: ConvergenceWarning: Liblinear failed to converge, increase the number of iterations.\n",
      "  warnings.warn(\n",
      "/Users/nyuton/.pyenv/versions/anaconda3-2022.10/lib/python3.9/site-packages/sklearn/svm/_base.py:1225: ConvergenceWarning: Liblinear failed to converge, increase the number of iterations.\n",
      "  warnings.warn(\n",
      "/Users/nyuton/.pyenv/versions/anaconda3-2022.10/lib/python3.9/site-packages/sklearn/svm/_base.py:1225: ConvergenceWarning: Liblinear failed to converge, increase the number of iterations.\n",
      "  warnings.warn(\n",
      "/Users/nyuton/.pyenv/versions/anaconda3-2022.10/lib/python3.9/site-packages/sklearn/svm/_base.py:1225: ConvergenceWarning: Liblinear failed to converge, increase the number of iterations.\n",
      "  warnings.warn(\n",
      "/Users/nyuton/.pyenv/versions/anaconda3-2022.10/lib/python3.9/site-packages/sklearn/svm/_base.py:1225: ConvergenceWarning: Liblinear failed to converge, increase the number of iterations.\n",
      "  warnings.warn(\n",
      "/Users/nyuton/.pyenv/versions/anaconda3-2022.10/lib/python3.9/site-packages/sklearn/svm/_base.py:1225: ConvergenceWarning: Liblinear failed to converge, increase the number of iterations.\n",
      "  warnings.warn(\n",
      "/Users/nyuton/.pyenv/versions/anaconda3-2022.10/lib/python3.9/site-packages/sklearn/svm/_base.py:1225: ConvergenceWarning: Liblinear failed to converge, increase the number of iterations.\n",
      "  warnings.warn(\n",
      "/Users/nyuton/.pyenv/versions/anaconda3-2022.10/lib/python3.9/site-packages/sklearn/svm/_base.py:1225: ConvergenceWarning: Liblinear failed to converge, increase the number of iterations.\n",
      "  warnings.warn(\n"
     ]
    }
   ],
   "source": [
    "from sklearn.svm import SVC, LinearSVC\n",
    "from sklearn.linear_model import LogisticRegression\n",
    "\n",
    "# 3つのモデルで調査\n",
    "classify_models = [LogisticRegression, SVC, LinearSVC]\n",
    "# 各モデルのオブジェクトと正解率を格納するリスト\n",
    "model_list = []\n",
    "accuracys_list = []\n",
    "# ココから学習\n",
    "for cm in classify_models:\n",
    "    model, accuracys = category_classify(cm, max_iter=5000)\n",
    "    model_list.append(model)\n",
    "    accuracys_list.append(accuracys)"
   ]
  },
  {
   "cell_type": "code",
   "execution_count": 180,
   "id": "dc2f418c",
   "metadata": {},
   "outputs": [
    {
     "data": {
      "image/png": "[encoded data removed]",
      "text/plain": [
       "<Figure size 640x480 with 1 Axes>"
      ]
     },
     "metadata": {},
     "output_type": "display_data"
    },
    {
     "data": {
      "image/png": "[encoded data removed]",
      "text/plain": [
       "<Figure size 640x480 with 1 Axes>"
      ]
     },
     "metadata": {},
     "output_type": "display_data"
    },
    {
     "data": {
      "image/png": "[encoded data removed]",
      "text/plain": [
       "<Figure size 640x480 with 1 Axes>"
      ]
     },
     "metadata": {},
     "output_type": "display_data"
    },
    {
     "name": "stdout",
     "output_type": "stream",
     "text": [
      "max_model : LinearSVC\n",
      "max_c : 0.1\n",
      "max_acc : 0.9244011976047904\n"
     ]
    }
   ],
   "source": [
    "titles = ['Logistic Regression', 'SVC', 'LinearSVC']\n",
    "max_acc = 0\n",
    "max_c = 0\n",
    "max_model = ''\n",
    "\n",
    "# それぞれのモデルでの評価データの正解率を表示\n",
    "for i in range(3):\n",
    "    df_acc_train = pd.DataFrame(accuracys_list[i][0], columns=['c', 'accuracy'])\n",
    "    df_acc_valid = pd.DataFrame(accuracys_list[i][1], columns=['c', 'accuracy'])\n",
    "    df_acc_test = pd.DataFrame(accuracys_list[i][2], columns=['c', 'accuracy'])\n",
    "    \n",
    "    # 正解率が一番高いモデルとパラメータを求める\n",
    "    for temp_c, temp_acc in df_acc_valid.values:\n",
    "        # 最大値の更新\n",
    "        if max_acc < temp_acc:\n",
    "            max_acc = temp_acc\n",
    "            max_c = temp_c\n",
    "            max_model = titles[i]\n",
    "    \n",
    "    # グラフ表示\n",
    "    plt.plot(df_acc_train['c'], df_acc_train['accuracy'], label='train')\n",
    "    plt.plot(df_acc_valid['c'], df_acc_valid['accuracy'], label='valid')\n",
    "    plt.plot(df_acc_test['c'], df_acc_test['accuracy'], label='test')\n",
    "    plt.title(titles[i])\n",
    "    plt.xscale('log')\n",
    "    plt.xlabel('c')\n",
    "    plt.ylabel('accuracy')\n",
    "    plt.legend() # 各データのラベルを表示\n",
    "    plt.show()\n",
    "\n",
    "# 正解率が最大のモデル、パラメータを表示\n",
    "print(f'max_model : {max_model}')\n",
    "print(f'max_c : {max_c}')\n",
    "print(f'max_acc : {max_acc}')"
   ]
  }
 ],
 "metadata": {
  "kernelspec": {
   "display_name": "base",
   "language": "python",
   "name": "python3"
  },
  "language_info": {
   "codemirror_mode": {
    "name": "ipython",
    "version": 3
   },
   "file_extension": ".py",
   "mimetype": "text/x-python",
   "name": "python",
   "nbconvert_exporter": "python",
   "pygments_lexer": "ipython3",
   "version": "3.9.13"
  }
 },
 "nbformat": 4,
 "nbformat_minor": 5
}

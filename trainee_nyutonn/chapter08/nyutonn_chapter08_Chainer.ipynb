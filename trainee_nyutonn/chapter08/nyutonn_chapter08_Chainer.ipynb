{
 "cells": [
  {
   "cell_type": "markdown",
   "id": "8503e6a9",
   "metadata": {},
   "source": [
    "<h2 id=\"70-単語ベクトルの和による特徴量\">70. 単語ベクトルの和による特徴量</h2>\n",
    "<p>問題50で構築した学習データ，検証データ，評価データを行列・ベクトルに変換したい．例えば，学習データについて，すべての事例\\(x_i\\)の特徴ベクトル\\(\\boldsymbol{x}_i\\)を並べた行列\\(X\\)と，正解ラベルを並べた行列（ベクトル）\\(Y\\)を作成したい．</p>\n",
    "\n",
    "<p>\\[X = \\begin{pmatrix} \n",
    "  \\boldsymbol{x}_1 \\\\ \n",
    "  \\boldsymbol{x}_2 \\\\ \n",
    "  \\dots \\\\ \n",
    "  \\boldsymbol{x}_n \\\\ \n",
    "\\end{pmatrix} \\in \\mathbb{R}^{n \\times d},\n",
    "Y = \\begin{pmatrix} \n",
    "  y_1 \\\\ \n",
    "  y_2 \\\\ \n",
    "  \\dots \\\\ \n",
    "  y_n \\\\ \n",
    "\\end{pmatrix} \\in \\mathbb{N}^{n}}\\]</p>\n",
    "\n",
    "<p>ここで，\\(n\\)は学習データの事例数であり，\\(\\boldsymbol{x}_i \\in \\mathbb{R}^d\\)と\\(y_i \\in \\mathbb{N}\\)はそれぞれ，\\(i \\in \\{1, \\dots, n\\}\\)番目の事例の特徴量ベクトルと正解ラベルを表す．\n",
    "なお，今回は「ビジネス」「科学技術」「エンターテイメント」「健康」の4カテゴリ分類である．\\(\\mathbb{N}_{&lt;4}\\)で\\(4\\)未満の自然数（\\(0\\)を含む）を表すことにすれば，任意の事例の正解ラベル\\(y_i\\)は\\(y_i \\in \\mathbb{N}_{&lt;4}\\)で表現できる．\n",
    "以降では，ラベルの種類数を\\(L\\)で表す（今回の分類タスクでは\\(L=4\\)である）．</p>\n",
    "<p>\\(i\\)番目の事例の特徴ベクトル\\(\\boldsymbol{x}_i\\)は，次式で求める．</p>\n",
    "\n",
    "<p>\\[\\boldsymbol{x}_i = \\frac{1}{T_i} \\sum_{t=1}^{T_i} \\mathrm{emb}(w_{i,t}))\\]</p>\n",
    "\n",
    "<p>ここで，\\(i\\)番目の事例は\\(T_i\\)個の（記事見出しの）単語列\\((w_{i,1}, w_{i,2}, \\dots, w_{i,T_i})\\)から構成され，\\(\\mathrm{emb}(w) \\in \\mathbb{R}^d\\)は単語\\(w\\)に対応する単語ベクトル（次元数は\\(d\\)）である．すなわち，\\(i\\)番目の事例の記事見出しを，その見出しに含まれる単語のベクトルの平均で表現したものが\\(\\boldsymbol{x}_i\\)である．今回は単語ベクトルとして，問題60でダウンロードしたものを用いればよい．\\(300\\)次元の単語ベクトルを用いたので，\\(d=300\\)である．</p>\n",
    "<p>\\(i\\)番目の事例のラベル\\(y_i\\)は，次のように定義する．</p>\n",
    "\n",
    "<p>\\[y_i = \\begin{cases}\n",
    "0 &amp; (\\mbox{記事}x_i\\mbox{が「ビジネス」カテゴリの場合}) \\\\\n",
    "1 &amp; (\\mbox{記事}x_i\\mbox{が「科学技術」カテゴリの場合}) \\\\\n",
    "2 &amp; (\\mbox{記事}x_i\\mbox{が「エンターテイメント」カテゴリの場合}) \\\\\n",
    "3 &amp; (\\mbox{記事}x_i\\mbox{が「健康」カテゴリの場合}) \\\\\n",
    "\\end{cases}}\\]</p>\n",
    "\n",
    "<p>なお，カテゴリ名とラベルの番号が一対一で対応付いていれば，上式の通りの対応付けでなくてもよい．</p>\n",
    "<p>以上の仕様に基づき，以下の行列・ベクトルを作成し，ファイルに保存せよ．</p>\n",
    "<ul>\n",
    "<li>学習データの特徴量行列: \\(X_{\\rm train} \\in \\mathbb{R}^{N_t \\times d}\\)</li>\n",
    "<li>学習データのラベルベクトル: \\(Y_{\\rm train} \\in \\mathbb{N}^{N_t}\\)</li>\n",
    "<li>検証データの特徴量行列: \\(X_{\\rm valid} \\in \\mathbb{R}^{N_v \\times d}\\)</li>\n",
    "<li>検証データのラベルベクトル: \\(Y_{\\rm valid} \\in \\mathbb{N}^{N_v}\\)</li>\n",
    "<li>評価データの特徴量行列: \\(X_{\\rm test} \\in \\mathbb{R}^{N_e \\times d}\\)</li>\n",
    "<li>評価データのラベルベクトル: \\(Y_{\\rm test} \\in \\mathbb{N}^{N_e}\\)</li>\n",
    "</ul>\n",
    "<p>なお，\\(N_t, N_v, N_e\\)はそれぞれ，学習データの事例数，検証データの事例数，評価データの事例数である．</p>\n"
   ]
  },
  {
   "cell_type": "code",
   "execution_count": 5,
   "id": "cfb751fa",
   "metadata": {},
   "outputs": [],
   "source": [
    "# !cp /Users/nyuton/Documents/100knock-2023/trainee_nyutonn/chapter06/data/NewsAggregatorDataset.zip /Users/nyuton/Documents/100knock-2023/trainee_nyutonn/chapter08/data/NewsAggregatorDataset.zip "
   ]
  },
  {
   "attachments": {},
   "cell_type": "markdown",
   "id": "4fd58eaf",
   "metadata": {},
   "source": [
    "ここから問題50からのコピペ"
   ]
  },
  {
   "cell_type": "code",
   "execution_count": 5,
   "id": "e0f55d2d",
   "metadata": {},
   "outputs": [
    {
     "name": "stdout",
     "output_type": "stream",
     "text": [
      "Archive:  /Users/nyuton/Documents/100knock-2023/trainee_nyutonn/chapter08/data/NewsAggregatorDataset.zip\n",
      "  inflating: 2pageSessions.csv       \n",
      "   creating: __MACOSX/\n",
      "  inflating: __MACOSX/._2pageSessions.csv  \n",
      "  inflating: newsCorpora.csv         \n",
      "  inflating: __MACOSX/._newsCorpora.csv  \n",
      "  inflating: readme.txt              \n",
      "  inflating: __MACOSX/._readme.txt   \n"
     ]
    }
   ],
   "source": [
    "# !unzip /Users/nyuton/Documents/100knock-2023/trainee_nyutonn/chapter08/data/NewsAggregatorDataset.zip"
   ]
  },
  {
   "cell_type": "code",
   "execution_count": 2,
   "id": "ba9ccdd9",
   "metadata": {},
   "outputs": [
    {
     "data": {
      "text/html": [
       "<div>\n",
       "<style scoped>\n",
       "    .dataframe tbody tr th:only-of-type {\n",
       "        vertical-align: middle;\n",
       "    }\n",
       "\n",
       "    .dataframe tbody tr th {\n",
       "        vertical-align: top;\n",
       "    }\n",
       "\n",
       "    .dataframe thead th {\n",
       "        text-align: right;\n",
       "    }\n",
       "</style>\n",
       "<table border=\"1\" class=\"dataframe\">\n",
       "  <thead>\n",
       "    <tr style=\"text-align: right;\">\n",
       "      <th></th>\n",
       "      <th>ID</th>\n",
       "      <th>TITLE</th>\n",
       "      <th>URL</th>\n",
       "      <th>PUBLISHER</th>\n",
       "      <th>CATEGORY</th>\n",
       "      <th>STORY</th>\n",
       "      <th>HOSTNAME</th>\n",
       "      <th>TIMESTAMP</th>\n",
       "    </tr>\n",
       "  </thead>\n",
       "  <tbody>\n",
       "    <tr>\n",
       "      <th>0</th>\n",
       "      <td>1</td>\n",
       "      <td>Fed official says weak data caused by weather,...</td>\n",
       "      <td>http://www.latimes.com/business/money/la-fi-mo...</td>\n",
       "      <td>Los Angeles Times</td>\n",
       "      <td>b</td>\n",
       "      <td>ddUyU0VZz0BRneMioxUPQVP6sIxvM</td>\n",
       "      <td>www.latimes.com</td>\n",
       "      <td>1394470370698</td>\n",
       "    </tr>\n",
       "    <tr>\n",
       "      <th>1</th>\n",
       "      <td>2</td>\n",
       "      <td>Fed's Charles Plosser sees high bar for change...</td>\n",
       "      <td>http://www.livemint.com/Politics/H2EvwJSK2VE6O...</td>\n",
       "      <td>Livemint</td>\n",
       "      <td>b</td>\n",
       "      <td>ddUyU0VZz0BRneMioxUPQVP6sIxvM</td>\n",
       "      <td>www.livemint.com</td>\n",
       "      <td>1394470371207</td>\n",
       "    </tr>\n",
       "    <tr>\n",
       "      <th>2</th>\n",
       "      <td>3</td>\n",
       "      <td>US open: Stocks fall after Fed official hints ...</td>\n",
       "      <td>http://www.ifamagazine.com/news/us-open-stocks...</td>\n",
       "      <td>IFA Magazine</td>\n",
       "      <td>b</td>\n",
       "      <td>ddUyU0VZz0BRneMioxUPQVP6sIxvM</td>\n",
       "      <td>www.ifamagazine.com</td>\n",
       "      <td>1394470371550</td>\n",
       "    </tr>\n",
       "    <tr>\n",
       "      <th>3</th>\n",
       "      <td>4</td>\n",
       "      <td>Fed risks falling 'behind the curve', Charles ...</td>\n",
       "      <td>http://www.ifamagazine.com/news/fed-risks-fall...</td>\n",
       "      <td>IFA Magazine</td>\n",
       "      <td>b</td>\n",
       "      <td>ddUyU0VZz0BRneMioxUPQVP6sIxvM</td>\n",
       "      <td>www.ifamagazine.com</td>\n",
       "      <td>1394470371793</td>\n",
       "    </tr>\n",
       "    <tr>\n",
       "      <th>4</th>\n",
       "      <td>5</td>\n",
       "      <td>Fed's Plosser: Nasty Weather Has Curbed Job Gr...</td>\n",
       "      <td>http://www.moneynews.com/Economy/federal-reser...</td>\n",
       "      <td>Moneynews</td>\n",
       "      <td>b</td>\n",
       "      <td>ddUyU0VZz0BRneMioxUPQVP6sIxvM</td>\n",
       "      <td>www.moneynews.com</td>\n",
       "      <td>1394470372027</td>\n",
       "    </tr>\n",
       "  </tbody>\n",
       "</table>\n",
       "</div>"
      ],
      "text/plain": [
       "   ID                                              TITLE  \\\n",
       "0   1  Fed official says weak data caused by weather,...   \n",
       "1   2  Fed's Charles Plosser sees high bar for change...   \n",
       "2   3  US open: Stocks fall after Fed official hints ...   \n",
       "3   4  Fed risks falling 'behind the curve', Charles ...   \n",
       "4   5  Fed's Plosser: Nasty Weather Has Curbed Job Gr...   \n",
       "\n",
       "                                                 URL          PUBLISHER  \\\n",
       "0  http://www.latimes.com/business/money/la-fi-mo...  Los Angeles Times   \n",
       "1  http://www.livemint.com/Politics/H2EvwJSK2VE6O...           Livemint   \n",
       "2  http://www.ifamagazine.com/news/us-open-stocks...       IFA Magazine   \n",
       "3  http://www.ifamagazine.com/news/fed-risks-fall...       IFA Magazine   \n",
       "4  http://www.moneynews.com/Economy/federal-reser...          Moneynews   \n",
       "\n",
       "  CATEGORY                          STORY             HOSTNAME      TIMESTAMP  \n",
       "0        b  ddUyU0VZz0BRneMioxUPQVP6sIxvM      www.latimes.com  1394470370698  \n",
       "1        b  ddUyU0VZz0BRneMioxUPQVP6sIxvM     www.livemint.com  1394470371207  \n",
       "2        b  ddUyU0VZz0BRneMioxUPQVP6sIxvM  www.ifamagazine.com  1394470371550  \n",
       "3        b  ddUyU0VZz0BRneMioxUPQVP6sIxvM  www.ifamagazine.com  1394470371793  \n",
       "4        b  ddUyU0VZz0BRneMioxUPQVP6sIxvM    www.moneynews.com  1394470372027  "
      ]
     },
     "execution_count": 2,
     "metadata": {},
     "output_type": "execute_result"
    }
   ],
   "source": [
    "# データ分割\n",
    "import pandas as pd\n",
    "# csvファイルを読み込む\n",
    "path = \"/Users/nyuton/Documents/100knock-2023/trainee_nyutonn/chapter08/data/newsCorpora.csv\"\n",
    "df = pd.read_table(path, header=None, sep='\\\\t', engine='python')\n",
    "df.columns = ['ID', 'TITLE', 'URL', 'PUBLISHER', 'CATEGORY', 'STORY', 'HOSTNAME', 'TIMESTAMP']\n",
    "# 先頭5つ表示\n",
    "df.head()"
   ]
  },
  {
   "cell_type": "code",
   "execution_count": 3,
   "id": "40caf9c1",
   "metadata": {},
   "outputs": [
    {
     "data": {
      "text/plain": [
       "13356"
      ]
     },
     "execution_count": 3,
     "metadata": {},
     "output_type": "execute_result"
    }
   ],
   "source": [
    "# PUBLISHERが特定の行のみを取り出す\n",
    "publishers = ['Reuters', 'Huffington Post', 'Businessweek', 'Contactmusic.com', 'Daily Mail']\n",
    "daily_mails = df[df['PUBLISHER'].isin(publishers)]\n",
    "len(daily_mails)  # 取り出した行数"
   ]
  },
  {
   "cell_type": "code",
   "execution_count": 4,
   "id": "6e34bfb6",
   "metadata": {},
   "outputs": [
    {
     "name": "stdout",
     "output_type": "stream",
     "text": [
      "10684 1336 1336\n"
     ]
    }
   ],
   "source": [
    "from sklearn.model_selection import train_test_split\n",
    "# 訓練データ、検証データ、テストデータに分ける\n",
    "# stratifyで偏りを減らしてみる\n",
    "train_data, non_train, train_target, non_train_target = train_test_split(daily_mails[['TITLE', 'CATEGORY']], daily_mails['CATEGORY'], train_size=0.8, random_state=10, stratify=daily_mails['CATEGORY'])\n",
    "valid_data, test_data, valid_target, test_target = train_test_split(non_train, non_train_target, train_size=0.5, random_state=10,  stratify=non_train_target)\n",
    "print(len(train_data), len(valid_data), len(test_data))\n",
    "\n",
    "# テキストファイルに書き込む\n",
    "train_data.to_csv('work/train.txt', header=None, index=None, sep='\\t')\n",
    "valid_data.to_csv('work/valid.txt', header=None, index=None, sep='\\t')\n",
    "test_data.to_csv('work/test.txt', header=None, index=None, sep='\\t')"
   ]
  },
  {
   "attachments": {},
   "cell_type": "markdown",
   "id": "9987dfda",
   "metadata": {},
   "source": [
    "ここから問題60からのコピペ"
   ]
  },
  {
   "cell_type": "code",
   "execution_count": 5,
   "id": "e8c6d804",
   "metadata": {},
   "outputs": [],
   "source": [
    "# !cp /Users/nyuton/Documents/100knock-2023/trainee_nyutonn/chapter07/data/GoogleNews-vectors-negative300.bin /Users/nyuton/Documents/100knock-2023/trainee_nyutonn/chapter08/data/GoogleNews-vectors-negative300.bin"
   ]
  },
  {
   "cell_type": "code",
   "execution_count": 9,
   "id": "720b1c17",
   "metadata": {},
   "outputs": [
    {
     "name": "stdout",
     "output_type": "stream",
     "text": [
      "<class 'gensim.models.keyedvectors.KeyedVectors'>\n",
      "(3000000, 300)\n",
      "(300,)\n"
     ]
    }
   ],
   "source": [
    "from gensim.models import KeyedVectors\n",
    "\n",
    "# 学習済みモデルを読み込む\n",
    "# modelは単語辞書形式で中身はベクトル\n",
    "model = KeyedVectors.load_word2vec_format('data/GoogleNews-vectors-negative300.bin', binary=True) \n",
    "\n",
    "# 例\n",
    "print(type(model))  # <class 'gensim.models.keyedvectors.KeyedVectors'>\n",
    "print(model.vectors.shape)      # 語彙数 x ベクトル次元数 を表示\n",
    "print(model['apple'].shape)  # 単語ベクトルの型\n",
    "# print(model['United_States'])   # United Statesの単語ベクトルを表示"
   ]
  },
  {
   "attachments": {},
   "cell_type": "markdown",
   "id": "7dbdc961",
   "metadata": {},
   "source": [
    "ここからラベルと特徴量の変換をする\n",
    "* 特徴量 X：テキスト -> 単語ベクトルの平均\n",
    "* ラベル y：b, e, m, t -> 0, 1, 2, 3"
   ]
  },
  {
   "cell_type": "code",
   "execution_count": 10,
   "id": "69bf42d4",
   "metadata": {},
   "outputs": [
    {
     "name": "stdout",
     "output_type": "stream",
     "text": [
      "10684 10684\n"
     ]
    }
   ],
   "source": [
    "# テキストとラベルの抽出\n",
    "def extract_text_label(path):\n",
    "    X_text = []\n",
    "    y_label = []\n",
    "    with open(path, \"r\") as fr:\n",
    "        for line in fr:\n",
    "            line = line.rstrip()\n",
    "            text, label = line.split(\"\\t\")\n",
    "            X_text.append(text)\n",
    "            y_label.append(label)\n",
    "    return X_text, y_label\n",
    "        \n",
    "\n",
    "X_train_text, y_train_label = extract_text_label(\"work/train.txt\")\n",
    "X_valid_text, y_valid_label = extract_text_label(\"work/valid.txt\")\n",
    "X_test_text, y_test_label = extract_text_label(\"work/test.txt\")\n",
    "print(len(X_train_text), len(y_train_label))"
   ]
  },
  {
   "cell_type": "code",
   "execution_count": 11,
   "id": "87153d66",
   "metadata": {},
   "outputs": [],
   "source": [
    "# ラベルをindexに変更\n",
    "def label2index(label):\n",
    "    if label == \"b\":\n",
    "        return 0\n",
    "    elif label == \"e\":\n",
    "        return 1\n",
    "    elif label == \"t\":\n",
    "        return 2\n",
    "    elif label == \"m\":\n",
    "        return 3\n",
    "\n",
    "y_train = list(map(label2index, y_train_label))\n",
    "y_valid = list(map(label2index, y_valid_label))\n",
    "y_test = list(map(label2index, y_test_label))"
   ]
  },
  {
   "cell_type": "code",
   "execution_count": 12,
   "id": "1742430f",
   "metadata": {},
   "outputs": [],
   "source": [
    "# 保存する練習\n",
    "import numpy as np\n",
    "a = np.array([[0, 1, 2], [2, 3, 4]])\n",
    "np.save(\"test.npy\", a)"
   ]
  },
  {
   "cell_type": "code",
   "execution_count": 13,
   "id": "cd60c299",
   "metadata": {},
   "outputs": [
    {
     "data": {
      "text/plain": [
       "array([[0, 1, 2],\n",
       "       [2, 3, 4]])"
      ]
     },
     "execution_count": 13,
     "metadata": {},
     "output_type": "execute_result"
    }
   ],
   "source": [
    "# 保存したものをロードする練習\n",
    "b = np.load(\"test.npy\")\n",
    "b"
   ]
  },
  {
   "cell_type": "code",
   "execution_count": 14,
   "id": "0d4ebcb1",
   "metadata": {},
   "outputs": [
    {
     "name": "stderr",
     "output_type": "stream",
     "text": [
      "100%|██████████| 10684/10684 [00:00<00:00, 46387.88it/s]\n",
      "100%|██████████| 1336/1336 [00:00<00:00, 61371.54it/s]\n",
      "100%|██████████| 1336/1336 [00:00<00:00, 54192.28it/s]\n"
     ]
    }
   ],
   "source": [
    "# めちゃめちゃ時間かかるので注意！ -> 次元数と語彙数を勘違いしていたので修正したら一瞬で終わった\n",
    "import numpy as np\n",
    "from tqdm import tqdm # 進捗表示\n",
    "model = KeyedVectors.load_word2vec_format('data/GoogleNews-vectors-negative300.bin', binary=True) \n",
    "\n",
    "# 特徴量をテキストから単語ベクトルの平均に変換\n",
    "def text2emb_vec(X, output_path):\n",
    "    emb_vecs = []\n",
    "    for x in tqdm(X): # 経過時間の表示\n",
    "        words = x.split(\" \") # 単語に分割\n",
    "        sum_vec = np.zeros(300) # 初期化\n",
    "        for word in words:\n",
    "            # 辞書に単語が載っていないとエラーになるので，載っていないときは無視する\n",
    "            if word in model:\n",
    "                sum_vec += model[word] # 単語ベクトルを足していく\n",
    "        ave_vec = sum_vec / len(words) # 平均にする\n",
    "        emb_vecs.append(ave_vec) \n",
    "    \n",
    "    np.save(output_path, emb_vecs) # 特徴量をファイルに保存する\n",
    "\n",
    "X_train = text2emb_vec(X_train_text, \"work/train_wordemb.npy\")\n",
    "X_valid = text2emb_vec(X_valid_text, \"work/valid_wordemb.npy\")\n",
    "X_test = text2emb_vec(X_test_text, \"work/test_wordemb.npy\")"
   ]
  },
  {
   "cell_type": "code",
   "execution_count": 15,
   "id": "b021904d",
   "metadata": {},
   "outputs": [
    {
     "data": {
      "text/plain": [
       "(1336, 300)"
      ]
     },
     "execution_count": 15,
     "metadata": {},
     "output_type": "execute_result"
    }
   ],
   "source": [
    "a = np.load('work/test_wordemb.npy')\n",
    "a.shape"
   ]
  },
  {
   "cell_type": "code",
   "execution_count": 16,
   "id": "c46da566",
   "metadata": {},
   "outputs": [
    {
     "data": {
      "text/plain": [
       "(1336, 300)"
      ]
     },
     "execution_count": 16,
     "metadata": {},
     "output_type": "execute_result"
    }
   ],
   "source": [
    "a = np.load('work/test.text.npy')\n",
    "a.shape"
   ]
  },
  {
   "attachments": {},
   "cell_type": "markdown",
   "id": "65a7080d",
   "metadata": {},
   "source": [
    "ここから答えの写し"
   ]
  },
  {
   "cell_type": "code",
   "execution_count": 13,
   "id": "a7ef3b53",
   "metadata": {},
   "outputs": [],
   "source": [
    "# 1. extract certain publishers\n",
    "publisher_of_interest = (\"Reuters\", \"Huffington Post\", \"Businessweek\", \"Contactmusic.com\", \"Daily Mail\")\n",
    "                         \n",
    "def extract_text(input_path, out_path, publisher_of_interest):\n",
    "    with open(input_path, 'r') as fi, open(out_path, 'w') as fo:\n",
    "        for line in fi:\n",
    "            fields = line.strip().split('\\t')\n",
    "            headline = fields[1]\n",
    "            publisher = fields[3]\n",
    "            category_char = fields[4]\n",
    "            if publisher in publisher_of_interest:\n",
    "                fo.write(\"{}\\t{}\\n\".format(category_char, headline))\n",
    "\n",
    "extract_text('data/newsCorpora.csv', 'work/processed_article.tsv', publisher_of_interest)"
   ]
  },
  {
   "cell_type": "code",
   "execution_count": 14,
   "metadata": {},
   "outputs": [
    {
     "name": "stdout",
     "output_type": "stream",
     "text": [
      "train instance: 10684\n",
      "valid instance: 1336\n",
      "test instance: 1336\n"
     ]
    }
   ],
   "source": [
    "# 2. random shuffling and splitting\n",
    "import os\n",
    "import random\n",
    "from sklearn.model_selection import train_test_split\n",
    "\n",
    "def shuffle_and_split(input_path, out_path):\n",
    "    instances = [l.strip() for l in  open(input_path, 'r')]\n",
    "    random.shuffle(instances)\n",
    "    \n",
    "    total_n = len(instances)\n",
    "    train_instances, test_instances = train_test_split(instances, test_size=0.2)\n",
    "    valid_instances, test_instances = train_test_split(test_instances, test_size=0.5)\n",
    "    print('train instance: {}'.format(len(train_instances)))\n",
    "    print('valid instance: {}'.format(len(valid_instances)))\n",
    "    print('test instance: {}'.format(len(test_instances)))\n",
    "    \n",
    "    with open(os.path.join(out_path, 'train.txt'), 'w') as fo:\n",
    "        for line in train_instances:\n",
    "            fo.write(\"{}\\n\".format(line))\n",
    "\n",
    "    with open(os.path.join(out_path, 'valid.txt'), 'w') as fo:\n",
    "        for line in valid_instances:\n",
    "            fo.write(\"{}\\n\".format(line))\n",
    "    \n",
    "    with open(os.path.join(out_path, 'test.txt'), 'w') as fo:\n",
    "        for line in test_instances:\n",
    "            fo.write(\"{}\\n\".format(line))\n",
    "\n",
    "shuffle_and_split('work/processed_article.tsv', 'work')"
   ]
  },
  {
   "cell_type": "code",
   "execution_count": 16,
   "metadata": {},
   "outputs": [
    {
     "name": "stderr",
     "output_type": "stream",
     "text": [
      "[nltk_data] Downloading package punkt to /Users/nyuton/nltk_data...\n",
      "[nltk_data]   Unzipping tokenizers/punkt.zip.\n"
     ]
    }
   ],
   "source": [
    "# Text files from No. 50 must be tokenized beforehand.\n",
    "import nltk\n",
    "nltk.download('punkt')\n",
    "\n",
    "def tokenize(input_path, output_path):\n",
    "    with open(input_path, 'r') as fi, open(output_path, 'w') as fo:\n",
    "        for line in fi:\n",
    "            category, headline = line.strip().split('\\t')\n",
    "            tokens = nltk.word_tokenize(headline)\n",
    "            tkn_headline = ' '.join(tokens)\n",
    "            fo.write('{}\\t{}\\n'.format(category, tkn_headline))"
   ]
  },
  {
   "cell_type": "code",
   "execution_count": 17,
   "id": "d873419f",
   "metadata": {},
   "outputs": [],
   "source": [
    "tokenize('work/train.txt', 'work/train.tkn.txt')\n",
    "tokenize('work/valid.txt', 'work/valid.tkn.txt')\n",
    "tokenize('work/test.txt', 'work/test.tkn.txt')"
   ]
  },
  {
   "cell_type": "code",
   "execution_count": 18,
   "id": "26024c53",
   "metadata": {},
   "outputs": [],
   "source": [
    "from collections import defaultdict\n",
    "import json\n",
    "\n",
    "def create_label_to_index_file(input_path, output_path):\n",
    "    label2index = defaultdict(lambda: len(label2index))\n",
    "    with open(input_path, 'r') as fi:\n",
    "        for line in fi:\n",
    "            label = line.strip().split()[0]\n",
    "            label2index[label]\n",
    "#     print(label2index)\n",
    "#     print(len(label2index))\n",
    "    assert len(label2index) == 4\n",
    "    json.dump(dict(label2index),  open(output_path, 'w'))"
   ]
  },
  {
   "cell_type": "code",
   "execution_count": 19,
   "id": "f0d9a73b",
   "metadata": {},
   "outputs": [
    {
     "name": "stdout",
     "output_type": "stream",
     "text": [
      "{\"b\": 0, \"m\": 1, \"e\": 2, \"t\": 3}"
     ]
    }
   ],
   "source": [
    "create_label_to_index_file('work/train.tkn.txt', 'work/label2index.json')\n",
    "!cat work/label2index.json"
   ]
  },
  {
   "cell_type": "code",
   "execution_count": 20,
   "id": "06947f38",
   "metadata": {},
   "outputs": [],
   "source": [
    "import numpy as np\n",
    "\n",
    "def convert_label_to_index(input_path, output_path, label2index_path):\n",
    "    label2index = json.load(open(label2index_path))\n",
    "    \n",
    "    label_indices = []\n",
    "    with open(input_path, 'r') as fi:\n",
    "        for line in fi:\n",
    "            category = line.strip().split('\\t')[0]  # i.e., label\n",
    "            index = label2index[category]\n",
    "            label_indices.append(index)\n",
    "    label_array = np.asarray(label_indices, 'i')\n",
    "    print(f\"label_array: {label_array}, shape: {label_array.shape}\")\n",
    "    np.save(output_path, label_array)"
   ]
  },
  {
   "cell_type": "code",
   "execution_count": 21,
   "id": "2b8d1845",
   "metadata": {},
   "outputs": [
    {
     "name": "stdout",
     "output_type": "stream",
     "text": [
      "label_array: [0 0 1 ... 3 0 0], shape: (10684,)\n",
      "label_array: [2 0 2 ... 3 2 0], shape: (1336,)\n",
      "label_array: [2 2 2 ... 0 2 0], shape: (1336,)\n"
     ]
    }
   ],
   "source": [
    "convert_label_to_index('work/train.tkn.txt', 'work/train.label.npy', 'work/label2index.json')\n",
    "convert_label_to_index('work/valid.tkn.txt', 'work/valid.label.npy', 'work/label2index.json')\n",
    "convert_label_to_index('work/test.tkn.txt', 'work/test.label.npy', 'work/label2index.json')"
   ]
  },
  {
   "cell_type": "code",
   "execution_count": 22,
   "id": "3c04cd38",
   "metadata": {},
   "outputs": [],
   "source": [
    "from gensim.models import KeyedVectors\n",
    "from tqdm import tqdm # 進捗表示\n",
    "\n",
    "def convert_text_to_index(input_path, output_path, model):\n",
    "    text_features = []\n",
    "    with open(input_path, 'r') as fi:\n",
    "        for line in tqdm(fi):\n",
    "            text = line.strip().split('\\t')[1]\n",
    "            tokens = text.strip().split()\n",
    "            # すべてのtokenが学習済み単語ベクトルの中に存在するわけではないのに注意すること。\n",
    "            # 今回は、ベクトルが見つからなかった場合は諦める（無視する）という実装にした\n",
    "        # なんでここがこんなに一瞬で終わるの？？\n",
    "            word_matrix = np.stack([model[t] for t in tokens if t in model], axis=0)\n",
    "            avg_vec = np.sum(word_matrix, axis=0) / len(tokens)\n",
    "            text_features.append(avg_vec)\n",
    "    # インスタンスの数が増えると物理メモリを圧迫する可能性があるので若干危険\n",
    "    feature_matrix = np.stack(text_features, axis=0)\n",
    "    np.save(output_path, feature_matrix)"
   ]
  },
  {
   "cell_type": "code",
   "execution_count": 23,
   "id": "8aef05ae",
   "metadata": {},
   "outputs": [
    {
     "name": "stderr",
     "output_type": "stream",
     "text": [
      "10684it [00:00, 31574.36it/s]\n",
      "1336it [00:00, 16723.44it/s]\n",
      "1336it [00:00, 31578.77it/s]\n"
     ]
    }
   ],
   "source": [
    "# 単語ベクトルのロード\n",
    "word_vec_path = './data/GoogleNews-vectors-negative300.bin'\n",
    "wordvec_model = KeyedVectors.load_word2vec_format(word_vec_path, binary=True)\n",
    "\n",
    "# 入力を特徴量に変換\n",
    "convert_text_to_index('work/train.tkn.txt', 'work/train.text.npy', wordvec_model)\n",
    "convert_text_to_index('work/valid.tkn.txt', 'work/valid.text.npy', wordvec_model)\n",
    "convert_text_to_index('work/test.tkn.txt', 'work/test.text.npy', wordvec_model)"
   ]
  },
  {
   "cell_type": "code",
   "execution_count": 25,
   "id": "73bd90d2",
   "metadata": {},
   "outputs": [
    {
     "data": {
      "text/plain": [
       "(1336, 300)"
      ]
     },
     "execution_count": 25,
     "metadata": {},
     "output_type": "execute_result"
    }
   ],
   "source": [
    "a = np.load('work/test.text.npy')\n",
    "a.shape"
   ]
  },
  {
   "cell_type": "code",
   "execution_count": 27,
   "id": "cb56f68b",
   "metadata": {},
   "outputs": [
    {
     "data": {
      "text/plain": [
       "array([2, 2, 2, ..., 0, 2, 0], dtype=int32)"
      ]
     },
     "execution_count": 27,
     "metadata": {},
     "output_type": "execute_result"
    }
   ],
   "source": [
    "b = np.load('work/test.label.npy')\n",
    "b.shape\n",
    "b"
   ]
  },
  {
   "cell_type": "markdown",
   "id": "4f72dd01",
   "metadata": {},
   "source": [
    "<h2 id=\"71-単層ニューラルネットワークによる予測\">71. 単層ニューラルネットワークによる予測</h2>\n",
    "<p>問題70で保存した行列を読み込み，学習データについて以下の計算を実行せよ．</p>\n",
    "\n",
    "<p>\\[\\hat{\\boldsymbol{y}}_1 = {\\rm softmax}(\\boldsymbol{x}_1 W), \\\\\n",
    "\\hat{Y} = {\\rm softmax}(X_{[1:4]} W))\\]</p>\n",
    "\n",
    "<p>ただし，\\({\\rm softmax}\\)はソフトマックス関数，\\(X_{[1:4]} \\in \\mathbb{R}^{4 \\times d}\\)は特徴ベクトル\\(\\boldsymbol{x}_1, \\boldsymbol{x}_2, \\boldsymbol{x}_3, \\boldsymbol{x}_4\\)を縦に並べた行列である．</p>\n",
    "\n",
    "<p>\\[X_{[1:4]} = \\begin{pmatrix} \n",
    "  \\boldsymbol{x}_1 \\\\ \n",
    "  \\boldsymbol{x}_2 \\\\ \n",
    "  \\boldsymbol{x}_3 \\\\ \n",
    "  \\boldsymbol{x}_4 \\\\ \n",
    "\\end{pmatrix}}\\]</p>\n",
    "\n",
    "<p>行列\\(W \\in \\mathbb{R}^{d \\times L}\\)は単層ニューラルネットワークの重み行列で，ここではランダムな値で初期化すればよい（問題73以降で学習して求める）．なお，\\(\\hat{\\boldsymbol{y}}_1 \\in \\mathbb{R}^L\\)は未学習の行列\\(W\\)で事例\\(x_1\\)を分類したときに，各カテゴリに属する確率を表すベクトルである．\n",
    "同様に，\\(\\hat{Y} \\in \\mathbb{R}^{n \\times L}\\)は，学習データの事例\\(x_1, x_2, x_3, x_4\\)について，各カテゴリに属する確率を行列として表現している．</p>\n"
   ]
  },
  {
   "cell_type": "code",
   "execution_count": 18,
   "id": "e4e800cc",
   "metadata": {},
   "outputs": [
    {
     "name": "stderr",
     "output_type": "stream",
     "text": [
      "/Users/nyuton/.pyenv/versions/anaconda3-2022.10/envs/ISHate/lib/python3.11/site-packages/chainer/_environment_check.py:33: UserWarning: Accelerate has been detected as a NumPy backend library.\n",
      "vecLib, which is a part of Accelerate, is known not to work correctly with Chainer.\n",
      "We recommend using other BLAS libraries such as OpenBLAS.\n",
      "For details of the issue, please see\n",
      "https://docs.chainer.org/en/stable/tips.html#mnist-example-does-not-converge-in-cpu-mode-on-mac-os-x.\n",
      "\n",
      "Please be aware that Mac OS X is not an officially supported OS.\n",
      "\n",
      "  warnings.warn('''\\\n"
     ]
    }
   ],
   "source": [
    "import numpy as np\n",
    "import chainer\n",
    "from chainer import cuda, Variable\n",
    "from chainer import Chain\n",
    "import chainer.functions as F\n",
    "import chainer.links as L\n",
    "import chainer.optimizers as O"
   ]
  },
  {
   "cell_type": "code",
   "execution_count": 19,
   "id": "f190bdb9",
   "metadata": {},
   "outputs": [],
   "source": [
    "class SoftmaxLayer(Chain):\n",
    "    # インスタンスの初期化\n",
    "    def __init__(self, n_features, n_label):\n",
    "        super(SoftmaxLayer, self).__init__()\n",
    "        with self.init_scope():\n",
    "            self.linear = L.Linear(n_features, n_label, nobias=True)\n",
    "\n",
    "    # インスタンスを関数のように用いることができる\n",
    "    def __call__(self, xs):\n",
    "        ys = F.softmax(self.linear(xs))\n",
    "        return ys"
   ]
  },
  {
   "cell_type": "code",
   "execution_count": 21,
   "id": "cd986971",
   "metadata": {},
   "outputs": [
    {
     "name": "stdout",
     "output_type": "stream",
     "text": [
      "(10684, 300) (300,) (1, 300) () (4, 300)\n",
      "[[0.26860833 0.23525824 0.2515842  0.24454924]]\n",
      "[[0.26860833 0.23525824 0.2515842  0.24454924]\n",
      " [0.26221195 0.22481003 0.2443342  0.26864383]\n",
      " [0.24191654 0.24789904 0.2512434  0.25894102]\n",
      " [0.26224676 0.22612016 0.2558404  0.25579265]]\n"
     ]
    }
   ],
   "source": [
    "softmax_layer = SoftmaxLayer(n_features=300, n_label=4)\n",
    "train_X = np.load('work/train.text.npy').astype('f') # astype？？\n",
    "\n",
    "print(train_X.shape, train_X[0].shape, train_X[0][None].shape, train_X[0][1].shape, train_X[:4].shape)\n",
    "# Noneを指定しないと1次元のベクトルになり，エラーになる\n",
    "y1 = softmax_layer(train_X[0][None])\n",
    "print(y1.data)\n",
    "Y1_4 = softmax_layer(train_X[:4])\n",
    "print(Y1_4.data)"
   ]
  },
  {
   "cell_type": "markdown",
   "id": "45aae6b5",
   "metadata": {},
   "source": [
    "<h2 id=\"72-損失と勾配の計算\">72. 損失と勾配の計算</h2>\n",
    "<p>学習データの事例\\(x_1\\)と事例集合\\(x_1, x_2, x_3, x_4\\)に対して，クロスエントロピー損失と，行列\\(W\\)に対する勾配を計算せよ．なお，ある事例\\(x_i\\)に対して損失は次式で計算される．</p>\n",
    "\n",
    "<p>\\[l_i = - \\log [\\mbox{事例}x_i\\mbox{が}y_i\\mbox{に分類される確率}]]\\]</p>\n",
    "\n",
    "<p>ただし，事例集合に対するクロスエントロピー損失は，その集合に含まれる各事例の損失の平均とする．</p>\n"
   ]
  },
  {
   "cell_type": "code",
   "execution_count": 24,
   "id": "49def837",
   "metadata": {},
   "outputs": [],
   "source": [
    "class SoftmaxLayer(Chain):\n",
    "    def __init__(self, n_features, n_label):\n",
    "        super(SoftmaxLayer, self).__init__()\n",
    "        with self.init_scope():\n",
    "            self.linear = L.Linear(n_features, n_label, nobias=True)\n",
    "\n",
    "    # 入力xsから予測されるクラスと，真クラスtのクロスエントロピー（ロス）を出す\n",
    "    def __call__(self, xs, t):\n",
    "        minibatch_size = xs.shape[0]\n",
    "        logit = self.predict(xs)\n",
    "        loss = F.sum(F.softmax_cross_entropy(logit, t, reduce='no')) / minibatch_size\n",
    "        return loss\n",
    "    \n",
    "    # 入力xsからクラスを予測するメソッド\n",
    "    def predict(self, xs):\n",
    "        logit = self.linear(xs)\n",
    "        return logit"
   ]
  },
  {
   "cell_type": "code",
   "execution_count": 25,
   "id": "51bab826",
   "metadata": {},
   "outputs": [
    {
     "name": "stdout",
     "output_type": "stream",
     "text": [
      "(1, 300) (1,) ()\n",
      "x1 loss: variable(1.3641788)\n",
      "x1 grad: \n",
      "[[ 0.03843814  0.03332049  0.00884127 ... -0.06654456 -0.06264474\n",
      "   0.05495588]\n",
      " [-0.01296874 -0.01124208 -0.00298298 ...  0.02245163  0.02113587\n",
      "  -0.0185417 ]\n",
      " [-0.01198831 -0.01039219 -0.00275747 ...  0.02075431  0.01953801\n",
      "  -0.01713996]\n",
      " [-0.01348109 -0.01168622 -0.00310082 ...  0.02333862  0.02197087\n",
      "  -0.01927422]]\n",
      "x1-4 loss: variable(1.3896834)\n",
      "x1-4 grad: \n",
      "[[ 0.01579663 -0.00212042  0.00101354 ... -0.05398351 -0.04044795\n",
      "  -0.00389846]\n",
      " [-0.01028623  0.00833758 -0.01248276 ...  0.02277154  0.00368178\n",
      "   0.00022114]\n",
      " [-0.0025828  -0.00293138  0.00549035 ...  0.01485307  0.01753019\n",
      "   0.00182573]\n",
      " [-0.0029276  -0.00328577  0.00597887 ...  0.0163589   0.01923598\n",
      "   0.00185159]]\n"
     ]
    }
   ],
   "source": [
    "softmax_layer = SoftmaxLayer(n_features=300, n_label=4)\n",
    "train_X = np.load('work/train.text.npy')\n",
    "train_y = np.load('work/train.label.npy')\n",
    "\n",
    "# x1に対して\n",
    "print(train_X[0][None].shape, train_y[0][None].shape, train_y[0].shape)\n",
    "loss = softmax_layer(train_X[0][None], train_y[0][None])\n",
    "softmax_layer.cleargrads() # 勾配を初期化\n",
    "loss.backward() # 自動微分を計算\n",
    "print(f\"x1 loss: {loss}\")\n",
    "print(f\"x1 grad: \\n{softmax_layer.linear.W.grad}\")\n",
    "\n",
    "# x1, 2, 3, 4に対して\n",
    "loss = softmax_layer(train_X[:4], train_y[:4])\n",
    "softmax_layer.cleargrads() # 勾配を初期化\n",
    "loss.backward() # 自動微分を計算\n",
    "print(f\"x1-4 loss: {loss}\")\n",
    "print(f\"x1-4 grad: \\n{softmax_layer.linear.W.grad}\")"
   ]
  },
  {
   "cell_type": "markdown",
   "id": "3a80f63d",
   "metadata": {},
   "source": [
    "<h2 id=\"73-確率的勾配降下法による学習\">73. 確率的勾配降下法による学習</h2>\n",
    "<p>確率的勾配降下法（SGD: Stochastic Gradient Descent）を用いて，行列\\(W\\)を学習せよ．なお，学習は適当な基準で終了させればよい（例えば「100エポックで終了」など）．</p>\n"
   ]
  },
  {
   "cell_type": "code",
   "execution_count": 126,
   "id": "bba476b6",
   "metadata": {},
   "outputs": [],
   "source": [
    "def train_SGD(train_X, train_y, features, labels, lr=0.01, total_epoch=3):\n",
    "    model = SoftmaxLayer(n_features=features, n_label=labels)\n",
    "    optim = chainer.optimizers.SGD(lr=lr).setup(model)\n",
    "\n",
    "    for epoch in range(total_epoch):\n",
    "        print(f\"epoch: {epoch}\")\n",
    "        total_loss = 0.\n",
    "        for xs, ys in zip(train_X, train_y):\n",
    "            loss = model(xs[None], ys[None])\n",
    "            model.cleargrads()\n",
    "            loss.backward()\n",
    "            optim.update()\n",
    "            total_loss += float(loss.data)\n",
    "        ave_loss = total_loss / train_X.shape[0]\n",
    "        print(f\"ave_loss: {ave_loss}\")\n",
    "    \n",
    "    print(\"training complete\")\n",
    "    chainer.serializers.save_npz('model_param.npz', model)"
   ]
  },
  {
   "cell_type": "code",
   "execution_count": 127,
   "id": "e3aa14c0",
   "metadata": {},
   "outputs": [
    {
     "name": "stdout",
     "output_type": "stream",
     "text": [
      "epoch: 0\n",
      "ave_loss: 0.7591786955747208\n",
      "epoch: 1\n",
      "ave_loss: 0.5326800956200768\n",
      "epoch: 2\n",
      "ave_loss: 0.4619528703455709\n",
      "training complete\n"
     ]
    }
   ],
   "source": [
    "train_SGD(train_X, train_y, 300, 4, 0.01, 3)"
   ]
  },
  {
   "cell_type": "markdown",
   "id": "62797233",
   "metadata": {},
   "source": [
    "<h2 id=\"74-正解率の計測\">74. 正解率の計測</h2>\n",
    "<p>問題73で求めた行列を用いて学習データおよび評価データの事例を分類したとき，その正解率をそれぞれ求めよ．</p>\n"
   ]
  },
  {
   "cell_type": "code",
   "execution_count": 93,
   "id": "6d9e5402",
   "metadata": {},
   "outputs": [],
   "source": [
    "from sklearn.metrics import accuracy_score\n",
    "\n",
    "def evaluate(X, y, features, labels):\n",
    "    model = SoftmaxLayer(n_features=features, n_label=labels)\n",
    "    chainer.serializers.load_npz('./model_param.npz', model)\n",
    "\n",
    "    pred = []\n",
    "    with chainer.no_backprop_mode():\n",
    "        for xs in X:\n",
    "            pred_label = model.predict(xs[None]).data.argmax(axis=1)[0]\n",
    "            pred.append(pred_label)\n",
    "            # print(pred_label)\n",
    "\n",
    "    return accuracy_score(y, pred)"
   ]
  },
  {
   "cell_type": "code",
   "execution_count": 94,
   "id": "64c93d83",
   "metadata": {},
   "outputs": [
    {
     "name": "stdout",
     "output_type": "stream",
     "text": [
      "train_acc: 0.8611943092474729\n",
      "test_acc: 0.8480538922155688\n"
     ]
    }
   ],
   "source": [
    "# 学習データ\n",
    "train_eval = evaluate(train_X, train_y, 300, 4)\n",
    "print(f\"train_acc: {train_eval}\")\n",
    "\n",
    "# 評価データ\n",
    "test_X = np.load('work/test.text.npy')\n",
    "test_y = np.load('work/test.label.npy')\n",
    "test_eval = evaluate(test_X, test_y, 300, 4)\n",
    "print(f\"test_acc: {test_eval}\")"
   ]
  },
  {
   "cell_type": "markdown",
   "id": "d34f5692",
   "metadata": {},
   "source": [
    "<h2 id=\"75-損失と正解率のプロット\">75. 損失と正解率のプロット</h2>\n",
    "<p>問題73のコードを改変し，各エポックのパラメータ更新が完了するたびに，訓練データでの損失，正解率，検証データでの損失，正解率をグラフにプロットし，学習の進捗状況を確認できるようにせよ．</p>\n"
   ]
  },
  {
   "cell_type": "code",
   "execution_count": 128,
   "id": "45a24204",
   "metadata": {},
   "outputs": [],
   "source": [
    "def loss_and_ACC(X, y, features=300, labels=4):\n",
    "    model = SoftmaxLayer(n_features=features, n_label=labels)\n",
    "    chainer.serializers.load_npz('./model_param.npz', model)\n",
    "\n",
    "    pred = []\n",
    "    with chainer.no_backprop_mode():\n",
    "        total_loss = 0.\n",
    "        for xs, ys in zip(X, y):\n",
    "            # Xとyからロスを求める\n",
    "            loss = model(xs[None], ys[None])\n",
    "            total_loss += loss\n",
    "\n",
    "            # yを使わずにXだけで，ラベルの予測をする\n",
    "            pred_label = model.predict(xs[None]).data.argmax(axis=1)[0]\n",
    "            pred.append(pred_label)\n",
    "        \n",
    "    ave_loss = total_loss / X.shape[0]\n",
    "    accuracy = accuracy_score(y, pred)\n",
    "    return ave_loss.data, accuracy\n",
    "\n",
    "\n",
    "def train_SGD_plot(train_X, train_y, valid_X, valid_y, features=300, labels=4, lr=0.01, total_epoch=3):\n",
    "    # ログファイルの初期化\n",
    "    with open('log.txt', 'w') as f:\n",
    "        f.write(\"epoch,train_loss,train_acc,valid_loss,valid_acc\\n\")\n",
    "\n",
    "    model = SoftmaxLayer(n_features=features, n_label=labels)\n",
    "    optim = chainer.optimizers.SGD(lr=lr).setup(model)\n",
    "\n",
    "    for epoch in range(total_epoch):\n",
    "        print(f\"epoch: {epoch}\")\n",
    "        total_loss = 0.\n",
    "        for xs, ys in zip(train_X, train_y):\n",
    "            loss = model(xs[None], ys[None])\n",
    "            model.cleargrads()\n",
    "            loss.backward()\n",
    "            optim.update()\n",
    "            total_loss += float(loss.data)\n",
    "\n",
    "        # 毎回ACCを計算する都合上，逐一パラメータを保存する\n",
    "        chainer.serializers.save_npz(f'model_param.npz', model)\n",
    "\n",
    "        # ここで訓練データのロスと，ACCを計算\n",
    "        train_loss, train_acc = loss_and_ACC(train_X, train_y)\n",
    "\n",
    "        # ここでvalidデータのロスと，ACCを計算\n",
    "        valid_loss, valid_acc = loss_and_ACC(valid_X, valid_y)\n",
    "\n",
    "        # ログファイルに書き込む\n",
    "        with open('log.txt', 'a') as f:\n",
    "            f.write(f\"{epoch},{train_loss},{train_acc},{valid_loss},{valid_acc}\\n\")\n",
    "\n",
    "        # 表示\n",
    "        print(f\"train_loss: {train_loss}\")\n",
    "        print(f\"train_acc : {train_acc}\")\n",
    "        print(f\"valid_loss: {valid_loss}\")\n",
    "        print(f\"valid_acc: {valid_acc}\")\n",
    "\n",
    "    print(\"training complete\")"
   ]
  },
  {
   "cell_type": "code",
   "execution_count": 129,
   "id": "e0517ec3",
   "metadata": {},
   "outputs": [
    {
     "name": "stdout",
     "output_type": "stream",
     "text": [
      "epoch: 0\n",
      "train_loss: 0.5894840359687805\n",
      "train_acc : 0.7978285286409584\n",
      "valid_loss: 0.5829847455024719\n",
      "valid_acc: 0.8038922155688623\n",
      "epoch: 1\n",
      "train_loss: 0.4889472723007202\n",
      "train_acc : 0.8416323474354175\n",
      "valid_loss: 0.4890325665473938\n",
      "valid_acc: 0.8398203592814372\n",
      "epoch: 2\n",
      "train_loss: 0.4387644827365875\n",
      "train_acc : 0.8611007113440659\n",
      "valid_loss: 0.4428321421146393\n",
      "valid_acc: 0.8577844311377245\n",
      "epoch: 3\n",
      "train_loss: 0.4079768657684326\n",
      "train_acc : 0.8716772744290527\n",
      "valid_loss: 0.41488027572631836\n",
      "valid_acc: 0.8667664670658682\n",
      "epoch: 4\n",
      "train_loss: 0.3868858516216278\n",
      "train_acc : 0.8772931486334706\n",
      "valid_loss: 0.39603641629219055\n",
      "valid_acc: 0.8690119760479041\n",
      "training complete\n"
     ]
    }
   ],
   "source": [
    "valid_X = np.load('work/valid.text.npy')\n",
    "valid_y = np.load('work/valid.label.npy')\n",
    "\n",
    "train_SGD_plot(train_X, train_y, valid_X, valid_y, 300, 4, 0.01, 5)"
   ]
  },
  {
   "cell_type": "code",
   "execution_count": null,
   "id": "728ba35d",
   "metadata": {},
   "outputs": [
    {
     "data": {
      "image/png": "[encoded data removed]",
      "text/plain": [
       "<Figure size 640x480 with 1 Axes>"
      ]
     },
     "metadata": {},
     "output_type": "display_data"
    },
    {
     "data": {
      "image/png": "[encoded data removed]",
      "text/plain": [
       "<Figure size 640x480 with 1 Axes>"
      ]
     },
     "metadata": {},
     "output_type": "display_data"
    }
   ],
   "source": [
    "import pandas as pd\n",
    "import matplotlib.pyplot as plt\n",
    "df = pd.read_csv('log.txt')\n",
    "\n",
    "# ロスの表示\n",
    "plt.plot(df['epoch'], df['train_loss'], label='train')\n",
    "plt.plot(df['epoch'], df['valid_loss'], label='valid')\n",
    "plt.xlabel('epoch')\n",
    "plt.ylabel('loss')\n",
    "plt.legend()\n",
    "plt.show()\n",
    "\n",
    "# ACCの表示\n",
    "plt.plot(df['epoch'], df['train_acc'], label='train')\n",
    "plt.plot(df['epoch'], df['valid_acc'], label='valid')\n",
    "plt.xlabel('epoch')\n",
    "plt.ylabel('ACC')\n",
    "plt.legend()\n",
    "\n",
    "plt.show()"
   ]
  },
  {
   "attachments": {},
   "cell_type": "markdown",
   "id": "46a0c4b3",
   "metadata": {},
   "source": [
    "set_xlabel で個別のグラフのラベルを書けそう"
   ]
  },
  {
   "cell_type": "markdown",
   "id": "92e962e7",
   "metadata": {},
   "source": [
    "<h2 id=\"76-チェックポイント\">76. チェックポイント</h2>\n",
    "<p>問題75のコードを改変し，各エポックのパラメータ更新が完了するたびに，チェックポイント（学習途中のパラメータ（重み行列など）の値や最適化アルゴリズムの内部状態）をファイルに書き出せ．</p>\n"
   ]
  },
  {
   "cell_type": "code",
   "execution_count": 132,
   "id": "b3166bf1",
   "metadata": {},
   "outputs": [],
   "source": [
    "def train_SGD_plot_checkpoint(train_X, train_y, valid_X, valid_y, features=300, labels=4, lr=0.01, total_epoch=3):\n",
    "    # ログファイルの初期化\n",
    "    with open('log.txt', 'w') as f:\n",
    "        f.write(\"epoch,train_loss,train_acc,valid_loss,valid_acc\\n\")\n",
    "\n",
    "    model = SoftmaxLayer(n_features=features, n_label=labels)\n",
    "    optim = chainer.optimizers.SGD(lr=lr).setup(model)\n",
    "\n",
    "    for epoch in range(total_epoch):\n",
    "        print(f\"epoch: {epoch}\")\n",
    "        total_loss = 0.\n",
    "        for xs, ys in zip(train_X, train_y):\n",
    "            loss = model(xs[None], ys[None])\n",
    "            model.cleargrads()\n",
    "            loss.backward()\n",
    "            optim.update()\n",
    "            total_loss += float(loss.data)\n",
    "\n",
    "        # 毎回ACCを計算する都合上，逐一パラメータを保存する\n",
    "        # ファイル名を毎回変更しながら保存する\n",
    "        chainer.serializers.save_npz(f'model_param/model_param_epoch{epoch}.npz', model) # ここを変更\n",
    "\n",
    "        # ここで訓練データのロスと，ACCを計算\n",
    "        train_loss, train_acc = loss_and_ACC(train_X, train_y)\n",
    "\n",
    "        # ここでvalidデータのロスと，ACCを計算\n",
    "        valid_loss, valid_acc = loss_and_ACC(valid_X, valid_y)\n",
    "\n",
    "        # ログファイルに書き込む\n",
    "        with open('log.txt', 'a') as f:\n",
    "            f.write(f\"{epoch},{train_loss},{train_acc},{valid_loss},{valid_acc}\\n\")\n",
    "\n",
    "        # 表示\n",
    "        print(f\"train_loss: {train_loss}\")\n",
    "        print(f\"train_acc : {train_acc}\")\n",
    "        print(f\"valid_loss: {valid_loss}\")\n",
    "        print(f\"valid_acc: {valid_acc}\")\n",
    "\n",
    "    print(\"training complete\")"
   ]
  },
  {
   "cell_type": "code",
   "execution_count": 133,
   "id": "b4ac852c",
   "metadata": {},
   "outputs": [
    {
     "name": "stdout",
     "output_type": "stream",
     "text": [
      "epoch: 0\n",
      "train_loss: 0.3868858516216278\n",
      "train_acc : 0.8772931486334706\n",
      "valid_loss: 0.39603641629219055\n",
      "valid_acc: 0.8690119760479041\n",
      "epoch: 1\n",
      "train_loss: 0.3868858516216278\n",
      "train_acc : 0.8772931486334706\n",
      "valid_loss: 0.39603641629219055\n",
      "valid_acc: 0.8690119760479041\n",
      "epoch: 2\n",
      "train_loss: 0.3868858516216278\n",
      "train_acc : 0.8772931486334706\n",
      "valid_loss: 0.39603641629219055\n",
      "valid_acc: 0.8690119760479041\n",
      "training complete\n"
     ]
    }
   ],
   "source": [
    "train_SGD_plot_checkpoint(train_X, train_y, valid_X, valid_y)"
   ]
  },
  {
   "cell_type": "markdown",
   "id": "db85090f",
   "metadata": {},
   "source": [
    "<h2 id=\"77-ミニバッチ化\">77. ミニバッチ化</h2>\n",
    "<p>問題76のコードを改変し，\\(B\\)事例ごとに損失・勾配を計算し，行列\\(W\\)の値を更新せよ（ミニバッチ化）．\\(B\\)の値を\\(1, 2, 4, 8, \\dots\\)と変化させながら，1エポックの学習に要する時間を比較せよ．</p>\n"
   ]
  },
  {
   "cell_type": "code",
   "execution_count": 153,
   "id": "084e95c3",
   "metadata": {},
   "outputs": [],
   "source": [
    "import time \n",
    "\n",
    "def train_SGD_plot_checkpoint_batch(train_X, train_y, valid_X, valid_y, features=300, labels=4, lr=0.01, total_epoch=3, batch_size=32):\n",
    "    # 時間計測スタート\n",
    "    start_time = time.time()\n",
    "    \n",
    "    # ログファイルの初期化\n",
    "    with open('log.txt', 'w') as f:\n",
    "        f.write(\"epoch,train_loss,train_acc,valid_loss,valid_acc\\n\")\n",
    "\n",
    "    model = SoftmaxLayer(n_features=features, n_label=labels)\n",
    "    optim = chainer.optimizers.SGD(lr=lr).setup(model)\n",
    "\n",
    "    # batch数を計算\n",
    "    # 割り切れるときはそのまま\n",
    "    if train_X.shape[0] % batch_size:\n",
    "        total_batch = train_X.shape[0] // batch_size\n",
    "    # 割り切れないときはあまりの分を一つ足す\n",
    "    else:\n",
    "        total_batch = train_X.shape[0] // batch_size + 1\n",
    "    print(f\"total_batch: {total_batch}\")\n",
    "\n",
    "    for epoch in range(total_epoch):\n",
    "        print(f\"epoch: {epoch}\")\n",
    "        total_loss = 0.\n",
    "\n",
    "        # ここをバッチサイズ毎に変更\n",
    "        for n in range(total_batch - 1): # 1減らさないとエラーになる\n",
    "            # バッチサイズ毎にロスを計算\n",
    "            xs = train_X[n * batch_size : (n+1) * batch_size]\n",
    "            ys = train_y[n * batch_size : (n+1) * batch_size]\n",
    "\n",
    "            # 要素数が１つだけ余ったときに次元数が下がってしまうのを防止\n",
    "            xs = np.atleast_2d(xs)\n",
    "            ys = np.atleast_1d(ys)\n",
    "\n",
    "            loss = model(xs, ys)\n",
    "            model.cleargrads()\n",
    "            loss.backward()\n",
    "            optim.update()\n",
    "            total_loss += float(loss.data)\n",
    "\n",
    "        # 毎回ACCを計算する都合上，逐一パラメータを保存する\n",
    "        # ファイル名を毎回変更しながら保存する\n",
    "        chainer.serializers.save_npz(f'model_param/model_param_epoch{epoch}.npz', model)\n",
    "\n",
    "        # ここで訓練データのロスと，ACCを計算\n",
    "        train_loss, train_acc = loss_and_ACC(train_X, train_y)\n",
    "\n",
    "        # ここでvalidデータのロスと，ACCを計算\n",
    "        valid_loss, valid_acc = loss_and_ACC(valid_X, valid_y)\n",
    "\n",
    "        # ログファイルに書き込む\n",
    "        with open('log.txt', 'a') as f:\n",
    "            f.write(f\"{epoch},{train_loss},{train_acc},{valid_loss},{valid_acc}\\n\")\n",
    "\n",
    "        # 表示\n",
    "        print(f\"train_loss: {train_loss}\")\n",
    "        print(f\"train_acc : {train_acc}\")\n",
    "        print(f\"valid_loss: {valid_loss}\")\n",
    "        print(f\"valid_acc: {valid_acc}\")\n",
    "\n",
    "    print(\"training complete\")\n",
    "\n",
    "    # 経過時間\n",
    "    elapsed_time = time.time() - start_time\n",
    "    print(f\"elapsed_time: {elapsed_time}\")\n",
    "\n",
    "    # 経過時間を返す\n",
    "    return elapsed_time"
   ]
  },
  {
   "cell_type": "code",
   "execution_count": 156,
   "id": "6f4b7c07",
   "metadata": {},
   "outputs": [
    {
     "name": "stdout",
     "output_type": "stream",
     "text": [
      "total_batch: 10685\n",
      "epoch: 0\n",
      "train_loss: 0.3868858516216278\n",
      "train_acc : 0.8772931486334706\n",
      "valid_loss: 0.39603641629219055\n",
      "valid_acc: 0.8690119760479041\n",
      "epoch: 1\n",
      "train_loss: 0.3868858516216278\n",
      "train_acc : 0.8772931486334706\n",
      "valid_loss: 0.39603641629219055\n",
      "valid_acc: 0.8690119760479041\n",
      "epoch: 2\n",
      "train_loss: 0.3868858516216278\n",
      "train_acc : 0.8772931486334706\n",
      "valid_loss: 0.39603641629219055\n",
      "valid_acc: 0.8690119760479041\n",
      "training complete\n",
      "elapsed_time: 12.449589967727661\n",
      "total_batch: 5343\n",
      "epoch: 0\n",
      "train_loss: 0.3868858516216278\n",
      "train_acc : 0.8772931486334706\n",
      "valid_loss: 0.39603641629219055\n",
      "valid_acc: 0.8690119760479041\n",
      "epoch: 1\n",
      "train_loss: 0.3868858516216278\n",
      "train_acc : 0.8772931486334706\n",
      "valid_loss: 0.39603641629219055\n",
      "valid_acc: 0.8690119760479041\n",
      "epoch: 2\n",
      "train_loss: 0.3868858516216278\n",
      "train_acc : 0.8772931486334706\n",
      "valid_loss: 0.39603641629219055\n",
      "valid_acc: 0.8690119760479041\n",
      "training complete\n",
      "elapsed_time: 8.378726959228516\n",
      "total_batch: 2672\n",
      "epoch: 0\n",
      "train_loss: 0.3868858516216278\n",
      "train_acc : 0.8772931486334706\n",
      "valid_loss: 0.39603641629219055\n",
      "valid_acc: 0.8690119760479041\n",
      "epoch: 1\n",
      "train_loss: 0.3868858516216278\n",
      "train_acc : 0.8772931486334706\n",
      "valid_loss: 0.39603641629219055\n",
      "valid_acc: 0.8690119760479041\n",
      "epoch: 2\n",
      "train_loss: 0.3868858516216278\n",
      "train_acc : 0.8772931486334706\n",
      "valid_loss: 0.39603641629219055\n",
      "valid_acc: 0.8690119760479041\n",
      "training complete\n",
      "elapsed_time: 6.411647081375122\n",
      "total_batch: 1335\n",
      "epoch: 0\n",
      "train_loss: 0.3868858516216278\n",
      "train_acc : 0.8772931486334706\n",
      "valid_loss: 0.39603641629219055\n",
      "valid_acc: 0.8690119760479041\n",
      "epoch: 1\n",
      "train_loss: 0.3868858516216278\n",
      "train_acc : 0.8772931486334706\n",
      "valid_loss: 0.39603641629219055\n",
      "valid_acc: 0.8690119760479041\n",
      "epoch: 2\n",
      "train_loss: 0.3868858516216278\n",
      "train_acc : 0.8772931486334706\n",
      "valid_loss: 0.39603641629219055\n",
      "valid_acc: 0.8690119760479041\n",
      "training complete\n",
      "elapsed_time: 5.273721933364868\n",
      "total_batch: 667\n",
      "epoch: 0\n",
      "train_loss: 0.3868858516216278\n",
      "train_acc : 0.8772931486334706\n",
      "valid_loss: 0.39603641629219055\n",
      "valid_acc: 0.8690119760479041\n",
      "epoch: 1\n",
      "train_loss: 0.3868858516216278\n",
      "train_acc : 0.8772931486334706\n",
      "valid_loss: 0.39603641629219055\n",
      "valid_acc: 0.8690119760479041\n",
      "epoch: 2\n",
      "train_loss: 0.3868858516216278\n",
      "train_acc : 0.8772931486334706\n",
      "valid_loss: 0.39603641629219055\n",
      "valid_acc: 0.8690119760479041\n",
      "training complete\n",
      "elapsed_time: 4.750792026519775\n",
      "total_batch: 333\n",
      "epoch: 0\n",
      "train_loss: 0.3868858516216278\n",
      "train_acc : 0.8772931486334706\n",
      "valid_loss: 0.39603641629219055\n",
      "valid_acc: 0.8690119760479041\n",
      "epoch: 1\n",
      "train_loss: 0.3868858516216278\n",
      "train_acc : 0.8772931486334706\n",
      "valid_loss: 0.39603641629219055\n",
      "valid_acc: 0.8690119760479041\n",
      "epoch: 2\n",
      "train_loss: 0.3868858516216278\n",
      "train_acc : 0.8772931486334706\n",
      "valid_loss: 0.39603641629219055\n",
      "valid_acc: 0.8690119760479041\n",
      "training complete\n",
      "elapsed_time: 4.513277053833008\n",
      "total_batch: 166\n",
      "epoch: 0\n",
      "train_loss: 0.3868858516216278\n",
      "train_acc : 0.8772931486334706\n",
      "valid_loss: 0.39603641629219055\n",
      "valid_acc: 0.8690119760479041\n",
      "epoch: 1\n",
      "train_loss: 0.3868858516216278\n",
      "train_acc : 0.8772931486334706\n",
      "valid_loss: 0.39603641629219055\n",
      "valid_acc: 0.8690119760479041\n",
      "epoch: 2\n",
      "train_loss: 0.3868858516216278\n",
      "train_acc : 0.8772931486334706\n",
      "valid_loss: 0.39603641629219055\n",
      "valid_acc: 0.8690119760479041\n",
      "training complete\n",
      "elapsed_time: 4.339132070541382\n",
      "total_batch: 83\n",
      "epoch: 0\n",
      "train_loss: 0.3868858516216278\n",
      "train_acc : 0.8772931486334706\n",
      "valid_loss: 0.39603641629219055\n",
      "valid_acc: 0.8690119760479041\n",
      "epoch: 1\n",
      "train_loss: 0.3868858516216278\n",
      "train_acc : 0.8772931486334706\n",
      "valid_loss: 0.39603641629219055\n",
      "valid_acc: 0.8690119760479041\n",
      "epoch: 2\n",
      "train_loss: 0.3868858516216278\n",
      "train_acc : 0.8772931486334706\n",
      "valid_loss: 0.39603641629219055\n",
      "valid_acc: 0.8690119760479041\n",
      "training complete\n",
      "elapsed_time: 4.300693035125732\n"
     ]
    },
    {
     "data": {
      "text/plain": [
       "[12.449589967727661,\n",
       " 8.378726959228516,\n",
       " 6.411647081375122,\n",
       " 5.273721933364868,\n",
       " 4.750792026519775,\n",
       " 4.513277053833008,\n",
       " 4.339132070541382,\n",
       " 4.300693035125732]"
      ]
     },
     "execution_count": 156,
     "metadata": {},
     "output_type": "execute_result"
    }
   ],
   "source": [
    "# 解答の時間の減り方と合ってないのが気になる．．．\n",
    "elapsed_times = []\n",
    "for batch_size in [1, 2, 4, 8, 16, 32, 64, 128]:\n",
    "    elapsed_time = train_SGD_plot_checkpoint_batch(train_X, train_y, valid_X, valid_y, batch_size=batch_size)\n",
    "    elapsed_times.append(elapsed_time)\n",
    "elapsed_times"
   ]
  },
  {
   "attachments": {},
   "cell_type": "markdown",
   "id": "4655c30a",
   "metadata": {},
   "source": [
    "GPU："
   ]
  },
  {
   "cell_type": "markdown",
   "id": "5e641873",
   "metadata": {},
   "source": [
    "<h2 id=\"78-gpu上での学習\">78. GPU上での学習</h2>\n",
    "<p>問題77のコードを改変し，GPU上で学習を実行せよ．</p>\n"
   ]
  },
  {
   "cell_type": "code",
   "execution_count": null,
   "id": "2b6a25ef",
   "metadata": {},
   "outputs": [],
   "source": []
  },
  {
   "cell_type": "markdown",
   "id": "ac705e79",
   "metadata": {},
   "source": [
    "<h2 id=\"79-多層ニューラルネットワーク\">79. 多層ニューラルネットワーク</h2>\n",
    "<p>問題78のコードを改変し，バイアス項の導入や多層化など，ニューラルネットワークの形状を変更しながら，高性能なカテゴリ分類器を構築せよ．</p>\n"
   ]
  },
  {
   "cell_type": "code",
   "execution_count": null,
   "id": "c0f579d5",
   "metadata": {},
   "outputs": [],
   "source": []
  }
 ],
 "metadata": {
  "kernelspec": {
   "display_name": "base",
   "language": "python",
   "name": "python3"
  },
  "language_info": {
   "codemirror_mode": {
    "name": "ipython",
    "version": 3
   },
   "file_extension": ".py",
   "mimetype": "text/x-python",
   "name": "python",
   "nbconvert_exporter": "python",
   "pygments_lexer": "ipython3",
   "version": "3.11.4"
  }
 },
 "nbformat": 4,
 "nbformat_minor": 5
}

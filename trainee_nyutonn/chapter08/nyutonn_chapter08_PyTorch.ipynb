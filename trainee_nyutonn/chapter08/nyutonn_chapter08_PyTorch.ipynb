{
 "cells": [
  {
   "cell_type": "markdown",
   "id": "8503e6a9",
   "metadata": {},
   "source": [
    "<h2 id=\"70-単語ベクトルの和による特徴量\">70. 単語ベクトルの和による特徴量</h2>\n",
    "<p>問題50で構築した学習データ，検証データ，評価データを行列・ベクトルに変換したい．例えば，学習データについて，すべての事例\\(x_i\\)の特徴ベクトル\\(\\boldsymbol{x}_i\\)を並べた行列\\(X\\)と，正解ラベルを並べた行列（ベクトル）\\(Y\\)を作成したい．</p>\n",
    "\n",
    "<p>\\[X = \\begin{pmatrix} \n",
    "  \\boldsymbol{x}_1 \\\\ \n",
    "  \\boldsymbol{x}_2 \\\\ \n",
    "  \\dots \\\\ \n",
    "  \\boldsymbol{x}_n \\\\ \n",
    "\\end{pmatrix} \\in \\mathbb{R}^{n \\times d},\n",
    "Y = \\begin{pmatrix} \n",
    "  y_1 \\\\ \n",
    "  y_2 \\\\ \n",
    "  \\dots \\\\ \n",
    "  y_n \\\\ \n",
    "\\end{pmatrix} \\in \\mathbb{N}^{n}}\\]</p>\n",
    "\n",
    "<p>ここで，\\(n\\)は学習データの事例数であり，\\(\\boldsymbol{x}_i \\in \\mathbb{R}^d\\)と\\(y_i \\in \\mathbb{N}\\)はそれぞれ，\\(i \\in \\{1, \\dots, n\\}\\)番目の事例の特徴量ベクトルと正解ラベルを表す．\n",
    "なお，今回は「ビジネス」「科学技術」「エンターテイメント」「健康」の4カテゴリ分類である．\\(\\mathbb{N}_{&lt;4}\\)で\\(4\\)未満の自然数（\\(0\\)を含む）を表すことにすれば，任意の事例の正解ラベル\\(y_i\\)は\\(y_i \\in \\mathbb{N}_{&lt;4}\\)で表現できる．\n",
    "以降では，ラベルの種類数を\\(L\\)で表す（今回の分類タスクでは\\(L=4\\)である）．</p>\n",
    "<p>\\(i\\)番目の事例の特徴ベクトル\\(\\boldsymbol{x}_i\\)は，次式で求める．</p>\n",
    "\n",
    "<p>\\[\\boldsymbol{x}_i = \\frac{1}{T_i} \\sum_{t=1}^{T_i} \\mathrm{emb}(w_{i,t}))\\]</p>\n",
    "\n",
    "<p>ここで，\\(i\\)番目の事例は\\(T_i\\)個の（記事見出しの）単語列\\((w_{i,1}, w_{i,2}, \\dots, w_{i,T_i})\\)から構成され，\\(\\mathrm{emb}(w) \\in \\mathbb{R}^d\\)は単語\\(w\\)に対応する単語ベクトル（次元数は\\(d\\)）である．すなわち，\\(i\\)番目の事例の記事見出しを，その見出しに含まれる単語のベクトルの平均で表現したものが\\(\\boldsymbol{x}_i\\)である．今回は単語ベクトルとして，問題60でダウンロードしたものを用いればよい．\\(300\\)次元の単語ベクトルを用いたので，\\(d=300\\)である．</p>\n",
    "<p>\\(i\\)番目の事例のラベル\\(y_i\\)は，次のように定義する．</p>\n",
    "\n",
    "<p>\\[y_i = \\begin{cases}\n",
    "0 &amp; (\\mbox{記事}x_i\\mbox{が「ビジネス」カテゴリの場合}) \\\\\n",
    "1 &amp; (\\mbox{記事}x_i\\mbox{が「科学技術」カテゴリの場合}) \\\\\n",
    "2 &amp; (\\mbox{記事}x_i\\mbox{が「エンターテイメント」カテゴリの場合}) \\\\\n",
    "3 &amp; (\\mbox{記事}x_i\\mbox{が「健康」カテゴリの場合}) \\\\\n",
    "\\end{cases}}\\]</p>\n",
    "\n",
    "<p>なお，カテゴリ名とラベルの番号が一対一で対応付いていれば，上式の通りの対応付けでなくてもよい．</p>\n",
    "<p>以上の仕様に基づき，以下の行列・ベクトルを作成し，ファイルに保存せよ．</p>\n",
    "<ul>\n",
    "<li>学習データの特徴量行列: \\(X_{\\rm train} \\in \\mathbb{R}^{N_t \\times d}\\)</li>\n",
    "<li>学習データのラベルベクトル: \\(Y_{\\rm train} \\in \\mathbb{N}^{N_t}\\)</li>\n",
    "<li>検証データの特徴量行列: \\(X_{\\rm valid} \\in \\mathbb{R}^{N_v \\times d}\\)</li>\n",
    "<li>検証データのラベルベクトル: \\(Y_{\\rm valid} \\in \\mathbb{N}^{N_v}\\)</li>\n",
    "<li>評価データの特徴量行列: \\(X_{\\rm test} \\in \\mathbb{R}^{N_e \\times d}\\)</li>\n",
    "<li>評価データのラベルベクトル: \\(Y_{\\rm test} \\in \\mathbb{N}^{N_e}\\)</li>\n",
    "</ul>\n",
    "<p>なお，\\(N_t, N_v, N_e\\)はそれぞれ，学習データの事例数，検証データの事例数，評価データの事例数である．</p>\n"
   ]
  },
  {
   "cell_type": "code",
   "execution_count": 5,
   "id": "cfb751fa",
   "metadata": {},
   "outputs": [],
   "source": [
    "# !cp /Users/nyuton/Documents/100knock-2023/trainee_nyutonn/chapter06/data/NewsAggregatorDataset.zip /Users/nyuton/Documents/100knock-2023/trainee_nyutonn/chapter08/data/NewsAggregatorDataset.zip "
   ]
  },
  {
   "attachments": {},
   "cell_type": "markdown",
   "id": "4fd58eaf",
   "metadata": {},
   "source": [
    "ここから問題50からのコピペ"
   ]
  },
  {
   "cell_type": "code",
   "execution_count": 5,
   "id": "e0f55d2d",
   "metadata": {},
   "outputs": [
    {
     "name": "stdout",
     "output_type": "stream",
     "text": [
      "Archive:  /Users/nyuton/Documents/100knock-2023/trainee_nyutonn/chapter08/data/NewsAggregatorDataset.zip\n",
      "  inflating: 2pageSessions.csv       \n",
      "   creating: __MACOSX/\n",
      "  inflating: __MACOSX/._2pageSessions.csv  \n",
      "  inflating: newsCorpora.csv         \n",
      "  inflating: __MACOSX/._newsCorpora.csv  \n",
      "  inflating: readme.txt              \n",
      "  inflating: __MACOSX/._readme.txt   \n"
     ]
    }
   ],
   "source": [
    "# !unzip /Users/nyuton/Documents/100knock-2023/trainee_nyutonn/chapter08/data/NewsAggregatorDataset.zip"
   ]
  },
  {
   "cell_type": "code",
   "execution_count": 2,
   "id": "ba9ccdd9",
   "metadata": {},
   "outputs": [
    {
     "data": {
      "text/html": [
       "<div>\n",
       "<style scoped>\n",
       "    .dataframe tbody tr th:only-of-type {\n",
       "        vertical-align: middle;\n",
       "    }\n",
       "\n",
       "    .dataframe tbody tr th {\n",
       "        vertical-align: top;\n",
       "    }\n",
       "\n",
       "    .dataframe thead th {\n",
       "        text-align: right;\n",
       "    }\n",
       "</style>\n",
       "<table border=\"1\" class=\"dataframe\">\n",
       "  <thead>\n",
       "    <tr style=\"text-align: right;\">\n",
       "      <th></th>\n",
       "      <th>ID</th>\n",
       "      <th>TITLE</th>\n",
       "      <th>URL</th>\n",
       "      <th>PUBLISHER</th>\n",
       "      <th>CATEGORY</th>\n",
       "      <th>STORY</th>\n",
       "      <th>HOSTNAME</th>\n",
       "      <th>TIMESTAMP</th>\n",
       "    </tr>\n",
       "  </thead>\n",
       "  <tbody>\n",
       "    <tr>\n",
       "      <th>0</th>\n",
       "      <td>1</td>\n",
       "      <td>Fed official says weak data caused by weather,...</td>\n",
       "      <td>http://www.latimes.com/business/money/la-fi-mo...</td>\n",
       "      <td>Los Angeles Times</td>\n",
       "      <td>b</td>\n",
       "      <td>ddUyU0VZz0BRneMioxUPQVP6sIxvM</td>\n",
       "      <td>www.latimes.com</td>\n",
       "      <td>1394470370698</td>\n",
       "    </tr>\n",
       "    <tr>\n",
       "      <th>1</th>\n",
       "      <td>2</td>\n",
       "      <td>Fed's Charles Plosser sees high bar for change...</td>\n",
       "      <td>http://www.livemint.com/Politics/H2EvwJSK2VE6O...</td>\n",
       "      <td>Livemint</td>\n",
       "      <td>b</td>\n",
       "      <td>ddUyU0VZz0BRneMioxUPQVP6sIxvM</td>\n",
       "      <td>www.livemint.com</td>\n",
       "      <td>1394470371207</td>\n",
       "    </tr>\n",
       "    <tr>\n",
       "      <th>2</th>\n",
       "      <td>3</td>\n",
       "      <td>US open: Stocks fall after Fed official hints ...</td>\n",
       "      <td>http://www.ifamagazine.com/news/us-open-stocks...</td>\n",
       "      <td>IFA Magazine</td>\n",
       "      <td>b</td>\n",
       "      <td>ddUyU0VZz0BRneMioxUPQVP6sIxvM</td>\n",
       "      <td>www.ifamagazine.com</td>\n",
       "      <td>1394470371550</td>\n",
       "    </tr>\n",
       "    <tr>\n",
       "      <th>3</th>\n",
       "      <td>4</td>\n",
       "      <td>Fed risks falling 'behind the curve', Charles ...</td>\n",
       "      <td>http://www.ifamagazine.com/news/fed-risks-fall...</td>\n",
       "      <td>IFA Magazine</td>\n",
       "      <td>b</td>\n",
       "      <td>ddUyU0VZz0BRneMioxUPQVP6sIxvM</td>\n",
       "      <td>www.ifamagazine.com</td>\n",
       "      <td>1394470371793</td>\n",
       "    </tr>\n",
       "    <tr>\n",
       "      <th>4</th>\n",
       "      <td>5</td>\n",
       "      <td>Fed's Plosser: Nasty Weather Has Curbed Job Gr...</td>\n",
       "      <td>http://www.moneynews.com/Economy/federal-reser...</td>\n",
       "      <td>Moneynews</td>\n",
       "      <td>b</td>\n",
       "      <td>ddUyU0VZz0BRneMioxUPQVP6sIxvM</td>\n",
       "      <td>www.moneynews.com</td>\n",
       "      <td>1394470372027</td>\n",
       "    </tr>\n",
       "  </tbody>\n",
       "</table>\n",
       "</div>"
      ],
      "text/plain": [
       "   ID                                              TITLE  \\\n",
       "0   1  Fed official says weak data caused by weather,...   \n",
       "1   2  Fed's Charles Plosser sees high bar for change...   \n",
       "2   3  US open: Stocks fall after Fed official hints ...   \n",
       "3   4  Fed risks falling 'behind the curve', Charles ...   \n",
       "4   5  Fed's Plosser: Nasty Weather Has Curbed Job Gr...   \n",
       "\n",
       "                                                 URL          PUBLISHER  \\\n",
       "0  http://www.latimes.com/business/money/la-fi-mo...  Los Angeles Times   \n",
       "1  http://www.livemint.com/Politics/H2EvwJSK2VE6O...           Livemint   \n",
       "2  http://www.ifamagazine.com/news/us-open-stocks...       IFA Magazine   \n",
       "3  http://www.ifamagazine.com/news/fed-risks-fall...       IFA Magazine   \n",
       "4  http://www.moneynews.com/Economy/federal-reser...          Moneynews   \n",
       "\n",
       "  CATEGORY                          STORY             HOSTNAME      TIMESTAMP  \n",
       "0        b  ddUyU0VZz0BRneMioxUPQVP6sIxvM      www.latimes.com  1394470370698  \n",
       "1        b  ddUyU0VZz0BRneMioxUPQVP6sIxvM     www.livemint.com  1394470371207  \n",
       "2        b  ddUyU0VZz0BRneMioxUPQVP6sIxvM  www.ifamagazine.com  1394470371550  \n",
       "3        b  ddUyU0VZz0BRneMioxUPQVP6sIxvM  www.ifamagazine.com  1394470371793  \n",
       "4        b  ddUyU0VZz0BRneMioxUPQVP6sIxvM    www.moneynews.com  1394470372027  "
      ]
     },
     "execution_count": 2,
     "metadata": {},
     "output_type": "execute_result"
    }
   ],
   "source": [
    "# データ分割\n",
    "import pandas as pd\n",
    "# csvファイルを読み込む\n",
    "path = \"/Users/nyuton/Documents/100knock-2023/trainee_nyutonn/chapter08/data/newsCorpora.csv\"\n",
    "df = pd.read_table(path, header=None, sep='\\\\t', engine='python')\n",
    "df.columns = ['ID', 'TITLE', 'URL', 'PUBLISHER', 'CATEGORY', 'STORY', 'HOSTNAME', 'TIMESTAMP']\n",
    "# 先頭5つ表示\n",
    "df.head()"
   ]
  },
  {
   "cell_type": "code",
   "execution_count": 3,
   "id": "40caf9c1",
   "metadata": {},
   "outputs": [
    {
     "data": {
      "text/plain": [
       "13356"
      ]
     },
     "execution_count": 3,
     "metadata": {},
     "output_type": "execute_result"
    }
   ],
   "source": [
    "# PUBLISHERが特定の行のみを取り出す\n",
    "publishers = ['Reuters', 'Huffington Post', 'Businessweek', 'Contactmusic.com', 'Daily Mail']\n",
    "daily_mails = df[df['PUBLISHER'].isin(publishers)]\n",
    "len(daily_mails)  # 取り出した行数"
   ]
  },
  {
   "cell_type": "code",
   "execution_count": 4,
   "id": "6e34bfb6",
   "metadata": {},
   "outputs": [
    {
     "name": "stdout",
     "output_type": "stream",
     "text": [
      "10684 1336 1336\n"
     ]
    }
   ],
   "source": [
    "from sklearn.model_selection import train_test_split\n",
    "# 訓練データ、検証データ、テストデータに分ける\n",
    "# stratifyで偏りを減らしてみる\n",
    "train_data, non_train, train_target, non_train_target = train_test_split(daily_mails[['TITLE', 'CATEGORY']], daily_mails['CATEGORY'], train_size=0.8, random_state=10, stratify=daily_mails['CATEGORY'])\n",
    "valid_data, test_data, valid_target, test_target = train_test_split(non_train, non_train_target, train_size=0.5, random_state=10,  stratify=non_train_target)\n",
    "print(len(train_data), len(valid_data), len(test_data))\n",
    "\n",
    "# テキストファイルに書き込む\n",
    "train_data.to_csv('work/train.txt', header=None, index=None, sep='\\t')\n",
    "valid_data.to_csv('work/valid.txt', header=None, index=None, sep='\\t')\n",
    "test_data.to_csv('work/test.txt', header=None, index=None, sep='\\t')"
   ]
  },
  {
   "attachments": {},
   "cell_type": "markdown",
   "id": "7dbdc961",
   "metadata": {},
   "source": [
    "ここからラベルと特徴量の変換をする\n",
    "* 特徴量 X：テキスト -> 単語ベクトルの平均\n",
    "* ラベル y：b, e, m, t -> 0, 1, 2, 3"
   ]
  },
  {
   "cell_type": "code",
   "execution_count": 10,
   "id": "69bf42d4",
   "metadata": {},
   "outputs": [
    {
     "name": "stdout",
     "output_type": "stream",
     "text": [
      "10684 10684\n"
     ]
    }
   ],
   "source": [
    "# テキストとラベルの抽出\n",
    "def extract_text_label(path):\n",
    "    X_text = []\n",
    "    y_label = []\n",
    "    with open(path, \"r\") as fr:\n",
    "        for line in fr:\n",
    "            line = line.rstrip()\n",
    "            text, label = line.split(\"\\t\")\n",
    "            X_text.append(text)\n",
    "            y_label.append(label)\n",
    "    return X_text, y_label\n",
    "        \n",
    "\n",
    "X_train_text, y_train_label = extract_text_label(\"work/train.txt\")\n",
    "X_valid_text, y_valid_label = extract_text_label(\"work/valid.txt\")\n",
    "X_test_text, y_test_label = extract_text_label(\"work/test.txt\")\n",
    "print(len(X_train_text), len(y_train_label))"
   ]
  },
  {
   "cell_type": "code",
   "execution_count": 11,
   "id": "87153d66",
   "metadata": {},
   "outputs": [],
   "source": [
    "# ラベルをindexに変更\n",
    "def label2index(label):\n",
    "    if label == \"b\":\n",
    "        return 0\n",
    "    elif label == \"e\":\n",
    "        return 1\n",
    "    elif label == \"t\":\n",
    "        return 2\n",
    "    elif label == \"m\":\n",
    "        return 3\n",
    "\n",
    "y_train = list(map(label2index, y_train_label))\n",
    "y_valid = list(map(label2index, y_valid_label))\n",
    "y_test = list(map(label2index, y_test_label))"
   ]
  },
  {
   "cell_type": "code",
   "execution_count": 14,
   "id": "0d4ebcb1",
   "metadata": {},
   "outputs": [
    {
     "name": "stderr",
     "output_type": "stream",
     "text": [
      "100%|██████████| 10684/10684 [00:00<00:00, 46387.88it/s]\n",
      "100%|██████████| 1336/1336 [00:00<00:00, 61371.54it/s]\n",
      "100%|██████████| 1336/1336 [00:00<00:00, 54192.28it/s]\n"
     ]
    }
   ],
   "source": [
    "# めちゃめちゃ時間かかるので注意！ -> 次元数と語彙数を勘違いしていたので修正したら一瞬で終わった\n",
    "import numpy as np\n",
    "from tqdm import tqdm # 進捗表示\n",
    "from gensim.models import KeyedVectors\n",
    "\n",
    "model = KeyedVectors.load_word2vec_format('data/GoogleNews-vectors-negative300.bin', binary=True) \n",
    "\n",
    "# 特徴量をテキストから単語ベクトルの平均に変換\n",
    "def text2emb_vec(X, output_path):\n",
    "    emb_vecs = []\n",
    "    for x in tqdm(X): # 経過時間の表示\n",
    "        words = x.split(\" \") # 単語に分割\n",
    "        sum_vec = np.zeros(300) # 初期化\n",
    "        for word in words:\n",
    "            # 辞書に単語が載っていないとエラーになるので，載っていないときは無視する\n",
    "            if word in model:\n",
    "                sum_vec += model[word] # 単語ベクトルを足していく\n",
    "        ave_vec = sum_vec / len(words) # 平均にする\n",
    "        emb_vecs.append(ave_vec) \n",
    "    \n",
    "    np.save(output_path, emb_vecs) # 特徴量をファイルに保存する\n",
    "\n",
    "X_train = text2emb_vec(X_train_text, \"work/train_wordemb.npy\")\n",
    "X_valid = text2emb_vec(X_valid_text, \"work/valid_wordemb.npy\")\n",
    "X_test = text2emb_vec(X_test_text, \"work/test_wordemb.npy\")"
   ]
  },
  {
   "cell_type": "markdown",
   "id": "4f72dd01",
   "metadata": {},
   "source": [
    "<h2 id=\"71-単層ニューラルネットワークによる予測\">71. 単層ニューラルネットワークによる予測</h2>\n",
    "<p>問題70で保存した行列を読み込み，学習データについて以下の計算を実行せよ．</p>\n",
    "\n",
    "<p>\\[\\hat{\\boldsymbol{y}}_1 = {\\rm softmax}(\\boldsymbol{x}_1 W), \\\\\n",
    "\\hat{Y} = {\\rm softmax}(X_{[1:4]} W))\\]</p>\n",
    "\n",
    "<p>ただし，\\({\\rm softmax}\\)はソフトマックス関数，\\(X_{[1:4]} \\in \\mathbb{R}^{4 \\times d}\\)は特徴ベクトル\\(\\boldsymbol{x}_1, \\boldsymbol{x}_2, \\boldsymbol{x}_3, \\boldsymbol{x}_4\\)を縦に並べた行列である．</p>\n",
    "\n",
    "<p>\\[X_{[1:4]} = \\begin{pmatrix} \n",
    "  \\boldsymbol{x}_1 \\\\ \n",
    "  \\boldsymbol{x}_2 \\\\ \n",
    "  \\boldsymbol{x}_3 \\\\ \n",
    "  \\boldsymbol{x}_4 \\\\ \n",
    "\\end{pmatrix}}\\]</p>\n",
    "\n",
    "<p>行列\\(W \\in \\mathbb{R}^{d \\times L}\\)は単層ニューラルネットワークの重み行列で，ここではランダムな値で初期化すればよい（問題73以降で学習して求める）．なお，\\(\\hat{\\boldsymbol{y}}_1 \\in \\mathbb{R}^L\\)は未学習の行列\\(W\\)で事例\\(x_1\\)を分類したときに，各カテゴリに属する確率を表すベクトルである．\n",
    "同様に，\\(\\hat{Y} \\in \\mathbb{R}^{n \\times L}\\)は，学習データの事例\\(x_1, x_2, x_3, x_4\\)について，各カテゴリに属する確率を行列として表現している．</p>\n"
   ]
  },
  {
   "attachments": {},
   "cell_type": "markdown",
   "id": "2e2fbbef",
   "metadata": {},
   "source": [
    "ここから吉田くんのを参考にした"
   ]
  },
  {
   "cell_type": "code",
   "execution_count": 19,
   "id": "541e66bc",
   "metadata": {},
   "outputs": [],
   "source": [
    "import numpy as np\n",
    "import re\n",
    "import torch\n",
    "import torch.nn as nn\n",
    "\n",
    "from gensim.models import KeyedVectors"
   ]
  },
  {
   "cell_type": "code",
   "execution_count": 58,
   "id": "86788ad7",
   "metadata": {},
   "outputs": [],
   "source": [
    "# データの準備\n",
    "X_train = torch.from_numpy(np.load('./work/train.text.npy').astype(np.float32))\n",
    "y_train = torch.from_numpy(np.load('./work/train.label.npy').astype(np.int64))\n",
    "X_valid = torch.from_numpy(np.load('./work/valid.text.npy').astype(np.float32))\n",
    "y_valid = torch.from_numpy(np.load('./work/valid.label.npy').astype(np.int64))\n",
    "X_test = torch.from_numpy(np.load('./work/test.text.npy').astype(np.float32))\n",
    "y_test = torch.from_numpy(np.load('./work/test.label.npy').astype(np.int64))"
   ]
  },
  {
   "cell_type": "code",
   "execution_count": 54,
   "id": "66d6e2bc",
   "metadata": {},
   "outputs": [
    {
     "name": "stdout",
     "output_type": "stream",
     "text": [
      "torch.Size([10684, 300]) torch.Size([10684])\n",
      "torch.Size([1336, 300]) torch.Size([1336])\n",
      "torch.Size([1336, 300]) torch.Size([1336])\n"
     ]
    }
   ],
   "source": [
    "print(X_train.size(), y_train.size())\n",
    "print(X_valid.size(), y_valid.size())\n",
    "print(X_test.size(), y_test.size())"
   ]
  },
  {
   "cell_type": "code",
   "execution_count": 55,
   "id": "eab07a63",
   "metadata": {},
   "outputs": [],
   "source": [
    "class SoftmaxLayer(nn.Module):\n",
    "    def __init__(self, n_features, n_labels):\n",
    "        super().__init__() # 親クラスの nn.Module の初期化\n",
    "        self.func = nn.Linear(n_features, n_labels, bias=False) # 線形層\n",
    "    \n",
    "    def forward(self, x):\n",
    "        return self.func(x)"
   ]
  },
  {
   "cell_type": "code",
   "execution_count": 56,
   "id": "90ad70ed",
   "metadata": {},
   "outputs": [
    {
     "name": "stdout",
     "output_type": "stream",
     "text": [
      "Softmax(dim=tensor([0.0089, 0.0224, 0.0071, 0.0437], grad_fn=<SqueezeBackward4>))\n",
      "Softmax(\n",
      "  dim=tensor([[ 0.0089,  0.0224,  0.0071,  0.0437],\n",
      "          [-0.0010,  0.0291,  0.0009,  0.0257],\n",
      "          [-0.0082, -0.0005,  0.0314, -0.0164],\n",
      "          [-0.0133,  0.0205, -0.0051,  0.0312]], grad_fn=<MmBackward0>)\n",
      ")\n"
     ]
    }
   ],
   "source": [
    "model = SoftmaxLayer(300, 4)\n",
    "# y1\n",
    "y1_hat = nn.Softmax(model(X_train[0]))\n",
    "print(y1_hat)\n",
    "\n",
    "# y1_4\n",
    "Y_hat_1_4 = nn.Softmax(model(X_train[:4]))\n",
    "print(Y_hat_1_4)"
   ]
  },
  {
   "cell_type": "markdown",
   "id": "45aae6b5",
   "metadata": {},
   "source": [
    "<h2 id=\"72-損失と勾配の計算\">72. 損失と勾配の計算</h2>\n",
    "<p>学習データの事例\\(x_1\\)と事例集合\\(x_1, x_2, x_3, x_4\\)に対して，クロスエントロピー損失と，行列\\(W\\)に対する勾配を計算せよ．なお，ある事例\\(x_i\\)に対して損失は次式で計算される．</p>\n",
    "\n",
    "<p>\\[l_i = - \\log [\\mbox{事例}x_i\\mbox{が}y_i\\mbox{に分類される確率}]]\\]</p>\n",
    "\n",
    "<p>ただし，事例集合に対するクロスエントロピー損失は，その集合に含まれる各事例の損失の平均とする．</p>\n"
   ]
  },
  {
   "cell_type": "code",
   "execution_count": 61,
   "id": "7ac8caaf",
   "metadata": {},
   "outputs": [
    {
     "name": "stdout",
     "output_type": "stream",
     "text": [
      "tensor(1.4279, grad_fn=<NllLossBackward0>)\n",
      "tensor([[ 0.0393,  0.0340,  0.0090,  ..., -0.0680, -0.0640,  0.0561],\n",
      "        [-0.0128, -0.0111, -0.0029,  ...,  0.0222,  0.0209, -0.0183],\n",
      "        [-0.0133, -0.0115, -0.0031,  ...,  0.0230,  0.0216, -0.0190],\n",
      "        [-0.0132, -0.0114, -0.0030,  ...,  0.0228,  0.0215, -0.0188]])\n",
      "tensor(1.4101, grad_fn=<NllLossBackward0>)\n",
      "tensor([[ 0.0161, -0.0021,  0.0013,  ..., -0.0545, -0.0406, -0.0036],\n",
      "        [-0.0103,  0.0085, -0.0125,  ...,  0.0231,  0.0038,  0.0004],\n",
      "        [-0.0029, -0.0032,  0.0058,  ...,  0.0159,  0.0187,  0.0017],\n",
      "        [-0.0029, -0.0031,  0.0054,  ...,  0.0155,  0.0180,  0.0014]])\n"
     ]
    }
   ],
   "source": [
    "softmax_layer = SoftmaxLayer(300, 4)\n",
    "loss_func = nn.CrossEntropyLoss()\n",
    "\n",
    "loss_x1 = loss_func(softmax_layer(X_train[0]), y_train[0])\n",
    "softmax_layer.zero_grad()\n",
    "loss_x1.backward()\n",
    "print(loss_x1)\n",
    "print(softmax_layer.func.weight.grad)\n",
    "\n",
    "loss_x1_4 = loss_func(softmax_layer(X_train[:4]), y_train[:4])\n",
    "softmax_layer.zero_grad()\n",
    "loss_x1_4.backward()\n",
    "print(loss_x1_4)\n",
    "print(softmax_layer.func.weight.grad)"
   ]
  },
  {
   "cell_type": "markdown",
   "id": "3a80f63d",
   "metadata": {},
   "source": [
    "<h2 id=\"73-確率的勾配降下法による学習\">73. 確率的勾配降下法による学習</h2>\n",
    "<p>確率的勾配降下法（SGD: Stochastic Gradient Descent）を用いて，行列\\(W\\)を学習せよ．なお，学習は適当な基準で終了させればよい（例えば「100エポックで終了」など）．</p>\n"
   ]
  },
  {
   "cell_type": "code",
   "execution_count": 94,
   "id": "f1e936db",
   "metadata": {},
   "outputs": [
    {
     "name": "stdout",
     "output_type": "stream",
     "text": [
      "epoch0: ave_loss = 0.7591903258218959\n",
      "epoch1: ave_loss = 0.532180206832748\n",
      "epoch2: ave_loss = 0.46145106277897097\n",
      "epoch3: ave_loss = 0.4222415633409464\n",
      "epoch4: ave_loss = 0.39685263108946234\n",
      "epoch5: ave_loss = 0.3788402500095952\n",
      "epoch6: ave_loss = 0.3652537762081542\n",
      "epoch7: ave_loss = 0.35454699671000545\n",
      "epoch8: ave_loss = 0.3458289770311536\n",
      "epoch9: ave_loss = 0.3385484221889777\n",
      "epoch10: ave_loss = 0.3323449262367399\n",
      "epoch11: ave_loss = 0.3269722025030979\n",
      "epoch12: ave_loss = 0.32225584691791365\n",
      "epoch13: ave_loss = 0.31806854287915626\n",
      "epoch14: ave_loss = 0.31431507473593323\n",
      "epoch15: ave_loss = 0.31092255603704394\n",
      "epoch16: ave_loss = 0.3078342294888058\n",
      "epoch17: ave_loss = 0.3050051564952231\n",
      "epoch18: ave_loss = 0.3023992426661914\n",
      "epoch19: ave_loss = 0.29998718398577745\n"
     ]
    }
   ],
   "source": [
    "import torch.optim as optim\n",
    "from tqdm import tqdm\n",
    "\n",
    "def train(model, output_path, total_epochs):\n",
    "    model.train() # 訓練モードに切り替え\n",
    "    optimizer = optim.SGD(model.parameters(), lr=0.01)\n",
    "    loss_func = nn.CrossEntropyLoss()\n",
    "\n",
    "    # 指定した epoch 数だけ学習\n",
    "    for epoch in range(total_epochs):\n",
    "        total_loss = 0.\n",
    "        # パラメータ更新\n",
    "        for x, y in zip(X_train, y_train):\n",
    "            loss = loss_func(model(x), y)\n",
    "            optimizer.zero_grad()\n",
    "            loss.backward()\n",
    "            optimizer.step()\n",
    "            total_loss += loss.item()\n",
    "        # 平均ロスの表示\n",
    "        ave_loss = total_loss / len(X_train)\n",
    "        print(f\"epoch{epoch}: ave_loss = {ave_loss}\")\n",
    "    # パラメータを保存\n",
    "    torch.save(model.state_dict(), output_path)\n",
    "\n",
    "model = SoftmaxLayer(300, 4)\n",
    "output_path = \"./trained_param.npz\"\n",
    "total_epochs = 20\n",
    "train(model, output_path, total_epochs)"
   ]
  },
  {
   "cell_type": "markdown",
   "id": "62797233",
   "metadata": {},
   "source": [
    "<h2 id=\"74-正解率の計測\">74. 正解率の計測</h2>\n",
    "<p>問題73で求めた行列を用いて学習データおよび評価データの事例を分類したとき，その正解率をそれぞれ求めよ．</p>\n"
   ]
  },
  {
   "cell_type": "code",
   "execution_count": 93,
   "id": "3db9b84d",
   "metadata": {},
   "outputs": [
    {
     "name": "stdout",
     "output_type": "stream",
     "text": [
      "train_acc = 0.9016286035192812\n",
      "test_acc  = 0.8914670658682635\n"
     ]
    }
   ],
   "source": [
    "from sklearn.metrics import accuracy_score\n",
    "\n",
    "def calc_acc(model, X, y):\n",
    "    model.eval() # 推論モード\n",
    "    y_pred =torch.argmax(model(X), dim=1)\n",
    "    acc = accuracy_score(y, y_pred)\n",
    "    return acc\n",
    "\n",
    "# パラメータをロード\n",
    "model = SoftmaxLayer(300, 4)\n",
    "model.load_state_dict(torch.load('./trained_param.npz'))\n",
    "\n",
    "train_acc = calc_acc(model, X_train, y_train)\n",
    "test_acc = calc_acc(model, X_test, y_test)\n",
    "print(f\"train_acc = {train_acc}\")\n",
    "print(f\"test_acc  = {test_acc}\")"
   ]
  },
  {
   "cell_type": "markdown",
   "id": "d34f5692",
   "metadata": {},
   "source": [
    "<h2 id=\"75-損失と正解率のプロット\">75. 損失と正解率のプロット</h2>\n",
    "<p>問題73のコードを改変し，各エポックのパラメータ更新が完了するたびに，訓練データでの損失，正解率，検証データでの損失，正解率をグラフにプロットし，学習の進捗状況を確認できるようにせよ．</p>\n"
   ]
  },
  {
   "cell_type": "code",
   "execution_count": 137,
   "id": "a7a0a7a6",
   "metadata": {},
   "outputs": [
    {
     "name": "stdout",
     "output_type": "stream",
     "text": [
      "epoch0: ave_loss = 0.7579713742840074\n",
      "epoch1: ave_loss = 0.5317580335806783\n",
      "epoch2: ave_loss = 0.461304489431023\n",
      "epoch3: ave_loss = 0.4221917198358077\n",
      "epoch4: ave_loss = 0.3968412893865366\n",
      "epoch5: ave_loss = 0.3788440667343826\n",
      "epoch6: ave_loss = 0.365262324577469\n",
      "epoch7: ave_loss = 0.35455546530285187\n",
      "epoch8: ave_loss = 0.34583514365441576\n",
      "epoch9: ave_loss = 0.3385513988867434\n",
      "epoch10: ave_loss = 0.3323444900209156\n",
      "epoch11: ave_loss = 0.3269684764664802\n",
      "epoch12: ave_loss = 0.3222490623954088\n",
      "epoch13: ave_loss = 0.3180589977436503\n",
      "epoch14: ave_loss = 0.31430305039422074\n",
      "epoch15: ave_loss = 0.3109083932849873\n",
      "epoch16: ave_loss = 0.3078182337117436\n",
      "epoch17: ave_loss = 0.3049876033051955\n",
      "epoch18: ave_loss = 0.3023804581980131\n",
      "epoch19: ave_loss = 0.2999673482362269\n"
     ]
    }
   ],
   "source": [
    "def calc_acc_loss(model, X, y):\n",
    "    model.eval() # 推論モード\n",
    "    # acc\n",
    "    y_pred =torch.argmax(model(X), dim=1)\n",
    "    acc = accuracy_score(y, y_pred)\n",
    "    # loss\n",
    "    loss_func = nn.CrossEntropyLoss()\n",
    "    total_loss = 0.\n",
    "    with torch.no_grad():\n",
    "        for xi, yi in zip(X, y):\n",
    "            loss = loss_func(model(xi), yi)\n",
    "            total_loss += loss\n",
    "        ave_loss = total_loss / len(X)\n",
    "        \n",
    "    return acc, ave_loss\n",
    "\n",
    "# 本文\n",
    "def train(model, output_path, total_epochs):\n",
    "    model.train() # 訓練モード\n",
    "    optimizer = optim.SGD(model.parameters(), lr=0.01)\n",
    "    loss_func = nn.CrossEntropyLoss()\n",
    "    train_log = []\n",
    "    valid_log = []\n",
    "\n",
    "    # 指定した epoch 数だけ学習\n",
    "    for epoch in range(total_epochs):\n",
    "        total_loss = 0.\n",
    "        # パラメータ更新\n",
    "        for x, y in zip(X_train, y_train):\n",
    "            loss = loss_func(model(x), y)\n",
    "            optimizer.zero_grad()\n",
    "            loss.backward()\n",
    "            optimizer.step()\n",
    "            total_loss += loss.item()\n",
    "        # 平均ロスの表示\n",
    "        ave_loss = total_loss / len(X_train)\n",
    "        print(f\"epoch{epoch}: ave_loss = {ave_loss}\")\n",
    "        # 正解率とロスを保存\n",
    "        train_log.append(calc_acc_loss(model, X_train, y_train))\n",
    "        valid_log.append(calc_acc_loss(model, X_valid, y_valid))\n",
    "    # パラメータを保存\n",
    "    torch.save(model.state_dict(), output_path)\n",
    "    return train_log, valid_log\n",
    "\n",
    "model = SoftmaxLayer(300, 4)\n",
    "train_log, valid_log = train(model, \"trained_param.npz\", 20)"
   ]
  },
  {
   "cell_type": "code",
   "execution_count": 138,
   "id": "57397cb4",
   "metadata": {},
   "outputs": [
    {
     "data": {
      "image/png": "[encoded data removed]",
      "text/plain": [
       "<Figure size 1500x500 with 2 Axes>"
      ]
     },
     "metadata": {},
     "output_type": "display_data"
    }
   ],
   "source": [
    "# 表示\n",
    "import matplotlib.pyplot as plt\n",
    "\n",
    "train_acc, train_loss = zip(*train_log)\n",
    "valid_acc, valid_loss = zip(*valid_log)\n",
    "\n",
    "fig, ax = plt.subplots(1, 2, figsize=(15, 5))\n",
    "ax[0].plot(train_loss, label='train')\n",
    "ax[0].plot(valid_loss, label='valid')\n",
    "ax[0].set_xlabel('epoch')\n",
    "ax[0].set_ylabel('loss')\n",
    "ax[0].legend()\n",
    "\n",
    "ax[1].plot(train_acc, label='train')\n",
    "ax[1].plot(valid_acc, label='valid')\n",
    "ax[1].set_xlabel('epoch')\n",
    "ax[1].set_ylabel('acc')\n",
    "ax[1].legend()\n",
    "\n",
    "plt.show()"
   ]
  },
  {
   "cell_type": "markdown",
   "id": "92e962e7",
   "metadata": {},
   "source": [
    "<h2 id=\"76-チェックポイント\">76. チェックポイント</h2>\n",
    "<p>問題75のコードを改変し，各エポックのパラメータ更新が完了するたびに，チェックポイント（学習途中のパラメータ（重み行列など）の値や最適化アルゴリズムの内部状態）をファイルに書き出せ．</p>\n"
   ]
  },
  {
   "cell_type": "code",
   "execution_count": 114,
   "id": "80691769",
   "metadata": {},
   "outputs": [
    {
     "name": "stdout",
     "output_type": "stream",
     "text": [
      "epoch0: ave_loss = 0.759847640740249\n",
      "epoch1: ave_loss = 0.53215204002099\n",
      "epoch2: ave_loss = 0.4614653711232888\n",
      "epoch3: ave_loss = 0.4222677219669115\n",
      "epoch4: ave_loss = 0.39687932620322264\n",
      "epoch5: ave_loss = 0.3788627272402859\n",
      "epoch6: ave_loss = 0.3652700761520534\n",
      "epoch7: ave_loss = 0.3545565539634566\n",
      "epoch8: ave_loss = 0.3458319283798454\n",
      "epoch9: ave_loss = 0.3385452722692726\n",
      "epoch10: ave_loss = 0.33233626547482964\n",
      "epoch11: ave_loss = 0.3269587172323515\n",
      "epoch12: ave_loss = 0.3222381622509968\n",
      "epoch13: ave_loss = 0.318047241537917\n",
      "epoch14: ave_loss = 0.3142906598831786\n",
      "epoch15: ave_loss = 0.31089550745087063\n",
      "epoch16: ave_loss = 0.3078049793042648\n",
      "epoch17: ave_loss = 0.30497412136909696\n",
      "epoch18: ave_loss = 0.30236678718831\n",
      "epoch19: ave_loss = 0.2999535990680814\n"
     ]
    }
   ],
   "source": [
    "def calc_acc_loss(model, X, y):\n",
    "    model.eval() # 推論モード\n",
    "    # acc\n",
    "    y_pred =torch.argmax(model(X), dim=1)\n",
    "    acc = accuracy_score(y, y_pred)\n",
    "    # loss\n",
    "    loss_func = nn.CrossEntropyLoss()\n",
    "    total_loss = 0.\n",
    "    with torch.no_grad():\n",
    "        for xi, yi in zip(X, y):\n",
    "            loss = loss_func(model(xi), yi)\n",
    "            total_loss += loss\n",
    "        ave_loss = total_loss / len(X)\n",
    "        \n",
    "    return acc, ave_loss\n",
    "\n",
    "# 本文\n",
    "def train(model, total_epochs):\n",
    "    model.train() # 訓練モード\n",
    "    optimizer = optim.SGD(model.parameters(), lr=0.01)\n",
    "    loss_func = nn.CrossEntropyLoss()\n",
    "    train_log = []\n",
    "    valid_log = []\n",
    "\n",
    "    # 指定した epoch 数だけ学習\n",
    "    for epoch in range(total_epochs):\n",
    "        total_loss = 0.\n",
    "        # パラメータ更新\n",
    "        for x, y in zip(X_train, y_train):\n",
    "            loss = loss_func(model(x), y)\n",
    "            optimizer.zero_grad()\n",
    "            loss.backward()\n",
    "            optimizer.step()\n",
    "            total_loss += loss.item()\n",
    "        # 平均ロスの表示\n",
    "        ave_loss = total_loss / len(X_train)\n",
    "        print(f\"epoch{epoch}: ave_loss = {ave_loss}\")\n",
    "        # 正解率とロスを保存\n",
    "        train_log.append(calc_acc_loss(model, X_train, y_train))\n",
    "        valid_log.append(calc_acc_loss(model, X_valid, y_valid))\n",
    "        # パラメータを毎回保存\n",
    "        torch.save(model.state_dict(), f\"./pytorch_param/param{epoch}.npz\")\n",
    "    return train_log, valid_log\n",
    "\n",
    "model = SoftmaxLayer(300, 4)\n",
    "train_log, valid_log = train(model, 20)"
   ]
  },
  {
   "cell_type": "markdown",
   "id": "db85090f",
   "metadata": {},
   "source": [
    "<h2 id=\"77-ミニバッチ化\">77. ミニバッチ化</h2>\n",
    "<p>問題76のコードを改変し，\\(B\\)事例ごとに損失・勾配を計算し，行列\\(W\\)の値を更新せよ（ミニバッチ化）．\\(B\\)の値を\\(1, 2, 4, 8, \\dots\\)と変化させながら，1エポックの学習に要する時間を比較せよ．</p>\n"
   ]
  },
  {
   "cell_type": "code",
   "execution_count": 146,
   "id": "503f7155",
   "metadata": {},
   "outputs": [
    {
     "name": "stdout",
     "output_type": "stream",
     "text": [
      "batch_size: 1\n",
      "epoch0: ave_loss = 0.7596220030757563\n",
      "epoch1: ave_loss = 0.5320190983186327\n",
      "epoch2: ave_loss = 0.46138462952992215\n",
      "epoch3: ave_loss = 0.42224067686397765\n",
      "epoch4: ave_loss = 0.3968855639954365\n",
      "epoch5: ave_loss = 0.3788892993821352\n",
      "epoch6: ave_loss = 0.36530980056366835\n",
      "epoch7: ave_loss = 0.3546053356395229\n",
      "epoch8: ave_loss = 0.3458871875555192\n",
      "epoch9: ave_loss = 0.3386053117832967\n",
      "batch_size: 2\n",
      "epoch0: ave_loss = 0.4380834930709231\n",
      "epoch1: ave_loss = 0.31839397924407226\n",
      "epoch2: ave_loss = 0.277642682457091\n",
      "epoch3: ave_loss = 0.2532513884473411\n",
      "epoch4: ave_loss = 0.23649147121948866\n",
      "epoch5: ave_loss = 0.22414083670558374\n",
      "epoch6: ave_loss = 0.21461094434257844\n",
      "epoch7: ave_loss = 0.20700312827012984\n",
      "epoch8: ave_loss = 0.20076641487364644\n",
      "epoch9: ave_loss = 0.195543491365598\n",
      "batch_size: 4\n",
      "epoch0: ave_loss = 0.24935114145200826\n",
      "epoch1: ave_loss = 0.18845844999351827\n",
      "epoch2: ave_loss = 0.16605263246688468\n",
      "epoch3: ave_loss = 0.1523225406984663\n",
      "epoch4: ave_loss = 0.14254966694324683\n",
      "epoch5: ave_loss = 0.1350625582138381\n",
      "epoch6: ave_loss = 0.1290731677828752\n",
      "epoch7: ave_loss = 0.12414269058611935\n",
      "epoch8: ave_loss = 0.11999872075557676\n",
      "epoch9: ave_loss = 0.11645919271249314\n",
      "batch_size: 8\n",
      "epoch0: ave_loss = 0.1397826301386543\n",
      "epoch1: ave_loss = 0.11043001855024458\n",
      "epoch2: ave_loss = 0.09817196757929104\n",
      "epoch3: ave_loss = 0.09062620172453524\n",
      "epoch4: ave_loss = 0.08522237599794225\n",
      "epoch5: ave_loss = 0.08104346923806256\n",
      "epoch6: ave_loss = 0.07765597839484452\n",
      "epoch7: ave_loss = 0.07482099211040796\n",
      "epoch8: ave_loss = 0.07239368036933291\n",
      "epoch9: ave_loss = 0.07027992017104112\n",
      "batch_size: 16\n",
      "epoch0: ave_loss = 0.07578780804734603\n",
      "epoch1: ave_loss = 0.06369653903714997\n",
      "epoch2: ave_loss = 0.05734257375488831\n",
      "epoch3: ave_loss = 0.05325727694459017\n",
      "epoch4: ave_loss = 0.05030701432456599\n",
      "epoch5: ave_loss = 0.04801685052311228\n",
      "epoch6: ave_loss = 0.04615368934516289\n",
      "epoch7: ave_loss = 0.044588600373567155\n",
      "epoch8: ave_loss = 0.04324319300938081\n",
      "epoch9: ave_loss = 0.04206621238368364\n",
      "batch_size: 32\n",
      "epoch0: ave_loss = 0.040248235338236765\n",
      "epoch1: ave_loss = 0.035692090707653605\n",
      "epoch2: ave_loss = 0.03276009253462974\n",
      "epoch3: ave_loss = 0.03069945798300483\n",
      "epoch4: ave_loss = 0.029152716251626437\n",
      "epoch5: ave_loss = 0.027933762437036002\n",
      "epoch6: ave_loss = 0.026936964472551464\n",
      "epoch7: ave_loss = 0.02609816595817139\n",
      "epoch8: ave_loss = 0.025376296604630297\n",
      "epoch9: ave_loss = 0.024743913516307402\n",
      "batch_size: 64\n",
      "epoch0: ave_loss = 0.02100330494129448\n",
      "epoch1: ave_loss = 0.019543429900090465\n",
      "epoch2: ave_loss = 0.018412157184664383\n",
      "epoch3: ave_loss = 0.017511803987364516\n",
      "epoch4: ave_loss = 0.016777457915544955\n",
      "epoch5: ave_loss = 0.016165605598020893\n",
      "epoch6: ave_loss = 0.015646440316255242\n",
      "epoch7: ave_loss = 0.015199008175649254\n",
      "epoch8: ave_loss = 0.014808196631632955\n",
      "epoch9: ave_loss = 0.014462848787047095\n"
     ]
    }
   ],
   "source": [
    "from time import time\n",
    "\n",
    "# バッチサイズを追加\n",
    "def train(model, batch_size, total_epochs): # 引数にバッチサイズを追加\n",
    "    model.train() # 訓練モード\n",
    "    optimizer = optim.SGD(model.parameters(), lr=0.01)\n",
    "    loss_func = nn.CrossEntropyLoss()\n",
    "    train_log = []\n",
    "    valid_log = []\n",
    "\n",
    "    print(f\"batch_size: {batch_size}\")\n",
    "\n",
    "    # 指定した epoch 数だけ学習\n",
    "    for epoch in range(total_epochs):\n",
    "        total_loss = 0.\n",
    "        # パラメータ更新 (バッチ化)\n",
    "        for x_batch, y_batch in zip(torch.split(X_train, batch_size), torch.split(y_train, batch_size)):\n",
    "            loss = loss_func(model(x_batch), y_batch) # バッチ毎にロスを計算\n",
    "            optimizer.zero_grad()\n",
    "            loss.backward()\n",
    "            optimizer.step()\n",
    "            total_loss += loss.item()\n",
    "        # 平均ロスの表示\n",
    "        ave_loss = total_loss / len(X_train)\n",
    "        print(f\"epoch{epoch}: ave_loss = {ave_loss}\")\n",
    "        # 正解率とロスを保存\n",
    "        train_log.append(calc_acc_loss(model, X_train, y_train))\n",
    "        valid_log.append(calc_acc_loss(model, X_valid, y_valid))\n",
    "        # パラメータを毎回保存\n",
    "        torch.save(model.state_dict(), f\"./pytorch_param/param{epoch}.npz\")\n",
    "    return train_log, valid_log\n",
    "\n",
    "# バッチサイズを変更して訓練時間を計測\n",
    "elapsed_time_list = []\n",
    "batch_list = [1, 2, 4, 8, 16, 32, 64]\n",
    "train_log_batch = []\n",
    "valid_log_batch = []\n",
    "for batch_size in batch_list:\n",
    "    start_time = time()\n",
    "    model = SoftmaxLayer(300, 4)\n",
    "    train_log, valid_log = train(model, batch_size=batch_size, total_epochs=10)\n",
    "    train_log_batch.append(train_log[-1])\n",
    "    valid_log_batch.append(valid_log[-1])\n",
    "    elapsed_time_list.append(time() - start_time)"
   ]
  },
  {
   "cell_type": "code",
   "execution_count": 134,
   "id": "83ab2ac2",
   "metadata": {},
   "outputs": [
    {
     "name": "stdout",
     "output_type": "stream",
     "text": [
      "batch_size: 1, elapsed_time: 10.223589181900024\n",
      "batch_size: 2, elapsed_time: 7.034456729888916\n",
      "batch_size: 4, elapsed_time: 4.1039581298828125\n",
      "batch_size: 8, elapsed_time: 3.1405019760131836\n",
      "batch_size: 16, elapsed_time: 2.442925214767456\n",
      "batch_size: 32, elapsed_time: 2.1095662117004395\n",
      "batch_size: 64, elapsed_time: 1.9227159023284912\n"
     ]
    }
   ],
   "source": [
    "# batch_size 時間変化\n",
    "for elapsed_time, batch_size in zip(elapsed_time_list, batch_list):\n",
    "    print(f\"batch_size: {batch_size}, elapsed_time: {elapsed_time}\")"
   ]
  },
  {
   "cell_type": "code",
   "execution_count": 150,
   "id": "c500d273",
   "metadata": {},
   "outputs": [
    {
     "data": {
      "image/png": "[encoded data removed]",
      "text/plain": [
       "<Figure size 1500x500 with 2 Axes>"
      ]
     },
     "metadata": {},
     "output_type": "display_data"
    }
   ],
   "source": [
    "# 表示 batch_size 毎の ACC を表示\n",
    "# batch_sizeが小さい方が圧倒的にACCが高くなるっぽ\n",
    "import matplotlib.pyplot as plt\n",
    "\n",
    "train_acc, train_loss = zip(*train_log_batch)\n",
    "valid_acc, valid_loss = zip(*valid_log_batch)\n",
    "batch_list = [1, 2, 4, 8, 16, 32, 64]\n",
    "\n",
    "fig, ax = plt.subplots(1, 2, figsize=(15, 5))\n",
    "ax[0].plot(batch_list, train_loss, label='train')\n",
    "ax[0].plot(batch_list, valid_loss, label='valid')\n",
    "ax[0].set_xlabel('batch_size')\n",
    "ax[0].set_ylabel('loss')\n",
    "ax[0].legend()\n",
    "\n",
    "ax[1].plot(batch_list, train_acc, label='train')\n",
    "ax[1].plot(batch_list, valid_acc, label='valid')\n",
    "ax[1].set_xlabel('batch_size')\n",
    "ax[1].set_ylabel('acc')\n",
    "ax[1].legend()\n",
    "\n",
    "plt.show()"
   ]
  },
  {
   "cell_type": "markdown",
   "id": "5e641873",
   "metadata": {},
   "source": [
    "<h2 id=\"78-gpu上での学習\">78. GPU上での学習</h2>\n",
    "<p>問題77のコードを改変し，GPU上で学習を実行せよ．</p>\n"
   ]
  },
  {
   "cell_type": "code",
   "execution_count": 127,
   "id": "f30fe48a",
   "metadata": {},
   "outputs": [
    {
     "data": {
      "text/plain": [
       "tensor([[True, True, True,  ..., True, True, True],\n",
       "        [True, True, True,  ..., True, True, True],\n",
       "        [True, True, True,  ..., True, True, True],\n",
       "        ...,\n",
       "        [True, True, True,  ..., True, True, True],\n",
       "        [True, True, True,  ..., True, True, True],\n",
       "        [True, True, True,  ..., True, True, True]])"
      ]
     },
     "execution_count": 127,
     "metadata": {},
     "output_type": "execute_result"
    }
   ],
   "source": [
    "from torch.cuda import is_available\n",
    "device = 'cuda' if is_available() else 'cpu'\n",
    "X_train2 = X_train.to(device)"
   ]
  },
  {
   "cell_type": "code",
   "execution_count": 155,
   "id": "2b6a25ef",
   "metadata": {},
   "outputs": [
    {
     "name": "stdout",
     "output_type": "stream",
     "text": [
      "batch_size: 16\n",
      "epoch0: ave_loss = 0.07674165356810822\n",
      "epoch1: ave_loss = 0.06398807541344863\n",
      "epoch2: ave_loss = 0.05744231594653221\n",
      "epoch3: ave_loss = 0.053290394368086\n",
      "epoch4: ave_loss = 0.05031454440405734\n",
      "epoch5: ave_loss = 0.04801409479296194\n",
      "epoch6: ave_loss = 0.046146899863424844\n",
      "epoch7: ave_loss = 0.044580515740472074\n",
      "epoch8: ave_loss = 0.04323508006631101\n",
      "epoch9: ave_loss = 0.04205867529015825\n",
      "epoch10: ave_loss = 0.04101560059662884\n",
      "epoch11: ave_loss = 0.04008026019530946\n",
      "epoch12: ave_loss = 0.03923370578831521\n",
      "epoch13: ave_loss = 0.03846154715384673\n",
      "epoch14: ave_loss = 0.03775262242257706\n",
      "epoch15: ave_loss = 0.037098110768175534\n",
      "epoch16: ave_loss = 0.036490926932570014\n",
      "epoch17: ave_loss = 0.03592529485245538\n",
      "epoch18: ave_loss = 0.035396447129762386\n",
      "epoch19: ave_loss = 0.034900402385938126\n",
      "epoch20: ave_loss = 0.03443379575775072\n",
      "epoch21: ave_loss = 0.033993762575762185\n",
      "epoch22: ave_loss = 0.033577839705503106\n",
      "epoch23: ave_loss = 0.033183890833156426\n",
      "epoch24: ave_loss = 0.03281005160922818\n",
      "epoch25: ave_loss = 0.03245468398549837\n",
      "epoch26: ave_loss = 0.03211633999769561\n",
      "epoch27: ave_loss = 0.03179373268842786\n",
      "epoch28: ave_loss = 0.0314857132324216\n",
      "epoch29: ave_loss = 0.031191249123838277\n",
      "epoch30: ave_loss = 0.030909410964116\n",
      "epoch31: ave_loss = 0.030639357534308687\n",
      "epoch32: ave_loss = 0.03038032465478045\n",
      "epoch33: ave_loss = 0.0301316164054593\n",
      "epoch34: ave_loss = 0.02989259824430126\n",
      "epoch35: ave_loss = 0.02966268823033346\n",
      "epoch36: ave_loss = 0.029441351673518038\n",
      "epoch37: ave_loss = 0.02922809510469124\n",
      "epoch38: ave_loss = 0.029022466053803375\n",
      "epoch39: ave_loss = 0.028824043825954947\n",
      "epoch40: ave_loss = 0.02863243982078698\n",
      "epoch41: ave_loss = 0.028447293146791997\n",
      "epoch42: ave_loss = 0.02826826903552029\n",
      "epoch43: ave_loss = 0.02809505366508611\n",
      "epoch44: ave_loss = 0.027927358707643905\n",
      "epoch45: ave_loss = 0.02776491177836325\n",
      "epoch46: ave_loss = 0.027607459030998018\n",
      "epoch47: ave_loss = 0.027454763106954362\n",
      "epoch48: ave_loss = 0.02730660049788004\n",
      "epoch49: ave_loss = 0.027162763712357957\n",
      "epoch50: ave_loss = 0.02702305571725979\n",
      "epoch51: ave_loss = 0.026887292642103114\n",
      "epoch52: ave_loss = 0.02675530244221472\n",
      "epoch53: ave_loss = 0.02662692024630192\n",
      "epoch54: ave_loss = 0.026501992267937594\n",
      "epoch55: ave_loss = 0.026380375234772095\n",
      "epoch56: ave_loss = 0.02626192951466831\n",
      "epoch57: ave_loss = 0.026146526708543436\n",
      "epoch58: ave_loss = 0.026034045207496553\n",
      "epoch59: ave_loss = 0.02592436809689699\n",
      "epoch60: ave_loss = 0.025817384985556253\n",
      "epoch61: ave_loss = 0.025712993541311922\n",
      "epoch62: ave_loss = 0.025611093638444583\n",
      "epoch63: ave_loss = 0.025511591604941125\n",
      "epoch64: ave_loss = 0.02541439831382391\n",
      "epoch65: ave_loss = 0.025319429189078327\n",
      "epoch66: ave_loss = 0.02522660387057193\n",
      "epoch67: ave_loss = 0.025135845909308667\n",
      "epoch68: ave_loss = 0.025047082082622622\n",
      "epoch69: ave_loss = 0.024960242276324377\n",
      "epoch70: ave_loss = 0.024875260336873393\n",
      "epoch71: ave_loss = 0.024792072776382845\n",
      "epoch72: ave_loss = 0.024710620342025435\n",
      "epoch73: ave_loss = 0.024630845861194933\n",
      "epoch74: ave_loss = 0.024552692896998563\n",
      "epoch75: ave_loss = 0.024476108724932708\n",
      "epoch76: ave_loss = 0.024401042980007\n",
      "epoch77: ave_loss = 0.024327448105843315\n",
      "epoch78: ave_loss = 0.024255277956471557\n",
      "epoch79: ave_loss = 0.024184488263908663\n",
      "epoch80: ave_loss = 0.024115035594909972\n",
      "epoch81: ave_loss = 0.02404688004835274\n",
      "epoch82: ave_loss = 0.023979983747546615\n",
      "epoch83: ave_loss = 0.02391430711389726\n",
      "epoch84: ave_loss = 0.023849815288534196\n",
      "epoch85: ave_loss = 0.023786473740345527\n",
      "epoch86: ave_loss = 0.023724249524013107\n",
      "epoch87: ave_loss = 0.02366311129361101\n",
      "epoch88: ave_loss = 0.023603027830132604\n",
      "epoch89: ave_loss = 0.023543969891583236\n",
      "epoch90: ave_loss = 0.0234859093907943\n",
      "epoch91: ave_loss = 0.02342881860601315\n",
      "epoch92: ave_loss = 0.023372670378255647\n",
      "epoch93: ave_loss = 0.023317440631211876\n",
      "epoch94: ave_loss = 0.02326310477601326\n",
      "epoch95: ave_loss = 0.023209639773322306\n",
      "epoch96: ave_loss = 0.0231570214101468\n",
      "epoch97: ave_loss = 0.023105229308270126\n",
      "epoch98: ave_loss = 0.023054241151167117\n",
      "epoch99: ave_loss = 0.023004037804011772\n",
      "CPU\n",
      "elapsed_time: 27.744184732437134\n"
     ]
    }
   ],
   "source": [
    "from time import time\n",
    "from torch.cuda import is_available\n",
    "\n",
    "def calc_acc_loss(model, X, y, device='cpu'):\n",
    "    model.to(device)\n",
    "    X = X.to(device)\n",
    "    model.eval() # 推論モード\n",
    "    \n",
    "\n",
    "    with torch.no_grad():\n",
    "        # acc\n",
    "        y_pred =torch.argmax(model(X), dim=1)\n",
    "        y_pred = y_pred.to('cpu')\n",
    "        acc = accuracy_score(y, y_pred)\n",
    "        # loss\n",
    "        loss_func = nn.CrossEntropyLoss()\n",
    "        total_loss = 0.\n",
    "        \n",
    "        for xi, yi in zip(X, y):\n",
    "            xi = xi.to(device)\n",
    "            yi = yi.to(device)\n",
    "            loss = loss_func(model(xi), yi)\n",
    "            total_loss += loss\n",
    "        ave_loss = total_loss / len(X)\n",
    "        \n",
    "    return acc, ave_loss\n",
    "\n",
    "# バッチサイズを追加\n",
    "def train(model, batch_size, total_epochs): # 引数にバッチサイズを追加\n",
    "    model.train() # 訓練モード\n",
    "    optimizer = optim.SGD(model.parameters(), lr=0.01)\n",
    "    loss_func = nn.CrossEntropyLoss()\n",
    "    train_log = []\n",
    "    valid_log = []\n",
    "\n",
    "    # GPUでCUDAを使用\n",
    "    device = 'cuda' if is_available() else 'cpu'\n",
    "    model = model.to(device)\n",
    "#     X_train.to(device)\n",
    "#     y_train.to(device)\n",
    "\n",
    "    print(f\"batch_size: {batch_size}\")\n",
    "\n",
    "    # 指定した epoch 数だけ学習\n",
    "    for epoch in range(total_epochs):\n",
    "        total_loss = 0.\n",
    "        # パラメータ更新 (バッチ化)\n",
    "        for x_batch, y_batch in zip(torch.split(X_train, batch_size), torch.split(y_train, batch_size)):\n",
    "            # GPU用に変換\n",
    "            x_batch = x_batch.to(device)\n",
    "            y_batch = y_batch.to(device)\n",
    "            device = 'cuda' if is_available() else 'cpu'\n",
    "            model = model.to(device) # ここを外すとエラーになる\n",
    "            \n",
    "            loss = loss_func(model(x_batch), y_batch) # バッチ毎にロスを計算\n",
    "            optimizer.zero_grad()\n",
    "            loss.backward()\n",
    "            optimizer.step()\n",
    "            total_loss += loss.item()\n",
    "        # 平均ロスの表示\n",
    "        ave_loss = total_loss / len(X_train)\n",
    "        print(f\"epoch{epoch}: ave_loss = {ave_loss}\")\n",
    "        # 正解率とロスを保存\n",
    "        train_log.append(calc_acc_loss(model, X_train, y_train, device))\n",
    "        valid_log.append(calc_acc_loss(model, X_valid, y_valid, device))\n",
    "        # パラメータを毎回保存\n",
    "        torch.save(model.state_dict(), f\"./pytorch_param/param{epoch}.npz\")\n",
    "    return train_log, valid_log\n",
    "\n",
    "# 時間計測\n",
    "start_time = time()\n",
    "model = SoftmaxLayer(300, 4)\n",
    "train_log, valid_log = train(model, batch_size=16, total_epochs=100)\n",
    "elapsed_time = time() - start_time\n",
    "\n",
    "if is_available():\n",
    "    print('GPU CUDA')\n",
    "else:\n",
    "    print('CPU')\n",
    "print(f\"elapsed_time: {elapsed_time}\")\n",
    "\n",
    "# CPUより時間が8倍ほどかかっている..."
   ]
  },
  {
   "cell_type": "code",
   "execution_count": 140,
   "id": "400573f4",
   "metadata": {},
   "outputs": [
    {
     "data": {
      "image/png": "[encoded data removed]",
      "text/plain": [
       "<Figure size 1500x500 with 2 Axes>"
      ]
     },
     "metadata": {},
     "output_type": "display_data"
    }
   ],
   "source": [
    "# 表示\n",
    "import matplotlib.pyplot as plt\n",
    "\n",
    "train_acc, train_loss = zip(*train_log)\n",
    "valid_acc, valid_loss = zip(*valid_log)\n",
    "\n",
    "fig, ax = plt.subplots(1, 2, figsize=(15, 5))\n",
    "ax[0].plot(train_loss, label='train')\n",
    "ax[0].plot(valid_loss, label='valid')\n",
    "ax[0].set_xlabel('epoch')\n",
    "ax[0].set_ylabel('loss')\n",
    "ax[0].legend()\n",
    "\n",
    "ax[1].plot(train_acc, label='train')\n",
    "ax[1].plot(valid_acc, label='valid')\n",
    "ax[1].set_xlabel('epoch')\n",
    "ax[1].set_ylabel('acc')\n",
    "ax[1].legend()\n",
    "\n",
    "plt.show()"
   ]
  },
  {
   "cell_type": "code",
   "execution_count": 156,
   "id": "12e15897",
   "metadata": {},
   "outputs": [
    {
     "data": {
      "image/png": "[encoded data removed]",
      "text/plain": [
       "<PIL.PngImagePlugin.PngImageFile image mode=RGBA size=738x88>"
      ]
     },
     "execution_count": 156,
     "metadata": {},
     "output_type": "execute_result"
    }
   ],
   "source": [
    "# GPUのかかった時間(GPUのほうが8倍ほど時間がかかっている)\n",
    "from PIL import Image\n",
    "\n",
    "im = Image.open('スクリーンショット 2023-10-23 14.47.27.png')\n",
    "im"
   ]
  },
  {
   "cell_type": "markdown",
   "id": "ac705e79",
   "metadata": {},
   "source": [
    "<h2 id=\"79-多層ニューラルネットワーク\">79. 多層ニューラルネットワーク</h2>\n",
    "<p>問題78のコードを改変し，バイアス項の導入や多層化など，ニューラルネットワークの形状を変更しながら，高性能なカテゴリ分類器を構築せよ．</p>\n"
   ]
  },
  {
   "cell_type": "code",
   "execution_count": 152,
   "id": "c0f579d5",
   "metadata": {},
   "outputs": [],
   "source": [
    "class Net(nn.Module):\n",
    "    def __init__(self, n_features, hid_1, hid_2, n_labels):\n",
    "        super().__init__() # 親クラスの nn.Module の初期化\n",
    "        self.func = nn.Sequential(\n",
    "            nn.Linear(n_features, hid_1, bias=True), # 線形層\n",
    "            nn.Linear(hid_1, hid_2, bias=True), # 線形層\n",
    "            nn.Linear(hid_2, n_labels, bias=True) # 線形層\n",
    "        )\n",
    "        torch.manual_seed(0)\n",
    "\n",
    "    def forward(self, x):\n",
    "        return self.func(x)"
   ]
  },
  {
   "cell_type": "code",
   "execution_count": 153,
   "id": "48e6c9f4",
   "metadata": {},
   "outputs": [
    {
     "name": "stdout",
     "output_type": "stream",
     "text": [
      "batch_size: 1\n",
      "epoch0: ave_loss = 0.6052465960413158\n",
      "epoch1: ave_loss = 0.33778431070754955\n",
      "epoch2: ave_loss = 0.2962694406681834\n",
      "epoch3: ave_loss = 0.28162047641014193\n",
      "epoch4: ave_loss = 0.2730319033467169\n",
      "epoch5: ave_loss = 0.2672343254281707\n",
      "epoch6: ave_loss = 0.26296735889639816\n",
      "epoch7: ave_loss = 0.25964471226241603\n",
      "epoch8: ave_loss = 0.2569613913373779\n",
      "epoch9: ave_loss = 0.2547371229906022\n",
      "epoch10: ave_loss = 0.2528562803181985\n",
      "epoch11: ave_loss = 0.2512404161257999\n",
      "epoch12: ave_loss = 0.2498340355495202\n",
      "epoch13: ave_loss = 0.24859664151773436\n",
      "epoch14: ave_loss = 0.24749780362618\n",
      "epoch15: ave_loss = 0.24651422519327149\n",
      "epoch16: ave_loss = 0.2456276360987967\n",
      "epoch17: ave_loss = 0.2448235418601737\n",
      "epoch18: ave_loss = 0.2440902865101587\n",
      "epoch19: ave_loss = 0.24341832910983902\n",
      "epoch20: ave_loss = 0.24279982057782595\n",
      "epoch21: ave_loss = 0.2422282122925462\n",
      "epoch22: ave_loss = 0.2416980368359529\n",
      "epoch23: ave_loss = 0.24120463244038676\n",
      "epoch24: ave_loss = 0.24074404830800591\n",
      "epoch25: ave_loss = 0.24031289074493808\n",
      "epoch26: ave_loss = 0.23990822162430545\n",
      "epoch27: ave_loss = 0.23952749430172263\n",
      "epoch28: ave_loss = 0.23916847717852943\n",
      "epoch29: ave_loss = 0.23882922730080275\n",
      "epoch30: ave_loss = 0.23850804417808003\n",
      "epoch31: ave_loss = 0.2382033904355813\n",
      "epoch32: ave_loss = 0.23791392972429237\n",
      "epoch33: ave_loss = 0.23763845605241898\n",
      "epoch34: ave_loss = 0.2373758889315321\n",
      "epoch35: ave_loss = 0.2371252893877514\n",
      "epoch36: ave_loss = 0.2368857716239532\n",
      "epoch37: ave_loss = 0.2366565568071853\n",
      "epoch38: ave_loss = 0.2364369430467776\n",
      "epoch39: ave_loss = 0.2362262920861688\n",
      "epoch40: ave_loss = 0.23602400954142452\n",
      "epoch41: ave_loss = 0.2358295690541381\n",
      "epoch42: ave_loss = 0.2356424917165082\n",
      "epoch43: ave_loss = 0.23546231996153064\n",
      "epoch44: ave_loss = 0.2352886705081587\n",
      "epoch45: ave_loss = 0.23512113551472802\n",
      "epoch46: ave_loss = 0.23495939420501272\n",
      "epoch47: ave_loss = 0.23480312754647004\n",
      "epoch48: ave_loss = 0.23465203468557103\n",
      "epoch49: ave_loss = 0.23450583868535457\n",
      "epoch50: ave_loss = 0.23436430039167144\n",
      "epoch51: ave_loss = 0.23422717907714316\n",
      "epoch52: ave_loss = 0.23409425038945686\n",
      "epoch53: ave_loss = 0.2339653229723312\n",
      "epoch54: ave_loss = 0.23384019691025937\n",
      "epoch55: ave_loss = 0.23371871483701742\n",
      "epoch56: ave_loss = 0.23360068280102472\n",
      "epoch57: ave_loss = 0.23348596450149325\n",
      "epoch58: ave_loss = 0.23337441068244522\n",
      "epoch59: ave_loss = 0.2332658782684829\n",
      "epoch60: ave_loss = 0.23316025383987718\n",
      "epoch61: ave_loss = 0.23305740405874756\n",
      "epoch62: ave_loss = 0.23295721727016075\n",
      "epoch63: ave_loss = 0.23285959131354372\n",
      "epoch64: ave_loss = 0.23276442340177456\n",
      "epoch65: ave_loss = 0.23267161381262805\n",
      "epoch66: ave_loss = 0.23258107793564967\n",
      "epoch67: ave_loss = 0.23249272572321059\n",
      "epoch68: ave_loss = 0.23240647697982295\n",
      "epoch69: ave_loss = 0.23232224465907939\n",
      "epoch70: ave_loss = 0.23223997465044674\n",
      "epoch71: ave_loss = 0.2321595834025955\n",
      "epoch72: ave_loss = 0.23208101827289068\n",
      "epoch73: ave_loss = 0.2320042023508136\n",
      "epoch74: ave_loss = 0.23192908105957508\n",
      "epoch75: ave_loss = 0.23185559780994935\n",
      "epoch76: ave_loss = 0.2317837026169349\n",
      "epoch77: ave_loss = 0.2317133244693256\n",
      "epoch78: ave_loss = 0.2316444422141533\n",
      "epoch79: ave_loss = 0.23157698626159115\n",
      "epoch80: ave_loss = 0.23151092748287436\n",
      "epoch81: ave_loss = 0.2314462150746801\n",
      "epoch82: ave_loss = 0.23138280294701913\n",
      "epoch83: ave_loss = 0.23132065692790804\n",
      "epoch84: ave_loss = 0.23125973499891306\n",
      "epoch85: ave_loss = 0.23120000187918283\n",
      "epoch86: ave_loss = 0.23114142761779502\n",
      "epoch87: ave_loss = 0.231083976151587\n",
      "epoch88: ave_loss = 0.23102760294873198\n",
      "epoch89: ave_loss = 0.23097229422490845\n",
      "epoch90: ave_loss = 0.23091801230967615\n",
      "epoch91: ave_loss = 0.230864735543643\n",
      "epoch92: ave_loss = 0.23081242616432224\n",
      "epoch93: ave_loss = 0.23076106502973187\n",
      "epoch94: ave_loss = 0.23071062723310048\n",
      "epoch95: ave_loss = 0.2306610781606048\n",
      "epoch96: ave_loss = 0.23061240871632116\n",
      "epoch97: ave_loss = 0.23056457701392646\n",
      "epoch98: ave_loss = 0.23051758437265443\n",
      "epoch99: ave_loss = 0.23047138944235085\n",
      "CPU\n",
      "elapsed_time: 215.6814830303192\n"
     ]
    }
   ],
   "source": [
    "# 時間計測\n",
    "start_time = time()\n",
    "model = Net(300, 75, 20, 4)\n",
    "# batch_sizeは1が最も正答率が高くなった\n",
    "train_log, valid_log = train(model, batch_size=1, total_epochs=100)\n",
    "elapsed_time = time() - start_time\n",
    "\n",
    "if is_available():\n",
    "    print('GPU CUDA')\n",
    "else:\n",
    "    print('CPU')\n",
    "print(f\"elapsed_time: {elapsed_time}\")"
   ]
  },
  {
   "cell_type": "code",
   "execution_count": 154,
   "id": "22f9f8f1",
   "metadata": {},
   "outputs": [
    {
     "data": {
      "image/png": "[encoded data removed]",
      "text/plain": [
       "<Figure size 1500x500 with 2 Axes>"
      ]
     },
     "metadata": {},
     "output_type": "display_data"
    }
   ],
   "source": [
    "# 表示\n",
    "import matplotlib.pyplot as plt\n",
    "\n",
    "train_acc, train_loss = zip(*train_log)\n",
    "valid_acc, valid_loss = zip(*valid_log)\n",
    "\n",
    "fig, ax = plt.subplots(1, 2, figsize=(15, 5))\n",
    "ax[0].plot(train_loss, label='train')\n",
    "ax[0].plot(valid_loss, label='valid')\n",
    "ax[0].set_xlabel('epoch')\n",
    "ax[0].set_ylabel('loss')\n",
    "ax[0].legend()\n",
    "\n",
    "ax[1].plot(train_acc, label='train')\n",
    "ax[1].plot(valid_acc, label='valid')\n",
    "ax[1].set_xlabel('epoch')\n",
    "ax[1].set_ylabel('acc')\n",
    "ax[1].legend()\n",
    "\n",
    "plt.savefig('')\n",
    "plt.show()"
   ]
  }
 ],
 "metadata": {
  "kernelspec": {
   "display_name": "base",
   "language": "python",
   "name": "python3"
  },
  "language_info": {
   "codemirror_mode": {
    "name": "ipython",
    "version": 3
   },
   "file_extension": ".py",
   "mimetype": "text/x-python",
   "name": "python",
   "nbconvert_exporter": "python",
   "pygments_lexer": "ipython3",
   "version": "3.11.4"
  }
 },
 "nbformat": 4,
 "nbformat_minor": 5
}

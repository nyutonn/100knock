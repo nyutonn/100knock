{
 "cells": [
  {
   "cell_type": "markdown",
   "id": "f913d710",
   "metadata": {},
   "source": [
    "<h2 id=\"40-係り受け解析結果の読み込み形態素\">40. 係り受け解析結果の読み込み（形態素）</h2>\n",
    "<p>形態素を表すクラス<code class=\"language-plaintext highlighter-rouge\">Morph</code>を実装せよ．このクラスは表層形（<code class=\"language-plaintext highlighter-rouge\">surface</code>），基本形（<code class=\"language-plaintext highlighter-rouge\">base</code>），品詞（<code class=\"language-plaintext highlighter-rouge\">pos</code>），品詞細分類1（<code class=\"language-plaintext highlighter-rouge\">pos1</code>）をメンバ変数に持つこととする．さらに，係り受け解析の結果（ai.ja.txt.parsed）を読み込み，各文を<code class=\"language-plaintext highlighter-rouge\">Morph</code>オブジェクトのリストとして表現し，冒頭の説明文の形態素列を表示せよ．</p>\n"
   ]
  },
  {
   "cell_type": "code",
   "execution_count": 292,
   "id": "3b8d5b8f",
   "metadata": {},
   "outputs": [
    {
     "name": "stdout",
     "output_type": "stream",
     "text": [
      "UnZip 6.00 of 20 April 2009, by Info-ZIP.  Maintained by C. Spieler.  Send\n",
      "bug reports using http://www.info-zip.org/zip-bug.html; see README for details.\n",
      "\n",
      "Usage: unzip [-Z] [-opts[modifiers]] file[.zip] [list] [-x xlist] [-d exdir]\n",
      "  Default action is to extract files in list, except those in xlist, to exdir;\n",
      "  file[.zip] may be a wildcard.  -Z => ZipInfo mode (\"unzip -Z\" for usage).\n",
      "\n",
      "  -p  extract files to pipe, no messages     -l  list files (short format)\n",
      "  -f  freshen existing files, create none    -t  test compressed archive data\n",
      "  -u  update files, create if necessary      -z  display archive comment only\n",
      "  -v  list verbosely/show version info       -T  timestamp archive to latest\n",
      "  -x  exclude files that follow (in xlist)   -d  extract files into exdir\n",
      "modifiers:\n",
      "  -n  never overwrite existing files         -q  quiet mode (-qq => quieter)\n",
      "  -o  overwrite files WITHOUT prompting      -a  auto-convert any text files\n",
      "  -j  junk paths (do not make directories)   -aa treat ALL files as text\n",
      "  -C  match filenames case-insensitively     -L  make (some) names lowercase\n",
      "  -X  restore UID/GID info                   -V  retain VMS version numbers\n",
      "  -K  keep setuid/setgid/tacky permissions   -M  pipe through \"more\" pager\n",
      "See \"unzip -hh\" or unzip.txt for more help.  Examples:\n",
      "  unzip data1 -x joe   => extract all files except joe from zipfile data1.zip\n",
      "  unzip -p foo | more  => send contents of foo.zip via pipe into program more\n",
      "  unzip -fo foo ReadMe => quietly replace existing ReadMe if archive file newer\n"
     ]
    }
   ],
   "source": [
    "!unzip -y data/ai.ja.zip"
   ]
  },
  {
   "cell_type": "code",
   "execution_count": 293,
   "id": "86bf47b7",
   "metadata": {},
   "outputs": [
    {
     "name": "stdout",
     "output_type": "stream",
     "text": [
      "人工知能\n",
      "\n",
      "人工知能（じんこうちのう、、AI〈エーアイ〉）とは、「『計算（）』という概念と『コンピュータ（）』という道具を用いて『知能』を研究する計算機科学（）の一分野」を指す語。「言語の理解や推論、問題解決などの知的行動を人間に代わってコンピューターに行わせる技術」、または、「計算機（コンピュータ）による知的な情報処理システムの設計や実現に関する研究分野」ともされる。\n",
      "\n",
      "『日本大百科全書(ニッポニカ)』の解説で、情報工学者・通信工学者の佐藤理史は次のように述べている。\n",
      "人間の知的能力をコンピュータ上で実現する、様々な技術・ソフトウェア・コンピュータシステム。応用例は自然言語処理（機械翻訳・かな漢字変換・構文解析等）、専門家の推論・判断を模倣するエキスパートシステム、画像データを解析して特定のパターンを検出・抽出したりする画像認識等がある。1956年にダートマス会議でジョン・マッカーシーにより命名された。現在では、記号処理を用いた知能の記述を主体とする情報処理や研究でのアプローチという意味あいでも使われている。家庭用電気機械器具の制御システムやゲームソフトの思考ルーチンもこう呼ばれることもある。\n",
      "\n",
      "プログラミング言語 による「」というカウンセラーを模倣したプログラム（人工無脳）がしばしば引き合いに出されるが、計算機に人間の専門家の役割をさせようという「エキスパートシステム」と呼ばれる研究・情報処理システムの実現は、人間が暗黙に持つ常識の記述が問題となり、実用への利用が困難視されている。人工的な知能の実現へのアプローチとしては、「ファジィ理論」や「ニューラルネットワーク」などのようなアプローチも知られているが、従来の人工知能である (Good Old Fashioned AI) との差は記述の記号的明示性にある。その後「サポートベクターマシン」が注目を集めた。また、自らの経験を元に学習を行う強化学習という手法もある。「この宇宙において、知性とは最も強力な形質である（レイ・カーツワイル）」という言葉通り、知性を機械的に表現し実装するということは極めて重要な作業である。\n",
      "\n",
      "2006年のディープラーニング（深層学習）の登場と2010年代以降のビッグデータの登場により、一過性の流行を超えて社会に浸透して行った。2016年から2017年にかけて、ディープラーニングを導入したAIが完全情報ゲームである囲碁などのトップ棋士、さらに不完全情報ゲームであるポーカーの世界トップクラスのプレイヤーも破り、麻雀では「Microsoft Suphx (Super Phoenix)」がAIとして初めて十段に到達するなど、時代の最先端技術となった。\n"
     ]
    }
   ],
   "source": [
    "# 最初の10行表示\n",
    "!cat data/ai.ja.txt | head"
   ]
  },
  {
   "cell_type": "code",
   "execution_count": 294,
   "id": "01a55d5f",
   "metadata": {},
   "outputs": [
    {
     "name": "stdout",
     "output_type": "stream",
     "text": [
      "     155 data/ai.ja.txt\n"
     ]
    }
   ],
   "source": [
    "# 行数\n",
    "!wc -l data/ai.ja.txt"
   ]
  },
  {
   "attachments": {},
   "cell_type": "markdown",
   "id": "194d014a",
   "metadata": {},
   "source": [
    "形態素解析 CaboCha"
   ]
  },
  {
   "cell_type": "code",
   "execution_count": 295,
   "id": "d10cf891",
   "metadata": {},
   "outputs": [
    {
     "name": "stdout",
     "output_type": "stream",
     "text": [
      "                  ゼルダの-D            \n",
      "                      伝説の-D          \n",
      "                    新作である-D        \n",
      "      ティアーズオブキングダムが-------D\n",
      "                          楽しみで-----D\n",
      "                              今日も-D |\n",
      "                                明日も-D\n",
      "                                眠れない\n",
      "EOS\n"
     ]
    }
   ],
   "source": [
    "!echo ゼルダの伝説の新作であるティアーズオブキングダムが楽しみで今日も明日も眠れない | cabocha"
   ]
  },
  {
   "cell_type": "code",
   "execution_count": 296,
   "id": "88081590",
   "metadata": {},
   "outputs": [
    {
     "name": "stdout",
     "output_type": "stream",
     "text": [
      "* 0 1D 0/1 1.061682\n",
      "ゼルダ\t名詞,一般,*,*,*,*,*\n",
      "の\t助詞,連体化,*,*,*,*,の,ノ,ノ\n",
      "* 1 2D 0/1 1.344069\n",
      "伝説\t名詞,一般,*,*,*,*,伝説,デンセツ,デンセツ\n",
      "の\t助詞,連体化,*,*,*,*,の,ノ,ノ\n",
      "* 2 3D 0/2 1.362032\n",
      "新作\t名詞,サ変接続,*,*,*,*,新作,シンサク,シンサク\n",
      "で\t助動詞,*,*,*,特殊・ダ,連用形,だ,デ,デ\n",
      "ある\t助動詞,*,*,*,五段・ラ行アル,基本形,ある,アル,アル\n",
      "* 3 7D 0/1 -1.480740\n",
      "ティアーズオブキングダム\t名詞,一般,*,*,*,*,*\n",
      "が\t助詞,格助詞,一般,*,*,*,が,ガ,ガ\n",
      "* 4 7D 0/1 -1.480740\n",
      "楽しみ\t名詞,一般,*,*,*,*,楽しみ,タノシミ,タノシミ\n",
      "で\t助詞,格助詞,一般,*,*,*,で,デ,デ\n",
      "* 5 6D 0/1 0.789261\n",
      "今日\t名詞,副詞可能,*,*,*,*,今日,キョウ,キョー\n",
      "も\t助詞,係助詞,*,*,*,*,も,モ,モ\n",
      "* 6 7D 0/1 -1.480740\n",
      "明日\t名詞,副詞可能,*,*,*,*,明日,アシタ,アシタ\n",
      "も\t助詞,係助詞,*,*,*,*,も,モ,モ\n",
      "* 7 -1D 0/1 0.000000\n",
      "眠れ\t動詞,自立,*,*,一段,未然形,眠れる,ネムレ,ネムレ\n",
      "ない\t助動詞,*,*,*,特殊・ナイ,基本形,ない,ナイ,ナイ\n",
      "EOS\n"
     ]
    }
   ],
   "source": [
    "# f1オプションで処理しやすい形に整えてくれる\n",
    "!echo ゼルダの伝説の新作であるティアーズオブキングダムが楽しみで今日も明日も眠れない | cabocha -f1"
   ]
  },
  {
   "attachments": {},
   "cell_type": "markdown",
   "id": "a51fe662",
   "metadata": {},
   "source": [
    "CaboChaは文ごとに分かれていることが前提となっているので、ai.ja.txtを文毎に分けて、ai.ja.sentence.txtに保存する"
   ]
  },
  {
   "cell_type": "code",
   "execution_count": 297,
   "id": "dd42645e",
   "metadata": {},
   "outputs": [
    {
     "name": "stdout",
     "output_type": "stream",
     "text": [
      "人工知能\n",
      "人工知能（じんこうちのう、、AI〈エーアイ〉）とは、「『計算（）』という概念と『コンピュータ（）』という道具を用いて『知能』を研究する計算機科学（）の一分野」を指す語\n",
      "「言語の理解や推論、問題解決などの知的行動を人間に代わってコンピューターに行わせる技術」、または、「計算機（コンピュータ）による知的な情報処理システムの設計や実現に関する研究分野」ともされる\n",
      "『日本大百科全書(ニッポニカ)』の解説で、情報工学者・通信工学者の佐藤理史は次のように述べている\n",
      "人間の知的能力をコンピュータ上で実現する、様々な技術・ソフトウェア・コンピュータシステム\n",
      "応用例は自然言語処理（機械翻訳・かな漢字変換・構文解析等）、専門家の推論・判断を模倣するエキスパートシステム、画像データを解析して特定のパターンを検出・抽出したりする画像認識等がある\n",
      "1956年にダートマス会議でジョン・マッカーシーにより命名された\n",
      "現在では、記号処理を用いた知能の記述を主体とする情報処理や研究でのアプローチという意味あいでも使われている\n",
      "家庭用電気機械器具の制御システムやゲームソフトの思考ルーチンもこう呼ばれることもある\n",
      "プログラミング言語 による「」というカウンセラーを模倣したプログラム（人工無脳）がしばしば引き合いに出されるが、計算機に人間の専門家の役割をさせようという「エキスパートシステム」と呼ばれる研究・情報処理システムの実現は、人間が暗黙に持つ常識の記述が問題となり、実用への利用が困難視されている\n"
     ]
    }
   ],
   "source": [
    "with (open('data/ai.ja.txt') as fr,\n",
    "      open('work/ai.ja.sentence.txt', 'w') as fw):\n",
    "    for line in fr:\n",
    "        if line == '\\n': continue\n",
    "        line = line.rstrip()\n",
    "        # １行に複数文ある場合もあるので句点で分ける\n",
    "        lines = line.split('。')\n",
    "        # 文末に改行をくっつける\n",
    "        add_sentence = '\\n'.join(lines)\n",
    "        fw.write(add_sentence)\n",
    "        # 読点で終わっていない文にも改行を付ける\n",
    "        if add_sentence[-1] != '\\n':\n",
    "            fw.write('\\n')\n",
    "\n",
    "!cat work/ai.ja.sentence.txt | head"
   ]
  },
  {
   "attachments": {},
   "cell_type": "markdown",
   "id": "a6f36591",
   "metadata": {},
   "source": [
    "文毎に分けたai.ja.sencence.txtから、CaboChaで形態素解析をしてai.ja.txt.cabochaに保存する"
   ]
  },
  {
   "cell_type": "code",
   "execution_count": 298,
   "id": "db6e07a1",
   "metadata": {},
   "outputs": [],
   "source": [
    "!cat work/ai.ja.sentence.txt | cabocha -f1 > work/ai.ja.txt.cabocha"
   ]
  },
  {
   "cell_type": "code",
   "execution_count": 305,
   "id": "abffc48e",
   "metadata": {},
   "outputs": [],
   "source": [
    "from pydantic.dataclasses import dataclass\n",
    "import re\n",
    "repattern = re.compile('[\\t,]')\n",
    "# クラスを実装\n",
    "@dataclass\n",
    "class Morph:\n",
    "    # メンバ変数を定義\n",
    "    surface: str\n",
    "    base: str\n",
    "    pos: str\n",
    "    pos1: str\n",
    "\n",
    "    # 1文を受け取ってsurfase, base, pos, pos1を取り出してリストにする関数\n",
    "    @classmethod\n",
    "    def sentence2morph(cls, sentence):\n",
    "        surfase, pos, pos1, *rest = repattern.split(sentence)\n",
    "        base = rest[4]\n",
    "        morph = cls(surfase, pos, pos1, base)\n",
    "        return morph"
   ]
  },
  {
   "cell_type": "code",
   "execution_count": 306,
   "id": "ecb4cb70",
   "metadata": {},
   "outputs": [
    {
     "name": "stdout",
     "output_type": "stream",
     "text": [
      "[Morph(surface='人工', base='名詞', pos='一般', pos1='人工'),\n",
      " Morph(surface='知能', base='名詞', pos='一般', pos1='知能'),\n",
      " Morph(surface='（', base='記号', pos='括弧開', pos1='（'),\n",
      " Morph(surface='じん', base='名詞', pos='一般', pos1='じん'),\n",
      " Morph(surface='こうち', base='名詞', pos='一般', pos1='こうち'),\n",
      " Morph(surface='のう', base='助詞', pos='終助詞', pos1='のう'),\n",
      " Morph(surface='、', base='記号', pos='読点', pos1='、'),\n",
      " Morph(surface='、', base='記号', pos='読点', pos1='、'),\n",
      " Morph(surface='AI', base='名詞', pos='一般', pos1='*'),\n",
      " Morph(surface='〈', base='記号', pos='括弧開', pos1='〈'),\n",
      " Morph(surface='エーアイ', base='名詞', pos='固有名詞', pos1='*'),\n",
      " Morph(surface='〉', base='記号', pos='括弧閉', pos1='〉'),\n",
      " Morph(surface='）', base='記号', pos='括弧閉', pos1='）'),\n",
      " Morph(surface='と', base='助詞', pos='格助詞', pos1='と'),\n",
      " Morph(surface='は', base='助詞', pos='係助詞', pos1='は'),\n",
      " Morph(surface='、', base='記号', pos='読点', pos1='、'),\n",
      " Morph(surface='「', base='記号', pos='括弧開', pos1='「'),\n",
      " Morph(surface='『', base='記号', pos='括弧開', pos1='『'),\n",
      " Morph(surface='計算', base='名詞', pos='サ変接続', pos1='計算'),\n",
      " Morph(surface='（', base='記号', pos='括弧開', pos1='（'),\n",
      " Morph(surface='）', base='記号', pos='括弧閉', pos1='）'),\n",
      " Morph(surface='』', base='記号', pos='括弧閉', pos1='』'),\n",
      " Morph(surface='という', base='助詞', pos='格助詞', pos1='という'),\n",
      " Morph(surface='概念', base='名詞', pos='一般', pos1='概念'),\n",
      " Morph(surface='と', base='助詞', pos='並立助詞', pos1='と'),\n",
      " Morph(surface='『', base='記号', pos='括弧開', pos1='『'),\n",
      " Morph(surface='コンピュータ', base='名詞', pos='一般', pos1='コンピュータ'),\n",
      " Morph(surface='（', base='記号', pos='括弧開', pos1='（'),\n",
      " Morph(surface='）', base='記号', pos='括弧閉', pos1='）'),\n",
      " Morph(surface='』', base='記号', pos='括弧閉', pos1='』'),\n",
      " Morph(surface='という', base='助詞', pos='格助詞', pos1='という'),\n",
      " Morph(surface='道具', base='名詞', pos='一般', pos1='道具'),\n",
      " Morph(surface='を', base='助詞', pos='格助詞', pos1='を'),\n",
      " Morph(surface='用い', base='動詞', pos='自立', pos1='用いる'),\n",
      " Morph(surface='て', base='助詞', pos='接続助詞', pos1='て'),\n",
      " Morph(surface='『', base='記号', pos='括弧開', pos1='『'),\n",
      " Morph(surface='知能', base='名詞', pos='一般', pos1='知能'),\n",
      " Morph(surface='』', base='記号', pos='括弧閉', pos1='』'),\n",
      " Morph(surface='を', base='助詞', pos='格助詞', pos1='を'),\n",
      " Morph(surface='研究', base='名詞', pos='サ変接続', pos1='研究'),\n",
      " Morph(surface='する', base='動詞', pos='自立', pos1='する'),\n",
      " Morph(surface='計算', base='名詞', pos='サ変接続', pos1='計算'),\n",
      " Morph(surface='機', base='名詞', pos='接尾', pos1='機'),\n",
      " Morph(surface='科学', base='名詞', pos='一般', pos1='科学'),\n",
      " Morph(surface='（', base='記号', pos='括弧開', pos1='（'),\n",
      " Morph(surface='）', base='記号', pos='括弧閉', pos1='）'),\n",
      " Morph(surface='の', base='助詞', pos='連体化', pos1='の'),\n",
      " Morph(surface='一', base='名詞', pos='数', pos1='一'),\n",
      " Morph(surface='分野', base='名詞', pos='一般', pos1='分野'),\n",
      " Morph(surface='」', base='記号', pos='括弧閉', pos1='」'),\n",
      " Morph(surface='を', base='助詞', pos='格助詞', pos1='を'),\n",
      " Morph(surface='指す', base='動詞', pos='自立', pos1='指す'),\n",
      " Morph(surface='語', base='名詞', pos='一般', pos1='語')]\n"
     ]
    }
   ],
   "source": [
    "morph_onesentence_list = [] # 1文毎のmorphのリスト\n",
    "is_one_sentence = False # 文が続いているかどうか\n",
    "with open('work/ai.ja.txt.cabocha') as f:\n",
    "    for line in f:\n",
    "        line = line.rstrip()\n",
    "        # *から始まる行はスルー\n",
    "        if line[0] == '*': continue\n",
    "        # EOSが来たら新しい文が次に来るはず\n",
    "        if line == 'EOS':\n",
    "            is_one_sentence = False\n",
    "            continue\n",
    "        morph = Morph.sentence2morph(line)\n",
    "        # 文中なら末尾のリストに突っ込む\n",
    "        if is_one_sentence:\n",
    "            morph_onesentence_list[-1].append(morph)\n",
    "        # 新しい文なら新しいリストを作って文中に入る\n",
    "        else:\n",
    "            morph_onesentence_list.append([morph])\n",
    "            is_one_sentence = True\n",
    "# 表示\n",
    "from pprint import pprint\n",
    "pprint(morph_onesentence_list[1])"
   ]
  },
  {
   "attachments": {},
   "cell_type": "markdown",
   "id": "b7ad4de9",
   "metadata": {},
   "source": [
    "    dataclass, classmethod, clsとは？？"
   ]
  },
  {
   "cell_type": "markdown",
   "id": "89d8b7c2",
   "metadata": {},
   "source": [
    "<h2 id=\"41-係り受け解析結果の読み込み文節係り受け\">41. 係り受け解析結果の読み込み（文節・係り受け）</h2>\n",
    "<p>40に加えて，文節を表すクラス<code class=\"language-plaintext highlighter-rouge\">Chunk</code>を実装せよ．このクラスは形態素（<code class=\"language-plaintext highlighter-rouge\">Morph</code>オブジェクト）のリスト（<code class=\"language-plaintext highlighter-rouge\">morphs</code>），係り先文節インデックス番号（<code class=\"language-plaintext highlighter-rouge\">dst</code>），係り元文節インデックス番号のリスト（<code class=\"language-plaintext highlighter-rouge\">srcs</code>）をメンバ変数に持つこととする．さらに，入力テキストの係り受け解析結果を読み込み，１文を<code class=\"language-plaintext highlighter-rouge\">Chunk</code>オブジェクトのリストとして表現し，冒頭の説明文の文節の文字列と係り先を表示せよ．本章の残りの問題では，ここで作ったプログラムを活用せよ．</p>\n"
   ]
  },
  {
   "cell_type": "code",
   "execution_count": 307,
   "id": "5331c43b",
   "metadata": {},
   "outputs": [],
   "source": [
    "from pydantic.dataclasses import dataclass\n",
    "from dataclasses import field\n",
    "\n",
    "@dataclass\n",
    "class Chunk():\n",
    "    index: int # 何文節めか\n",
    "    dst: int # 係り先番号\n",
    "    morphs: list[Morph] = field(default_factory=list)\n",
    "    srcs: list[int] = field(default_factory=list) # 係り元番号のリスト\n",
    "    \n",
    "    # 文をチャンクにする\n",
    "    @classmethod\n",
    "    def sentence2chunk(cls, sentence):\n",
    "        _, index, dst, bunsu, num = sentence.split(' ')\n",
    "        dst = dst.rstrip('D')\n",
    "        chunk = cls(index, dst)\n",
    "        return chunk\n",
    "    \n",
    "    # 係り元を探してsrcsに代入する\n",
    "    def find_dependency(chunks):\n",
    "        for chunk in chunks:\n",
    "            chunks[chunk.dst].srcs.append(chunk.index)\n",
    "        return chunks\n",
    "\n",
    "# Morphを継承して関数を追加\n",
    "class Morph(Morph):\n",
    "    # morphsを1つの文節にする\n",
    "    def morphs2phrase(morphs):\n",
    "        phrase = ''\n",
    "        for morph in morphs:\n",
    "            phrase += morph.surface\n",
    "        return phrase\n",
    "            "
   ]
  },
  {
   "cell_type": "code",
   "execution_count": 318,
   "id": "be80ed49",
   "metadata": {},
   "outputs": [
    {
     "name": "stdout",
     "output_type": "stream",
     "text": [
      "[Chunk(index=0, dst=17, morphs=[Morph(surface='人工', base='名詞', pos='一般', pos1='人工'), Morph(surface='知能', base='名詞', pos='一般', pos1='知能')], srcs=[]),\n",
      " Chunk(index=0, dst=17, morphs=[Morph(surface='人工', base='名詞', pos='一般', pos1='人工'), Morph(surface='知能', base='名詞', pos='一般', pos1='知能')], srcs=[]),\n",
      " Chunk(index=0, dst=17, morphs=[Morph(surface='人工', base='名詞', pos='一般', pos1='人工'), Morph(surface='知能', base='名詞', pos='一般', pos1='知能')], srcs=[]),\n",
      " Chunk(index=1, dst=17, morphs=[Morph(surface='（', base='記号', pos='括弧開', pos1='（'), Morph(surface='じん', base='名詞', pos='一般', pos1='じん'), Morph(surface='こうち', base='名詞', pos='一般', pos1='こうち'), Morph(surface='のう', base='助詞', pos='終助詞', pos1='のう'), Morph(surface='、', base='記号', pos='読点', pos1='、'), Morph(surface='、', base='記号', pos='読点', pos1='、')], srcs=[2, 2, 4, 4, 4, 4, 5, 5, 5, 5, 5, 6, 6, 6, 7, 7, 7, 8, 8, 8, 8, 8]),\n",
      " Chunk(index=1, dst=17, morphs=[Morph(surface='（', base='記号', pos='括弧開', pos1='（'), Morph(surface='じん', base='名詞', pos='一般', pos1='じん'), Morph(surface='こうち', base='名詞', pos='一般', pos1='こうち'), Morph(surface='のう', base='助詞', pos='終助詞', pos1='のう'), Morph(surface='、', base='記号', pos='読点', pos1='、'), Morph(surface='、', base='記号', pos='読点', pos1='、')], srcs=[2, 2, 4, 4, 4, 4, 5, 5, 5, 5, 5, 6, 6, 6, 7, 7, 7, 8, 8, 8, 8, 8]),\n",
      " Chunk(index=1, dst=17, morphs=[Morph(surface='（', base='記号', pos='括弧開', pos1='（'), Morph(surface='じん', base='名詞', pos='一般', pos1='じん'), Morph(surface='こうち', base='名詞', pos='一般', pos1='こうち'), Morph(surface='のう', base='助詞', pos='終助詞', pos1='のう'), Morph(surface='、', base='記号', pos='読点', pos1='、'), Morph(surface='、', base='記号', pos='読点', pos1='、')], srcs=[2, 2, 4, 4, 4, 4, 5, 5, 5, 5, 5, 6, 6, 6, 7, 7, 7, 8, 8, 8, 8, 8]),\n",
      " Chunk(index=1, dst=17, morphs=[Morph(surface='（', base='記号', pos='括弧開', pos1='（'), Morph(surface='じん', base='名詞', pos='一般', pos1='じん'), Morph(surface='こうち', base='名詞', pos='一般', pos1='こうち'), Morph(surface='のう', base='助詞', pos='終助詞', pos1='のう'), Morph(surface='、', base='記号', pos='読点', pos1='、'), Morph(surface='、', base='記号', pos='読点', pos1='、')], srcs=[2, 2, 4, 4, 4, 4, 5, 5, 5, 5, 5, 6, 6, 6, 7, 7, 7, 8, 8, 8, 8, 8]),\n",
      " Chunk(index=1, dst=17, morphs=[Morph(surface='（', base='記号', pos='括弧開', pos1='（'), Morph(surface='じん', base='名詞', pos='一般', pos1='じん'), Morph(surface='こうち', base='名詞', pos='一般', pos1='こうち'), Morph(surface='のう', base='助詞', pos='終助詞', pos1='のう'), Morph(surface='、', base='記号', pos='読点', pos1='、'), Morph(surface='、', base='記号', pos='読点', pos1='、')], srcs=[2, 2, 4, 4, 4, 4, 5, 5, 5, 5, 5, 6, 6, 6, 7, 7, 7, 8, 8, 8, 8, 8]),\n",
      " Chunk(index=1, dst=17, morphs=[Morph(surface='（', base='記号', pos='括弧開', pos1='（'), Morph(surface='じん', base='名詞', pos='一般', pos1='じん'), Morph(surface='こうち', base='名詞', pos='一般', pos1='こうち'), Morph(surface='のう', base='助詞', pos='終助詞', pos1='のう'), Morph(surface='、', base='記号', pos='読点', pos1='、'), Morph(surface='、', base='記号', pos='読点', pos1='、')], srcs=[2, 2, 4, 4, 4, 4, 5, 5, 5, 5, 5, 6, 6, 6, 7, 7, 7, 8, 8, 8, 8, 8]),\n",
      " Chunk(index=1, dst=17, morphs=[Morph(surface='（', base='記号', pos='括弧開', pos1='（'), Morph(surface='じん', base='名詞', pos='一般', pos1='じん'), Morph(surface='こうち', base='名詞', pos='一般', pos1='こうち'), Morph(surface='のう', base='助詞', pos='終助詞', pos1='のう'), Morph(surface='、', base='記号', pos='読点', pos1='、'), Morph(surface='、', base='記号', pos='読点', pos1='、')], srcs=[2, 2, 4, 4, 4, 4, 5, 5, 5, 5, 5, 6, 6, 6, 7, 7, 7, 8, 8, 8, 8, 8]),\n",
      " Chunk(index=2, dst=3, morphs=[Morph(surface='AI', base='名詞', pos='一般', pos1='*')], srcs=[9, 9, 9]),\n",
      " Chunk(index=2, dst=3, morphs=[Morph(surface='AI', base='名詞', pos='一般', pos1='*')], srcs=[9, 9, 9]),\n",
      " Chunk(index=3, dst=17, morphs=[Morph(surface='〈', base='記号', pos='括弧開', pos1='〈'), Morph(surface='エーアイ', base='名詞', pos='固有名詞', pos1='*'), Morph(surface='〉', base='記号', pos='括弧閉', pos1='〉'), Morph(surface='）', base='記号', pos='括弧閉', pos1='）'), Morph(surface='と', base='助詞', pos='格助詞', pos1='と'), Morph(surface='は', base='助詞', pos='係助詞', pos1='は'), Morph(surface='、', base='記号', pos='読点', pos1='、')], srcs=[0, 0, 0, 1, 1, 1, 1, 1, 1, 1, 3, 3, 3, 3, 3, 3, 3, 3, 10, 10, 10, 11, 11, 11, 11, 11, 12, 12, 12, 13, 13, 13, 13, 14, 14, 14, 14, 15, 15, 15, 15, 15, 16, 16]),\n",
      " Chunk(index=3, dst=17, morphs=[Morph(surface='〈', base='記号', pos='括弧開', pos1='〈'), Morph(surface='エーアイ', base='名詞', pos='固有名詞', pos1='*'), Morph(surface='〉', base='記号', pos='括弧閉', pos1='〉'), Morph(surface='）', base='記号', pos='括弧閉', pos1='）'), Morph(surface='と', base='助詞', pos='格助詞', pos1='と'), Morph(surface='は', base='助詞', pos='係助詞', pos1='は'), Morph(surface='、', base='記号', pos='読点', pos1='、')], srcs=[0, 0, 0, 1, 1, 1, 1, 1, 1, 1, 3, 3, 3, 3, 3, 3, 3, 3, 10, 10, 10, 11, 11, 11, 11, 11, 12, 12, 12, 13, 13, 13, 13, 14, 14, 14, 14, 15, 15, 15, 15, 15, 16, 16]),\n",
      " Chunk(index=3, dst=17, morphs=[Morph(surface='〈', base='記号', pos='括弧開', pos1='〈'), Morph(surface='エーアイ', base='名詞', pos='固有名詞', pos1='*'), Morph(surface='〉', base='記号', pos='括弧閉', pos1='〉'), Morph(surface='）', base='記号', pos='括弧閉', pos1='）'), Morph(surface='と', base='助詞', pos='格助詞', pos1='と'), Morph(surface='は', base='助詞', pos='係助詞', pos1='は'), Morph(surface='、', base='記号', pos='読点', pos1='、')], srcs=[0, 0, 0, 1, 1, 1, 1, 1, 1, 1, 3, 3, 3, 3, 3, 3, 3, 3, 10, 10, 10, 11, 11, 11, 11, 11, 12, 12, 12, 13, 13, 13, 13, 14, 14, 14, 14, 15, 15, 15, 15, 15, 16, 16]),\n",
      " Chunk(index=3, dst=17, morphs=[Morph(surface='〈', base='記号', pos='括弧開', pos1='〈'), Morph(surface='エーアイ', base='名詞', pos='固有名詞', pos1='*'), Morph(surface='〉', base='記号', pos='括弧閉', pos1='〉'), Morph(surface='）', base='記号', pos='括弧閉', pos1='）'), Morph(surface='と', base='助詞', pos='格助詞', pos1='と'), Morph(surface='は', base='助詞', pos='係助詞', pos1='は'), Morph(surface='、', base='記号', pos='読点', pos1='、')], srcs=[0, 0, 0, 1, 1, 1, 1, 1, 1, 1, 3, 3, 3, 3, 3, 3, 3, 3, 10, 10, 10, 11, 11, 11, 11, 11, 12, 12, 12, 13, 13, 13, 13, 14, 14, 14, 14, 15, 15, 15, 15, 15, 16, 16]),\n",
      " Chunk(index=3, dst=17, morphs=[Morph(surface='〈', base='記号', pos='括弧開', pos1='〈'), Morph(surface='エーアイ', base='名詞', pos='固有名詞', pos1='*'), Morph(surface='〉', base='記号', pos='括弧閉', pos1='〉'), Morph(surface='）', base='記号', pos='括弧閉', pos1='）'), Morph(surface='と', base='助詞', pos='格助詞', pos1='と'), Morph(surface='は', base='助詞', pos='係助詞', pos1='は'), Morph(surface='、', base='記号', pos='読点', pos1='、')], srcs=[0, 0, 0, 1, 1, 1, 1, 1, 1, 1, 3, 3, 3, 3, 3, 3, 3, 3, 10, 10, 10, 11, 11, 11, 11, 11, 12, 12, 12, 13, 13, 13, 13, 14, 14, 14, 14, 15, 15, 15, 15, 15, 16, 16]),\n",
      " Chunk(index=3, dst=17, morphs=[Morph(surface='〈', base='記号', pos='括弧開', pos1='〈'), Morph(surface='エーアイ', base='名詞', pos='固有名詞', pos1='*'), Morph(surface='〉', base='記号', pos='括弧閉', pos1='〉'), Morph(surface='）', base='記号', pos='括弧閉', pos1='）'), Morph(surface='と', base='助詞', pos='格助詞', pos1='と'), Morph(surface='は', base='助詞', pos='係助詞', pos1='は'), Morph(surface='、', base='記号', pos='読点', pos1='、')], srcs=[0, 0, 0, 1, 1, 1, 1, 1, 1, 1, 3, 3, 3, 3, 3, 3, 3, 3, 10, 10, 10, 11, 11, 11, 11, 11, 12, 12, 12, 13, 13, 13, 13, 14, 14, 14, 14, 15, 15, 15, 15, 15, 16, 16]),\n",
      " Chunk(index=3, dst=17, morphs=[Morph(surface='〈', base='記号', pos='括弧開', pos1='〈'), Morph(surface='エーアイ', base='名詞', pos='固有名詞', pos1='*'), Morph(surface='〉', base='記号', pos='括弧閉', pos1='〉'), Morph(surface='）', base='記号', pos='括弧閉', pos1='）'), Morph(surface='と', base='助詞', pos='格助詞', pos1='と'), Morph(surface='は', base='助詞', pos='係助詞', pos1='は'), Morph(surface='、', base='記号', pos='読点', pos1='、')], srcs=[0, 0, 0, 1, 1, 1, 1, 1, 1, 1, 3, 3, 3, 3, 3, 3, 3, 3, 10, 10, 10, 11, 11, 11, 11, 11, 12, 12, 12, 13, 13, 13, 13, 14, 14, 14, 14, 15, 15, 15, 15, 15, 16, 16]),\n",
      " Chunk(index=3, dst=17, morphs=[Morph(surface='〈', base='記号', pos='括弧開', pos1='〈'), Morph(surface='エーアイ', base='名詞', pos='固有名詞', pos1='*'), Morph(surface='〉', base='記号', pos='括弧閉', pos1='〉'), Morph(surface='）', base='記号', pos='括弧閉', pos1='）'), Morph(surface='と', base='助詞', pos='格助詞', pos1='と'), Morph(surface='は', base='助詞', pos='係助詞', pos1='は'), Morph(surface='、', base='記号', pos='読点', pos1='、')], srcs=[0, 0, 0, 1, 1, 1, 1, 1, 1, 1, 3, 3, 3, 3, 3, 3, 3, 3, 10, 10, 10, 11, 11, 11, 11, 11, 12, 12, 12, 13, 13, 13, 13, 14, 14, 14, 14, 15, 15, 15, 15, 15, 16, 16]),\n",
      " Chunk(index=4, dst=5, morphs=[Morph(surface='「', base='記号', pos='括弧開', pos1='「'), Morph(surface='『', base='記号', pos='括弧開', pos1='『'), Morph(surface='計算', base='名詞', pos='サ変接続', pos1='計算')], srcs=[]),\n",
      " Chunk(index=4, dst=5, morphs=[Morph(surface='「', base='記号', pos='括弧開', pos1='「'), Morph(surface='『', base='記号', pos='括弧開', pos1='『'), Morph(surface='計算', base='名詞', pos='サ変接続', pos1='計算')], srcs=[]),\n",
      " Chunk(index=4, dst=5, morphs=[Morph(surface='「', base='記号', pos='括弧開', pos1='「'), Morph(surface='『', base='記号', pos='括弧開', pos1='『'), Morph(surface='計算', base='名詞', pos='サ変接続', pos1='計算')], srcs=[]),\n",
      " Chunk(index=4, dst=5, morphs=[Morph(surface='「', base='記号', pos='括弧開', pos1='「'), Morph(surface='『', base='記号', pos='括弧開', pos1='『'), Morph(surface='計算', base='名詞', pos='サ変接続', pos1='計算')], srcs=[]),\n",
      " Chunk(index=5, dst=9, morphs=[Morph(surface='（', base='記号', pos='括弧開', pos1='（'), Morph(surface='）', base='記号', pos='括弧閉', pos1='）'), Morph(surface='』', base='記号', pos='括弧閉', pos1='』'), Morph(surface='という', base='助詞', pos='格助詞', pos1='という')], srcs=[]),\n",
      " Chunk(index=5, dst=9, morphs=[Morph(surface='（', base='記号', pos='括弧開', pos1='（'), Morph(surface='）', base='記号', pos='括弧閉', pos1='）'), Morph(surface='』', base='記号', pos='括弧閉', pos1='』'), Morph(surface='という', base='助詞', pos='格助詞', pos1='という')], srcs=[]),\n",
      " Chunk(index=5, dst=9, morphs=[Morph(surface='（', base='記号', pos='括弧開', pos1='（'), Morph(surface='）', base='記号', pos='括弧閉', pos1='）'), Morph(surface='』', base='記号', pos='括弧閉', pos1='』'), Morph(surface='という', base='助詞', pos='格助詞', pos1='という')], srcs=[]),\n",
      " Chunk(index=5, dst=9, morphs=[Morph(surface='（', base='記号', pos='括弧開', pos1='（'), Morph(surface='）', base='記号', pos='括弧閉', pos1='）'), Morph(surface='』', base='記号', pos='括弧閉', pos1='』'), Morph(surface='という', base='助詞', pos='格助詞', pos1='という')], srcs=[]),\n",
      " Chunk(index=5, dst=9, morphs=[Morph(surface='（', base='記号', pos='括弧開', pos1='（'), Morph(surface='）', base='記号', pos='括弧閉', pos1='）'), Morph(surface='』', base='記号', pos='括弧閉', pos1='』'), Morph(surface='という', base='助詞', pos='格助詞', pos1='という')], srcs=[]),\n",
      " Chunk(index=6, dst=9, morphs=[Morph(surface='概念', base='名詞', pos='一般', pos1='概念'), Morph(surface='と', base='助詞', pos='並立助詞', pos1='と')], srcs=[]),\n",
      " Chunk(index=6, dst=9, morphs=[Morph(surface='概念', base='名詞', pos='一般', pos1='概念'), Morph(surface='と', base='助詞', pos='並立助詞', pos1='と')], srcs=[]),\n",
      " Chunk(index=6, dst=9, morphs=[Morph(surface='概念', base='名詞', pos='一般', pos1='概念'), Morph(surface='と', base='助詞', pos='並立助詞', pos1='と')], srcs=[]),\n",
      " Chunk(index=7, dst=8, morphs=[Morph(surface='『', base='記号', pos='括弧開', pos1='『'), Morph(surface='コンピュータ', base='名詞', pos='一般', pos1='コンピュータ')], srcs=[]),\n",
      " Chunk(index=7, dst=8, morphs=[Morph(surface='『', base='記号', pos='括弧開', pos1='『'), Morph(surface='コンピュータ', base='名詞', pos='一般', pos1='コンピュータ')], srcs=[]),\n",
      " Chunk(index=7, dst=8, morphs=[Morph(surface='『', base='記号', pos='括弧開', pos1='『'), Morph(surface='コンピュータ', base='名詞', pos='一般', pos1='コンピュータ')], srcs=[]),\n",
      " Chunk(index=8, dst=9, morphs=[Morph(surface='（', base='記号', pos='括弧開', pos1='（'), Morph(surface='）', base='記号', pos='括弧閉', pos1='）'), Morph(surface='』', base='記号', pos='括弧閉', pos1='』'), Morph(surface='という', base='助詞', pos='格助詞', pos1='という')], srcs=[]),\n",
      " Chunk(index=8, dst=9, morphs=[Morph(surface='（', base='記号', pos='括弧開', pos1='（'), Morph(surface='）', base='記号', pos='括弧閉', pos1='）'), Morph(surface='』', base='記号', pos='括弧閉', pos1='』'), Morph(surface='という', base='助詞', pos='格助詞', pos1='という')], srcs=[]),\n",
      " Chunk(index=8, dst=9, morphs=[Morph(surface='（', base='記号', pos='括弧開', pos1='（'), Morph(surface='）', base='記号', pos='括弧閉', pos1='）'), Morph(surface='』', base='記号', pos='括弧閉', pos1='』'), Morph(surface='という', base='助詞', pos='格助詞', pos1='という')], srcs=[]),\n",
      " Chunk(index=8, dst=9, morphs=[Morph(surface='（', base='記号', pos='括弧開', pos1='（'), Morph(surface='）', base='記号', pos='括弧閉', pos1='）'), Morph(surface='』', base='記号', pos='括弧閉', pos1='』'), Morph(surface='という', base='助詞', pos='格助詞', pos1='という')], srcs=[]),\n",
      " Chunk(index=8, dst=9, morphs=[Morph(surface='（', base='記号', pos='括弧開', pos1='（'), Morph(surface='）', base='記号', pos='括弧閉', pos1='）'), Morph(surface='』', base='記号', pos='括弧閉', pos1='』'), Morph(surface='という', base='助詞', pos='格助詞', pos1='という')], srcs=[]),\n",
      " Chunk(index=9, dst=10, morphs=[Morph(surface='道具', base='名詞', pos='一般', pos1='道具'), Morph(surface='を', base='助詞', pos='格助詞', pos1='を')], srcs=[]),\n",
      " Chunk(index=9, dst=10, morphs=[Morph(surface='道具', base='名詞', pos='一般', pos1='道具'), Morph(surface='を', base='助詞', pos='格助詞', pos1='を')], srcs=[]),\n",
      " Chunk(index=9, dst=10, morphs=[Morph(surface='道具', base='名詞', pos='一般', pos1='道具'), Morph(surface='を', base='助詞', pos='格助詞', pos1='を')], srcs=[]),\n",
      " Chunk(index=10, dst=12, morphs=[Morph(surface='用い', base='動詞', pos='自立', pos1='用いる'), Morph(surface='て', base='助詞', pos='接続助詞', pos1='て')], srcs=[]),\n",
      " Chunk(index=10, dst=12, morphs=[Morph(surface='用い', base='動詞', pos='自立', pos1='用いる'), Morph(surface='て', base='助詞', pos='接続助詞', pos1='て')], srcs=[]),\n",
      " Chunk(index=10, dst=12, morphs=[Morph(surface='用い', base='動詞', pos='自立', pos1='用いる'), Morph(surface='て', base='助詞', pos='接続助詞', pos1='て')], srcs=[]),\n",
      " Chunk(index=11, dst=12, morphs=[Morph(surface='『', base='記号', pos='括弧開', pos1='『'), Morph(surface='知能', base='名詞', pos='一般', pos1='知能'), Morph(surface='』', base='記号', pos='括弧閉', pos1='』'), Morph(surface='を', base='助詞', pos='格助詞', pos1='を')], srcs=[]),\n",
      " Chunk(index=11, dst=12, morphs=[Morph(surface='『', base='記号', pos='括弧開', pos1='『'), Morph(surface='知能', base='名詞', pos='一般', pos1='知能'), Morph(surface='』', base='記号', pos='括弧閉', pos1='』'), Morph(surface='を', base='助詞', pos='格助詞', pos1='を')], srcs=[]),\n",
      " Chunk(index=11, dst=12, morphs=[Morph(surface='『', base='記号', pos='括弧開', pos1='『'), Morph(surface='知能', base='名詞', pos='一般', pos1='知能'), Morph(surface='』', base='記号', pos='括弧閉', pos1='』'), Morph(surface='を', base='助詞', pos='格助詞', pos1='を')], srcs=[]),\n",
      " Chunk(index=11, dst=12, morphs=[Morph(surface='『', base='記号', pos='括弧開', pos1='『'), Morph(surface='知能', base='名詞', pos='一般', pos1='知能'), Morph(surface='』', base='記号', pos='括弧閉', pos1='』'), Morph(surface='を', base='助詞', pos='格助詞', pos1='を')], srcs=[]),\n",
      " Chunk(index=11, dst=12, morphs=[Morph(surface='『', base='記号', pos='括弧開', pos1='『'), Morph(surface='知能', base='名詞', pos='一般', pos1='知能'), Morph(surface='』', base='記号', pos='括弧閉', pos1='』'), Morph(surface='を', base='助詞', pos='格助詞', pos1='を')], srcs=[]),\n",
      " Chunk(index=12, dst=13, morphs=[Morph(surface='研究', base='名詞', pos='サ変接続', pos1='研究'), Morph(surface='する', base='動詞', pos='自立', pos1='する')], srcs=[]),\n",
      " Chunk(index=12, dst=13, morphs=[Morph(surface='研究', base='名詞', pos='サ変接続', pos1='研究'), Morph(surface='する', base='動詞', pos='自立', pos1='する')], srcs=[]),\n",
      " Chunk(index=12, dst=13, morphs=[Morph(surface='研究', base='名詞', pos='サ変接続', pos1='研究'), Morph(surface='する', base='動詞', pos='自立', pos1='する')], srcs=[]),\n",
      " Chunk(index=13, dst=14, morphs=[Morph(surface='計算', base='名詞', pos='サ変接続', pos1='計算'), Morph(surface='機', base='名詞', pos='接尾', pos1='機'), Morph(surface='科学', base='名詞', pos='一般', pos1='科学')], srcs=[]),\n",
      " Chunk(index=13, dst=14, morphs=[Morph(surface='計算', base='名詞', pos='サ変接続', pos1='計算'), Morph(surface='機', base='名詞', pos='接尾', pos1='機'), Morph(surface='科学', base='名詞', pos='一般', pos1='科学')], srcs=[]),\n",
      " Chunk(index=13, dst=14, morphs=[Morph(surface='計算', base='名詞', pos='サ変接続', pos1='計算'), Morph(surface='機', base='名詞', pos='接尾', pos1='機'), Morph(surface='科学', base='名詞', pos='一般', pos1='科学')], srcs=[]),\n",
      " Chunk(index=13, dst=14, morphs=[Morph(surface='計算', base='名詞', pos='サ変接続', pos1='計算'), Morph(surface='機', base='名詞', pos='接尾', pos1='機'), Morph(surface='科学', base='名詞', pos='一般', pos1='科学')], srcs=[]),\n",
      " Chunk(index=14, dst=15, morphs=[Morph(surface='（', base='記号', pos='括弧開', pos1='（'), Morph(surface='）', base='記号', pos='括弧閉', pos1='）'), Morph(surface='の', base='助詞', pos='連体化', pos1='の')], srcs=[]),\n",
      " Chunk(index=14, dst=15, morphs=[Morph(surface='（', base='記号', pos='括弧開', pos1='（'), Morph(surface='）', base='記号', pos='括弧閉', pos1='）'), Morph(surface='の', base='助詞', pos='連体化', pos1='の')], srcs=[]),\n",
      " Chunk(index=14, dst=15, morphs=[Morph(surface='（', base='記号', pos='括弧開', pos1='（'), Morph(surface='）', base='記号', pos='括弧閉', pos1='）'), Morph(surface='の', base='助詞', pos='連体化', pos1='の')], srcs=[]),\n",
      " Chunk(index=14, dst=15, morphs=[Morph(surface='（', base='記号', pos='括弧開', pos1='（'), Morph(surface='）', base='記号', pos='括弧閉', pos1='）'), Morph(surface='の', base='助詞', pos='連体化', pos1='の')], srcs=[]),\n",
      " Chunk(index=15, dst=16, morphs=[Morph(surface='一', base='名詞', pos='数', pos1='一'), Morph(surface='分野', base='名詞', pos='一般', pos1='分野'), Morph(surface='」', base='記号', pos='括弧閉', pos1='」'), Morph(surface='を', base='助詞', pos='格助詞', pos1='を')], srcs=[]),\n",
      " Chunk(index=15, dst=16, morphs=[Morph(surface='一', base='名詞', pos='数', pos1='一'), Morph(surface='分野', base='名詞', pos='一般', pos1='分野'), Morph(surface='」', base='記号', pos='括弧閉', pos1='」'), Morph(surface='を', base='助詞', pos='格助詞', pos1='を')], srcs=[]),\n",
      " Chunk(index=15, dst=16, morphs=[Morph(surface='一', base='名詞', pos='数', pos1='一'), Morph(surface='分野', base='名詞', pos='一般', pos1='分野'), Morph(surface='」', base='記号', pos='括弧閉', pos1='」'), Morph(surface='を', base='助詞', pos='格助詞', pos1='を')], srcs=[]),\n",
      " Chunk(index=15, dst=16, morphs=[Morph(surface='一', base='名詞', pos='数', pos1='一'), Morph(surface='分野', base='名詞', pos='一般', pos1='分野'), Morph(surface='」', base='記号', pos='括弧閉', pos1='」'), Morph(surface='を', base='助詞', pos='格助詞', pos1='を')], srcs=[]),\n",
      " Chunk(index=15, dst=16, morphs=[Morph(surface='一', base='名詞', pos='数', pos1='一'), Morph(surface='分野', base='名詞', pos='一般', pos1='分野'), Morph(surface='」', base='記号', pos='括弧閉', pos1='」'), Morph(surface='を', base='助詞', pos='格助詞', pos1='を')], srcs=[]),\n",
      " Chunk(index=16, dst=17, morphs=[Morph(surface='指す', base='動詞', pos='自立', pos1='指す')], srcs=[]),\n",
      " Chunk(index=16, dst=17, morphs=[Morph(surface='指す', base='動詞', pos='自立', pos1='指す')], srcs=[]),\n",
      " Chunk(index=17, dst=-1, morphs=[Morph(surface='語', base='名詞', pos='一般', pos1='語')], srcs=[17, 17]),\n",
      " Chunk(index=17, dst=-1, morphs=[Morph(surface='語', base='名詞', pos='一般', pos1='語')], srcs=[17, 17])]\n",
      "人工知能 -> 〈エーアイ〉）とは、\n",
      "人工知能 -> 〈エーアイ〉）とは、\n",
      "人工知能 -> 〈エーアイ〉）とは、\n",
      "（じんこうちのう、、 -> 〈エーアイ〉）とは、\n",
      "（じんこうちのう、、 -> 〈エーアイ〉）とは、\n",
      "（じんこうちのう、、 -> 〈エーアイ〉）とは、\n",
      "（じんこうちのう、、 -> 〈エーアイ〉）とは、\n",
      "（じんこうちのう、、 -> 〈エーアイ〉）とは、\n",
      "（じんこうちのう、、 -> 〈エーアイ〉）とは、\n",
      "（じんこうちのう、、 -> 〈エーアイ〉）とは、\n",
      "AI -> （じんこうちのう、、\n",
      "AI -> （じんこうちのう、、\n",
      "〈エーアイ〉）とは、 -> 〈エーアイ〉）とは、\n",
      "〈エーアイ〉）とは、 -> 〈エーアイ〉）とは、\n",
      "〈エーアイ〉）とは、 -> 〈エーアイ〉）とは、\n",
      "〈エーアイ〉）とは、 -> 〈エーアイ〉）とは、\n",
      "〈エーアイ〉）とは、 -> 〈エーアイ〉）とは、\n",
      "〈エーアイ〉）とは、 -> 〈エーアイ〉）とは、\n",
      "〈エーアイ〉）とは、 -> 〈エーアイ〉）とは、\n",
      "〈エーアイ〉）とは、 -> 〈エーアイ〉）とは、\n",
      "「『計算 -> （じんこうちのう、、\n",
      "「『計算 -> （じんこうちのう、、\n",
      "「『計算 -> （じんこうちのう、、\n",
      "「『計算 -> （じんこうちのう、、\n",
      "（）』という -> （じんこうちのう、、\n",
      "（）』という -> （じんこうちのう、、\n",
      "（）』という -> （じんこうちのう、、\n",
      "（）』という -> （じんこうちのう、、\n",
      "（）』という -> （じんこうちのう、、\n",
      "概念と -> （じんこうちのう、、\n",
      "概念と -> （じんこうちのう、、\n",
      "概念と -> （じんこうちのう、、\n",
      "『コンピュータ -> （じんこうちのう、、\n",
      "『コンピュータ -> （じんこうちのう、、\n",
      "『コンピュータ -> （じんこうちのう、、\n",
      "（）』という -> （じんこうちのう、、\n",
      "（）』という -> （じんこうちのう、、\n",
      "（）』という -> （じんこうちのう、、\n",
      "（）』という -> （じんこうちのう、、\n",
      "（）』という -> （じんこうちのう、、\n",
      "道具を -> AI\n",
      "道具を -> AI\n",
      "道具を -> AI\n",
      "用いて -> 〈エーアイ〉）とは、\n",
      "用いて -> 〈エーアイ〉）とは、\n",
      "用いて -> 〈エーアイ〉）とは、\n",
      "『知能』を -> 〈エーアイ〉）とは、\n",
      "『知能』を -> 〈エーアイ〉）とは、\n",
      "『知能』を -> 〈エーアイ〉）とは、\n",
      "『知能』を -> 〈エーアイ〉）とは、\n",
      "『知能』を -> 〈エーアイ〉）とは、\n",
      "研究する -> 〈エーアイ〉）とは、\n",
      "研究する -> 〈エーアイ〉）とは、\n",
      "研究する -> 〈エーアイ〉）とは、\n",
      "計算機科学 -> 〈エーアイ〉）とは、\n",
      "計算機科学 -> 〈エーアイ〉）とは、\n",
      "計算機科学 -> 〈エーアイ〉）とは、\n",
      "計算機科学 -> 〈エーアイ〉）とは、\n",
      "（）の -> 〈エーアイ〉）とは、\n",
      "（）の -> 〈エーアイ〉）とは、\n",
      "（）の -> 〈エーアイ〉）とは、\n",
      "（）の -> 〈エーアイ〉）とは、\n",
      "一分野」を -> 〈エーアイ〉）とは、\n",
      "一分野」を -> 〈エーアイ〉）とは、\n",
      "一分野」を -> 〈エーアイ〉）とは、\n",
      "一分野」を -> 〈エーアイ〉）とは、\n",
      "一分野」を -> 〈エーアイ〉）とは、\n",
      "指す -> 〈エーアイ〉）とは、\n",
      "指す -> 〈エーアイ〉）とは、\n"
     ]
    }
   ],
   "source": [
    "# チャンクの集まり（文ごと）のリストを作る\n",
    "# 問題42で再度使う必要があると思ったから関数にしたけど使わなかったので関数にした意味ないかも\n",
    "def make_chunks_list():\n",
    "    # 文節をchunkにして、1文をchunkのリストにする\n",
    "    chunks_list = [] \n",
    "    with open('work/ai.ja.txt.cabocha') as f:\n",
    "        chunks = [] # 1文のチャンクをまとめたリスト\n",
    "        for line in f:\n",
    "            line = line.rstrip()\n",
    "            # 文末を表す\n",
    "            if line == 'EOS':\n",
    "                # かかり元をsrcsを代入する\n",
    "                chunks = Chunk.find_dependency(chunks)\n",
    "                chunks_list.append(chunks)\n",
    "                chunks = [] # 初期化\n",
    "                continue\n",
    "            \n",
    "            # 「*」から始まる文のみ取り出す\n",
    "            if line[0] == '*': \n",
    "                chunks.append(chunk)\n",
    "\n",
    "                chunk = Chunk.sentence2chunk(line)\n",
    "            # cabochaで書かれた形態素解析を、文節ごとにmorphsに突っ込む\n",
    "            else:\n",
    "                chunk.morphs.append(Morph.sentence2morph(line))            \n",
    "    return chunks_list\n",
    "\n",
    "chunks_list = make_chunks_list()\n",
    "\n",
    "# 1つめのChunkリストの表示\n",
    "from pprint import pprint\n",
    "pprint(chunks_list[1])\n",
    "# 1つ目の文について、文節ごとの表示をする\n",
    "for cl in chunks_list[1]:\n",
    "    # どこからも係っていない文節はスルー\n",
    "    if cl.dst == -1: continue\n",
    "    # もとの文節\n",
    "    phrase = Morph.morphs2phrase(cl.morphs)\n",
    "    # 係り先の語\n",
    "    dependency_phrase = Morph.morphs2phrase(chunks_list[1][cl.dst].morphs)\n",
    "    print(f'{phrase} -> {dependency_phrase}')"
   ]
  },
  {
   "cell_type": "markdown",
   "id": "74fe31b7",
   "metadata": {},
   "source": [
    "<h2 id=\"42-係り元と係り先の文節の表示\">42. 係り元と係り先の文節の表示</h2>\n",
    "<p>係り元の文節と係り先の文節のテキストをタブ区切り形式ですべて抽出せよ．ただし，句読点などの記号は出力しないようにせよ．</p>\n"
   ]
  },
  {
   "cell_type": "code",
   "execution_count": 285,
   "id": "86a046e3",
   "metadata": {},
   "outputs": [],
   "source": [
    "# Morphを継承して関数を追加\n",
    "class Morph(Morph):\n",
    "    # morphsを1つの文節にする\n",
    "    def morphs2phrase(morphs, is_eliminate_sign=False):\n",
    "        phrase = ''\n",
    "        for morph in morphs:\n",
    "            # 問題42で記号を取り除くときに使う\n",
    "            if is_eliminate_sign:\n",
    "                if morph.base == '記号':\n",
    "                    continue\n",
    "            phrase += morph.surface\n",
    "        return phrase"
   ]
  },
  {
   "cell_type": "code",
   "execution_count": 304,
   "id": "e35bd3d5",
   "metadata": {},
   "outputs": [
    {
     "name": "stdout",
     "output_type": "stream",
     "text": [
      "[[], [], [], [], [], [], [], [], [], [], [], [], [], [], [], [], [], [], [], [], [], [], [], [], [], [], [], [], [], [], [], [], [], [], [], [], [], [], [], [], [], [], [], [], [], [], [], [], [], [], [], [], [], [], [], [], [], [], [], [], [], [], [], [], [], [], [], [], [], [], [], [], [], [], [], [], [], [], [], [], [], [], [], [], [], [], [], [], [], [], [], [], [], [], [], [], [], [], [], [], [], [], [], [], [], [], [], [], [], [], [], [], [], [], [], [], [], [], [], [], [], [], [], [], [], [], [], [], [], [], [], [], [], [], [], [], [], [], [], [], [], [], [], [], [], [], [], [], [], [], [], [], [], [], [], [], [], [], [], [], [], [], [], [], [], [], [], [], [], [], [], [], [], [], [], [], [], [], [], [], [], [], [], [], [], [], [], [], [], [], [], [], [], [], [], [], [], [], [], [], [], [], [], [], [], [], [], [], [], [], [], [], [], []]\n"
     ]
    }
   ],
   "source": [
    "# 1つ目の文について、文節ごとの表示をする\n",
    "for cl in chunks_list[1]:\n",
    "    # どこからも係っていない文節はスルー\n",
    "    if cl.dst == -1: continue\n",
    "    # もとの文節、記号を取り除くオプション\n",
    "    phrase = Morph.morphs2phrase(cl.morphs, is_eliminate_sign=True)\n",
    "    # 係り先の語、記号を取り除くオプション\n",
    "    dependency_phrase = Morph.morphs2phrase(chunks_list[1][cl.dst].morphs, is_eliminate_sign=True)\n",
    "    # タブ区切りで出力\n",
    "    print(f'{phrase}\\t{dependency_phrase}')\n",
    "print(chunks_list)"
   ]
  },
  {
   "cell_type": "markdown",
   "id": "27234920",
   "metadata": {},
   "source": [
    "<h2 id=\"43-名詞を含む文節が動詞を含む文節に係るものを抽出\">43. 名詞を含む文節が動詞を含む文節に係るものを抽出</h2>\n",
    "<p>名詞を含む文節が，動詞を含む文節に係るとき，これらをタブ区切り形式で抽出せよ．ただし，句読点などの記号は出力しないようにせよ．</p>\n"
   ]
  },
  {
   "cell_type": "code",
   "execution_count": null,
   "id": "de15a6ac",
   "metadata": {},
   "outputs": [],
   "source": []
  },
  {
   "cell_type": "markdown",
   "id": "973db103",
   "metadata": {},
   "source": [
    "<h2 id=\"44-係り受け木の可視化\">44. 係り受け木の可視化</h2>\n",
    "<p>与えられた文の係り受け木を有向グラフとして可視化せよ．可視化には，<a href=\"http://www.graphviz.org/\">Graphviz</a>等を用いるとよい．</p>\n"
   ]
  },
  {
   "cell_type": "code",
   "execution_count": null,
   "id": "518be1b7",
   "metadata": {},
   "outputs": [],
   "source": []
  },
  {
   "cell_type": "markdown",
   "id": "76e75a18",
   "metadata": {},
   "source": [
    "<h2 id=\"45-動詞の格パターンの抽出\">45. 動詞の格パターンの抽出</h2>\n",
    "<p>今回用いている文章をコーパスと見なし，日本語の述語が取りうる格を調査したい．\n",
    "動詞を述語，動詞に係っている文節の助詞を格と考え，述語と格をタブ区切り形式で出力せよ．\n",
    "ただし，出力は以下の仕様を満たすようにせよ．</p>\n",
    "<ul>\n",
    "<li>動詞を含む文節において，最左の動詞の基本形を述語とする</li>\n",
    "<li>述語に係る助詞を格とする</li>\n",
    "<li>述語に係る助詞（文節）が複数あるときは，すべての助詞をスペース区切りで辞書順に並べる</li>\n",
    "</ul>\n",
    "<p>「ジョン・マッカーシーはAIに関する最初の会議で人工知能という用語を作り出した。」という例文を考える．\n",
    "この文は「作り出す」という１つの動詞を含み，「作り出す」に係る文節は「ジョン・マッカーシーは」，「会議で」，「用語を」であると解析された場合は，次のような出力になるはずである．</p>\n",
    "<div class=\"language-plaintext highlighter-rouge\"><div class=\"highlight\"><pre class=\"highlight\"><code>作り出す\tで は を\n",
    "</code></pre></div></div>\n",
    "<p>このプログラムの出力をファイルに保存し，以下の事項をUNIXコマンドを用いて確認せよ．</p>\n",
    "<ul>\n",
    "<li>コーパス中で頻出する述語と格パターンの組み合わせ</li>\n",
    "<li>「行う」「なる」「与える」という動詞の格パターン（コーパス中で出現頻度の高い順に並べよ）</li>\n",
    "</ul>\n"
   ]
  },
  {
   "cell_type": "code",
   "execution_count": null,
   "id": "1f79d5d3",
   "metadata": {},
   "outputs": [],
   "source": []
  },
  {
   "cell_type": "markdown",
   "id": "89676108",
   "metadata": {},
   "source": [
    "<h2 id=\"46-動詞の格フレーム情報の抽出\">46. 動詞の格フレーム情報の抽出</h2>\n",
    "<p>45のプログラムを改変し，述語と格パターンに続けて項（述語に係っている文節そのもの）をタブ区切り形式で出力せよ．45の仕様に加えて，以下の仕様を満たすようにせよ．</p>\n",
    "<ul>\n",
    "<li>項は述語に係っている文節の単語列とする（末尾の助詞を取り除く必要はない）</li>\n",
    "<li>述語に係る文節が複数あるときは，助詞と同一の基準・順序でスペース区切りで並べる</li>\n",
    "</ul>\n",
    "<p>「ジョン・マッカーシーはAIに関する最初の会議で人工知能という用語を作り出した。」という例文を考える．\n",
    "この文は「作り出す」という１つの動詞を含み，「作り出す」に係る文節は「ジョン・マッカーシーは」，「会議で」，「用語を」であると解析された場合は，次のような出力になるはずである．</p>\n",
    "<div class=\"language-plaintext highlighter-rouge\"><div class=\"highlight\"><pre class=\"highlight\"><code>作り出す\tで は を\t会議で ジョンマッカーシーは 用語を\n",
    "</code></pre></div></div>\n"
   ]
  },
  {
   "cell_type": "code",
   "execution_count": null,
   "id": "319a36a0",
   "metadata": {},
   "outputs": [],
   "source": []
  },
  {
   "cell_type": "markdown",
   "id": "90a1b81f",
   "metadata": {},
   "source": [
    "<h2 id=\"47-機能動詞構文のマイニング\">47. 機能動詞構文のマイニング</h2>\n",
    "<p>動詞のヲ格にサ変接続名詞が入っている場合のみに着目したい．46のプログラムを以下の仕様を満たすように改変せよ．</p>\n",
    "<ul>\n",
    "<li>「サ変接続名詞+を（助詞）」で構成される文節が動詞に係る場合のみを対象とする</li>\n",
    "<li>述語は「サ変接続名詞+を+動詞の基本形」とし，文節中に複数の動詞があるときは，最左の動詞を用いる</li>\n",
    "<li>述語に係る助詞（文節）が複数あるときは，すべての助詞をスペース区切りで辞書順に並べる</li>\n",
    "<li>述語に係る文節が複数ある場合は，すべての項をスペース区切りで並べる（助詞の並び順と揃えよ）</li>\n",
    "</ul>\n",
    "<p>例えば「また、自らの経験を元に学習を行う強化学習という手法もある。」という文から，以下の出力が得られるはずである．</p>\n",
    "<div class=\"language-plaintext highlighter-rouge\"><div class=\"highlight\"><pre class=\"highlight\"><code>学習を行う\tに を\t元に 経験を\n",
    "</code></pre></div></div>\n"
   ]
  },
  {
   "cell_type": "code",
   "execution_count": null,
   "id": "fae51527",
   "metadata": {},
   "outputs": [],
   "source": []
  },
  {
   "cell_type": "markdown",
   "id": "48f1744d",
   "metadata": {},
   "source": [
    "<h2 id=\"48-名詞から根へのパスの抽出\">48. 名詞から根へのパスの抽出</h2>\n",
    "<p>文中のすべての名詞を含む文節に対し，その文節から構文木の根に至るパスを抽出せよ．\n",
    "ただし，構文木上のパスは以下の仕様を満たすものとする．</p>\n",
    "<ul>\n",
    "<li>各文節は（表層形の）形態素列で表現する</li>\n",
    "<li>パスの開始文節から終了文節に至るまで，各文節の表現を”<code class=\"language-plaintext highlighter-rouge\"> -&gt; </code>“で連結する</li>\n",
    "</ul>\n",
    "<p>「ジョン・マッカーシーはAIに関する最初の会議で人工知能という用語を作り出した。」という例文を考える．\n",
    "CaboChaを係り受け解析に用いた場合，次のような出力が得られると思われる．</p>\n",
    "<div class=\"language-plaintext highlighter-rouge\"><div class=\"highlight\"><pre class=\"highlight\"><code>ジョンマッカーシーは -&gt; 作り出した\n",
    "AIに関する -&gt; 最初の -&gt; 会議で -&gt; 作り出した\n",
    "最初の -&gt; 会議で -&gt; 作り出した\n",
    "会議で -&gt; 作り出した\n",
    "人工知能という -&gt; 用語を -&gt; 作り出した\n",
    "用語を -&gt; 作り出した\n",
    "</code></pre></div></div>\n",
    "<p>KNPを係り受け解析に用いた場合，次のような出力が得られると思われる．</p>\n",
    "<div class=\"language-plaintext highlighter-rouge\"><div class=\"highlight\"><pre class=\"highlight\"><code>ジョンマッカーシーは -&gt; 作り出した\n",
    "ＡＩに -&gt; 関する -&gt; 会議で -&gt; 作り出した\n",
    "会議で -&gt; 作り出した\n",
    "人工知能と -&gt; いう -&gt; 用語を -&gt; 作り出した\n",
    "用語を -&gt; 作り出した\n",
    "</code></pre></div></div>\n"
   ]
  },
  {
   "cell_type": "code",
   "execution_count": null,
   "id": "04680025",
   "metadata": {},
   "outputs": [],
   "source": []
  },
  {
   "cell_type": "markdown",
   "id": "e9262897",
   "metadata": {},
   "source": [
    "<h2 id=\"49-名詞間の係り受けパスの抽出\">49. 名詞間の係り受けパスの抽出</h2>\n",
    "<p>文中のすべての名詞句のペアを結ぶ最短係り受けパスを抽出せよ．ただし，名詞句ペアの文節番号が\\(i\\)と\\(j\\)（\\(i &lt; j\\)）のとき，係り受けパスは以下の仕様を満たすものとする．</p>\n",
    "<ul>\n",
    "<li>問題48と同様に，パスは開始文節から終了文節に至るまでの各文節の表現（表層形の形態素列）を”<code class=\"language-plaintext highlighter-rouge\"> -&gt; </code>“で連結して表現する</li>\n",
    "<li>文節\\(i\\)と\\(j\\)に含まれる名詞句はそれぞれ，XとYに置換する</li>\n",
    "</ul>\n",
    "<p>また，係り受けパスの形状は，以下の2通りが考えられる．</p>\n",
    "<ul>\n",
    "<li>文節\\(i\\)から構文木の根に至る経路上に文節\\(j\\)が存在する場合: 文節\\(i\\)から文節\\(j\\)のパスを表示</li>\n",
    "<li>上記以外で，文節\\(i\\)と文節\\(j\\)から構文木の根に至る経路上で共通の文節\\(k\\)で交わる場合: 文節\\(i\\)から文節\\(k\\)に至る直前のパスと文節\\(j\\)から文節\\(k\\)に至る直前までのパス，文節\\(k\\)の内容を”<code class=\"language-plaintext highlighter-rouge\"> | </code>“で連結して表示</li>\n",
    "</ul>\n",
    "<p>「ジョン・マッカーシーはAIに関する最初の会議で人工知能という用語を作り出した。」という例文を考える．\n",
    "CaboChaを係り受け解析に用いた場合，次のような出力が得られると思われる．</p>\n",
    "<div class=\"language-plaintext highlighter-rouge\"><div class=\"highlight\"><pre class=\"highlight\"><code>Xは | Yに関する -&gt; 最初の -&gt; 会議で | 作り出した\n",
    "Xは | Yの -&gt; 会議で | 作り出した\n",
    "Xは | Yで | 作り出した\n",
    "Xは | Yという -&gt; 用語を | 作り出した\n",
    "Xは | Yを | 作り出した\n",
    "Xに関する -&gt; Yの\n",
    "Xに関する -&gt; 最初の -&gt; Yで\n",
    "Xに関する -&gt; 最初の -&gt; 会議で | Yという -&gt; 用語を | 作り出した\n",
    "Xに関する -&gt; 最初の -&gt; 会議で | Yを | 作り出した\n",
    "Xの -&gt; Yで\n",
    "Xの -&gt; 会議で | Yという -&gt; 用語を | 作り出した\n",
    "Xの -&gt; 会議で | Yを | 作り出した\n",
    "Xで | Yという -&gt; 用語を | 作り出した\n",
    "Xで | Yを | 作り出した\n",
    "Xという -&gt; Yを\n",
    "</code></pre></div></div>\n",
    "<p>KNPを係り受け解析に用いた場合，次のような出力が得られると思われる．</p>\n",
    "<div class=\"language-plaintext highlighter-rouge\"><div class=\"highlight\"><pre class=\"highlight\"><code>Xは | Yに -&gt; 関する -&gt; 会議で | 作り出した。\n",
    "Xは | Yで | 作り出した。\n",
    "Xは | Yと -&gt; いう -&gt; 用語を | 作り出した。\n",
    "Xは | Yを | 作り出した。\n",
    "Xに -&gt; 関する -&gt; Yで\n",
    "Xに -&gt; 関する -&gt; 会議で | Yと -&gt; いう -&gt; 用語を | 作り出した。\n",
    "Xに -&gt; 関する -&gt; 会議で | Yを | 作り出した。\n",
    "Xで | Yと -&gt; いう -&gt; 用語を | 作り出した。\n",
    "Xで | Yを | 作り出した。\n",
    "Xと -&gt; いう -&gt; Yを\n",
    "</code></pre></div></div>\n"
   ]
  },
  {
   "cell_type": "code",
   "execution_count": null,
   "id": "a83172d2",
   "metadata": {},
   "outputs": [],
   "source": []
  }
 ],
 "metadata": {
  "kernelspec": {
   "display_name": "base",
   "language": "python",
   "name": "python3"
  },
  "language_info": {
   "codemirror_mode": {
    "name": "ipython",
    "version": 3
   },
   "file_extension": ".py",
   "mimetype": "text/x-python",
   "name": "python",
   "nbconvert_exporter": "python",
   "pygments_lexer": "ipython3",
   "version": "3.9.13"
  }
 },
 "nbformat": 4,
 "nbformat_minor": 5
}

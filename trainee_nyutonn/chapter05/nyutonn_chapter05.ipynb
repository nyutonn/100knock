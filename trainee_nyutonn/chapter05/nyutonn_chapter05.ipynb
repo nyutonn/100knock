{
 "cells": [
  {
   "cell_type": "markdown",
   "id": "f913d710",
   "metadata": {},
   "source": [
    "<h2 id=\"40-係り受け解析結果の読み込み形態素\">40. 係り受け解析結果の読み込み（形態素）</h2>\n",
    "<p>形態素を表すクラス<code class=\"language-plaintext highlighter-rouge\">Morph</code>を実装せよ．このクラスは表層形（<code class=\"language-plaintext highlighter-rouge\">surface</code>），基本形（<code class=\"language-plaintext highlighter-rouge\">base</code>），品詞（<code class=\"language-plaintext highlighter-rouge\">pos</code>），品詞細分類1（<code class=\"language-plaintext highlighter-rouge\">pos1</code>）をメンバ変数に持つこととする．さらに，係り受け解析の結果（ai.ja.txt.parsed）を読み込み，各文を<code class=\"language-plaintext highlighter-rouge\">Morph</code>オブジェクトのリストとして表現し，冒頭の説明文の形態素列を表示せよ．</p>\n"
   ]
  },
  {
   "cell_type": "code",
   "execution_count": null,
   "id": "3b8d5b8f",
   "metadata": {},
   "outputs": [],
   "source": []
  },
  {
   "cell_type": "markdown",
   "id": "89d8b7c2",
   "metadata": {},
   "source": [
    "<h2 id=\"41-係り受け解析結果の読み込み文節係り受け\">41. 係り受け解析結果の読み込み（文節・係り受け）</h2>\n",
    "<p>40に加えて，文節を表すクラス<code class=\"language-plaintext highlighter-rouge\">Chunk</code>を実装せよ．このクラスは形態素（<code class=\"language-plaintext highlighter-rouge\">Morph</code>オブジェクト）のリスト（<code class=\"language-plaintext highlighter-rouge\">morphs</code>），係り先文節インデックス番号（<code class=\"language-plaintext highlighter-rouge\">dst</code>），係り元文節インデックス番号のリスト（<code class=\"language-plaintext highlighter-rouge\">srcs</code>）をメンバ変数に持つこととする．さらに，入力テキストの係り受け解析結果を読み込み，１文を<code class=\"language-plaintext highlighter-rouge\">Chunk</code>オブジェクトのリストとして表現し，冒頭の説明文の文節の文字列と係り先を表示せよ．本章の残りの問題では，ここで作ったプログラムを活用せよ．</p>\n"
   ]
  },
  {
   "cell_type": "code",
   "execution_count": null,
   "id": "5331c43b",
   "metadata": {},
   "outputs": [],
   "source": []
  },
  {
   "cell_type": "markdown",
   "id": "74fe31b7",
   "metadata": {},
   "source": [
    "<h2 id=\"42-係り元と係り先の文節の表示\">42. 係り元と係り先の文節の表示</h2>\n",
    "<p>係り元の文節と係り先の文節のテキストをタブ区切り形式ですべて抽出せよ．ただし，句読点などの記号は出力しないようにせよ．</p>\n"
   ]
  },
  {
   "cell_type": "code",
   "execution_count": null,
   "id": "e35bd3d5",
   "metadata": {},
   "outputs": [],
   "source": []
  },
  {
   "cell_type": "markdown",
   "id": "27234920",
   "metadata": {},
   "source": [
    "<h2 id=\"43-名詞を含む文節が動詞を含む文節に係るものを抽出\">43. 名詞を含む文節が動詞を含む文節に係るものを抽出</h2>\n",
    "<p>名詞を含む文節が，動詞を含む文節に係るとき，これらをタブ区切り形式で抽出せよ．ただし，句読点などの記号は出力しないようにせよ．</p>\n"
   ]
  },
  {
   "cell_type": "code",
   "execution_count": null,
   "id": "de15a6ac",
   "metadata": {},
   "outputs": [],
   "source": []
  },
  {
   "cell_type": "markdown",
   "id": "973db103",
   "metadata": {},
   "source": [
    "<h2 id=\"44-係り受け木の可視化\">44. 係り受け木の可視化</h2>\n",
    "<p>与えられた文の係り受け木を有向グラフとして可視化せよ．可視化には，<a href=\"http://www.graphviz.org/\">Graphviz</a>等を用いるとよい．</p>\n"
   ]
  },
  {
   "cell_type": "code",
   "execution_count": null,
   "id": "518be1b7",
   "metadata": {},
   "outputs": [],
   "source": []
  },
  {
   "cell_type": "markdown",
   "id": "76e75a18",
   "metadata": {},
   "source": [
    "<h2 id=\"45-動詞の格パターンの抽出\">45. 動詞の格パターンの抽出</h2>\n",
    "<p>今回用いている文章をコーパスと見なし，日本語の述語が取りうる格を調査したい．\n",
    "動詞を述語，動詞に係っている文節の助詞を格と考え，述語と格をタブ区切り形式で出力せよ．\n",
    "ただし，出力は以下の仕様を満たすようにせよ．</p>\n",
    "<ul>\n",
    "<li>動詞を含む文節において，最左の動詞の基本形を述語とする</li>\n",
    "<li>述語に係る助詞を格とする</li>\n",
    "<li>述語に係る助詞（文節）が複数あるときは，すべての助詞をスペース区切りで辞書順に並べる</li>\n",
    "</ul>\n",
    "<p>「ジョン・マッカーシーはAIに関する最初の会議で人工知能という用語を作り出した。」という例文を考える．\n",
    "この文は「作り出す」という１つの動詞を含み，「作り出す」に係る文節は「ジョン・マッカーシーは」，「会議で」，「用語を」であると解析された場合は，次のような出力になるはずである．</p>\n",
    "<div class=\"language-plaintext highlighter-rouge\"><div class=\"highlight\"><pre class=\"highlight\"><code>作り出す\tで は を\n",
    "</code></pre></div></div>\n",
    "<p>このプログラムの出力をファイルに保存し，以下の事項をUNIXコマンドを用いて確認せよ．</p>\n",
    "<ul>\n",
    "<li>コーパス中で頻出する述語と格パターンの組み合わせ</li>\n",
    "<li>「行う」「なる」「与える」という動詞の格パターン（コーパス中で出現頻度の高い順に並べよ）</li>\n",
    "</ul>\n"
   ]
  },
  {
   "cell_type": "code",
   "execution_count": null,
   "id": "1f79d5d3",
   "metadata": {},
   "outputs": [],
   "source": []
  },
  {
   "cell_type": "markdown",
   "id": "89676108",
   "metadata": {},
   "source": [
    "<h2 id=\"46-動詞の格フレーム情報の抽出\">46. 動詞の格フレーム情報の抽出</h2>\n",
    "<p>45のプログラムを改変し，述語と格パターンに続けて項（述語に係っている文節そのもの）をタブ区切り形式で出力せよ．45の仕様に加えて，以下の仕様を満たすようにせよ．</p>\n",
    "<ul>\n",
    "<li>項は述語に係っている文節の単語列とする（末尾の助詞を取り除く必要はない）</li>\n",
    "<li>述語に係る文節が複数あるときは，助詞と同一の基準・順序でスペース区切りで並べる</li>\n",
    "</ul>\n",
    "<p>「ジョン・マッカーシーはAIに関する最初の会議で人工知能という用語を作り出した。」という例文を考える．\n",
    "この文は「作り出す」という１つの動詞を含み，「作り出す」に係る文節は「ジョン・マッカーシーは」，「会議で」，「用語を」であると解析された場合は，次のような出力になるはずである．</p>\n",
    "<div class=\"language-plaintext highlighter-rouge\"><div class=\"highlight\"><pre class=\"highlight\"><code>作り出す\tで は を\t会議で ジョンマッカーシーは 用語を\n",
    "</code></pre></div></div>\n"
   ]
  },
  {
   "cell_type": "code",
   "execution_count": null,
   "id": "319a36a0",
   "metadata": {},
   "outputs": [],
   "source": []
  },
  {
   "cell_type": "markdown",
   "id": "90a1b81f",
   "metadata": {},
   "source": [
    "<h2 id=\"47-機能動詞構文のマイニング\">47. 機能動詞構文のマイニング</h2>\n",
    "<p>動詞のヲ格にサ変接続名詞が入っている場合のみに着目したい．46のプログラムを以下の仕様を満たすように改変せよ．</p>\n",
    "<ul>\n",
    "<li>「サ変接続名詞+を（助詞）」で構成される文節が動詞に係る場合のみを対象とする</li>\n",
    "<li>述語は「サ変接続名詞+を+動詞の基本形」とし，文節中に複数の動詞があるときは，最左の動詞を用いる</li>\n",
    "<li>述語に係る助詞（文節）が複数あるときは，すべての助詞をスペース区切りで辞書順に並べる</li>\n",
    "<li>述語に係る文節が複数ある場合は，すべての項をスペース区切りで並べる（助詞の並び順と揃えよ）</li>\n",
    "</ul>\n",
    "<p>例えば「また、自らの経験を元に学習を行う強化学習という手法もある。」という文から，以下の出力が得られるはずである．</p>\n",
    "<div class=\"language-plaintext highlighter-rouge\"><div class=\"highlight\"><pre class=\"highlight\"><code>学習を行う\tに を\t元に 経験を\n",
    "</code></pre></div></div>\n"
   ]
  },
  {
   "cell_type": "code",
   "execution_count": null,
   "id": "fae51527",
   "metadata": {},
   "outputs": [],
   "source": []
  },
  {
   "cell_type": "markdown",
   "id": "48f1744d",
   "metadata": {},
   "source": [
    "<h2 id=\"48-名詞から根へのパスの抽出\">48. 名詞から根へのパスの抽出</h2>\n",
    "<p>文中のすべての名詞を含む文節に対し，その文節から構文木の根に至るパスを抽出せよ．\n",
    "ただし，構文木上のパスは以下の仕様を満たすものとする．</p>\n",
    "<ul>\n",
    "<li>各文節は（表層形の）形態素列で表現する</li>\n",
    "<li>パスの開始文節から終了文節に至るまで，各文節の表現を”<code class=\"language-plaintext highlighter-rouge\"> -&gt; </code>“で連結する</li>\n",
    "</ul>\n",
    "<p>「ジョン・マッカーシーはAIに関する最初の会議で人工知能という用語を作り出した。」という例文を考える．\n",
    "CaboChaを係り受け解析に用いた場合，次のような出力が得られると思われる．</p>\n",
    "<div class=\"language-plaintext highlighter-rouge\"><div class=\"highlight\"><pre class=\"highlight\"><code>ジョンマッカーシーは -&gt; 作り出した\n",
    "AIに関する -&gt; 最初の -&gt; 会議で -&gt; 作り出した\n",
    "最初の -&gt; 会議で -&gt; 作り出した\n",
    "会議で -&gt; 作り出した\n",
    "人工知能という -&gt; 用語を -&gt; 作り出した\n",
    "用語を -&gt; 作り出した\n",
    "</code></pre></div></div>\n",
    "<p>KNPを係り受け解析に用いた場合，次のような出力が得られると思われる．</p>\n",
    "<div class=\"language-plaintext highlighter-rouge\"><div class=\"highlight\"><pre class=\"highlight\"><code>ジョンマッカーシーは -&gt; 作り出した\n",
    "ＡＩに -&gt; 関する -&gt; 会議で -&gt; 作り出した\n",
    "会議で -&gt; 作り出した\n",
    "人工知能と -&gt; いう -&gt; 用語を -&gt; 作り出した\n",
    "用語を -&gt; 作り出した\n",
    "</code></pre></div></div>\n"
   ]
  },
  {
   "cell_type": "code",
   "execution_count": null,
   "id": "04680025",
   "metadata": {},
   "outputs": [],
   "source": []
  },
  {
   "cell_type": "markdown",
   "id": "e9262897",
   "metadata": {},
   "source": [
    "<h2 id=\"49-名詞間の係り受けパスの抽出\">49. 名詞間の係り受けパスの抽出</h2>\n",
    "<p>文中のすべての名詞句のペアを結ぶ最短係り受けパスを抽出せよ．ただし，名詞句ペアの文節番号が\\(i\\)と\\(j\\)（\\(i &lt; j\\)）のとき，係り受けパスは以下の仕様を満たすものとする．</p>\n",
    "<ul>\n",
    "<li>問題48と同様に，パスは開始文節から終了文節に至るまでの各文節の表現（表層形の形態素列）を”<code class=\"language-plaintext highlighter-rouge\"> -&gt; </code>“で連結して表現する</li>\n",
    "<li>文節\\(i\\)と\\(j\\)に含まれる名詞句はそれぞれ，XとYに置換する</li>\n",
    "</ul>\n",
    "<p>また，係り受けパスの形状は，以下の2通りが考えられる．</p>\n",
    "<ul>\n",
    "<li>文節\\(i\\)から構文木の根に至る経路上に文節\\(j\\)が存在する場合: 文節\\(i\\)から文節\\(j\\)のパスを表示</li>\n",
    "<li>上記以外で，文節\\(i\\)と文節\\(j\\)から構文木の根に至る経路上で共通の文節\\(k\\)で交わる場合: 文節\\(i\\)から文節\\(k\\)に至る直前のパスと文節\\(j\\)から文節\\(k\\)に至る直前までのパス，文節\\(k\\)の内容を”<code class=\"language-plaintext highlighter-rouge\"> | </code>“で連結して表示</li>\n",
    "</ul>\n",
    "<p>「ジョン・マッカーシーはAIに関する最初の会議で人工知能という用語を作り出した。」という例文を考える．\n",
    "CaboChaを係り受け解析に用いた場合，次のような出力が得られると思われる．</p>\n",
    "<div class=\"language-plaintext highlighter-rouge\"><div class=\"highlight\"><pre class=\"highlight\"><code>Xは | Yに関する -&gt; 最初の -&gt; 会議で | 作り出した\n",
    "Xは | Yの -&gt; 会議で | 作り出した\n",
    "Xは | Yで | 作り出した\n",
    "Xは | Yという -&gt; 用語を | 作り出した\n",
    "Xは | Yを | 作り出した\n",
    "Xに関する -&gt; Yの\n",
    "Xに関する -&gt; 最初の -&gt; Yで\n",
    "Xに関する -&gt; 最初の -&gt; 会議で | Yという -&gt; 用語を | 作り出した\n",
    "Xに関する -&gt; 最初の -&gt; 会議で | Yを | 作り出した\n",
    "Xの -&gt; Yで\n",
    "Xの -&gt; 会議で | Yという -&gt; 用語を | 作り出した\n",
    "Xの -&gt; 会議で | Yを | 作り出した\n",
    "Xで | Yという -&gt; 用語を | 作り出した\n",
    "Xで | Yを | 作り出した\n",
    "Xという -&gt; Yを\n",
    "</code></pre></div></div>\n",
    "<p>KNPを係り受け解析に用いた場合，次のような出力が得られると思われる．</p>\n",
    "<div class=\"language-plaintext highlighter-rouge\"><div class=\"highlight\"><pre class=\"highlight\"><code>Xは | Yに -&gt; 関する -&gt; 会議で | 作り出した。\n",
    "Xは | Yで | 作り出した。\n",
    "Xは | Yと -&gt; いう -&gt; 用語を | 作り出した。\n",
    "Xは | Yを | 作り出した。\n",
    "Xに -&gt; 関する -&gt; Yで\n",
    "Xに -&gt; 関する -&gt; 会議で | Yと -&gt; いう -&gt; 用語を | 作り出した。\n",
    "Xに -&gt; 関する -&gt; 会議で | Yを | 作り出した。\n",
    "Xで | Yと -&gt; いう -&gt; 用語を | 作り出した。\n",
    "Xで | Yを | 作り出した。\n",
    "Xと -&gt; いう -&gt; Yを\n",
    "</code></pre></div></div>\n"
   ]
  },
  {
   "cell_type": "code",
   "execution_count": null,
   "id": "a83172d2",
   "metadata": {},
   "outputs": [],
   "source": []
  }
 ],
 "metadata": {},
 "nbformat": 4,
 "nbformat_minor": 5
}

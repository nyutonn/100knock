{
 "cells": [
  {
   "cell_type": "code",
   "execution_count": 2,
   "metadata": {},
   "outputs": [
    {
     "data": {
      "text/plain": [
       "Test(name='yuto', index=17, subject=['a', 'b', 'c', 'd'])"
      ]
     },
     "execution_count": 2,
     "metadata": {},
     "output_type": "execute_result"
    }
   ],
   "source": [
    "from pydantic.dataclasses import dataclass\n",
    "from dataclasses import field\n",
    "\n",
    "@dataclass\n",
    "class Test():\n",
    "    name: str\n",
    "    index: int\n",
    "    subject: list[str]\n",
    "    \n",
    "    @classmethod\n",
    "    def all_print(cls, line):\n",
    "        a, b, *c = line.split()\n",
    "        test = cls(a, b, c)\n",
    "        return test\n",
    "    \n",
    "Test.all_print('yuto 17 a b c d')"
   ]
  },
  {
   "cell_type": "code",
   "execution_count": 20,
   "metadata": {},
   "outputs": [
    {
     "data": {
      "text/plain": [
       "<__main__.Test2 at 0x10cad7cd0>"
      ]
     },
     "execution_count": 20,
     "metadata": {},
     "output_type": "execute_result"
    }
   ],
   "source": [
    "class Test2():\n",
    "    def __init__(self, name, index, subject):\n",
    "        self.name = name\n",
    "        self.index = index\n",
    "        self.subject = subject\n",
    "    def all_print(self):\n",
    "        print(self.name, self.index, self.subject)\n",
    "\n",
    "c = Test2('yuto', 21, [0, 1, 2, 3])\n",
    "c"
   ]
  },
  {
   "cell_type": "code",
   "execution_count": 15,
   "metadata": {},
   "outputs": [
    {
     "data": {
      "text/plain": [
       "5"
      ]
     },
     "execution_count": 15,
     "metadata": {},
     "output_type": "execute_result"
    }
   ],
   "source": [
    "def add(a:int, b:int) -> int:\n",
    "    return a+b\n",
    "add(2, 3)"
   ]
  },
  {
   "cell_type": "code",
   "execution_count": 29,
   "metadata": {},
   "outputs": [
    {
     "name": "stdout",
     "output_type": "stream",
     "text": [
      "hello 0\n"
     ]
    }
   ],
   "source": [
    "from pydantic.dataclasses import dataclass\n",
    "@dataclass\n",
    "class ClassTest():\n",
    "    apple : int\n",
    "    banana : int = 0\n",
    "\n",
    "    @classmethod\n",
    "    def print_sonomama(cls, line):\n",
    "        print(line, cls.banana)\n",
    "        \n",
    "# インスタンス化しなくても外でそのまま使える\n",
    "ClassTest.print_sonomama('hello')"
   ]
  },
  {
   "cell_type": "code",
   "execution_count": 45,
   "metadata": {},
   "outputs": [
    {
     "name": "stdout",
     "output_type": "stream",
     "text": [
      "<class 'int'>\n"
     ]
    }
   ],
   "source": [
    "from pydantic.dataclasses import dataclass\n",
    "@dataclass\n",
    "class Henkan():\n",
    "    n : int = 0\n",
    "    # def __init__(self, n):\n",
    "    #     self.n = n\n",
    "    def pr(self):\n",
    "        print(type(self.n))\n",
    "d = Henkan('1')\n",
    "d.pr()"
   ]
  },
  {
   "cell_type": "code",
   "execution_count": 112,
   "metadata": {},
   "outputs": [
    {
     "name": "stdout",
     "output_type": "stream",
     "text": [
      "A(alist=[], name='yuto')\n"
     ]
    }
   ],
   "source": [
    "from pydantic.dataclasses import dataclass\n",
    "from dataclasses import field\n",
    "@dataclass\n",
    "class A:\n",
    "    # def __str__(self) -> str:\n",
    "    #     return ''.join(str(m) for m in self.morphs)\n",
    "    \n",
    "    alist: list[int] = field(default_factory=list)\n",
    "    name: str = 'yuto'\n",
    "    # def __init__(self):\n",
    "        # self.alist: list[int] = field(default_factory=list)\n",
    "\n",
    "    @classmethod\n",
    "    def print_all(cls):\n",
    "        # cls.alist.append(0)\n",
    "        print(cls.alist)\n",
    "\n",
    "        \n",
    "\n",
    "# A.print_all()\n",
    "a = A()\n",
    "print(a)\n",
    "# a.print_all()"
   ]
  },
  {
   "cell_type": "code",
   "execution_count": 69,
   "metadata": {},
   "outputs": [],
   "source": [
    "@dataclass\n",
    "class C:\n",
    "    mylist: list[int] = field(default_factory=list)\n",
    "\n",
    "c = C()\n",
    "c.mylist += [1, 2, 3]"
   ]
  },
  {
   "attachments": {},
   "cell_type": "markdown",
   "metadata": {},
   "source": [
    "__str__はインスタンスのprint時に自動で起動する"
   ]
  },
  {
   "cell_type": "code",
   "execution_count": 135,
   "metadata": {},
   "outputs": [
    {
     "name": "stdout",
     "output_type": "stream",
     "text": [
      "<__main__.Intro object at 0x10e05fe80>\n",
      "Intro(name:yuto, age:22)\n"
     ]
    }
   ],
   "source": [
    "class Intro(): # 名前と年齢を扱うデータクラス\n",
    "    def __init__(self, name, age):\n",
    "        self.name = name\n",
    "        self.age = age\n",
    "\n",
    "class Intro2(Intro): # 上のクラスを継承\n",
    "    # インスタンスをprintしたときに代わりに呼ばれる関数\n",
    "    def __str__(self) -> str:\n",
    "        return f'Intro(name:{self.name}, age:{self.age})'\n",
    "\n",
    "i = Intro('yuto', 21)\n",
    "i2 = Intro2('yuto', 21)\n",
    "print(i)  # インスタンスをそのまま出力\n",
    "print(i2) # インスタンスを__str__に通してから出力"
   ]
  },
  {
   "attachments": {},
   "cell_type": "markdown",
   "metadata": {},
   "source": [
    "grep：文字列の検索にヒットした行の表示"
   ]
  },
  {
   "cell_type": "code",
   "execution_count": 8,
   "metadata": {},
   "outputs": [
    {
     "name": "stdout",
     "output_type": "stream",
     "text": [
      "する と て \n",
      "する は て と て \n",
      "する が て は が \n",
      "する て て が て \n",
      "する が て \n",
      "する を て \n",
      "する を て \n",
      "する も て \n",
      "する は て も て \n",
      "する は て は に \n",
      "する と て \n",
      "する と て が は によって \n",
      "する ば て で も て \n",
      "する は て と て \n"
     ]
    }
   ],
   "source": [
    "# 正規表現を用いて検索できる\n",
    "!grep -E 'する . て' work/corpus.txt"
   ]
  },
  {
   "attachments": {},
   "cell_type": "markdown",
   "metadata": {},
   "source": [
    "awk：コマンドラインで用いる簡単なプログラミング言語\n",
    "* パターン、アクション、ファイルパスと３つからなる\n",
    "* パターンは正規表現でマッチする行を探す\n",
    "* アクションはマッチした行に対して何らかの処理をする\n",
    "* awk 'パターン {アクション}' パス\n",
    "* パターンについて\n",
    "  * 列が文字列と一致するかどうか\n",
    "  * $1 == \"文字列\"\n",
    "* アクションについて\n",
    "  * print：表示\n",
    "    * print $1：１列目の表示\n",
    "    * print $0：全ての行列の表示"
   ]
  },
  {
   "cell_type": "code",
   "execution_count": 13,
   "metadata": {},
   "outputs": [
    {
     "name": "stdout",
     "output_type": "stream",
     "text": [
      "する と も \n",
      "する と て \n",
      "する と \n",
      "する と \n",
      "する と \n",
      "する と と て \n",
      "する と まで と \n",
      "する と \n",
      "する と \n",
      "する と \n",
      "する と \n",
      "する と \n",
      "する と \n",
      "する と \n",
      "する と \n",
      "する と は と て \n",
      "する と \n",
      "する と て \n",
      "する と \n",
      "する と て が は によって \n",
      "する と を に \n"
     ]
    }
   ],
   "source": [
    "!awk '$1 == \"する\" && $2 == \"と\" { print $0 }' work/corpus.txt"
   ]
  },
  {
   "attachments": {},
   "cell_type": "markdown",
   "metadata": {},
   "source": [
    "リスト.index(要素)"
   ]
  },
  {
   "cell_type": "code",
   "execution_count": 16,
   "metadata": {},
   "outputs": [
    {
     "name": "stdout",
     "output_type": "stream",
     "text": [
      "2\n"
     ]
    }
   ],
   "source": [
    "alist = ['a', 'b', 'c', 'd', 'e']\n",
    "print(alist.index('c')) # 2"
   ]
  }
 ],
 "metadata": {
  "kernelspec": {
   "display_name": "base",
   "language": "python",
   "name": "python3"
  },
  "language_info": {
   "codemirror_mode": {
    "name": "ipython",
    "version": 3
   },
   "file_extension": ".py",
   "mimetype": "text/x-python",
   "name": "python",
   "nbconvert_exporter": "python",
   "pygments_lexer": "ipython3",
   "version": "3.9.13"
  },
  "orig_nbformat": 4
 },
 "nbformat": 4,
 "nbformat_minor": 2
}

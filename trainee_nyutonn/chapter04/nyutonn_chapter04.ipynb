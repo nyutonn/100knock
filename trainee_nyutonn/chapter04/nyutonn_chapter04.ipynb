{
 "cells": [
  {
   "cell_type": "markdown",
   "id": "526c8b14",
   "metadata": {},
   "source": [
    "<h2 id=\"30-形態素解析結果の読み込み\">30. 形態素解析結果の読み込み</h2>\n",
    "<p>形態素解析結果（neko.txt.mecab）を読み込むプログラムを実装せよ．ただし，各形態素は表層形（surface），基本形（base），品詞（pos），品詞細分類1（pos1）をキーとするマッピング型に格納し，1文を形態素（マッピング型）のリストとして表現せよ．第4章の残りの問題では，ここで作ったプログラムを活用せよ．</p>\n"
   ]
  },
  {
   "cell_type": "code",
   "execution_count": 2,
   "id": "cd9b2f65",
   "metadata": {},
   "outputs": [
    {
     "name": "stdout",
     "output_type": "stream",
     "text": [
      "File 'data/neko.txt' already there; not retrieving.\n",
      "\n"
     ]
    }
   ],
   "source": [
    "# テキストのダウンロード\n",
    "!wget -nc https://nlp100.github.io/data/neko.txt -P data/"
   ]
  },
  {
   "cell_type": "code",
   "execution_count": 3,
   "id": "215ac63b",
   "metadata": {},
   "outputs": [
    {
     "name": "stdout",
     "output_type": "stream",
     "text": [
      "     1\t一\n",
      "     2\t\n",
      "     3\t　吾輩は猫である。\n",
      "     4\t名前はまだ無い。\n",
      "     5\t\n",
      "     6\t　どこで生れたかとんと見当がつかぬ。\n",
      "     7\t何でも薄暗いじめじめした所でニャーニャー泣いていた事だけは記憶している。\n",
      "     8\t吾輩はここで始めて人間というものを見た。\n",
      "     9\tしかもあとで聞くとそれは書生という人間中で一番獰悪な種族であったそうだ。\n",
      "    10\tこの書生というのは時々我々を捕えて煮て食うという話である。\n",
      "cat: stdout: Broken pipe\n"
     ]
    }
   ],
   "source": [
    "# 先頭10行表示\n",
    "!cat -n data/neko.txt | head"
   ]
  },
  {
   "cell_type": "code",
   "execution_count": 4,
   "id": "e0aabe88",
   "metadata": {},
   "outputs": [
    {
     "name": "stdout",
     "output_type": "stream",
     "text": [
      "今日\t名詞,副詞可能,*,*,*,*,今日,キョウ,キョー\n",
      "は\t助詞,係助詞,*,*,*,*,は,ハ,ワ\n",
      "いい\t形容詞,自立,*,*,形容詞・イイ,基本形,いい,イイ,イイ\n",
      "天気\t名詞,一般,*,*,*,*,天気,テンキ,テンキ\n",
      "です\t助動詞,*,*,*,特殊・デス,基本形,です,デス,デス\n",
      "ね\t助詞,終助詞,*,*,*,*,ね,ネ,ネ\n",
      "。\t記号,句点,*,*,*,*,。,。,。\n",
      "EOS\n",
      "\n",
      "今日 は いい 天気 です ね 。 \n",
      "\n",
      "['今日', 'は', 'いい', '天気', 'です', 'ね', '。']\n"
     ]
    }
   ],
   "source": [
    "# MeCabを使ってみる\n",
    "import MeCab, ipadic\n",
    "\n",
    "# そのまま使うと単語ごとの情報になる\n",
    "mecab = MeCab.Tagger(ipadic.MECAB_ARGS)\n",
    "text = '今日はいい天気ですね。'\n",
    "print(mecab.parse(text))\n",
    "\n",
    "# 分かち書きにする（語の区切りにSpaveを入れる）\n",
    "import MeCab\n",
    "wakati = MeCab.Tagger(\"-Owakati\")\n",
    "print(wakati.parse(text))\n",
    "print(wakati.parse(text).split())  # リストにする\n"
   ]
  },
  {
   "cell_type": "code",
   "execution_count": 5,
   "id": "cb4763ae",
   "metadata": {},
   "outputs": [
    {
     "name": "stdout",
     "output_type": "stream",
     "text": [
      "     1\t一\t名詞,数,*,*,*,*,一,イチ,イチ\n",
      "     2\tEOS\n",
      "     3\tEOS\n",
      "     4\t　\t記号,空白,*,*,*,*,　,　,　\n",
      "     5\t吾輩\t名詞,代名詞,一般,*,*,*,吾輩,ワガハイ,ワガハイ\n",
      "     6\tは\t助詞,係助詞,*,*,*,*,は,ハ,ワ\n",
      "     7\t猫\t名詞,一般,*,*,*,*,猫,ネコ,ネコ\n",
      "     8\tで\t助動詞,*,*,*,特殊・ダ,連用形,だ,デ,デ\n",
      "     9\tある\t助動詞,*,*,*,五段・ラ行アル,基本形,ある,アル,アル\n",
      "    10\t。\t記号,句点,*,*,*,*,。,。,。\n",
      "cat: stdout: Broken pipe\n"
     ]
    }
   ],
   "source": [
    "# 形態素解析データをファイルに保存\n",
    "import MeCab, ipadic\n",
    "\n",
    "mecab = MeCab.Tagger(ipadic.MECAB_ARGS)\n",
    "with open('work/neko.txt.mecab', 'w') as fw:\n",
    "    with open('data/neko.txt') as fr:\n",
    "        for line in fr:\n",
    "            line = line.rstrip()\n",
    "            m = mecab.parse(line)\n",
    "            fw.write(m)\n",
    "# 先頭だけ表示\n",
    "!cat -n work/neko.txt.mecab | head"
   ]
  },
  {
   "attachments": {},
   "cell_type": "markdown",
   "id": "d5198f4c",
   "metadata": {},
   "source": [
    "mecab.parseの形式は  \n",
    "\n",
    "表層語\\t品詞,品詞細分類1,品詞細分類2,品詞細分類3,活用型,活用形,原形,読み,発音  \n",
    "\n",
    "表層語は1番目, 品詞は2番目, 品詞細分類は3番目, 原型は8番目"
   ]
  },
  {
   "cell_type": "code",
   "execution_count": 6,
   "id": "5bd504d6",
   "metadata": {},
   "outputs": [
    {
     "name": "stdout",
     "output_type": "stream",
     "text": [
      "{'surfase': '一', 'base': '一', 'pos': '名詞', 'pos1': '数'}\n",
      "{'surfase': '\\u3000', 'base': '\\u3000', 'pos': '記号', 'pos1': '空白'}\n",
      "{'surfase': '吾輩', 'base': '吾輩', 'pos': '名詞', 'pos1': '代名詞'}\n",
      "{'surfase': 'は', 'base': 'は', 'pos': '助詞', 'pos1': '係助詞'}\n",
      "{'surfase': '猫', 'base': '猫', 'pos': '名詞', 'pos1': '一般'}\n",
      "{'surfase': 'で', 'base': 'だ', 'pos': '助動詞', 'pos1': '*'}\n",
      "{'surfase': 'ある', 'base': 'ある', 'pos': '助動詞', 'pos1': '*'}\n",
      "{'surfase': '。', 'base': '。', 'pos': '記号', 'pos1': '句点'}\n",
      "{'surfase': '名前', 'base': '名前', 'pos': '名詞', 'pos1': '一般'}\n",
      "{'surfase': 'は', 'base': 'は', 'pos': '助詞', 'pos1': '係助詞'}\n"
     ]
    }
   ],
   "source": [
    "# 正規表現を用いて取り出す\n",
    "import re\n",
    "pattern = r'(.*?)\\t(.*?)\\,(.*?)\\,(.*?)\\,(.*?)\\,(.*?)\\,(.*?)\\,(.*?)\\,(.*?)\\,(.*?)'\n",
    "repattern = re.compile(pattern)\n",
    "# 「ニャーニャー」「ぷうぷうと」のように造語（新語）は7個の要素しかなかったのでこちらも抽出\n",
    "pattern2 = r'(.*?)\\t(.*?)\\,(.*?)\\,(.*?)\\,(.*?)\\,(.*?)\\,(.*?)\\,(.*?)'\n",
    "repattern2 = re.compile(pattern2)\n",
    "\n",
    "morpheme_list = [] # 答えとなる形態素リスト\n",
    "with open('work/neko.txt.mecab') as f:\n",
    "    for line in f:\n",
    "        line = line.rstrip() # 改行削除\n",
    "        match = repattern.match(line)\n",
    "        if match: # ここでEOSの行は排除する\n",
    "            surfase = match.group(1) # 表層語　\n",
    "            base = match.group(8)    # 原型\n",
    "            pos = match.group(2)     # 品詞\n",
    "            pos1 = match.group(3)    # 品詞細分類1\n",
    "            morpheme_dict = {'surfase' : surfase, 'base' : base, 'pos' : pos, 'pos1' : pos1} # 辞書に格納する\n",
    "            morpheme_list.append(morpheme_dict) # リストにいれる\n",
    "        else:\n",
    "            # ここからは新語のマッチ\n",
    "            match2 = repattern2.match(line)\n",
    "            if match2:\n",
    "                # 新語は原型がわからないからか欄すら表示されていないのでbaseはパスする\n",
    "                surfase = match2.group(1) # 表層語　\n",
    "                pos = match2.group(2)     # 品詞\n",
    "                pos1 = match2.group(3)    # 品詞細分類1\n",
    "                morpheme_dict = {'surfase' : surfase, 'pos' : pos, 'pos1' : pos1} # 辞書に格納する\n",
    "                morpheme_list.append(morpheme_dict) # リストにいれる\n",
    "\n",
    "# 10個だけ表示\n",
    "from itertools import islice\n",
    "for morpheme in islice(morpheme_list, 10):\n",
    "    print(morpheme)"
   ]
  },
  {
   "attachments": {},
   "cell_type": "markdown",
   "id": "c8b1a6e2",
   "metadata": {},
   "source": [
    "    コマンドラインからも実行できる\n",
    "* echoはそのまま表示するだけ\n",
    "* mecabで形態素に分割する"
   ]
  },
  {
   "cell_type": "code",
   "execution_count": 7,
   "id": "56489267",
   "metadata": {},
   "outputs": [
    {
     "name": "stdout",
     "output_type": "stream",
     "text": [
      "吾輩\t名詞,代名詞,一般,*,*,*,吾輩,ワガハイ,ワガハイ\n",
      "は\t助詞,係助詞,*,*,*,*,は,ハ,ワ\n",
      "猫\t名詞,一般,*,*,*,*,猫,ネコ,ネコ\n",
      "で\t助動詞,*,*,*,特殊・ダ,連用形,だ,デ,デ\n",
      "ある\t助動詞,*,*,*,五段・ラ行アル,基本形,ある,アル,アル\n",
      "。\t記号,句点,*,*,*,*,。,。,。\n",
      "EOS\n"
     ]
    }
   ],
   "source": [
    "!echo 吾輩は猫である。 | mecab"
   ]
  },
  {
   "attachments": {},
   "cell_type": "markdown",
   "id": "f3b30930",
   "metadata": {},
   "source": [
    "    変数 = 値 if 条件1 else 値2"
   ]
  },
  {
   "cell_type": "code",
   "execution_count": 8,
   "id": "d3ee8a7d",
   "metadata": {},
   "outputs": [
    {
     "name": "stdout",
     "output_type": "stream",
     "text": [
      "1\n",
      "2\n"
     ]
    }
   ],
   "source": [
    "a = 1 if True else 2\n",
    "print(a) # 1\n",
    "b = 1 if False else 2\n",
    "print(b) # 2\n"
   ]
  },
  {
   "attachments": {},
   "cell_type": "markdown",
   "id": "1cd8db61",
   "metadata": {},
   "source": [
    "    正規表現でsplit関数\n",
    "* re.split(分割する正規表現パターン, 分割したいテキスト)"
   ]
  },
  {
   "cell_type": "code",
   "execution_count": 9,
   "id": "0aaf539a",
   "metadata": {},
   "outputs": [
    {
     "name": "stdout",
     "output_type": "stream",
     "text": [
      "['0aa1', '2', '3']\n"
     ]
    }
   ],
   "source": [
    "import re\n",
    "print(re.split(r'a{3}', '0aa1aaa2aaa3'))"
   ]
  },
  {
   "cell_type": "code",
   "execution_count": 10,
   "id": "b88a568a",
   "metadata": {},
   "outputs": [
    {
     "name": "stdout",
     "output_type": "stream",
     "text": [
      "{'surfase': '一', 'base': '一', 'pos': '名詞', 'pos1': '数'}\n",
      "{'surfase': '\\u3000', 'base': '\\u3000', 'pos': '記号', 'pos1': '空白'}\n",
      "{'surfase': '吾輩', 'base': '吾輩', 'pos': '名詞', 'pos1': '代名詞'}\n",
      "{'surfase': 'は', 'base': 'は', 'pos': '助詞', 'pos1': '係助詞'}\n",
      "{'surfase': '猫', 'base': '猫', 'pos': '名詞', 'pos1': '一般'}\n",
      "{'surfase': 'で', 'base': 'だ', 'pos': '助動詞', 'pos1': '*'}\n",
      "{'surfase': 'ある', 'base': 'ある', 'pos': '助動詞', 'pos1': '*'}\n",
      "{'surfase': '。', 'base': '。', 'pos': '記号', 'pos1': '句点'}\n",
      "{'surfase': '名前', 'base': '名前', 'pos': '名詞', 'pos1': '一般'}\n",
      "{'surfase': 'は', 'base': 'は', 'pos': '助詞', 'pos1': '係助詞'}\n"
     ]
    }
   ],
   "source": [
    "# 正規表現でsplit関数を用いて問題を解いてみる\n",
    "import re\n",
    "split_pattern = re.compile(r'[,\\t]') # 分割するパターンはカンマとタブ\n",
    "\n",
    "morpheme_list = [] # 答えとなる形態素リスト\n",
    "with open('work/neko.txt.mecab') as f:\n",
    "    for line in f:\n",
    "        line = line.rstrip()\n",
    "        if line == 'EOS':\n",
    "            continue\n",
    "        morpheme_split = split_pattern.split(line) # カンマとタブで分割\n",
    "        surfase = morpheme_split[0] # 表層語　\n",
    "        base = morpheme_split[7]    # 原型\n",
    "        pos = morpheme_split[1]     # 品詞\n",
    "        pos1 = morpheme_split[2]    # 品詞細分類1\n",
    "        morpheme_dict = {'surfase' : surfase, 'base' : base, 'pos' : pos, 'pos1' : pos1} # 辞書に格納する\n",
    "        morpheme_list.append(morpheme_dict) # リストにいれる\n",
    "\n",
    "# 10個だけ表示\n",
    "from itertools import islice\n",
    "for morpheme in islice(morpheme_list, 10):\n",
    "    print(morpheme)"
   ]
  },
  {
   "cell_type": "markdown",
   "id": "3e01159c",
   "metadata": {},
   "source": [
    "<h2 id=\"31-動詞\">31. 動詞</h2>\n",
    "<p>動詞の表層形をすべて抽出せよ．</p>\n"
   ]
  },
  {
   "cell_type": "code",
   "execution_count": 11,
   "id": "02bd3ab4",
   "metadata": {},
   "outputs": [
    {
     "name": "stdout",
     "output_type": "stream",
     "text": [
      "生れ\n",
      "つか\n",
      "し\n",
      "泣い\n",
      "し\n",
      "いる\n",
      "始め\n",
      "見\n",
      "聞く\n",
      "捕え\n",
      "動詞の数　：28905\n",
      "動詞の種類：3893\n"
     ]
    }
   ],
   "source": [
    "verb_list = []    # 動詞を格納するリスト\n",
    "verb_set = set()  # 動詞を格納する集合\n",
    "for morpheme in morpheme_list:\n",
    "    if morpheme['pos'] == '動詞':\n",
    "        verb_list.append(morpheme['surfase'])\n",
    "        verb_set.add(morpheme['surfase'])\n",
    "\n",
    "# 表示\n",
    "from itertools import islice\n",
    "for v in islice(verb_list, 10):\n",
    "    print(v) \n",
    "\n",
    "print(f'動詞の数　：{len(verb_list)}')\n",
    "print(f'動詞の種類：{len(verb_set)}')"
   ]
  },
  {
   "attachments": {},
   "cell_type": "markdown",
   "id": "c0c97135",
   "metadata": {},
   "source": [
    "    組み込み関数\n",
    "* 普通に書くより速い\n",
    "* 引数に関数や無名関数を使う"
   ]
  },
  {
   "cell_type": "code",
   "execution_count": 12,
   "id": "90ca7980",
   "metadata": {},
   "outputs": [
    {
     "name": "stdout",
     "output_type": "stream",
     "text": [
      "改める\n",
      "なさろ\n",
      "のろけ\n",
      "澄まし\n",
      "費やし\n",
      "入り\n",
      "ける\n",
      "たっ\n",
      "云う\n",
      "じゃれ\n",
      "小説に含まれる動詞の種類(表層形): 3893\n"
     ]
    }
   ],
   "source": [
    "# 別解の写し\n",
    "from pathlib import Path\n",
    "\n",
    "# 一つの形態素について辞書型にする\n",
    "def read_parsed_line(line):\n",
    "    surface, info = line.split(\"\\t\")\n",
    "    info_lis = info.split(\",\")\n",
    "    return {'surface': surface, 'base': info_lis[6], 'pos': info_lis[0], 'pos1': info_lis[1]}\n",
    "\n",
    "# mecabファイルから形態素を一行ずつ取り出して、辞書型にする\n",
    "def generate_morphs(parsed_file_path:Path):\n",
    "    with parsed_file_path.open(mode=\"r\") as f:\n",
    "        yield from map(read_parsed_line, filter(lambda s: s.strip() != \"EOS\", f))\n",
    "\n",
    "parsed_file_path = Path(\"work/neko.txt.mecab\")\n",
    "verb_set = set(\n",
    "    map(\n",
    "        lambda x : x[\"surface\"], \n",
    "        filter(\n",
    "            lambda y : y[\"pos\"] == \"動詞\",\n",
    "            generate_morphs(parsed_file_path)\n",
    "        )\n",
    "    )\n",
    ")\n",
    "\n",
    "# 表示\n",
    "from itertools import islice\n",
    "for s in islice(verb_set, 10):\n",
    "    print(s)\n",
    "print(\"小説に含まれる動詞の種類(表層形):\", len(verb_set))"
   ]
  },
  {
   "attachments": {},
   "cell_type": "markdown",
   "id": "f6b43072",
   "metadata": {},
   "source": [
    "    組み込み関数\n",
    "map, filter, sorted, min, mapなど関数を引数とする関数"
   ]
  },
  {
   "cell_type": "code",
   "execution_count": 13,
   "id": "3b7ef226",
   "metadata": {},
   "outputs": [
    {
     "name": "stdout",
     "output_type": "stream",
     "text": [
      "10\n",
      "11\n",
      "12\n"
     ]
    }
   ],
   "source": [
    "# map関数, すべての要素に10足す\n",
    "def add(a):\n",
    "    return a + 10\n",
    "for i in map(add, range(3)):\n",
    "    print(i)\n",
    "# 出力結果\n",
    "#10\n",
    "#11\n",
    "#12"
   ]
  },
  {
   "cell_type": "code",
   "execution_count": 14,
   "id": "419825e0",
   "metadata": {},
   "outputs": [
    {
     "name": "stdout",
     "output_type": "stream",
     "text": [
      "0\n",
      "2\n",
      "4\n"
     ]
    }
   ],
   "source": [
    "# filter関数, 偶数のみ取り出す\n",
    "def is_even(n):\n",
    "    return n % 2 == 0\n",
    "for i in filter(is_even, range(5)):\n",
    "    print(i)\n",
    "# 出力結果\n",
    "# 0\n",
    "# 2\n",
    "# 4"
   ]
  },
  {
   "cell_type": "code",
   "execution_count": 15,
   "id": "591d8fed",
   "metadata": {},
   "outputs": [
    {
     "name": "stdout",
     "output_type": "stream",
     "text": [
      "['def', 'banana', 'cylinder', 'application']\n"
     ]
    }
   ],
   "source": [
    "# sorted関数, 長さでソートする\n",
    "str_list = ['application', 'banana', 'cylinder', 'def']\n",
    "sorted_list = sorted(str_list, key = len)\n",
    "print(sorted_list)"
   ]
  },
  {
   "attachments": {},
   "cell_type": "markdown",
   "id": "2be83acc",
   "metadata": {},
   "source": [
    "    ラムダ関数、無名関数\n",
    "組み込み関数の引数に使う関数の記述の際に、わざわざ関数を定義するのがめんどくさいときに使う"
   ]
  },
  {
   "cell_type": "code",
   "execution_count": 16,
   "id": "a3434e58",
   "metadata": {},
   "outputs": [
    {
     "name": "stdout",
     "output_type": "stream",
     "text": [
      "5\n",
      "Hello, World\n"
     ]
    }
   ],
   "source": [
    "# ラムダ関数\n",
    "add_function = lambda x, y : x + y\n",
    "print(add_function(1, 4)) # 5\n",
    "print(add_function('Hello, ', 'World')) # Hello, World"
   ]
  },
  {
   "cell_type": "code",
   "execution_count": 17,
   "id": "4a78463e",
   "metadata": {},
   "outputs": [
    {
     "name": "stdout",
     "output_type": "stream",
     "text": [
      "10\n",
      "11\n",
      "12\n"
     ]
    }
   ],
   "source": [
    "# map関数をラムダ関数を用いて記述\n",
    "for i in map(lambda x : x + 10, range(3)):\n",
    "    print(i)\n",
    "# 出力結果\n",
    "# 10\n",
    "# 11\n",
    "# 12"
   ]
  },
  {
   "cell_type": "markdown",
   "id": "bbaac49f",
   "metadata": {},
   "source": [
    "<h2 id=\"32-動詞の基本形\">32. 動詞の基本形</h2>\n",
    "<p>動詞の基本形をすべて抽出せよ．</p>\n"
   ]
  },
  {
   "cell_type": "code",
   "execution_count": 18,
   "id": "30b3debd",
   "metadata": {},
   "outputs": [
    {
     "name": "stdout",
     "output_type": "stream",
     "text": [
      "生れる\n",
      "つく\n",
      "する\n",
      "泣く\n",
      "する\n",
      "いる\n",
      "始める\n",
      "見る\n",
      "聞く\n",
      "捕える\n",
      "動詞の基本形の数　：28905\n",
      "動詞の基本形の種類：2300\n"
     ]
    }
   ],
   "source": [
    "verb_base_list = []   # リスト\n",
    "verb_base_set = set() # 集合\n",
    "for morpheme in morpheme_list:\n",
    "    if morpheme['pos'] == '動詞':\n",
    "        verb_base_list.append(morpheme['base'])\n",
    "        verb_base_set.add(morpheme['base'])\n",
    "\n",
    "# 表示\n",
    "from itertools import islice\n",
    "for v in islice(verb_base_list, 10):\n",
    "    print(v) \n",
    "            \n",
    "print(f'動詞の基本形の数　：{len(verb_base_list)}')\n",
    "print(f'動詞の基本形の種類：{len(verb_base_set)}')"
   ]
  },
  {
   "cell_type": "markdown",
   "id": "a20db8e4",
   "metadata": {},
   "source": [
    "<h2 id=\"33-aのb\">33. 「AのB」</h2>\n",
    "<p>2つの名詞が「の」で連結されている名詞句を抽出せよ．</p>\n"
   ]
  },
  {
   "attachments": {},
   "cell_type": "markdown",
   "id": "c7d0a691",
   "metadata": {},
   "source": [
    "名詞　の　名詞  \n",
    "表層語が上の形式になっている行を探す"
   ]
  },
  {
   "cell_type": "code",
   "execution_count": 19,
   "id": "7e6b7b32",
   "metadata": {},
   "outputs": [
    {
     "name": "stdout",
     "output_type": "stream",
     "text": [
      "6043\n",
      "4923\n",
      "['彼の掌', '掌の上', '書生の顔', 'はずの顔', '顔の真中', '穴の中', '書生の掌', '掌の裏', '何の事', '肝心の母親']\n"
     ]
    }
   ],
   "source": [
    "norn_phrase_list = [] \n",
    "norn_phrase_set = set()\n",
    "\n",
    "for i, morpheme in enumerate(morpheme_list):\n",
    "    # 連体化している「の」を探す\n",
    "    if morpheme['surfase'] == 'の' and morpheme['pos1'] == '連体化':\n",
    "        previous = morpheme_list[i-1] # 一個前の単語\n",
    "        next = morpheme_list[i+1]     # 一個後の単語\n",
    "        # 前後がどちらも名詞なら名詞句になっているはず\n",
    "        if previous['pos'] == '名詞' and next['pos'] == '名詞':\n",
    "            norn_phrase = morpheme_list[i-1]['surfase'] + morpheme['surfase'] + morpheme_list[i+1]['surfase']\n",
    "            norn_phrase_list.append(norn_phrase)\n",
    "            norn_phrase_set.add(norn_phrase)\n",
    "\n",
    "# 表示（なぜか数が答えとあっていない。。。）\n",
    "# 新語の形式が違っていたので上の問題でマッチを追加したら直った！\n",
    "print(len(norn_phrase_list))\n",
    "print(len(norn_phrase_set))\n",
    "print(norn_phrase_list[:10])"
   ]
  },
  {
   "attachments": {},
   "cell_type": "markdown",
   "id": "7d1cc9c9",
   "metadata": {},
   "source": [
    "    sliding_window\n",
    "* for文で前後のイテレータを取り出して、窓のようにスライドできる\n",
    "* from toolz.itertoolz import slideing_window\n",
    "* sliding_window(窓の大きさ, イテレータ)"
   ]
  },
  {
   "cell_type": "code",
   "execution_count": 20,
   "id": "712953c1",
   "metadata": {},
   "outputs": [
    {
     "name": "stdout",
     "output_type": "stream",
     "text": [
      "(0, 1, 2)\n",
      "(1, 2, 3)\n",
      "(2, 3, 4)\n"
     ]
    }
   ],
   "source": [
    "from toolz.itertoolz import sliding_window\n",
    "alist = [i for i in range(5)]\n",
    "for i in sliding_window(3, alist):\n",
    "    print(i)"
   ]
  },
  {
   "cell_type": "markdown",
   "id": "801b6b88",
   "metadata": {},
   "source": [
    "<h2 id=\"34-名詞の連接\">34. 名詞の連接</h2>\n",
    "<p>名詞の連接（連続して出現する名詞）を最長一致で抽出せよ．</p>\n"
   ]
  },
  {
   "cell_type": "code",
   "execution_count": 21,
   "id": "d5e68171",
   "metadata": {},
   "outputs": [
    {
     "name": "stdout",
     "output_type": "stream",
     "text": [
      "7200\n",
      "['人間中', '一番獰悪', '時妙', '一毛', 'その後猫', '一度', 'ぷうぷうと煙', '邸内', '三毛', '書生以外']\n"
     ]
    }
   ],
   "source": [
    "norns_list = []\n",
    "temp_norns = ''\n",
    "temp_cnt = 0 # 名詞の連接の数をカウントする、1で終わったときは飛ばす\n",
    "for morpheme in morpheme_list:\n",
    "    # 名詞ならtempにどんどん格納する\n",
    "    if morpheme['pos'] == '名詞':\n",
    "        temp_norns += morpheme['surfase']\n",
    "        temp_cnt += 1\n",
    "    # 名詞列が途切れて、かつ二個以上である場合にはリストに登録する\n",
    "    elif temp_cnt >= 2:\n",
    "        norns_list.append(temp_norns)\n",
    "        temp_norns = '' # 終わったので初期化\n",
    "        temp_cnt = 0\n",
    "    # 名詞列が途切れて、一個だけのときはパスする\n",
    "    else:\n",
    "        # print(temp_norns)\n",
    "        temp_norns = '' # 一個しか名詞がつながっていないときは初期化\n",
    "        temp_cnt = 0\n",
    "\n",
    "# 表示（なぜかちょっとだけ足りてない。。。）\n",
    "print(len(norns_list))\n",
    "print(norns_list[:10])"
   ]
  },
  {
   "attachments": {},
   "cell_type": "markdown",
   "id": "4ebb1f64",
   "metadata": {},
   "source": [
    "    groupby\n",
    "* 連続する要素に対してitertoolsモジュールのgroupbyが有効！\n",
    "* groupby(リスト)とすると連続する要素に対してそれぞれ(要素, リスト)とタプルを返す\n",
    "* for文では普通はkeyとgroupという意味を込めてkとgに格納する\n",
    "* オプション引数　key = 関数　とするとkに要素を関数に通した形が連続するかを見れる\n",
    "* オプション引数keyにラムダ関数で条件を入れるとTrueが連続するリストで取り出せる\n",
    "* key = lambda イテレータ : 条件　とすると要素kにTrue/Falseが入る"
   ]
  },
  {
   "cell_type": "code",
   "execution_count": 22,
   "id": "380c1fa4",
   "metadata": {},
   "outputs": [
    {
     "name": "stdout",
     "output_type": "stream",
     "text": [
      "0 [0, 0]\n",
      "1 [1, 1]\n",
      "2 [2]\n",
      "0 [0, 0, 0]\n"
     ]
    }
   ],
   "source": [
    "from itertools import groupby\n",
    "alist = [0, 0, 1, 1, 2, 0, 0, 0]\n",
    "\n",
    "# 条件なし\n",
    "for k, g in groupby(alist):\n",
    "    print(k, list(g))"
   ]
  },
  {
   "cell_type": "code",
   "execution_count": 23,
   "id": "3e09d02d",
   "metadata": {},
   "outputs": [
    {
     "name": "stdout",
     "output_type": "stream",
     "text": [
      "True [0, 0]\n",
      "False [1, 1, 2]\n",
      "True [0, 0, 0]\n"
     ]
    }
   ],
   "source": [
    "from itertools import groupby\n",
    "alist = [0, 0, 1, 1, 2, 0, 0, 0]\n",
    "\n",
    "# 条件あり\n",
    "for k, g in groupby(alist, key = lambda x : x == 0):\n",
    "    zeros = list(g)\n",
    "    print(k, zeros)"
   ]
  },
  {
   "cell_type": "code",
   "execution_count": 24,
   "id": "ce0b05b4",
   "metadata": {},
   "outputs": [
    {
     "name": "stdout",
     "output_type": "stream",
     "text": [
      "10 [0, 0]\n",
      "11 [1, 1]\n",
      "12 [2]\n",
      "10 [0, 0, 0]\n"
     ]
    }
   ],
   "source": [
    "from itertools import groupby\n",
    "alist = [0, 0, 1, 1, 2, 0, 0, 0]\n",
    "\n",
    "# keyに関数を指定\n",
    "def plusTen(n):\n",
    "    return n + 10\n",
    "\n",
    "for k, g in groupby(alist, key = plusTen):\n",
    "    print(k, list(g))"
   ]
  },
  {
   "cell_type": "code",
   "execution_count": 25,
   "id": "9524eb24",
   "metadata": {},
   "outputs": [
    {
     "name": "stdout",
     "output_type": "stream",
     "text": [
      "10 []\n",
      "11 []\n",
      "12 []\n",
      "10 []\n",
      "10 [0, 0]\n",
      "11 [1, 1]\n",
      "12 [2]\n",
      "10 [0, 0, 0]\n"
     ]
    }
   ],
   "source": [
    "from itertools import groupby\n",
    "alist = [0, 0, 1, 1, 2, 0, 0, 0]\n",
    "\n",
    "# イテレータは使い捨て\n",
    "def plusTen(n):\n",
    "    return n + 10\n",
    "\n",
    "# イテレータは2回使えない\n",
    "for k, g in groupby(alist, key = plusTen):\n",
    "    len_list = len(list(g))\n",
    "    print(k, list(g))\n",
    "\n",
    "# 2回以上使うときは変数に格納しておく\n",
    "for k, g in groupby(alist, key = plusTen):\n",
    "    blist = list(g)\n",
    "    len_list = len(blist)\n",
    "    print(k, blist)"
   ]
  },
  {
   "cell_type": "code",
   "execution_count": 26,
   "id": "bc2e8325",
   "metadata": {},
   "outputs": [
    {
     "name": "stdout",
     "output_type": "stream",
     "text": [
      "['人間中', '一番獰悪', '時妙', '一毛', 'その後猫', '一度', 'ぷうぷうと煙', '邸内', '三毛', '書生以外']\n"
     ]
    }
   ],
   "source": [
    "# groupbyを使って書いてみる\n",
    "ans_list = []\n",
    "from itertools import groupby\n",
    "# is_nounがTrueとなるのは名詞のときのみ\n",
    "for is_noun, g in groupby(morpheme_list, key = lambda x : x['pos'] == '名詞'):\n",
    "    nouns = list(g) # イテレータは一回使うと消える？\n",
    "    # 名詞の長さが2以上のときは連接している\n",
    "    if is_noun and len(nouns) >= 2:\n",
    "        ans = ''\n",
    "        for noun_morpheme in nouns:\n",
    "            ans += noun_morpheme['surfase']\n",
    "        ans_list.append(ans)\n",
    "print(ans_list[:10])"
   ]
  },
  {
   "cell_type": "markdown",
   "id": "c9698d92",
   "metadata": {},
   "source": [
    "<h2 id=\"35-単語の出現頻度\">35. 単語の出現頻度</h2>\n",
    "<p>文章中に出現する単語とその出現頻度を求め，出現頻度の高い順に並べよ．</p>\n"
   ]
  },
  {
   "attachments": {},
   "cell_type": "markdown",
   "id": "eb4ba091",
   "metadata": {},
   "source": [
    "それぞれの単語を辞書に格納する  \n",
    "{'word' : '単語', 'cnt' : 回数}"
   ]
  },
  {
   "cell_type": "code",
   "execution_count": 27,
   "id": "c6541e30",
   "metadata": {},
   "outputs": [
    {
     "name": "stdout",
     "output_type": "stream",
     "text": [
      "[('の', 9194),\n",
      " ('。', 7486),\n",
      " ('て', 6868),\n",
      " ('、', 6772),\n",
      " ('は', 6420),\n",
      " ('に', 6243),\n",
      " ('を', 6071),\n",
      " ('と', 5508),\n",
      " ('が', 5337),\n",
      " ('た', 3988)]\n"
     ]
    }
   ],
   "source": [
    "from collections import defaultdict, Counter\n",
    "from pprint import pprint\n",
    "\n",
    "word_frequency_dict = defaultdict(int) # 初期化の処理の軽減のためにdefaultdictにする\n",
    "\n",
    "# 辞書で回数をカウントする\n",
    "for morpheme in morpheme_list:\n",
    "    word_frequency_dict[morpheme['surfase']] += 1\n",
    "\n",
    "# 出現頻度でソートしたいので2カラム目に注目してもらう\n",
    "word_frequency_list = sorted(word_frequency_dict.items(), reverse=True, key=lambda x : x[1])\n",
    "\n",
    "pprint(word_frequency_list[:10])"
   ]
  },
  {
   "attachments": {},
   "cell_type": "markdown",
   "id": "cbf72309",
   "metadata": {},
   "source": [
    "    Counterを用いる"
   ]
  },
  {
   "cell_type": "code",
   "execution_count": 41,
   "id": "2e962058",
   "metadata": {},
   "outputs": [
    {
     "name": "stdout",
     "output_type": "stream",
     "text": [
      "[('の', 9194), ('。', 7486), ('て', 6868), ('、', 6772), ('は', 6420), ('に', 6243), ('を', 6071), ('と', 5508), ('が', 5337), ('た', 3988)]\n"
     ]
    }
   ],
   "source": [
    "from collections import Counter\n",
    "counter = Counter([m['surfase'] for m in morpheme_list])\n",
    "print(counter.most_common(10))"
   ]
  },
  {
   "cell_type": "markdown",
   "id": "0b26e51b",
   "metadata": {},
   "source": [
    "<h2 id=\"36-頻度上位10語\">36. 頻度上位10語</h2>\n",
    "<p>出現頻度が高い10語とその出現頻度をグラフ（例えば棒グラフなど）で表示せよ．</p>\n"
   ]
  },
  {
   "attachments": {},
   "cell_type": "markdown",
   "id": "de4a2374",
   "metadata": {},
   "source": [
    "matplotlibの使い方"
   ]
  },
  {
   "cell_type": "code",
   "execution_count": 28,
   "id": "f3f57144",
   "metadata": {},
   "outputs": [
    {
     "data": {
      "image/png": "[encoded data removed]",
      "text/plain": [
       "<Figure size 640x480 with 1 Axes>"
      ]
     },
     "metadata": {},
     "output_type": "display_data"
    }
   ],
   "source": [
    "import matplotlib.pyplot as plt\n",
    "\n",
    "# y = x^2のグラフ\n",
    "x = [i for i in range(20)]\n",
    "y = [i**2 for i in x]\n",
    "plt.plot(x, y, color='orange', lw=3) # ドットグラフ\n",
    "plt.bar(x, y, color='blue', alpha=0.5) # 棒グラフ\n",
    "plt.title('y=x^2', fontsize=20)\n",
    "plt.grid()\n",
    "plt.show()"
   ]
  },
  {
   "cell_type": "code",
   "execution_count": 29,
   "id": "3acc615b",
   "metadata": {},
   "outputs": [
    {
     "name": "stdout",
     "output_type": "stream",
     "text": [
      "['の', '。', 'て', '、', 'は', 'に', 'を', 'と', 'が', 'た']\n",
      "[9194, 7486, 6868, 6772, 6420, 6243, 6071, 5508, 5337, 3988]\n"
     ]
    },
    {
     "data": {
      "image/png": "[encoded data removed]",
      "text/plain": [
       "<Figure size 640x480 with 1 Axes>"
      ]
     },
     "metadata": {},
     "output_type": "display_data"
    }
   ],
   "source": [
    "import matplotlib.pyplot as plt\n",
    "import japanize_matplotlib # グラフに日本語が使えるようになる\n",
    "\n",
    "# 出現頻度が高い10語を抽出\n",
    "word_x = []\n",
    "frequency_y = []\n",
    "for tuple in word_frequency_list[:10]:\n",
    "    word_x.append(tuple[0])\n",
    "    frequency_y.append(tuple[1])\n",
    "print(word_x)\n",
    "print(frequency_y)\n",
    "\n",
    "plt.bar(word_x, frequency_y)\n",
    "plt.xlabel('出現頻度が高い10語')\n",
    "plt.ylabel('出現頻度')\n",
    "plt.show()"
   ]
  },
  {
   "attachments": {},
   "cell_type": "markdown",
   "id": "6be6d306",
   "metadata": {},
   "source": [
    "    zip(*タプル)で中にある2要素あるもの（タプルやリストなど）を2つのタプルに分けられる"
   ]
  },
  {
   "cell_type": "code",
   "execution_count": 77,
   "id": "459f2905",
   "metadata": {},
   "outputs": [
    {
     "name": "stdout",
     "output_type": "stream",
     "text": [
      "(1, 2, 3) ('one', 'two', 'three')\n",
      "(1, 3, 5) (2, 4, 6)\n"
     ]
    }
   ],
   "source": [
    "tuple_list = [(1, 'one'), (2, 'two'), (3, 'three')]\n",
    "list_list = [[1, 2], [3, 4], [5, 6]]\n",
    "num, eng = zip(*tuple_list)\n",
    "num1, num2 = zip(*list_list)\n",
    "print(num, eng)\n",
    "print(num1, num2)"
   ]
  },
  {
   "attachments": {},
   "cell_type": "markdown",
   "id": "65012fe9",
   "metadata": {},
   "source": [
    "    plt.savefig(パス)でできたグラフは保存する"
   ]
  },
  {
   "cell_type": "code",
   "execution_count": 53,
   "id": "83e531fb",
   "metadata": {},
   "outputs": [
    {
     "name": "stdout",
     "output_type": "stream",
     "text": [
      "[('の', 9194), ('。', 7486), ('て', 6868), ('、', 6772), ('は', 6420), ('に', 6243), ('を', 6071), ('と', 5508), ('が', 5337), ('た', 3988)]\n",
      "('の', '。', 'て', '、', 'は', 'に', 'を', 'と', 'が', 'た') (9194, 7486, 6868, 6772, 6420, 6243, 6071, 5508, 5337, 3988)\n"
     ]
    },
    {
     "data": {
      "image/png": "[encoded data removed]",
      "text/plain": [
       "<Figure size 640x480 with 1 Axes>"
      ]
     },
     "metadata": {},
     "output_type": "display_data"
    }
   ],
   "source": [
    "print(word_frequency_list[:10])\n",
    "letter, cnt = zip(*word_frequency_list[:10])\n",
    "print(letter, cnt)\n",
    "plt.bar(letter, cnt)\n",
    "plt.savefig('./work/a.png')\n",
    "plt.show()"
   ]
  },
  {
   "cell_type": "markdown",
   "id": "a33b5e15",
   "metadata": {},
   "source": [
    "<h2 id=\"37-猫と共起頻度の高い上位10語\">37. 「猫」と共起頻度の高い上位10語</h2>\n",
    "<p>「猫」とよく共起する（共起頻度が高い）10語とその出現頻度をグラフ（例えば棒グラフなど）で表示せよ．</p>\n"
   ]
  },
  {
   "attachments": {},
   "cell_type": "markdown",
   "id": "66aa350d",
   "metadata": {},
   "source": [
    "共起\n",
    "* 共起とはある単語同士が同じ文で使われること\n",
    "* 共起頻度は同じ文内に出現する回数とする"
   ]
  },
  {
   "attachments": {},
   "cell_type": "markdown",
   "id": "d06f8a93",
   "metadata": {},
   "source": [
    "すべての形態素に対して共起頻度を求める場合"
   ]
  },
  {
   "cell_type": "code",
   "execution_count": 13,
   "id": "7b508616",
   "metadata": {},
   "outputs": [
    {
     "data": {
      "image/png": "[encoded data removed]",
      "text/plain": [
       "<Figure size 640x480 with 1 Axes>"
      ]
     },
     "metadata": {},
     "output_type": "display_data"
    }
   ],
   "source": [
    "# defaultdictを用いて辞書の初期化の手間を省く\n",
    "from collections import defaultdict\n",
    "collocation_neko_dict = defaultdict(int)\n",
    "neko = '猫'\n",
    "\n",
    "# neko.txt から1文ずつ呼んで、猫が入っていたらその文を分かち書きして、それぞれの単語が共起しているとみなす\n",
    "import MeCab\n",
    "wakati = MeCab.Tagger(\"-Owakati\")\n",
    "with open('data/neko.txt') as f:\n",
    "    # テキストを1文ずつ読む\n",
    "    for line in f:\n",
    "        line = line.rstrip() # 改行を消す\n",
    "        if '猫' in line: # 文の中に「猫」がいるかを調べる\n",
    "            words = wakati.parse(line).split() # 分かち書きしてそれぞれの形態素をリストへ入れる\n",
    "            # それぞれの形態素を辞書に追加\n",
    "            for word in words:\n",
    "                # 猫ははじく\n",
    "                if word == '猫':\n",
    "                    continue\n",
    "                collocation_neko_dict[word] += 1\n",
    "# 共起頻度でソートする\n",
    "collocation_neko_mostcommon = sorted(collocation_neko_dict.items(), reverse=True, key=lambda x:x[1])\n",
    "\n",
    "# グラフで表示\n",
    "import matplotlib.pyplot as plt\n",
    "import japanize_matplotlib\n",
    "coword_x = []\n",
    "cofrequncy_y = []\n",
    "# 上から10個だけ抽出\n",
    "for cnm in collocation_neko_mostcommon[:10]:\n",
    "    coword_x.append(cnm[0])\n",
    "    cofrequncy_y.append(cnm[1])\n",
    "plt.bar(coword_x, cofrequncy_y)\n",
    "plt.xlabel('「猫」と共起した語')\n",
    "plt.ylabel('共起頻度')\n",
    "plt.show() "
   ]
  },
  {
   "attachments": {},
   "cell_type": "markdown",
   "id": "6b6b37f7",
   "metadata": {},
   "source": [
    "名詞、形容詞、動詞の中で2文字以上の単語の共起頻度を求める場合"
   ]
  },
  {
   "cell_type": "code",
   "execution_count": 70,
   "id": "9ab2e5f4",
   "metadata": {},
   "outputs": [
    {
     "data": {
      "image/png": "[encoded data removed]",
      "text/plain": [
       "<Figure size 640x480 with 1 Axes>"
      ]
     },
     "metadata": {},
     "output_type": "display_data"
    }
   ],
   "source": [
    "# defaultdictを用いて辞書の初期化の手間を省く\n",
    "from collections import defaultdict\n",
    "collocation_neko_dict = defaultdict(int)\n",
    "neko = '猫'\n",
    "\n",
    "# neko.txt から1文ずつ呼んで、猫が入っていたらその文を形態素解析して、名詞と形容詞と動詞が共起しているとみなす\n",
    "import MeCab, ipadic, re\n",
    "mecab = MeCab.Tagger(ipadic.MECAB_ARGS)\n",
    "with open('data/neko.txt') as fr:\n",
    "    repattern = re.compile(r'(.*?)\\t(.*?)\\,.*')\n",
    "    # テキストを1文ずつ読む\n",
    "    for line in fr:\n",
    "        line = line.rstrip() # 改行を消す\n",
    "        if '猫' in line: # 文の中に「猫」がいるかを調べる\n",
    "            mecab_text = mecab.parse(line)\n",
    "\n",
    "            # 1行ずつ読みたいのでファイルに一旦書く\n",
    "            with open('src/temp.txt', 'w') as fw:\n",
    "                fw.write(mecab_text)\n",
    "            # そして書いたファイルを読む\n",
    "            with open('src/temp.txt') as ftemp:\n",
    "                # 形態素の表層語と品詞を抜き出す\n",
    "                for mecab_line in ftemp:\n",
    "                    match = repattern.match(mecab_line)\n",
    "                    if match:\n",
    "                        surfase = match.group(1)\n",
    "                        pos = match.group(2)\n",
    "                        # 猫ははじく, 1文字もつまんないのではじいてみた\n",
    "                        if surfase == \"猫\" or len(surfase) == 1:\n",
    "                            continue\n",
    "                        # 品詞が名詞と形容詞と動詞のときのみ辞書に追加\n",
    "                        if pos == '名詞' or pos == '動詞' or pos == '形容詞':\n",
    "                            collocation_neko_dict[surfase] += 1\n",
    "\n",
    "# 共起頻度でソートする\n",
    "collocation_neko_mostcommon = sorted(collocation_neko_dict.items(), reverse=True, key=lambda x:x[1])\n",
    "\n",
    "# グラフで表示\n",
    "import matplotlib.pyplot as plt\n",
    "import japanize_matplotlib\n",
    "coword_x = []\n",
    "cofrequncy_y = []\n",
    "# 上から10個だけ抽出\n",
    "for cnm in collocation_neko_mostcommon[:10]:\n",
    "    coword_x.append(cnm[0])\n",
    "    cofrequncy_y.append(cnm[1])\n",
    "# coword_x, cofrequncy_y = zip(*collocation_neko_mostcommon[:10]) # zip*で分解\n",
    "\n",
    "plt.bar(coword_x, cofrequncy_y) # 棒グラフ\n",
    "plt.title('動詞、名詞、形容詞の共起語の中で2文字以上のもの')\n",
    "plt.xlabel('「猫」と共起した語')\n",
    "plt.ylabel('共起頻度')\n",
    "plt.show() "
   ]
  },
  {
   "cell_type": "markdown",
   "id": "ceb73e8a",
   "metadata": {},
   "source": [
    "<h2 id=\"38-ヒストグラム\">38. ヒストグラム</h2>\n",
    "<p>単語の出現頻度のヒストグラムを描け．ただし，横軸は出現頻度を表し，1から単語の出現頻度の最大値までの線形目盛とする．縦軸はx軸で示される出現頻度となった単語の異なり数（種類数）である．</p>\n"
   ]
  },
  {
   "attachments": {},
   "cell_type": "markdown",
   "id": "47226208",
   "metadata": {},
   "source": [
    "ヒストグラムの最後の棒が重なるのはどうにかできる？  \n",
    "→ binsオプションを少なくすればうまく表示される！"
   ]
  },
  {
   "cell_type": "code",
   "execution_count": 63,
   "id": "ff0758f6",
   "metadata": {},
   "outputs": [
    {
     "data": {
      "image/png": "[encoded data removed]",
      "text/plain": [
       "<Figure size 640x480 with 1 Axes>"
      ]
     },
     "metadata": {},
     "output_type": "display_data"
    }
   ],
   "source": [
    "# ヒストグラムの確認\n",
    "import matplotlib.pyplot as plt\n",
    "import japanize_matplotlib\n",
    "from random import randint\n",
    "\n",
    "# サイコロをランダムに100回降ったときの出た目の回数\n",
    "x = [randint(1, 6) for i in range(100)]\n",
    "plt.style.use('ggplot') # いい感じの背景色とgridを引いてくれる\n",
    "plt.hist(x, bins=6, color='g') # binsが6よりも大きいと表示が変になるので注意\n",
    "plt.xlabel('出た目')\n",
    "plt.ylabel('出た目の回数')\n",
    "plt.show()"
   ]
  },
  {
   "cell_type": "code",
   "execution_count": 64,
   "id": "55419840",
   "metadata": {},
   "outputs": [
    {
     "data": {
      "image/png": "[encoded data removed]",
      "text/plain": [
       "<Figure size 640x480 with 1 Axes>"
      ]
     },
     "metadata": {},
     "output_type": "display_data"
    }
   ],
   "source": [
    "import matplotlib.pyplot as plt\n",
    "import japanize_matplotlib\n",
    "\n",
    "# 単語の頻度のみが入ったリスト\n",
    "frequency = [wfl[1] for wfl in word_frequency_list]\n",
    "# word, frequency_y = zip(*word_frequency_list) # zip*で分解\n",
    "\n",
    "plt.hist(frequency, bins=20) # ヒストグラム\n",
    "plt.xlabel('単語の出現頻度')\n",
    "plt.ylabel('単語の種類')\n",
    "plt.yscale('log') # 見づらいのでy軸を対数スケールにする\n",
    "plt.title('単語の出現回数についてのヒストグラム')\n",
    "plt.show()"
   ]
  },
  {
   "cell_type": "markdown",
   "id": "5947d9b4",
   "metadata": {},
   "source": [
    "<h2 id=\"39-zipfの法則\">39. Zipfの法則</h2>\n",
    "<p>単語の出現頻度順位を横軸，その出現頻度を縦軸として，両対数グラフをプロットせよ．</p>\n"
   ]
  },
  {
   "cell_type": "code",
   "execution_count": 74,
   "id": "30e3a7f4",
   "metadata": {},
   "outputs": [
    {
     "data": {
      "image/png": "[encoded data removed]",
      "text/plain": [
       "<Figure size 640x480 with 1 Axes>"
      ]
     },
     "metadata": {},
     "output_type": "display_data"
    }
   ],
   "source": [
    "# 順位はインデックスで良い\n",
    "index_x = [i+1 for i in range(len(word_frequency_list))]\n",
    "frequency_y = [wfl[1] for wfl in word_frequency_list]\n",
    "# word, frequency_y = zip(*word_frequency_list) # zip*で分解\n",
    "\n",
    "import matplotlib.pyplot as plt\n",
    "import japanize_matplotlib\n",
    "plt.plot(index_x, frequency_y) # 折れ線グラフ\n",
    "plt.xlabel('出現頻度順位')\n",
    "plt.ylabel('出現頻度')\n",
    "plt.title('Zipfの法則')\n",
    "# 両対数にする\n",
    "# plt.xscale('log')\n",
    "# plt.yscale('log')\n",
    "plt.loglog()\n",
    "plt.grid()\n",
    "plt.show()"
   ]
  },
  {
   "cell_type": "code",
   "execution_count": 18,
   "id": "ddab692e",
   "metadata": {},
   "outputs": [
    {
     "data": {
      "image/png": "[encoded data removed]",
      "text/plain": [
       "<Figure size 640x480 with 1 Axes>"
      ]
     },
     "metadata": {},
     "output_type": "display_data"
    }
   ],
   "source": [
    "# 元データにログをとっても同じ形のグラフになる！\n",
    "import math\n",
    "index_x = [math.log(i+1) for i in range(len(word_frequency_list))]\n",
    "frequency_y = [math.log(wfl[1]) for wfl in word_frequency_list]\n",
    "# word, frequency_y = zip(*word_frequency_list) # zip*で分解\n",
    "\n",
    "import matplotlib.pyplot as plt\n",
    "import japanize_matplotlib\n",
    "plt.plot(index_x, frequency_y) # 折れ線グラフ\n",
    "plt.xlabel('log 出現頻度順位')\n",
    "plt.ylabel('log 出現頻度')\n",
    "plt.title('上のグラフとの比較')\n",
    "# 両対数にするのはパス！\n",
    "# plt.xscale('log')\n",
    "# plt.yscale('log')\n",
    "plt.show()"
   ]
  },
  {
   "cell_type": "code",
   "execution_count": 72,
   "id": "036ee857",
   "metadata": {},
   "outputs": [
    {
     "data": {
      "text/plain": [
       "[<matplotlib.lines.Line2D at 0x176a0a820>]"
      ]
     },
     "execution_count": 72,
     "metadata": {},
     "output_type": "execute_result"
    },
    {
     "data": {
      "image/png": "[encoded data removed]",
      "text/plain": [
       "<Figure size 640x480 with 1 Axes>"
      ]
     },
     "metadata": {},
     "output_type": "display_data"
    }
   ],
   "source": [
    "x = [i for i in range(10)]\n",
    "y = [i for i in range(15)]\n",
    "plt.plot(x, y)"
   ]
  }
 ],
 "metadata": {
  "kernelspec": {
   "display_name": "base",
   "language": "python",
   "name": "python3"
  },
  "language_info": {
   "codemirror_mode": {
    "name": "ipython",
    "version": 3
   },
   "file_extension": ".py",
   "mimetype": "text/x-python",
   "name": "python",
   "nbconvert_exporter": "python",
   "pygments_lexer": "ipython3",
   "version": "3.9.13"
  }
 },
 "nbformat": 4,
 "nbformat_minor": 5
}

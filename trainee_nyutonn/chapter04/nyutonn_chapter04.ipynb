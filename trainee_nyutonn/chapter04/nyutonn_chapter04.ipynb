{
 "cells": [
  {
   "cell_type": "markdown",
   "id": "526c8b14",
   "metadata": {},
   "source": [
    "<h2 id=\"30-形態素解析結果の読み込み\">30. 形態素解析結果の読み込み</h2>\n",
    "<p>形態素解析結果（neko.txt.mecab）を読み込むプログラムを実装せよ．ただし，各形態素は表層形（surface），基本形（base），品詞（pos），品詞細分類1（pos1）をキーとするマッピング型に格納し，1文を形態素（マッピング型）のリストとして表現せよ．第4章の残りの問題では，ここで作ったプログラムを活用せよ．</p>\n"
   ]
  },
  {
   "cell_type": "code",
   "execution_count": 3,
   "id": "cd9b2f65",
   "metadata": {},
   "outputs": [
    {
     "name": "stdout",
     "output_type": "stream",
     "text": [
      "--2023-04-18 22:13:50--  https://nlp100.github.io/data/neko.txt\n",
      "Resolving nlp100.github.io (nlp100.github.io)... 2606:50c0:8000::153, 2606:50c0:8001::153, 2606:50c0:8002::153, ...\n",
      "Connecting to nlp100.github.io (nlp100.github.io)|2606:50c0:8000::153|:443... connected.\n",
      "HTTP request sent, awaiting response... 200 OK\n",
      "Length: 975789 (953K) [text/plain]\n",
      "Saving to: 'data/neko.txt'\n",
      "\n",
      "neko.txt            100%[===================>] 952.92K  --.-KB/s    in 0.1s    \n",
      "\n",
      "2023-04-18 22:13:50 (7.85 MB/s) - 'data/neko.txt' saved [975789/975789]\n",
      "\n"
     ]
    }
   ],
   "source": [
    "# テキストのダウンロード\n",
    "!wget -nc https://nlp100.github.io/data/neko.txt -P data/"
   ]
  },
  {
   "cell_type": "code",
   "execution_count": 8,
   "id": "215ac63b",
   "metadata": {},
   "outputs": [
    {
     "name": "stdout",
     "output_type": "stream",
     "text": [
      "     1\t一\n",
      "     2\t\n",
      "     3\t　吾輩は猫である。\n",
      "     4\t名前はまだ無い。\n",
      "     5\t\n",
      "     6\t　どこで生れたかとんと見当がつかぬ。\n",
      "     7\t何でも薄暗いじめじめした所でニャーニャー泣いていた事だけは記憶している。\n",
      "     8\t吾輩はここで始めて人間というものを見た。\n",
      "     9\tしかもあとで聞くとそれは書生という人間中で一番獰悪な種族であったそうだ。\n",
      "    10\tこの書生というのは時々我々を捕えて煮て食うという話である。\n",
      "cat: stdout: Broken pipe\n"
     ]
    }
   ],
   "source": [
    "# 先頭10行表示\n",
    "!cat -n data/neko.txt | head"
   ]
  },
  {
   "cell_type": "code",
   "execution_count": 35,
   "id": "e0aabe88",
   "metadata": {},
   "outputs": [
    {
     "name": "stdout",
     "output_type": "stream",
     "text": [
      "今日\t名詞,副詞可能,*,*,*,*,今日,キョウ,キョー\n",
      "は\t助詞,係助詞,*,*,*,*,は,ハ,ワ\n",
      "いい\t形容詞,自立,*,*,形容詞・イイ,基本形,いい,イイ,イイ\n",
      "天気\t名詞,一般,*,*,*,*,天気,テンキ,テンキ\n",
      "です\t助動詞,*,*,*,特殊・デス,基本形,です,デス,デス\n",
      "ね\t助詞,終助詞,*,*,*,*,ね,ネ,ネ\n",
      "。\t記号,句点,*,*,*,*,。,。,。\n",
      "EOS\n",
      "\n",
      "今日 は いい 天気 です ね 。 \n",
      "\n",
      "['今日', 'は', 'いい', '天気', 'です', 'ね', '。']\n"
     ]
    }
   ],
   "source": [
    "# MeCabを使ってみる\n",
    "import MeCab, ipadic\n",
    "\n",
    "# そのまま使うと単語ごとの情報になる\n",
    "mecab = MeCab.Tagger(ipadic.MECAB_ARGS)\n",
    "text = '今日はいい天気ですね。'\n",
    "print(mecab.parse(text))\n",
    "\n",
    "# 分かち書きにする（語の区切りにSpaveを入れる）\n",
    "import MeCab\n",
    "wakati = MeCab.Tagger(\"-Owakati\")\n",
    "print(wakati.parse(text))\n",
    "print(wakati.parse(text).split())  # リストにする\n"
   ]
  },
  {
   "cell_type": "code",
   "execution_count": 36,
   "id": "cb4763ae",
   "metadata": {},
   "outputs": [
    {
     "name": "stdout",
     "output_type": "stream",
     "text": [
      "一\t名詞,数,*,*,*,*,一,イチ,イチ\n",
      "EOS\n",
      "EOS\n",
      "　\t記号,空白,*,*,*,*,　,　,　\n",
      "吾輩\t名詞,代名詞,一般,*,*,*,吾輩,ワガハイ,ワガハイ\n",
      "は\t助詞,係助詞,*,*,*,*,は,ハ,ワ\n",
      "猫\t名詞,一般,*,*,*,*,猫,ネコ,ネコ\n",
      "で\t助動詞,*,*,*,特殊・ダ,連用形,だ,デ,デ\n",
      "ある\t助動詞,*,*,*,五段・ラ行アル,基本形,ある,アル,アル\n",
      "。\t記号,句点,*,*,*,*,。,。,。\n",
      "cat: stdout: Broken pipe\n"
     ]
    }
   ],
   "source": [
    "# 形態素解析データをファイルに保存\n",
    "import MeCab, ipadic\n",
    "\n",
    "mecab = MeCab.Tagger(ipadic.MECAB_ARGS)\n",
    "with open('work/neko.txt.mecab', 'w') as fw:\n",
    "    with open('data/neko.txt') as fr:\n",
    "        for line in fr:\n",
    "            line = line.rstrip()\n",
    "            m = mecab.parse(line)\n",
    "            fw.write(m)\n",
    "# 先頭だけ表示\n",
    "!cat work/neko.txt.mecab | head"
   ]
  },
  {
   "attachments": {},
   "cell_type": "markdown",
   "id": "d5198f4c",
   "metadata": {},
   "source": [
    "mecab.parseの形式は  \n",
    "\n",
    "表層語\\t品詞,品詞細分類1,品詞細分類2,品詞細分類3,活用型,活用形,原形,読み,発音  \n",
    "\n",
    "表装語は1番目, 品詞は2番目, 品詞細分類は3番目, 原型は8番目"
   ]
  },
  {
   "cell_type": "code",
   "execution_count": 47,
   "id": "5bd504d6",
   "metadata": {},
   "outputs": [
    {
     "name": "stdout",
     "output_type": "stream",
     "text": [
      "{'surfase': '一', 'base': '一', 'pos': '名詞', 'pos1': '数'}\n",
      "{'surfase': '\\u3000', 'base': '\\u3000', 'pos': '記号', 'pos1': '空白'}\n",
      "{'surfase': '吾輩', 'base': '吾輩', 'pos': '名詞', 'pos1': '代名詞'}\n",
      "{'surfase': 'は', 'base': 'は', 'pos': '助詞', 'pos1': '係助詞'}\n",
      "{'surfase': '猫', 'base': '猫', 'pos': '名詞', 'pos1': '一般'}\n",
      "{'surfase': 'で', 'base': 'だ', 'pos': '助動詞', 'pos1': '*'}\n",
      "{'surfase': 'ある', 'base': 'ある', 'pos': '助動詞', 'pos1': '*'}\n",
      "{'surfase': '。', 'base': '。', 'pos': '記号', 'pos1': '句点'}\n",
      "{'surfase': '名前', 'base': '名前', 'pos': '名詞', 'pos1': '一般'}\n",
      "{'surfase': 'は', 'base': 'は', 'pos': '助詞', 'pos1': '係助詞'}\n"
     ]
    }
   ],
   "source": [
    "# 正規表現を用いて取り出す\n",
    "import re\n",
    "pattern = r'(.*?)\\t(.*?)\\,(.*?)\\,(.*?)\\,(.*?)\\,(.*?)\\,(.*?)\\,(.*?)\\,(.*?)\\,(.*?)'\n",
    "repattern = re.compile(pattern)\n",
    "\n",
    "morpheme_list = [] # 答えとなる形態素リスト\n",
    "with open('work/neko.txt.mecab') as f:\n",
    "    for line in f:\n",
    "        line = line.rstrip() # 改行削除\n",
    "        match = repattern.match(line)\n",
    "        if match: # ここでEOSの行は排除する\n",
    "            surfase = match.group(1) # 表層語\n",
    "            base = match.group(8)    # 原型\n",
    "            pos = match.group(2)     # 品詞\n",
    "            pos1 = match.group(3)    # 品詞細分類1\n",
    "            morpheme_dict = {'surfase' : surfase, 'base' : base, 'pos' : pos, 'pos1' : pos1} # 辞書に格納する\n",
    "            morpheme_list.append(morpheme_dict) # リストにいれる\n",
    "\n",
    "# 10個だけ表示\n",
    "from itertools import islice\n",
    "for morpheme in islice(morpheme_list, 10):\n",
    "    print(morpheme)"
   ]
  },
  {
   "cell_type": "markdown",
   "id": "3e01159c",
   "metadata": {},
   "source": [
    "<h2 id=\"31-動詞\">31. 動詞</h2>\n",
    "<p>動詞の表層形をすべて抽出せよ．</p>\n"
   ]
  },
  {
   "cell_type": "code",
   "execution_count": 54,
   "id": "02bd3ab4",
   "metadata": {},
   "outputs": [
    {
     "name": "stdout",
     "output_type": "stream",
     "text": [
      "生れ\n",
      "つか\n",
      "し\n",
      "泣い\n",
      "し\n",
      "いる\n",
      "始め\n",
      "見\n",
      "聞く\n",
      "捕え\n",
      "動詞の数　：28905\n",
      "動詞の種類：3893\n"
     ]
    }
   ],
   "source": [
    "verb_list = []    # 動詞を格納するリスト\n",
    "verb_set = set()  # 動詞を格納する集合\n",
    "for morpheme in morpheme_list:\n",
    "    if morpheme['pos'] == '動詞':\n",
    "        verb_list.append(morpheme['surfase'])\n",
    "        verb_set.add(morpheme['surfase'])\n",
    "\n",
    "# 表示\n",
    "from itertools import islice\n",
    "for v in islice(verb_list, 10):\n",
    "    print(v) \n",
    "\n",
    "print(f'動詞の数　：{len(verb_list)}')\n",
    "print(f'動詞の種類：{len(verb_set)}')"
   ]
  },
  {
   "cell_type": "markdown",
   "id": "bbaac49f",
   "metadata": {},
   "source": [
    "<h2 id=\"32-動詞の基本形\">32. 動詞の基本形</h2>\n",
    "<p>動詞の基本形をすべて抽出せよ．</p>\n"
   ]
  },
  {
   "cell_type": "code",
   "execution_count": 55,
   "id": "30b3debd",
   "metadata": {},
   "outputs": [
    {
     "name": "stdout",
     "output_type": "stream",
     "text": [
      "生れる\n",
      "つく\n",
      "する\n",
      "泣く\n",
      "する\n",
      "いる\n",
      "始める\n",
      "見る\n",
      "聞く\n",
      "捕える\n",
      "動詞の基本形の数　：28905\n",
      "動詞の基本形の種類：2300\n"
     ]
    }
   ],
   "source": [
    "verb_base_list = []   # リスト\n",
    "verb_base_set = set() # 集合\n",
    "for morpheme in morpheme_list:\n",
    "    if morpheme['pos'] == '動詞':\n",
    "        verb_base_list.append(morpheme['base'])\n",
    "        verb_base_set.add(morpheme['base'])\n",
    "\n",
    "# 表示\n",
    "from itertools import islice\n",
    "for v in islice(verb_base_list, 10):\n",
    "    print(v) \n",
    "            \n",
    "print(f'動詞の基本形の数　：{len(verb_base_list)}')\n",
    "print(f'動詞の基本形の種類：{len(verb_base_set)}')"
   ]
  },
  {
   "cell_type": "markdown",
   "id": "a20db8e4",
   "metadata": {},
   "source": [
    "<h2 id=\"33-aのb\">33. 「AのB」</h2>\n",
    "<p>2つの名詞が「の」で連結されている名詞句を抽出せよ．</p>\n"
   ]
  },
  {
   "cell_type": "code",
   "execution_count": null,
   "id": "7e6b7b32",
   "metadata": {},
   "outputs": [],
   "source": []
  },
  {
   "cell_type": "markdown",
   "id": "801b6b88",
   "metadata": {},
   "source": [
    "<h2 id=\"34-名詞の連接\">34. 名詞の連接</h2>\n",
    "<p>名詞の連接（連続して出現する名詞）を最長一致で抽出せよ．</p>\n"
   ]
  },
  {
   "cell_type": "code",
   "execution_count": null,
   "id": "d5e68171",
   "metadata": {},
   "outputs": [],
   "source": []
  },
  {
   "cell_type": "markdown",
   "id": "c9698d92",
   "metadata": {},
   "source": [
    "<h2 id=\"35-単語の出現頻度\">35. 単語の出現頻度</h2>\n",
    "<p>文章中に出現する単語とその出現頻度を求め，出現頻度の高い順に並べよ．</p>\n"
   ]
  },
  {
   "cell_type": "code",
   "execution_count": null,
   "id": "c6541e30",
   "metadata": {},
   "outputs": [],
   "source": []
  },
  {
   "cell_type": "markdown",
   "id": "0b26e51b",
   "metadata": {},
   "source": [
    "<h2 id=\"36-頻度上位10語\">36. 頻度上位10語</h2>\n",
    "<p>出現頻度が高い10語とその出現頻度をグラフ（例えば棒グラフなど）で表示せよ．</p>\n"
   ]
  },
  {
   "cell_type": "code",
   "execution_count": null,
   "id": "3acc615b",
   "metadata": {},
   "outputs": [],
   "source": []
  },
  {
   "cell_type": "markdown",
   "id": "a33b5e15",
   "metadata": {},
   "source": [
    "<h2 id=\"37-猫と共起頻度の高い上位10語\">37. 「猫」と共起頻度の高い上位10語</h2>\n",
    "<p>「猫」とよく共起する（共起頻度が高い）10語とその出現頻度をグラフ（例えば棒グラフなど）で表示せよ．</p>\n"
   ]
  },
  {
   "cell_type": "code",
   "execution_count": null,
   "id": "7b508616",
   "metadata": {},
   "outputs": [],
   "source": []
  },
  {
   "cell_type": "markdown",
   "id": "ceb73e8a",
   "metadata": {},
   "source": [
    "<h2 id=\"38-ヒストグラム\">38. ヒストグラム</h2>\n",
    "<p>単語の出現頻度のヒストグラムを描け．ただし，横軸は出現頻度を表し，1から単語の出現頻度の最大値までの線形目盛とする．縦軸はx軸で示される出現頻度となった単語の異なり数（種類数）である．</p>\n"
   ]
  },
  {
   "cell_type": "code",
   "execution_count": null,
   "id": "55419840",
   "metadata": {},
   "outputs": [],
   "source": []
  },
  {
   "cell_type": "markdown",
   "id": "5947d9b4",
   "metadata": {},
   "source": [
    "<h2 id=\"39-zipfの法則\">39. Zipfの法則</h2>\n",
    "<p>単語の出現頻度順位を横軸，その出現頻度を縦軸として，両対数グラフをプロットせよ．</p>\n"
   ]
  },
  {
   "cell_type": "code",
   "execution_count": null,
   "id": "30e3a7f4",
   "metadata": {},
   "outputs": [],
   "source": []
  }
 ],
 "metadata": {
  "kernelspec": {
   "display_name": "base",
   "language": "python",
   "name": "python3"
  },
  "language_info": {
   "codemirror_mode": {
    "name": "ipython",
    "version": 3
   },
   "file_extension": ".py",
   "mimetype": "text/x-python",
   "name": "python",
   "nbconvert_exporter": "python",
   "pygments_lexer": "ipython3",
   "version": "3.9.13"
  }
 },
 "nbformat": 4,
 "nbformat_minor": 5
}

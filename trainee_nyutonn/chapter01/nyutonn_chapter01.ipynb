{
 "cells": [
  {
   "cell_type": "markdown",
   "id": "09f5fd52",
   "metadata": {},
   "source": [
    "<h2 id=\"00-文字列の逆順\">00. 文字列の逆順</h2>\n",
    "<p>文字列”stressed”の文字を逆に（末尾から先頭に向かって）並べた文字列を得よ．</p>\n"
   ]
  },
  {
   "cell_type": "code",
   "execution_count": 1,
   "id": "edb8ec64",
   "metadata": {},
   "outputs": [
    {
     "name": "stdout",
     "output_type": "stream",
     "text": [
      "Hello World\n"
     ]
    }
   ],
   "source": [
    "print(\"Hello World\")"
   ]
  },
  {
   "cell_type": "code",
   "execution_count": 2,
   "id": "3fcf5fa8-bbc0-4147-b670-3f92abb66c8b",
   "metadata": {},
   "outputs": [
    {
     "name": "stdout",
     "output_type": "stream",
     "text": [
      "stressed\n"
     ]
    }
   ],
   "source": [
    "print(\"stressed\")"
   ]
  },
  {
   "cell_type": "markdown",
   "id": "502cee63",
   "metadata": {},
   "source": [
    "<h2 id=\"01-パタトクカシーー\">01. 「パタトクカシーー」</h2>\n",
    "<p>「パタトクカシーー」という文字列の1,3,5,7文字目を取り出して連結した文字列を得よ．</p>\n"
   ]
  },
  {
   "cell_type": "code",
   "execution_count": null,
   "id": "7b8d6bfd",
   "metadata": {},
   "outputs": [],
   "source": []
  },
  {
   "cell_type": "markdown",
   "id": "4dc393ee",
   "metadata": {},
   "source": [
    "<h2 id=\"02-パトカータクシーパタトクカシーー\">02. 「パトカー」＋「タクシー」＝「パタトクカシーー」</h2>\n",
    "<p>「パトカー」＋「タクシー」の文字を先頭から交互に連結して文字列「パタトクカシーー」を得よ．</p>\n"
   ]
  },
  {
   "cell_type": "code",
   "execution_count": null,
   "id": "3b42c6d6",
   "metadata": {},
   "outputs": [],
   "source": []
  },
  {
   "cell_type": "markdown",
   "id": "7a9d284e",
   "metadata": {},
   "source": [
    "<h2 id=\"03-円周率\">03. 円周率</h2>\n",
    "<p>“Now I need a drink, alcoholic of course, after the heavy lectures involving quantum mechanics.”という文を単語に分解し，各単語の（アルファベットの）文字数を先頭から出現順に並べたリストを作成せよ．</p>\n"
   ]
  },
  {
   "cell_type": "code",
   "execution_count": null,
   "id": "3167f52d",
   "metadata": {},
   "outputs": [],
   "source": []
  },
  {
   "cell_type": "markdown",
   "id": "1c027b93",
   "metadata": {},
   "source": [
    "<h2 id=\"04-元素記号\">04. 元素記号</h2>\n",
    "<p>“Hi He Lied Because Boron Could Not Oxidize Fluorine. New Nations Might Also Sign Peace Security Clause. Arthur King Can.”という文を単語に分解し，1, 5, 6, 7, 8, 9, 15, 16, 19番目の単語は先頭の1文字，それ以外の単語は先頭の2文字を取り出し，取り出した文字列から単語の位置（先頭から何番目の単語か）への連想配列（辞書型もしくはマップ型）を作成せよ．</p>\n"
   ]
  },
  {
   "cell_type": "code",
   "execution_count": null,
   "id": "d3df0653",
   "metadata": {},
   "outputs": [],
   "source": []
  },
  {
   "cell_type": "markdown",
   "id": "fc762b16",
   "metadata": {},
   "source": [
    "<h2 id=\"05-n-gram\">05. n-gram</h2>\n",
    "<p>与えられたシーケンス（文字列やリストなど）からn-gramを作る関数を作成せよ．この関数を用い，”I am an NLPer”という文から単語bi-gram，文字bi-gramを得よ．</p>\n"
   ]
  },
  {
   "cell_type": "code",
   "execution_count": null,
   "id": "fa4f0950",
   "metadata": {},
   "outputs": [],
   "source": []
  },
  {
   "cell_type": "markdown",
   "id": "165a1d63",
   "metadata": {},
   "source": [
    "<h2 id=\"06-集合\">06. 集合</h2>\n",
    "<p>“paraparaparadise”と”paragraph”に含まれる文字bi-gramの集合を，それぞれ, XとYとして求め，XとYの和集合，積集合，差集合を求めよ．さらに，’se’というbi-gramがXおよびYに含まれるかどうかを調べよ．</p>\n"
   ]
  },
  {
   "cell_type": "code",
   "execution_count": null,
   "id": "572e72c9",
   "metadata": {},
   "outputs": [],
   "source": []
  },
  {
   "cell_type": "markdown",
   "id": "17c13ee4",
   "metadata": {},
   "source": [
    "<h2 id=\"07-テンプレートによる文生成\">07. テンプレートによる文生成</h2>\n",
    "<p>引数x, y, zを受け取り「x時のyはz」という文字列を返す関数を実装せよ．さらに，x=12, y=”気温”, z=22.4として，実行結果を確認せよ．</p>\n"
   ]
  },
  {
   "cell_type": "code",
   "execution_count": null,
   "id": "1cfb7ce8",
   "metadata": {},
   "outputs": [],
   "source": []
  },
  {
   "cell_type": "markdown",
   "id": "28dd04cc",
   "metadata": {},
   "source": [
    "<h2 id=\"08-暗号文\">08. 暗号文</h2>\n",
    "<p>与えられた文字列の各文字を，以下の仕様で変換する関数cipherを実装せよ．</p>\n",
    "<ul>\n",
    "<li>英小文字ならば(219 - 文字コード)の文字に置換</li>\n",
    "<li>その他の文字はそのまま出力</li>\n",
    "</ul>\n",
    "<p>この関数を用い，英語のメッセージを暗号化・復号化せよ．</p>\n"
   ]
  },
  {
   "cell_type": "code",
   "execution_count": null,
   "id": "70490e04",
   "metadata": {},
   "outputs": [],
   "source": []
  },
  {
   "cell_type": "markdown",
   "id": "1fca9550",
   "metadata": {},
   "source": [
    "<h2 id=\"09-typoglycemia\">09. Typoglycemia</h2>\n",
    "<p>スペースで区切られた単語列に対して，各単語の先頭と末尾の文字は残し，それ以外の文字の順序をランダムに並び替えるプログラムを作成せよ．ただし，長さが４以下の単語は並び替えないこととする．適当な英語の文（例えば”I couldn’t believe that I could actually understand what I was reading : the phenomenal power of the human mind .”）を与え，その実行結果を確認せよ．</p>\n"
   ]
  },
  {
   "cell_type": "code",
   "execution_count": null,
   "id": "0023f562",
   "metadata": {},
   "outputs": [],
   "source": []
  }
 ],
 "metadata": {
  "kernelspec": {
   "display_name": "Python 3 (ipykernel)",
   "language": "python",
   "name": "python3"
  },
  "language_info": {
   "codemirror_mode": {
    "name": "ipython",
    "version": 3
   },
   "file_extension": ".py",
   "mimetype": "text/x-python",
   "name": "python",
   "nbconvert_exporter": "python",
   "pygments_lexer": "ipython3",
   "version": "3.9.13"
  }
 },
 "nbformat": 4,
 "nbformat_minor": 5
}

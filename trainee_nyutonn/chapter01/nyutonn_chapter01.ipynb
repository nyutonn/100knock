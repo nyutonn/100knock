{
 "cells": [
  {
   "cell_type": "markdown",
   "id": "09f5fd52",
   "metadata": {},
   "source": [
    "<h2 id=\"00-文字列の逆順\">00. 文字列の逆順</h2>\n",
    "<p>文字列”stressed”の文字を逆に（末尾から先頭に向かって）並べた文字列を得よ．</p>\n"
   ]
  },
  {
   "attachments": {},
   "cell_type": "markdown",
   "id": "5e4daaae",
   "metadata": {},
   "source": [
    "    %%time\n",
    "を先頭につけると時間の計測ができる"
   ]
  },
  {
   "cell_type": "code",
   "execution_count": 59,
   "id": "195162f8",
   "metadata": {},
   "outputs": [
    {
     "name": "stdout",
     "output_type": "stream",
     "text": [
      "CPU times: user 1 µs, sys: 1 µs, total: 2 µs\n",
      "Wall time: 3.1 µs\n"
     ]
    },
    {
     "data": {
      "text/plain": [
       "True"
      ]
     },
     "execution_count": 59,
     "metadata": {},
     "output_type": "execute_result"
    }
   ],
   "source": [
    "%%time\n",
    "1 == 1"
   ]
  },
  {
   "cell_type": "code",
   "execution_count": 60,
   "id": "edb8ec64",
   "metadata": {},
   "outputs": [
    {
     "name": "stdout",
     "output_type": "stream",
     "text": [
      "desserts\n"
     ]
    }
   ],
   "source": [
    "s = \"stressed\"\n",
    "ans00 = \"\"\n",
    "for i in s:\n",
    "    ans00 = i + ans00\n",
    "print(ans00)"
   ]
  },
  {
   "cell_type": "code",
   "execution_count": 61,
   "id": "96d719d8",
   "metadata": {},
   "outputs": [
    {
     "name": "stdout",
     "output_type": "stream",
     "text": [
      "desserts\n"
     ]
    }
   ],
   "source": [
    "# スライス表記を用いた別解\n",
    "s = \"stressed\"\n",
    "ans00 = s[::-1] # 最初：最後：何個飛ばしか\n",
    "print(ans00)"
   ]
  },
  {
   "cell_type": "markdown",
   "id": "502cee63",
   "metadata": {
    "jp-MarkdownHeadingCollapsed": true,
    "tags": []
   },
   "source": [
    "<h2 id=\"01-パタトクカシーー\">01. 「パタトクカシーー」</h2>\n",
    "<p>「パタトクカシーー」という文字列の1,3,5,7文字目を取り出して連結した文字列を得よ．</p>\n"
   ]
  },
  {
   "cell_type": "code",
   "execution_count": 62,
   "id": "7b8d6bfd",
   "metadata": {},
   "outputs": [
    {
     "name": "stdout",
     "output_type": "stream",
     "text": [
      "タクシー\n"
     ]
    }
   ],
   "source": [
    "s = \"パタトクカシーー\"\n",
    "ans01 = \"\"\n",
    "for i in range(len(s)):\n",
    "    if i % 2 == 1:\n",
    "        ans01 += s[i]\n",
    "print(ans01)"
   ]
  },
  {
   "cell_type": "code",
   "execution_count": 63,
   "id": "7200f958",
   "metadata": {},
   "outputs": [
    {
     "name": "stdout",
     "output_type": "stream",
     "text": [
      "タクシー\n"
     ]
    }
   ],
   "source": [
    "# スライス表記を用いた別解\n",
    "s = \"パタトクカシーー\"\n",
    "ans01 = s[1::2]\n",
    "print(ans01)"
   ]
  },
  {
   "attachments": {},
   "cell_type": "markdown",
   "id": "321f75a7",
   "metadata": {},
   "source": [
    "joinはリストを1つの文字列にできる.間に挟むものも指定できる\n",
    "\n",
    "**文字列.join(文字列のリスト)**\n",
    "\n",
    "ただリストを文字列にしたいだけなら\n",
    "\n",
    "\"\".join(文字列のリスト)\n",
    "\n",
    "とする"
   ]
  },
  {
   "cell_type": "code",
   "execution_count": 64,
   "id": "2d03081d",
   "metadata": {},
   "outputs": [
    {
     "data": {
      "text/plain": [
       "'a間b間c'"
      ]
     },
     "execution_count": 64,
     "metadata": {},
     "output_type": "execute_result"
    }
   ],
   "source": [
    "# joinの使い方 文字列.join(文字列のリスト)\n",
    "\"間\".join([\"a\", \"b\", \"c\"])"
   ]
  },
  {
   "cell_type": "markdown",
   "id": "4dc393ee",
   "metadata": {},
   "source": [
    "<h2 id=\"02-パトカータクシーパタトクカシーー\">02. 「パトカー」＋「タクシー」＝「パタトクカシーー」</h2>\n",
    "<p>「パトカー」＋「タクシー」の文字を先頭から交互に連結して文字列「パタトクカシーー」を得よ．</p>\n"
   ]
  },
  {
   "cell_type": "code",
   "execution_count": 65,
   "id": "3b42c6d6",
   "metadata": {},
   "outputs": [
    {
     "name": "stdout",
     "output_type": "stream",
     "text": [
      "パタトクカシーー\n"
     ]
    }
   ],
   "source": [
    "pat = 'パトカー'\n",
    "tax = 'タクシー'\n",
    "ans02 = ''\n",
    "for p, t in zip(pat, tax):\n",
    "    ans02 += p + t\n",
    "print(ans02)"
   ]
  },
  {
   "attachments": {},
   "cell_type": "markdown",
   "id": "21323fef",
   "metadata": {},
   "source": [
    "zip関数は要素数が異なるときにも使うことができて、短い方に合わせてくれるので配列外参照を防ぐことができる"
   ]
  },
  {
   "cell_type": "markdown",
   "id": "7a9d284e",
   "metadata": {},
   "source": [
    "<h2 id=\"03-円周率\">03. 円周率</h2>\n",
    "<p>“Now I need a drink, alcoholic of course, after the heavy lectures involving quantum mechanics.”という文を単語に分解し，各単語の（アルファベットの）文字数を先頭から出現順に並べたリストを作成せよ．</p>\n"
   ]
  },
  {
   "cell_type": "code",
   "execution_count": 66,
   "id": "3167f52d",
   "metadata": {},
   "outputs": [
    {
     "name": "stdout",
     "output_type": "stream",
     "text": [
      "[3, 1, 4, 1, 6, 9, 2, 7, 5, 3, 5, 8, 9, 7, 10]\n"
     ]
    }
   ],
   "source": [
    "s = \"Now I need a drink, alcoholic of course, after the heavy lectures involving quantum mechanics.\"\n",
    "splitList = s.split(\" \")\n",
    "spLenList = [len(i) for i in splitList]\n",
    "print(spLenList)"
   ]
  },
  {
   "attachments": {},
   "cell_type": "markdown",
   "id": "2619fbc8",
   "metadata": {},
   "source": [
    "str.split()を使うと勝手に空白でやってくれる"
   ]
  },
  {
   "cell_type": "code",
   "execution_count": 67,
   "id": "fccd0350",
   "metadata": {},
   "outputs": [
    {
     "name": "stdout",
     "output_type": "stream",
     "text": [
      "[3, 1, 4, 1, 6, 9, 2, 7, 5, 3, 5, 8, 9, 7, 10]\n"
     ]
    }
   ],
   "source": [
    "# str.split()を用いた別解\n",
    "splitList2 = str.split(s)\n",
    "spLenList2 = [len(i) for i in splitList2]\n",
    "print(spLenList2)"
   ]
  },
  {
   "attachments": {},
   "cell_type": "markdown",
   "id": "96985183",
   "metadata": {},
   "source": [
    "replace関数"
   ]
  },
  {
   "cell_type": "code",
   "execution_count": 68,
   "id": "0773ab02",
   "metadata": {},
   "outputs": [
    {
     "name": "stdout",
     "output_type": "stream",
     "text": [
      "Now I need a drink alcoholic of course after the heavy lectures involving quantum mechanics\n",
      "[3, 1, 4, 1, 5, 9, 2, 6, 5, 3, 5, 8, 9, 7, 9]\n"
     ]
    }
   ],
   "source": [
    "# 文字列.replace(置換前, 置換後)を用いて,と.を消す\n",
    "s = \"Now I need a drink, alcoholic of course, after the heavy lectures involving quantum mechanics.\"\n",
    "s = s.replace(\",\", \"\").replace(\".\", \"\")\n",
    "print(s)\n",
    "splitList = s.split(\" \")\n",
    "spLenList = [len(i) for i in splitList]\n",
    "print(spLenList)"
   ]
  },
  {
   "attachments": {},
   "cell_type": "markdown",
   "id": "2f240839",
   "metadata": {},
   "source": [
    "strip関数"
   ]
  },
  {
   "cell_type": "code",
   "execution_count": 69,
   "id": "d17c264a",
   "metadata": {},
   "outputs": [
    {
     "name": "stdout",
     "output_type": "stream",
     "text": [
      "[3, 1, 4, 1, 5, 9, 2, 6, 5, 3, 5, 8, 9, 7, 9]\n",
      "a,b,c,d\n"
     ]
    }
   ],
   "source": [
    "# 文字列.strip(取り除く文字の列)を用いて,と.を消す(最初と最後のみしか除去できない！)\n",
    "s = \"Now I need a drink, alcoholic of course, after the heavy lectures involving quantum mechanics.\"\n",
    "splitList = s.split(\" \")\n",
    "spLenList = [len(i.strip(\",.\")) for i in splitList]\n",
    "print(spLenList)\n",
    "\n",
    "print(\",,,,a,b,c,d,\".strip(\",\"))\n",
    "    "
   ]
  },
  {
   "cell_type": "markdown",
   "id": "1c027b93",
   "metadata": {},
   "source": [
    "<h2 id=\"04-元素記号\">04. 元素記号</h2>\n",
    "<p>“Hi He Lied Because Boron Could Not Oxidize Fluorine. New Nations Might Also Sign Peace Security Clause. Arthur King Can.”という文を単語に分解し，1, 5, 6, 7, 8, 9, 15, 16, 19番目の単語は先頭の1文字，それ以外の単語は先頭の2文字を取り出し，取り出した文字列から単語の位置（先頭から何番目の単語か）への連想配列（辞書型もしくはマップ型）を作成せよ．</p>\n"
   ]
  },
  {
   "cell_type": "code",
   "execution_count": 70,
   "id": "d3df0653",
   "metadata": {},
   "outputs": [
    {
     "name": "stdout",
     "output_type": "stream",
     "text": [
      "{'H': 1, 'He': 2, 'Li': 3, 'Be': 4, 'B': 5, 'C': 6, 'N': 7, 'O': 8, 'F': 9, 'Ne': 10, 'Na': 11, 'Mi': 12, 'Al': 13, 'Si': 14, 'P': 15, 'S': 16, 'Cl': 17, 'Ar': 18, 'K': 19, 'Ca': 20}\n"
     ]
    }
   ],
   "source": [
    "# inを使わないバージョン\n",
    "s = \"Hi He Lied Because Boron Could Not Oxidize Fluorine. New Nations Might Also Sign Peace Security Clause. Arthur King Can.\"\n",
    "alist = [1, 5, 6, 7, 8, 9, 15, 16, 19]\n",
    "splitList = s.split(\" \")\n",
    "gensoDict = {}\n",
    "for i in range(len(splitList)):\n",
    "    flag = False\n",
    "    for j in alist:\n",
    "        # print(f\"i + 1 = {i + 1}, j = {j}\")\n",
    "        if i + 1 == j:\n",
    "            gensoDict[splitList[i][0]] = i + 1\n",
    "            flag = True\n",
    "            break\n",
    "    if flag == False:\n",
    "        gensoDict[splitList[i][0:2]] = i + 1\n",
    "print(gensoDict)"
   ]
  },
  {
   "cell_type": "code",
   "execution_count": 71,
   "id": "3f610a5b-d744-40d9-908b-f96a5b384f42",
   "metadata": {},
   "outputs": [
    {
     "name": "stdout",
     "output_type": "stream",
     "text": [
      "{'H': 1, 1: 'He', 2: 'Li', 3: 'Be', 'B': 5, 'C': 6, 'N': 7, 'O': 8, 'F': 9, 9: 'Ne', 10: 'Na', 11: 'Mi', 12: 'Al', 13: 'Si', 'P': 15, 'S': 16, 16: 'Cl', 17: 'Ar', 'K': 19, 19: 'Ca'}\n"
     ]
    }
   ],
   "source": [
    "# inを使うバージョン(7行目)\n",
    "s = \"Hi He Lied Because Boron Could Not Oxidize Fluorine. New Nations Might Also Sign Peace Security Clause. Arthur King Can.\"\n",
    "alist = [1, 5, 6, 7, 8, 9, 15, 16, 19]\n",
    "splitList = s.split(\" \")\n",
    "gensoDict = {}\n",
    "for i in range(len(splitList)):\n",
    "    if i + 1 in alist:\n",
    "        gensoDict[splitList[i][0]] = i + 1\n",
    "    else:\n",
    "        gensoDict[i] = splitList[i][0:2]\n",
    "print(gensoDict)"
   ]
  },
  {
   "cell_type": "code",
   "execution_count": 72,
   "id": "5c90c3ac",
   "metadata": {},
   "outputs": [
    {
     "name": "stdout",
     "output_type": "stream",
     "text": [
      "{'H': 1, 'He': 2, 'Li': 3, 'Be': 4, 'B': 5, 'C': 6, 'N': 7, 'O': 8, 'F': 9, 'Ne': 10, 'Na': 11, 'Mi': 12, 'Al': 13, 'Si': 14, 'P': 15, 'S': 16, 'Cl': 17, 'Ar': 18, 'K': 19, 'Ca': 20}\n"
     ]
    }
   ],
   "source": [
    "# 辞書の内包表記 {キー if - : バリュー if - for -}\n",
    "order_map = {item[0] if i+1 in alist else item[:2] :i+1 for i, item in enumerate(s.split())}\n",
    "print(order_map)"
   ]
  },
  {
   "cell_type": "code",
   "execution_count": 73,
   "id": "df94fbe2",
   "metadata": {},
   "outputs": [
    {
     "name": "stdout",
     "output_type": "stream",
     "text": [
      "1 1\n",
      "2 2\n",
      "3 3\n"
     ]
    }
   ],
   "source": [
    "# enumerate関数のインデックスはずらすこともできる！\n",
    "alist = [1, 2, 3]\n",
    "for i, a in enumerate(alist, 1):\n",
    "    print(i, a)"
   ]
  },
  {
   "cell_type": "markdown",
   "id": "fc762b16",
   "metadata": {},
   "source": [
    "<h2 id=\"05-n-gram\">05. n-gram</h2>\n",
    "<p>与えられたシーケンス（文字列やリストなど）からn-gramを作る関数を作成せよ．この関数を用い，”I am an NLPer”という文から単語bi-gram，文字bi-gramを得よ．</p>\n"
   ]
  },
  {
   "cell_type": "code",
   "execution_count": 74,
   "id": "fa4f0950",
   "metadata": {},
   "outputs": [
    {
     "name": "stdout",
     "output_type": "stream",
     "text": [
      "['I am', 'am an', 'an NLPer']\n",
      "['I ', ' a', 'am', 'm ', ' a', 'an', 'n ', ' N', 'NL', 'LP', 'Pe', 'er']\n"
     ]
    }
   ],
   "source": [
    "# 与えられたシーケンスseqがリストなら単語単位、文字列なら文字単位\n",
    "def n_gram(n, seq):\n",
    "    ans05 = []\n",
    "    if type(seq) == list:\n",
    "        add = \" \"\n",
    "    elif type(seq) == str:\n",
    "        add = \"\"  \n",
    "    for i in range(len(seq) - n + 1):\n",
    "        ans05.append(add.join(seq[i:i + n]))\n",
    "    return ans05\n",
    "\n",
    "print(n_gram(2, [\"I\", \"am\" ,\"an\", \"NLPer\"]))\n",
    "print(n_gram(2, \"I am an NLPer\"))"
   ]
  },
  {
   "attachments": {},
   "cell_type": "markdown",
   "id": "8a4f0bdd",
   "metadata": {},
   "source": [
    "assert文を用いるとデバッグに便利\n",
    "\n",
    "    assert True　なら無視して\n",
    "\n",
    "    assert False なら処理が止まる"
   ]
  },
  {
   "attachments": {},
   "cell_type": "markdown",
   "id": "78b25a62",
   "metadata": {},
   "source": [
    "return の代わりに　yield を使うこともできる\n",
    "\n",
    "yieldだと返した後も関数を続ける\n",
    "\n",
    "for文のinの後ろに使うことが多い"
   ]
  },
  {
   "cell_type": "code",
   "execution_count": 75,
   "id": "98bfb33d",
   "metadata": {},
   "outputs": [
    {
     "name": "stdout",
     "output_type": "stream",
     "text": [
      "0\n",
      "1\n",
      "2\n",
      "3\n",
      "4\n",
      "5\n",
      "6\n",
      "7\n",
      "8\n",
      "9\n"
     ]
    }
   ],
   "source": [
    "def test():\n",
    "    for i in range(10):\n",
    "        yield i\n",
    "\n",
    "for i in test():\n",
    "    print(i)"
   ]
  },
  {
   "cell_type": "code",
   "execution_count": 76,
   "id": "4f688123",
   "metadata": {},
   "outputs": [],
   "source": [
    "assert 1 == 1\n",
    "# assert 1 == 2"
   ]
  },
  {
   "attachments": {},
   "cell_type": "markdown",
   "id": "ec3c24e8",
   "metadata": {},
   "source": [
    "関数定義をするときは型の明記とdocstringをしてあげるとわかりやすい\n",
    "\n",
    "    print(変数名.__doc__)\n",
    "\n",
    "とするとdocstringが出力される。（VSCodeならカーソルを置くだけで大丈夫）\n",
    "\n",
    "    def a(n : int) -> int:\n",
    "\n",
    "    \"\"\"\n",
    "    docstring\n",
    "    \"\"\""
   ]
  },
  {
   "cell_type": "code",
   "execution_count": 77,
   "id": "73cff407",
   "metadata": {},
   "outputs": [
    {
     "name": "stdout",
     "output_type": "stream",
     "text": [
      "9\n",
      "\n",
      "    docstringの例\n",
      "    \n"
     ]
    }
   ],
   "source": [
    "def a(n : int) -> int:\n",
    "    \"\"\"\n",
    "    docstringの例\n",
    "    \"\"\"\n",
    "    return n * n\n",
    "print(a(3))\n",
    "print(a.__doc__)"
   ]
  },
  {
   "cell_type": "markdown",
   "id": "165a1d63",
   "metadata": {},
   "source": [
    "<h2 id=\"06-集合\">06. 集合</h2>\n",
    "<p>“paraparaparadise”と”paragraph”に含まれる文字bi-gramの集合を，それぞれ, XとYとして求め，XとYの和集合，積集合，差集合を求めよ．さらに，’se’というbi-gramがXおよびYに含まれるかどうかを調べよ．</p>\n"
   ]
  },
  {
   "attachments": {},
   "cell_type": "markdown",
   "id": "a0a7ddba",
   "metadata": {},
   "source": [
    "集合型:set\n",
    "\n",
    "リストと異なり、重複が許されない！\n",
    "\n",
    "リストと比べて探索時間がかなり高速！"
   ]
  },
  {
   "cell_type": "code",
   "execution_count": 78,
   "id": "b698d7da",
   "metadata": {},
   "outputs": [
    {
     "name": "stdout",
     "output_type": "stream",
     "text": [
      "{1, 2, 3}\n"
     ]
    }
   ],
   "source": [
    "alist = [1, 1, 2, 3]\n",
    "aset = set(alist)\n",
    "print(aset)"
   ]
  },
  {
   "cell_type": "code",
   "execution_count": 79,
   "id": "572e72c9",
   "metadata": {},
   "outputs": [
    {
     "name": "stdout",
     "output_type": "stream",
     "text": [
      "X {'se', 'ap', 'di', 'ad', 'ra', 'ar', 'pa', 'is'}\n",
      "Y {'ag', 'pa', 'ap', 'ph', 'ra', 'ar', 'gr'}\n",
      "和集合 ['se', 'ap', 'di', 'ad', 'ra', 'ar', 'pa', 'is', 'ag', 'ph', 'gr']\n",
      "積集合 ['ap', 'ra', 'ar', 'pa']\n",
      "差集合 ['se', 'di', 'ad', 'is']\n",
      "seが集合Xに入っているか True\n",
      "seが集合Yに入っているか False\n",
      "和集合 {'se', 'ag', 'ap', 'di', 'ph', 'ad', 'gr', 'ra', 'ar', 'pa', 'is'}\n",
      "積集合 {'ap', 'ra', 'ar', 'pa'}\n",
      "差集合 {'ad', 'di', 'se', 'is'}\n"
     ]
    }
   ],
   "source": [
    "s1 = \"paraparaparadise\"\n",
    "s2 = \"paragraph\"\n",
    "X = n_gram(2, s1)\n",
    "Y = n_gram(2, s2)\n",
    "# 重複を排除する\n",
    "X = set(X)\n",
    "Y = set(Y)\n",
    "print(\"X\", X)\n",
    "print(\"Y\", Y)\n",
    "\n",
    "# 和集合 : X,Yともに重複がないように入れる\n",
    "union = []\n",
    "for x in X:\n",
    "    if x in union:\n",
    "        continue\n",
    "    union.append(x)\n",
    "for y in Y:\n",
    "    if y in union:\n",
    "        continue\n",
    "    union.append(y)\n",
    "print(\"和集合\", union)\n",
    "\n",
    "\n",
    "# 積集合 : 和集合の中からXに属する、かつYに属するものをとる\n",
    "intersection = []\n",
    "for u in union:\n",
    "    if u in X and u in Y:\n",
    "        intersection.append(u)\n",
    "print(\"積集合\", intersection)\n",
    "\n",
    "# 差集合 X-Y : Xと積集合を比較して共通していないもののみ取り出す\n",
    "set_difference_X_Y = []\n",
    "for x in X:\n",
    "    if x in intersection:\n",
    "        continue\n",
    "    set_difference_X_Y.append(x)\n",
    "\n",
    "print(\"差集合\", set_difference_X_Y)\n",
    "\n",
    "# seについて : \n",
    "print(\"seが集合Xに入っているか\", \"se\" in X)\n",
    "print(\"seが集合Yに入っているか\"\"\", \"se\" in Y)\n",
    "\n",
    "# 集合型setを使ったら1行で書けた...\n",
    "print(\"和集合\", X | Y) \n",
    "print(\"積集合\", X & Y) \n",
    "print(\"差集合\", X - Y) "
   ]
  },
  {
   "cell_type": "markdown",
   "id": "17c13ee4",
   "metadata": {},
   "source": [
    "<h2 id=\"07-テンプレートによる文生成\">07. テンプレートによる文生成</h2>\n",
    "<p>引数x, y, zを受け取り「x時のyはz」という文字列を返す関数を実装せよ．さらに，x=12, y=”気温”, z=22.4として，実行結果を確認せよ．</p>\n"
   ]
  },
  {
   "cell_type": "code",
   "execution_count": 80,
   "id": "1cfb7ce8",
   "metadata": {},
   "outputs": [
    {
     "name": "stdout",
     "output_type": "stream",
     "text": [
      "12時の気温は22.4\n"
     ]
    }
   ],
   "source": [
    "def weather(x, y, z):\n",
    "    return f\"{x}時の{y}は{z}\"\n",
    "print(weather(12, \"気温\", 22.4))"
   ]
  },
  {
   "cell_type": "code",
   "execution_count": 81,
   "id": "c9d0bf38",
   "metadata": {},
   "outputs": [
    {
     "name": "stdout",
     "output_type": "stream",
     "text": [
      "6\n"
     ]
    }
   ],
   "source": [
    "# 複数の変数に代入するときはカンマ区切りでいける！\n",
    "x, y, z = 1, 2, 3\n",
    "print(x + y + z)"
   ]
  },
  {
   "attachments": {},
   "cell_type": "markdown",
   "id": "26a2a5ca",
   "metadata": {},
   "source": [
    "f文字列のさらなる使い方"
   ]
  },
  {
   "cell_type": "code",
   "execution_count": 82,
   "id": "209ae1ed",
   "metadata": {},
   "outputs": [
    {
     "name": "stdout",
     "output_type": "stream",
     "text": [
      "  1234\n",
      "1234  \n",
      "1100\n",
      "c\n"
     ]
    }
   ],
   "source": [
    "print(f'{1234:>6}') # 右寄せ\n",
    "print(f'{1234:<6}') # 左寄せ\n",
    "print(f'{12:b}')    # 2進数\n",
    "print(f'{12:x}')    # 16進数"
   ]
  },
  {
   "cell_type": "markdown",
   "id": "28dd04cc",
   "metadata": {},
   "source": [
    "<h2 id=\"08-暗号文\">08. 暗号文</h2>\n",
    "<p>与えられた文字列の各文字を，以下の仕様で変換する関数cipherを実装せよ．</p>\n",
    "<ul>\n",
    "<li>英小文字ならば(219 - 文字コード)の文字に置換</li>\n",
    "<li>その他の文字はそのまま出力</li>\n",
    "</ul>\n",
    "<p>この関数を用い，英語のメッセージを暗号化・復号化せよ．</p>\n"
   ]
  },
  {
   "attachments": {},
   "cell_type": "markdown",
   "id": "fb1ebb00",
   "metadata": {},
   "source": [
    "文字コードとcharの変換"
   ]
  },
  {
   "cell_type": "code",
   "execution_count": 83,
   "id": "799bf8d6",
   "metadata": {},
   "outputs": [
    {
     "data": {
      "text/plain": [
       "'b'"
      ]
     },
     "execution_count": 83,
     "metadata": {},
     "output_type": "execute_result"
    }
   ],
   "source": [
    "# 文字コードとcharの変換\n",
    "ord(\"A\")          # char -> 文字コード　ordはordinal:順序(文字コードはコンピュータにとっての順序)\n",
    "chr(ord(\"a\") + 1) # 文字コード -> char"
   ]
  },
  {
   "attachments": {},
   "cell_type": "markdown",
   "id": "4181a878",
   "metadata": {},
   "source": [
    "pythonではstr型の変更はできないので一旦リストを経由すると良い"
   ]
  },
  {
   "cell_type": "code",
   "execution_count": 84,
   "id": "62763f31",
   "metadata": {},
   "outputs": [
    {
     "name": "stdout",
     "output_type": "stream",
     "text": [
      "aBcde\n"
     ]
    }
   ],
   "source": [
    "# pythonではstr型の変更はできないので一旦リストを経由すると良い\n",
    "a = \"abcde\"\n",
    "# a[1] = \"B\" # error\n",
    "a_list = list(a)    # strをリストにする\n",
    "a_list[1] = \"B\"\n",
    "a = \"\".join(a_list) # リストをstrにする\n",
    "print(a)"
   ]
  },
  {
   "cell_type": "code",
   "execution_count": 85,
   "id": "70490e04",
   "metadata": {},
   "outputs": [
    {
     "name": "stdout",
     "output_type": "stream",
     "text": [
      "AzByCxDwEvFuGt\n"
     ]
    }
   ],
   "source": [
    "def cipher(s):\n",
    "    slist = list(s)\n",
    "    for i, c in enumerate(slist):\n",
    "        if c.islower() == True:\n",
    "            slist[i] = chr(219 - ord(c))\n",
    "    s = \"\".join(slist)\n",
    "    return s\n",
    "print(cipher(\"AaBbCcDdEeFfGg\"))"
   ]
  },
  {
   "cell_type": "code",
   "execution_count": 86,
   "id": "ca36ee39",
   "metadata": {},
   "outputs": [
    {
     "name": "stdout",
     "output_type": "stream",
     "text": [
      "AzByCxDwEvFuGt\n"
     ]
    }
   ],
   "source": [
    "# 文字列のままやる\n",
    "def cipher(s):\n",
    "    ans = ''\n",
    "    for i, c in enumerate(s):\n",
    "        if c.islower() == True:\n",
    "            ans += chr(219 - ord(c))\n",
    "        else:\n",
    "            ans += c\n",
    "    return ans\n",
    "print(cipher(\"AaBbCcDdEeFfGg\"))"
   ]
  },
  {
   "cell_type": "code",
   "execution_count": 87,
   "id": "a0926513",
   "metadata": {},
   "outputs": [
    {
     "data": {
      "text/plain": [
       "True"
      ]
     },
     "execution_count": 87,
     "metadata": {},
     "output_type": "execute_result"
    }
   ],
   "source": [
    "# pythonだと不等号で挟むことができる\n",
    "1 <= 10 <= 100"
   ]
  },
  {
   "cell_type": "markdown",
   "id": "1fca9550",
   "metadata": {},
   "source": [
    "<h2 id=\"09-typoglycemia\">09. Typoglycemia</h2>\n",
    "<p>スペースで区切られた単語列に対して，各単語の先頭と末尾の文字は残し，それ以外の文字の順序をランダムに並び替えるプログラムを作成せよ．ただし，長さが４以下の単語は並び替えないこととする．適当な英語の文（例えば”I couldn’t believe that I could actually understand what I was reading : the phenomenal power of the human mind .”）を与え，その実行結果を確認せよ．</p>\n"
   ]
  },
  {
   "cell_type": "code",
   "execution_count": 88,
   "id": "0023f562",
   "metadata": {},
   "outputs": [
    {
     "name": "stdout",
     "output_type": "stream",
     "text": [
      "I cold’nut bieleve that I cloud auctlaly untenrdasd what I was raeindg : the pnnoameehl pewor of the human mind .\n"
     ]
    }
   ],
   "source": [
    "import random\n",
    "\n",
    "s = (\"I couldn’t believe that I could actually understand what \"\n",
    "     \"I was reading : the phenomenal power of the human mind .\"\n",
    ")\n",
    "splitList = str.split(s)\n",
    "anslist = []\n",
    "for sp in splitList:\n",
    "    if len(sp) <= 4:\n",
    "        anslist.append(sp)\n",
    "        continue\n",
    "    s_change = list(sp[1:-1])\n",
    "    random.shuffle(s_change)\n",
    "    s_change = \"\".join(s_change)\n",
    "    anslist.append(sp[0] + s_change + sp[-1])\n",
    "ans = \" \".join(anslist)\n",
    "print(ans)"
   ]
  },
  {
   "cell_type": "code",
   "execution_count": 89,
   "id": "374b11df",
   "metadata": {},
   "outputs": [
    {
     "name": "stdout",
     "output_type": "stream",
     "text": [
      "[1, 4, 2, 3]\n",
      "[1, 2, 3, 4]\n",
      "[1, 3, 4, 2]\n"
     ]
    }
   ],
   "source": [
    "alist = [1, 2, 3, 4]\n",
    "print(random.sample(alist, k=4)) # 非破壊的\n",
    "print(alist)\n",
    "random.shuffle(alist) # 破壊的\n",
    "print(alist)"
   ]
  },
  {
   "cell_type": "code",
   "execution_count": 93,
   "id": "06867763",
   "metadata": {},
   "outputs": [
    {
     "name": "stdout",
     "output_type": "stream",
     "text": [
      "[3, 2, 1, 4] [3, 2, 1, 4]\n"
     ]
    }
   ],
   "source": [
    "# リストの代入はメモリが複製されるわけではないことに注意！参照渡ししているだけ！\n",
    "a = [1, 2, 3, 4]\n",
    "b = a\n",
    "random.shuffle(a)\n",
    "print(a, b)"
   ]
  },
  {
   "cell_type": "code",
   "execution_count": 97,
   "id": "a1bf4305",
   "metadata": {},
   "outputs": [
    {
     "name": "stdout",
     "output_type": "stream",
     "text": [
      "[3, 1, 4, 2] [1, 2, 3, 4]\n"
     ]
    }
   ],
   "source": [
    "# list.copy　や　スライス全指定で解決できる\n",
    "a = [1, 2, 3, 4]\n",
    "# b = list.copy(a)\n",
    "b = a[:]\n",
    "random.shuffle(a)\n",
    "print(a, b)"
   ]
  },
  {
   "cell_type": "code",
   "execution_count": 105,
   "id": "76ca0678",
   "metadata": {},
   "outputs": [
    {
     "data": {
      "text/plain": [
       "81"
      ]
     },
     "execution_count": 105,
     "metadata": {},
     "output_type": "execute_result"
    }
   ],
   "source": [
    "# random.seedを指定すると毎回同じ挙動になる\n",
    "random.seed(42)\n",
    "random.choice([i for i in range(100)])"
   ]
  },
  {
   "cell_type": "code",
   "execution_count": null,
   "id": "1850ac59",
   "metadata": {},
   "outputs": [],
   "source": []
  }
 ],
 "metadata": {
  "kernelspec": {
   "display_name": "base",
   "language": "python",
   "name": "python3"
  },
  "language_info": {
   "codemirror_mode": {
    "name": "ipython",
    "version": 3
   },
   "file_extension": ".py",
   "mimetype": "text/x-python",
   "name": "python",
   "nbconvert_exporter": "python",
   "pygments_lexer": "ipython3",
   "version": "3.9.13 (main, Aug 25 2022, 18:24:45) \n[Clang 12.0.0 ]"
  },
  "vscode": {
   "interpreter": {
    "hash": "315f8fb80bb7b3d98b77ee53c1a6863259122a42c804bc6c0b8b02e9989b0921"
   }
  }
 },
 "nbformat": 4,
 "nbformat_minor": 5
}
